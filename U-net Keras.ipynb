{
 "cells": [
  {
   "cell_type": "code",
   "execution_count": 1,
   "metadata": {
    "collapsed": false
   },
   "outputs": [
    {
     "name": "stderr",
     "output_type": "stream",
     "text": [
      "Using TensorFlow backend.\n"
     ]
    }
   ],
   "source": [
    "import matplotlib.pyplot as plt\n",
    "import numpy as np\n",
    "import cv2\n",
    "import pandas as pd\n",
    "from shapely.wkt import loads as wkt_loads\n",
    "import tifffile as tiff\n",
    "import os\n",
    "import random\n",
    "from keras.models import Model\n",
    "from keras.layers import Input, merge, Convolution2D, MaxPooling2D, UpSampling2D, Reshape, core, Dropout\n",
    "from keras.optimizers import Adam\n",
    "from keras.callbacks import ModelCheckpoint, LearningRateScheduler\n",
    "from keras import backend as K\n",
    "from sklearn.metrics import jaccard_similarity_score\n",
    "from shapely.geometry import MultiPolygon, Polygon\n",
    "import shapely.wkt\n",
    "import shapely.affinity\n",
    "from collections import defaultdict\n",
    "\n",
    "N_Cls = 10\n",
    "inDir = '/home/rob/Udacity/capstone/data'\n",
    "DF = pd.read_csv(inDir + '/train_wkt_v4.csv')\n",
    "GS = pd.read_csv(inDir + '/grid_sizes.csv', names=['ImageId', 'Xmax', 'Ymin'], skiprows=1)\n",
    "SB = pd.read_csv(os.path.join(inDir, 'sample_submission.csv'))\n",
    "ISZ = 80\n",
    "smooth = 1e-12"
   ]
  },
  {
   "cell_type": "code",
   "execution_count": 2,
   "metadata": {
    "collapsed": false
   },
   "outputs": [],
   "source": [
    "def _convert_coordinates_to_raster(coords, img_size, xymax):\n",
    "    # __author__ = visoft\n",
    "    # https://www.kaggle.com/visoft/dstl-satellite-imagery-feature-detection/export-pixel-wise-mask\n",
    "    Xmax, Ymax = xymax\n",
    "    H, W = img_size\n",
    "    W1 = 1.0 * W * W / (W + 1)\n",
    "    H1 = 1.0 * H * H / (H + 1)\n",
    "    xf = W1 / Xmax\n",
    "    yf = H1 / Ymax\n",
    "    coords[:, 1] *= yf\n",
    "    coords[:, 0] *= xf\n",
    "    coords_int = np.round(coords).astype(np.int32)\n",
    "    return coords_int\n",
    "\n",
    "\n",
    "def _get_xmax_ymin(grid_sizes_panda, imageId):\n",
    "    # __author__ = visoft\n",
    "    # https://www.kaggle.com/visoft/dstl-satellite-imagery-feature-detection/export-pixel-wise-mask\n",
    "    xmax, ymin = grid_sizes_panda[grid_sizes_panda.ImageId == imageId].iloc[0, 1:].astype(float)\n",
    "    return (xmax, ymin)\n",
    "\n",
    "\n",
    "def _get_polygon_list(wkt_list_pandas, imageId, cType):\n",
    "    # __author__ = visoft\n",
    "    # https://www.kaggle.com/visoft/dstl-satellite-imagery-feature-detection/export-pixel-wise-mask\n",
    "    df_image = wkt_list_pandas[wkt_list_pandas.ImageId == imageId]\n",
    "    multipoly_def = df_image[df_image.ClassType == cType].MultipolygonWKT\n",
    "    polygonList = None\n",
    "    if len(multipoly_def) > 0:\n",
    "        assert len(multipoly_def) == 1\n",
    "        polygonList = wkt_loads(multipoly_def.values[0])\n",
    "    return polygonList\n",
    "\n",
    "\n",
    "def _get_and_convert_contours(polygonList, raster_img_size, xymax):\n",
    "    # __author__ = visoft\n",
    "    # https://www.kaggle.com/visoft/dstl-satellite-imagery-feature-detection/export-pixel-wise-mask\n",
    "    perim_list = []\n",
    "    interior_list = []\n",
    "    if polygonList is None:\n",
    "        return None\n",
    "    for k in range(len(polygonList)):\n",
    "        poly = polygonList[k]\n",
    "        perim = np.array(list(poly.exterior.coords))\n",
    "        perim_c = _convert_coordinates_to_raster(perim, raster_img_size, xymax)\n",
    "        perim_list.append(perim_c)\n",
    "        for pi in poly.interiors:\n",
    "            interior = np.array(list(pi.coords))\n",
    "            interior_c = _convert_coordinates_to_raster(interior, raster_img_size, xymax)\n",
    "            interior_list.append(interior_c)\n",
    "    return perim_list, interior_list\n",
    "\n",
    "\n",
    "def _plot_mask_from_contours(raster_img_size, contours, class_value=1):\n",
    "    # __author__ = visoft\n",
    "    # https://www.kaggle.com/visoft/dstl-satellite-imagery-feature-detection/export-pixel-wise-mask\n",
    "    img_mask = np.zeros(raster_img_size, np.uint8)\n",
    "    if contours is None:\n",
    "        return img_mask\n",
    "    perim_list, interior_list = contours\n",
    "    cv2.fillPoly(img_mask, perim_list, class_value)\n",
    "    cv2.fillPoly(img_mask, interior_list, 0)\n",
    "    return img_mask\n",
    "\n",
    "\n",
    "def generate_mask_for_image_and_class(raster_size, imageId, class_type, grid_sizes_panda=GS, wkt_list_pandas=DF):\n",
    "    # __author__ = visoft\n",
    "    # https://www.kaggle.com/visoft/dstl-satellite-imagery-feature-detection/export-pixel-wise-mask\n",
    "    xymax = _get_xmax_ymin(grid_sizes_panda, imageId)\n",
    "    polygon_list = _get_polygon_list(wkt_list_pandas, imageId, class_type)\n",
    "    contours = _get_and_convert_contours(polygon_list, raster_size, xymax)\n",
    "    mask = _plot_mask_from_contours(raster_size, contours, 1)\n",
    "    return mask\n",
    "\n",
    "\n",
    "def M(image_id):\n",
    "    # __author__ = amaia\n",
    "    # https://www.kaggle.com/aamaia/dstl-satellite-imagery-feature-detection/rgb-using-m-bands-example\n",
    "    filename = os.path.join(inDir, 'sixteen_band', '{}_M.tif'.format(image_id))\n",
    "    img = tiff.imread(filename)\n",
    "    img = np.rollaxis(img, 0, 3)\n",
    "    return img\n",
    "\n",
    "\n",
    "def stretch_n(bands, lower_percent=5, higher_percent=95):\n",
    "    out = np.zeros_like(bands)\n",
    "    n = bands.shape[2]\n",
    "    for i in range(n):\n",
    "        a = 0  # np.min(band)\n",
    "        b = 1  # np.max(band)\n",
    "        c = np.percentile(bands[:, :, i], lower_percent)\n",
    "        d = np.percentile(bands[:, :, i], higher_percent)\n",
    "        t = a + (bands[:, :, i] - c) * (b - a) / (d - c)\n",
    "        t[t < a] = a\n",
    "        t[t > b] = b\n",
    "        out[:, :, i] = t\n",
    "\n",
    "    return out.astype(np.float32)\n",
    "\n",
    "\n",
    "def jaccard_coef(y_true, y_pred):\n",
    "    # __author__ = Vladimir Iglovikov\n",
    "    intersection = K.sum(y_true * y_pred, axis=[0, -1, -2])\n",
    "    sum_ = K.sum(y_true + y_pred, axis=[0, -1, -2])\n",
    "\n",
    "    jac = (intersection + smooth) / (sum_ - intersection + smooth)\n",
    "\n",
    "    return K.mean(jac)\n",
    "\n",
    "\n",
    "def jaccard_coef_int(y_true, y_pred):\n",
    "    # __author__ = Vladimir Iglovikov\n",
    "    y_pred_pos = K.round(K.clip(y_pred, 0, 1))\n",
    "\n",
    "    intersection = K.sum(y_true * y_pred_pos, axis=[0, -1, -2])\n",
    "    sum_ = K.sum(y_true + y_pred, axis=[0, -1, -2])\n",
    "    jac = (intersection + smooth) / (sum_ - intersection + smooth)\n",
    "    return K.mean(jac)\n",
    "\n",
    "\n",
    "def stick_all_train():\n",
    "    print \"let's stick all imgs together\"\n",
    "    s = 835\n",
    "\n",
    "    x = np.zeros((5 * s, 5 * s, 8))\n",
    "    y = np.zeros((5 * s, 5 * s, N_Cls))\n",
    "\n",
    "    ids = sorted(DF.ImageId.unique())\n",
    "    print len(ids)\n",
    "    for i in range(5):\n",
    "        for j in range(5):\n",
    "            id = ids[5 * i + j]\n",
    "\n",
    "            img = M(id)\n",
    "            img = stretch_n(img)\n",
    "            print img.shape, id, np.amax(img), np.amin(img)\n",
    "            x[s * i:s * i + s, s * j:s * j + s, :] = img[:s, :s, :]\n",
    "            for z in range(N_Cls):\n",
    "                y[s * i:s * i + s, s * j:s * j + s, z] = generate_mask_for_image_and_class(\n",
    "                    (img.shape[0], img.shape[1]), id, z + 1)[:s, :s]\n",
    "\n",
    "    print np.amax(y), np.amin(y)\n",
    "\n",
    "    np.save('data/x_trn_%d' % N_Cls, x)\n",
    "    np.save('data/y_trn_%d' % N_Cls, y)\n",
    "\n",
    "\n",
    "def get_patches(img, msk, amt=10000, aug=True):\n",
    "    is2 = int(1.0 * ISZ)\n",
    "    xm, ym = img.shape[0] - is2, img.shape[1] - is2\n",
    "\n",
    "    x, y = [], []\n",
    "\n",
    "    tr = [0.4, 0.1, 0.1, 0.15, 0.3, 0.95, 0.1, 0.05, 0.001, 0.005]\n",
    "    for i in range(amt):\n",
    "        xc = random.randint(0, xm)\n",
    "        yc = random.randint(0, ym)\n",
    "\n",
    "        im = img[xc:xc + is2, yc:yc + is2]\n",
    "        ms = msk[xc:xc + is2, yc:yc + is2]\n",
    "\n",
    "        for j in range(N_Cls):\n",
    "            sm = np.sum(ms[:, :, j])\n",
    "            if 1.0 * sm / is2 ** 2 > tr[j]:\n",
    "                if aug:\n",
    "                    if random.uniform(0, 1) > 0.5:\n",
    "                        im = im[::-1]\n",
    "                        ms = ms[::-1]\n",
    "                    if random.uniform(0, 1) > 0.5:\n",
    "                        im = im[:, ::-1]\n",
    "                        ms = ms[:, ::-1]\n",
    "\n",
    "                x.append(im)\n",
    "                y.append(ms)\n",
    "\n",
    "    x, y = 2 * np.transpose(x, (0, 3, 1, 2)) - 1, np.transpose(y, (0, 3, 1, 2))\n",
    "    print x.shape, y.shape, np.amax(x), np.amin(x), np.amax(y), np.amin(y)\n",
    "    return x, y\n",
    "\n",
    "\n",
    "def make_val():\n",
    "    print \"let's pick some samples for validation\"\n",
    "    img = np.load('data/x_trn_%d.npy' % N_Cls)\n",
    "    msk = np.load('data/y_trn_%d.npy' % N_Cls)\n",
    "    x, y = get_patches(img, msk, amt=3000)\n",
    "\n",
    "    np.save('data/x_tmp_%d' % N_Cls, x)\n",
    "    np.save('data/y_tmp_%d' % N_Cls, y)\n",
    "\n",
    "\n",
    "def get_unet():\n",
    "    inputs = Input((8, ISZ, ISZ))\n",
    "    conv1 = Convolution2D(32, 3, 3, activation='relu', border_mode='same')(inputs)\n",
    "    conv1 = Convolution2D(32, 3, 3, activation='relu', border_mode='same')(conv1)\n",
    "    pool1 = MaxPooling2D(pool_size=(2, 2))(conv1)\n",
    "\n",
    "    conv2 = Convolution2D(64, 3, 3, activation='relu', border_mode='same')(pool1)\n",
    "    conv2 = Convolution2D(64, 3, 3, activation='relu', border_mode='same')(conv2)\n",
    "    pool2 = MaxPooling2D(pool_size=(2, 2))(conv2)\n",
    "\n",
    "    conv3 = Convolution2D(128, 3, 3, activation='relu', border_mode='same')(pool2)\n",
    "    conv3 = Convolution2D(128, 3, 3, activation='relu', border_mode='same')(conv3)\n",
    "    pool3 = MaxPooling2D(pool_size=(2, 2))(conv3)\n",
    "\n",
    "    conv4 = Convolution2D(256, 3, 3, activation='relu', border_mode='same')(pool3)\n",
    "    conv4 = Convolution2D(256, 3, 3, activation='relu', border_mode='same')(conv4)\n",
    "    pool4 = MaxPooling2D(pool_size=(2, 2))(conv4)\n",
    "\n",
    "    conv5 = Convolution2D(512, 3, 3, activation='relu', border_mode='same')(pool4)\n",
    "    conv5 = Convolution2D(512, 3, 3, activation='relu', border_mode='same')(conv5)\n",
    "\n",
    "    up6 = merge([UpSampling2D(size=(2, 2))(conv5), conv4], mode='concat', concat_axis=1)\n",
    "    conv6 = Convolution2D(256, 3, 3, activation='relu', border_mode='same')(up6)\n",
    "    conv6 = Convolution2D(256, 3, 3, activation='relu', border_mode='same')(conv6)\n",
    "\n",
    "    up7 = merge([UpSampling2D(size=(2, 2))(conv6), conv3], mode='concat', concat_axis=1)\n",
    "    conv7 = Convolution2D(128, 3, 3, activation='relu', border_mode='same')(up7)\n",
    "    conv7 = Convolution2D(128, 3, 3, activation='relu', border_mode='same')(conv7)\n",
    "\n",
    "    up8 = merge([UpSampling2D(size=(2, 2))(conv7), conv2], mode='concat', concat_axis=1)\n",
    "    conv8 = Convolution2D(64, 3, 3, activation='relu', border_mode='same')(up8)\n",
    "    conv8 = Convolution2D(64, 3, 3, activation='relu', border_mode='same')(conv8)\n",
    "\n",
    "    up9 = merge([UpSampling2D(size=(2, 2))(conv8), conv1], mode='concat', concat_axis=1)\n",
    "    conv9 = Convolution2D(32, 3, 3, activation='relu', border_mode='same')(up9)\n",
    "    conv9 = Convolution2D(32, 3, 3, activation='relu', border_mode='same')(conv9)\n",
    "\n",
    "    conv10 = Convolution2D(N_Cls, 1, 1, activation='sigmoid')(conv9)\n",
    "\n",
    "    model = Model(input=inputs, output=conv10)\n",
    "    model.compile(optimizer=Adam(), loss='binary_crossentropy', metrics=[jaccard_coef, jaccard_coef_int, 'accuracy'])\n",
    "    return model\n",
    "\n",
    "\n",
    "def calc_jacc(model):\n",
    "    img = np.load('data/x_tmp_%d.npy' % N_Cls)\n",
    "    msk = np.load('data/y_tmp_%d.npy' % N_Cls)\n",
    "\n",
    "    prd = model.predict(img, batch_size=4)\n",
    "    print prd.shape, msk.shape\n",
    "    avg, trs = [], []\n",
    "\n",
    "    for i in range(N_Cls):\n",
    "        t_msk = msk[:, i, :, :]\n",
    "        t_prd = prd[:, i, :, :]\n",
    "        t_msk = t_msk.reshape(msk.shape[0] * msk.shape[2], msk.shape[3])\n",
    "        t_prd = t_prd.reshape(msk.shape[0] * msk.shape[2], msk.shape[3])\n",
    "\n",
    "        m, b_tr = 0, 0\n",
    "        for j in range(10):\n",
    "            tr = j / 10.0\n",
    "            pred_binary_mask = t_prd > tr\n",
    "\n",
    "            jk = jaccard_similarity_score(t_msk, pred_binary_mask)\n",
    "            if jk > m:\n",
    "                m = jk\n",
    "                b_tr = tr\n",
    "        print i, m, b_tr\n",
    "        avg.append(m)\n",
    "        trs.append(b_tr)\n",
    "\n",
    "    score = sum(avg) / 10.0\n",
    "    return score, trs\n",
    "\n",
    "\n",
    "def mask_for_polygons(polygons, im_size):\n",
    "    # __author__ = Konstantin Lopuhin\n",
    "    # https://www.kaggle.com/lopuhin/dstl-satellite-imagery-feature-detection/full-pipeline-demo-poly-pixels-ml-poly\n",
    "    img_mask = np.zeros(im_size, np.uint8)\n",
    "    if not polygons:\n",
    "        return img_mask\n",
    "    int_coords = lambda x: np.array(x).round().astype(np.int32)\n",
    "    exteriors = [int_coords(poly.exterior.coords) for poly in polygons]\n",
    "    interiors = [int_coords(pi.coords) for poly in polygons\n",
    "                 for pi in poly.interiors]\n",
    "    cv2.fillPoly(img_mask, exteriors, 1)\n",
    "    cv2.fillPoly(img_mask, interiors, 0)\n",
    "    return img_mask\n",
    "\n",
    "\n",
    "def mask_to_polygons(mask, epsilon=5, min_area=1.):\n",
    "    # __author__ = Konstantin Lopuhin\n",
    "    # https://www.kaggle.com/lopuhin/dstl-satellite-imagery-feature-detection/full-pipeline-demo-poly-pixels-ml-poly\n",
    "\n",
    "    # first, find contours with cv2: it's much faster than shapely\n",
    "    image, contours, hierarchy = cv2.findContours(\n",
    "        ((mask == 1) * 255).astype(np.uint8),\n",
    "        cv2.RETR_CCOMP, cv2.CHAIN_APPROX_TC89_KCOS)\n",
    "    # create approximate contours to have reasonable submission size\n",
    "    approx_contours = [cv2.approxPolyDP(cnt, epsilon, True)\n",
    "                       for cnt in contours]\n",
    "    if not contours:\n",
    "        return MultiPolygon()\n",
    "    # now messy stuff to associate parent and child contours\n",
    "    cnt_children = defaultdict(list)\n",
    "    child_contours = set()\n",
    "    assert hierarchy.shape[0] == 1\n",
    "    # http://docs.opencv.org/3.1.0/d9/d8b/tutorial_py_contours_hierarchy.html\n",
    "    for idx, (_, _, _, parent_idx) in enumerate(hierarchy[0]):\n",
    "        if parent_idx != -1:\n",
    "            child_contours.add(idx)\n",
    "            cnt_children[parent_idx].append(approx_contours[idx])\n",
    "    # create actual polygons filtering by area (removes artifacts)\n",
    "    all_polygons = []\n",
    "    for idx, cnt in enumerate(approx_contours):\n",
    "        if idx not in child_contours and cv2.contourArea(cnt) >= min_area:\n",
    "            assert cnt.shape[1] == 1\n",
    "            poly = Polygon(\n",
    "                shell=cnt[:, 0, :],\n",
    "                holes=[c[:, 0, :] for c in cnt_children.get(idx, [])\n",
    "                       if cv2.contourArea(c) >= min_area])\n",
    "            all_polygons.append(poly)\n",
    "    # approximating polygons might have created invalid ones, fix them\n",
    "    all_polygons = MultiPolygon(all_polygons)\n",
    "    if not all_polygons.is_valid:\n",
    "        all_polygons = all_polygons.buffer(0)\n",
    "        # Sometimes buffer() converts a simple Multipolygon to just a Polygon,\n",
    "        # need to keep it a Multi throughout\n",
    "        if all_polygons.type == 'Polygon':\n",
    "            all_polygons = MultiPolygon([all_polygons])\n",
    "    return all_polygons\n",
    "\n",
    "\n",
    "def get_scalers(im_size, x_max, y_min):\n",
    "    # __author__ = Konstantin Lopuhin\n",
    "    # https://www.kaggle.com/lopuhin/dstl-satellite-imagery-feature-detection/full-pipeline-demo-poly-pixels-ml-poly\n",
    "    h, w = im_size  # they are flipped so that mask_for_polygons works correctly\n",
    "    h, w = float(h), float(w)\n",
    "    w_ = 1.0 * w * (w / (w + 1))\n",
    "    h_ = 1.0 * h * (h / (h + 1))\n",
    "    return w_ / x_max, h_ / y_min\n",
    "\n",
    "\n",
    "def train_net():\n",
    "    print \"start train net\"\n",
    "    x_val, y_val = np.load('data/x_tmp_%d.npy' % N_Cls), np.load('data/y_tmp_%d.npy' % N_Cls)\n",
    "    img = np.load('data/x_trn_%d.npy' % N_Cls)\n",
    "    msk = np.load('data/y_trn_%d.npy' % N_Cls)\n",
    "\n",
    "    x_trn, y_trn = get_patches(img, msk)\n",
    "\n",
    "    model = get_unet()\n",
    "    model.load_weights('weights/unet_10_jk0.7878')\n",
    "    model_checkpoint = ModelCheckpoint('weights/unet_tmp.hdf5', monitor='loss', save_best_only=True)\n",
    "    for i in range(1):\n",
    "        model.fit(x_trn, y_trn, batch_size=64, nb_epoch=1, verbose=1, shuffle=True,\n",
    "                  callbacks=[model_checkpoint], validation_data=(x_val, y_val))\n",
    "        del x_trn\n",
    "        del y_trn\n",
    "        x_trn, y_trn = get_patches(img, msk)\n",
    "        score, trs = calc_jacc(model)\n",
    "        print 'val jk', score\n",
    "        model.save_weights('weights/unet_10_jk%.4f' % score)\n",
    "\n",
    "    return model\n",
    "\n",
    "\n",
    "def predict_id(id, model, trs):\n",
    "    img = M(id)\n",
    "    x = stretch_n(img)\n",
    "\n",
    "    cnv = np.zeros((960, 960, 8)).astype(np.float32)\n",
    "    prd = np.zeros((N_Cls, 960, 960)).astype(np.float32)\n",
    "    cnv[:img.shape[0], :img.shape[1], :] = x\n",
    "\n",
    "    for i in range(0, 6):\n",
    "        line = []\n",
    "        for j in range(0, 6):\n",
    "            line.append(cnv[i * ISZ:(i + 1) * ISZ, j * ISZ:(j + 1) * ISZ])\n",
    "\n",
    "        x = 2 * np.transpose(line, (0, 3, 1, 2)) - 1\n",
    "        tmp = model.predict(x, batch_size=4)\n",
    "        for j in range(tmp.shape[0]):\n",
    "            prd[:, i * ISZ:(i + 1) * ISZ, j * ISZ:(j + 1) * ISZ] = tmp[j]\n",
    "\n",
    "    # trs = [0.4, 0.1, 0.4, 0.3, 0.3, 0.5, 0.3, 0.6, 0.1, 0.1]\n",
    "    for i in range(N_Cls):\n",
    "        prd[i] = prd[i] > trs[i]\n",
    "\n",
    "    return prd[:, :img.shape[0], :img.shape[1]]\n",
    "\n",
    "\n",
    "def predict_test(model, trs):\n",
    "    print \"predict test\"\n",
    "    for i, id in enumerate(sorted(set(SB['ImageId'].tolist()))):\n",
    "        msk = predict_id(id, model, trs)\n",
    "        np.save('msk/10_%s' % id, msk)\n",
    "        if i % 100 == 0: print i, id\n",
    "\n",
    "\n",
    "def make_submit():\n",
    "    print \"make submission file\"\n",
    "    df = pd.read_csv(os.path.join(inDir, 'sample_submission.csv'))\n",
    "    print df.head()\n",
    "    for idx, row in df.iterrows():\n",
    "        id = row[0]\n",
    "        kls = row[1] - 1\n",
    "\n",
    "        msk = np.load('msk/10_%s.npy' % id)[kls]\n",
    "        pred_polygons = mask_to_polygons(msk)\n",
    "        x_max = GS.loc[GS['ImageId'] == id, 'Xmax'].as_matrix()[0]\n",
    "        y_min = GS.loc[GS['ImageId'] == id, 'Ymin'].as_matrix()[0]\n",
    "\n",
    "        x_scaler, y_scaler = get_scalers(msk.shape, x_max, y_min)\n",
    "\n",
    "        scaled_pred_polygons = shapely.affinity.scale(pred_polygons, xfact=1.0 / x_scaler, yfact=1.0 / y_scaler,\n",
    "                                                      origin=(0, 0, 0))\n",
    "\n",
    "        df.iloc[idx, 2] = shapely.wkt.dumps(scaled_pred_polygons)\n",
    "        if idx % 100 == 0: print idx\n",
    "    print df.head()\n",
    "    df.to_csv('subm/2.csv', index=False)\n",
    "\n",
    "\n",
    "def check_predict(id='6120_2_3'):\n",
    "    model = get_unet()\n",
    "    model.load_weights('weights/unet_10_jk0.7878')\n",
    "\n",
    "    msk = predict_id(id, model, [0.4, 0.1, 0.4, 0.3, 0.3, 0.5, 0.3, 0.6, 0.1, 0.1])\n",
    "    img = M(id)\n",
    "\n",
    "    plt.figure()\n",
    "    ax1 = plt.subplot(131)\n",
    "    ax1.set_title('image ID:6120_2_3')\n",
    "    ax1.imshow(img[:, :, 5], cmap=plt.get_cmap('gist_ncar'))\n",
    "    ax2 = plt.subplot(132)\n",
    "    ax2.set_title('predict bldg pixels')\n",
    "    ax2.imshow(msk[0], cmap=plt.get_cmap('gray'))\n",
    "    ax3 = plt.subplot(133)\n",
    "    ax3.set_title('predict bldg polygones')\n",
    "    ax3.imshow(mask_for_polygons(mask_to_polygons(msk[0], epsilon=1), img.shape[:2]), cmap=plt.get_cmap('gray'))\n",
    "\n",
    "    plt.show()"
   ]
  },
  {
   "cell_type": "code",
   "execution_count": 5,
   "metadata": {
    "collapsed": false
   },
   "outputs": [
    {
     "name": "stdout",
     "output_type": "stream",
     "text": [
      "let's stick all imgs together\n",
      "25\n",
      "(837, 849, 8) 6010_1_2 1.0 0.0\n",
      "(837, 849, 8) 6010_4_2 1.0 0.0\n",
      "(837, 848, 8) 6010_4_4 1.0 0.0\n",
      "(837, 848, 8) 6040_1_0 1.0 0.0\n",
      "(837, 848, 8) 6040_1_3 1.0 0.0\n",
      "(837, 848, 8) 6040_2_2 1.0 0.0\n",
      "(837, 846, 8) 6040_4_4 1.0 0.0\n",
      "(837, 851, 8) 6060_2_3 1.0 0.0\n",
      "(838, 835, 8) 6070_2_3 1.0 0.0\n",
      "(837, 848, 8) 6090_2_0 1.0 0.0\n",
      "(837, 848, 8) 6100_1_3 1.0 0.0\n",
      "(837, 848, 8) 6100_2_2 1.0 0.0\n",
      "(837, 848, 8) 6100_2_3 1.0 0.0\n",
      "(837, 849, 8) 6110_1_2 1.0 0.0\n",
      "(837, 849, 8) 6110_3_1 1.0 0.0\n",
      "(837, 849, 8) 6110_4_0 1.0 0.0\n",
      "(837, 851, 8) 6120_2_0 1.0 0.0\n",
      "(837, 851, 8) 6120_2_2 1.0 0.0\n",
      "(837, 849, 8) 6140_1_2 1.0 0.0\n",
      "(837, 849, 8) 6140_3_1 1.0 0.0\n",
      "(837, 851, 8) 6150_2_3 1.0 0.0\n",
      "(837, 848, 8) 6160_2_1 1.0 0.0\n",
      "(837, 848, 8) 6170_0_4 1.0 0.0\n",
      "(837, 848, 8) 6170_2_4 1.0 0.0\n",
      "(837, 848, 8) 6170_4_1 1.0 0.0\n",
      "1.0 0.0\n",
      "let's pick some samples for validation\n",
      "(1358, 8, 80, 80) (1358, 10, 80, 80) 1.0 -1.0 1.0 0.0\n",
      "start train net\n",
      "(4639, 8, 80, 80) (4639, 10, 80, 80) 1.0 -1.0 1.0 0.0\n",
      "Train on 4639 samples, validate on 1358 samples\n",
      "Epoch 1/1\n",
      "4639/4639 [==============================] - 150s - loss: 0.1220 - jaccard_coef: 0.1557 - jaccard_coef_int: 0.1355 - acc: 0.9560 - val_loss: 0.1131 - val_jaccard_coef: 0.1744 - val_jaccard_coef_int: 0.1579 - val_acc: 0.9597\b\b\b\b\b\b\b\b\b\b\b\b\b\b\b\b\b\b\b\b\b\b\b\b\b\b\b\b\b\b\b\b\b\b\b\b\b\b\b\b\b\b\b\b\b\b\b\b\b\b\b\b\b\b\b\b\b\b\b\b\b\b\b\b\b\b\b\b\b\b\b\b\b\b\b\b\b\b\b\b\b\b\b\b\b\b\b\b\b\b\b\b\b\b\b\b\b\b\b\b\b\b\b\b\b\b\b\b\b\b\b\b\b\b\b\b\b\b\b\b\b\b\b\b\b\b\b\b\b\b\b\b\b\b\b\b\b\b\b\b\b\b\b\b\b\b\b\b\b\b\b\b\b\b\b\b\b\b\b\b\b\b\b\b\b\b\b\b\b\b\b\b\b\b\b\b\b\b\b\b\b\b\b\b\b\b\b\b\b\b\b\b\b\b\b\b\b\b\b\b\b\b\b\b\b\b\b\b\b\b\b\b\b\b\b\b\b\b\b\b\b\b\b\b\b\b\b\b\b\b\b\b\b\b\b\b\b\b\b\b\b\b\b\b\b\b\b\b\b\b\b\b\b\b\b\b\b\b\b\b\b\b\b\b\b\b\b\b\b\b\b\b\b\b\b\b\b\b\b\b\b\b\b\b\b\b\b\b\b\b\b\b\b\b\b\b\b\b\b\b\b\b\b\b\b\b\b\b\b\b\b\b\b\b\b\b\b\b\b\b\b\b\b\b\b\b\b\b\b\b\b\b\b\b\b\b\b\b\b\b\b\b\b\b\b\b\b\b\b\b\b\b\b\b\b\b\b\b\b\b\b\b\b\b\b\b\b\b\b\b\b\b\b\b\b\b\b\b\b\b\b\b\b\b\b\b\b\b\b\b\b\b\b\b\b\b\b\b\b\b\b\b\b\b\b\b\b\b\b\b\b\b\b\b\b\b\b\b\b\b\b\b\b\b\b\b\b\b\b\b\b\b\b\b\b\b\b\b\b\b\b\b\b\b\b\b\b\b\b\b\b\b\b\b\b\b\b\b\b\b\b\b\b\b\b\b\b\b\b\b\b\b\b\b\b\b\b\b\b\b\b\b\b\b\b\b\b\b\b\b\b\b\b\b\b\b\b\b\b\b\b\b\b\b\b\b\b\b\b\b\b\b\b\b\b\b\b\b\b\b\b\b\b\b\b\b\b\b\b\b\b\b\b\b\b\b\b\b\b\b\b\b\b\b\b\b\b\b\b\b\b\b\b\b\b\b\b\b\b\b\b\b\b\b\b\b\b\b\b\b\b\b\b\b\b\b\b\b\b\b\b\b\b\b\b\b\b\b\b\b\b\b\b\b\b\b\b\b\b\b\b\b\b\b\b\b\b\b\b\b\b\b\b\b\b\b\b\b\b\b\b\b\b\b\b\b\b\b\b\b\b\b\b\b\b\b\b\b\b\b\b\b\b\b\b\b\b\b\b\b\b\b\b\b\b\b\b\b\b\b\b\b\b\b\b\b\b\b\b\b\b\b\b\b\b\b\b\b\b\b\b\b\b\b\b\b\b\b\b\b\b\b\b\b\b\b\b\b\b\b\b\b\b\b\b\b\b\b\b\b\b\b\b\b\b\b\b\b\b\b\b\b\b\b\b\b\b\b\b\b\b\b\b\b\b\b\b\b\b\b\b\b\b\b\b\b\b\b\b\b\b\b\b\b\b\b\b\b\b\b\b\b\b\b\b\b\b\b\b\b\b\b\b\b\b\b\b\b\b\b\b\b\b\b\b\b\b\b\b\b\b\b\b\b\b\b\b\b\b\b\b\b\b\b\b\b\b\b\b\b\b\b\b\b\b\b\b\b\b\b\b\b\b\b\b\b\b\b\b\b\b\b\b\b\b\b\b\b\b\b\b\b\b\b\b\b\b\b\b\b\b\b\b\b\b\b\b\b\b\b\b\b\b\b\b\b\b\b\b\b\b\b\b\b\b\b\b\b\b\b\b\b\b\b\b\b\b\b\b\b\b\b\b\b\b\b\b\b\b\b\b\b\b\b\b\b\b\b\b\b\b\b\b\b\b\b\b\b\b\b\b\b\b\b\b\b\b\b\b\b\b\b\b\b\b\b\b\b\b\b\b\b\b\b\b\b\b\b\b\b\b\b\b\b\b\b\b\b\b\b\b\b\b\b\b\b\b\b\b\b\b\b\b\b\b\b\b\b\b\b\b\b\b\b\b\b\b\b\b\b\b\b\b\b\b\b\b\b\b\b\b\b\b\b\b\b\b\b\b\b\b\b\b\b\b\b\b\b\b\b\b\b\b\b\b\b\b\b\b\b\b\b\b\b\b\b\b\b\b\b\b\b\b\b\b\b\b\b\b\b\b\b\b\b\b\b\b\b\b\b\b\b\b\b\b\b\b\b\b\b\b\b\b\b\b\b\b\b\b\b\b\b\b\b\b\b\b\b\b\b\b\b\b\b\b\b\b\b\b\b\b\b\b\b\b\b\b\b\b\b\b\b\b\b\b\b\b\b\b\b\b\b\b\b\b\b\b\b\b\b\b\b\b\b\b\b\b\b\b\b\b\b\b\b\b\b\b\b\b\b\b\b\b\b\b\b\b\b\b\b\b\b\b\b\b\b\b\b\b\b\b\b\b\b\b\b\b\b\b\b\b\b\b\b\b\b\b\b\b\b\b\b\b\b\b\b\b\b\b\b\b\b\b\b\b\b\b\b\b\b\b\b\b\b\b\b\b\b\b\b\b\b\b\b\b\b\b\b\b\b\b\b\b\b\b\b\b\b\b\b\b\b\b\b\b\b\b\b\b\b\b\b\b\b\b\b\b\b\b\b\b\b\b\b\b\b\b\b\b\b\b\b\b\b\b\b\b\b\b\b\b\b\b\b\b\b\b\b\b\b\b\b\b\b\b\b\b\b\b\b\b\b\b\b\b\b\b\b\b\b\b\b\b\b\b\b\b\b\b\b\b\b\b\b\b\b\b\b\b\b\b\b\b\b\b\b\b\b\b\b\b\b\b\b\b\b\b\b\b\b\b\b\b\b\b\b\b\b\b\b\b\b\b\b\b\b\b\b\b\b\b\b\b\b\b\b\b\b\b\b\b\b\b\b\b\b\b\b\b\b\b\b\b\b\b\b\b\b\b\b\b\b\b\b\b\b\b\b\b\b\b\b\b\b\b\b\b\b\b\b\b\b\b\b\b\b\b\b\b\b\b\b\b\b\b\b\b\b\b\b\b\b\b\b\b\b\b\b\b\b\b\b\b\b\b\b\b\b\b\b\b\b\b\b\b\b\b\b\b\b\b\b\b\b\b\b\b\b\b\b\b\b\b\b\b\b\b\b\b\b\b\b\b\b\b\b\b\b\b\b\b\b\b\b\b\b\b\b\b\b\b\b\b\b\b\b\b\b\b\b\b\b\b\b\b\b\b\b\b\b\b\b\b\b\b\b\b\b\b\b\b\b\b\b\b\b\b\b\b\b\b\b\b\b\b\b\b\b\b\b\b\b\b\b\b\b\b\b\b\b\b\b\b\b\b\b\b\b\b\b\b\b\b\b\b\b\b\b\b\b\b\b\b\b\b\b\b\b\b\b\b\b\b\b\b\b\b\b\b\b\b\b\b\b\b\b\b\b\b\b\b\b\b\b\b\b\b\b\b\b\b\b\b\b\b\b\b\b\b\b\b\b\b\b\b\b\b\b\b\b\b\b\b\b\b\b\b\b\b\b\b\b\b\b\b\b\b\b\b\b\b\b\b\b\b\b\b\b\b\b\b\b\b\b\b\b\b\b\b\b\b\b\b\b\b\b\b\b\b\b\b\b\b\b\b\b\b\b\b\b\b\b\b\b\b\b\b\b\b\b\b\b\b\b\b\b\b\b\b\b\b\b\b\b\b\b\b\b\b\b\b\b\b\b\b\b\b\b\b\b\b\b\b\b\b\b\b\b\b\b\b\b\b\b\b\b\b\b\b\b\b\b\b\b\b\b\b\b\b\b\b\b\b\b\b\b\b\b\b\b\b\b\b\b\b\b\b\b\b\b\b\b\b\b\b\b\b\b\b\b\b\b\b\b\b\b\b\b\b\b\b\b\b\b\b\b\b\b\b\b\b\b\b\b\b\b\b\b\b\b\b\b\b\b\b\b\b\b\b\b\b\b\b\b\b\b\b\b\b\b\b\b\b\b\b\b\b\b\b\b\b\b\b\b\b\b\b\b\b\b\b\b\b\b\b\b\b\b\b\b\b\b\b\b\b\b\b\b\b\b\b\b\b\b\b\b\b\b\b\b\b\b\b\b\b\b\b\b\b\b\b\b\b\b\b\b\b\b\b\b\b\b\b\b\b\b\b\b\b\b\b\b\b\b\b\b\b\b\b\b\b\b\b\b\b\b\b\b\b\b\b\b\b\b\b\b\b\b\b\b\b\b\b\b\b\b\b\b\b\b\b\b\b\b\b\b\b\b\b\b\b\b\b\b\b\b\b\b\b\b\b\b\b\b\b\b\b\b\b\b\b\b\b\b\b\b\b\b\b\b\b\b\b\b\b\b\b\b\b\b\b\b\b\b\b\b\b\b\b\b\b\b\b\b\b\b\b\b\b\b\b\b\b\b\b\b\b\b\b\b\b\b\b\b\b\b\b\b\b\b\b\b\b\b\b\b\b\b\b\b\b\b\b\b\b\b\b\b\b\b\b\b\b\b\b\b\b\b\b\b\b\b\b\b\b\b\b\b\b\b\b\b\b\b\b\b\b\b\b\b\b\b\b\b\b\b\b\b\b\b\b\b\b\b\b\b\b\b\b\b\b\b\b\b\b\b\b\b\b\b\b\b\b\b\b\b\b\b\b\b\b\b\b\b\b\b\b\b\b\b\b\b\b\b\b\b\b\b\b\b\b\b\b\b\b\b\b\b\b\b\b\b\b\b\b\b\b\b\b\b\b\b\b\b\b\b\b\b\b\b\b\b\b\b\b\b\b\b\b\b\b\b\b\b\b\b\b\b\b\b\b\b\b\b\b\b\b\b\b\b\b\b\b\b\b\b\b\b\b\b\b\b\b\b\b\b\b\b\b\b\b\b\b\b\b\b\b\b\b\b\b\b\b\b\b\b\b\b\b\b\b\b\b\b\b\b\b\b\b\b\b\b\b\b\b\b\b\b\b\b\b\b\b\b\b\b\b\b\b\b\b\b\b\b\b\b\b\b\b\b\b\b\b\b\b\b\b\b\b\b\b\b\b\b\b\b\b\b\b\b\b\b\b\b\b\b\b\b\b\b\b\b\b\b\b\b\b\b\b\b\b\b\b\b\b\b\b\b\b\b\b\b\b\b\b\b\b\b\b\b\b\b\b\b\b\b\b\b\b\b\b\b\b\b\b\b\b\b\b\b\b\b\b\b\b\b\b\b\b\b\b\b\b\b\b\b\b\b\b\b\b\b\b\b\b\b\b\b\b\b\b\b\b\b\b\b\b\b\b\b\b\b\b\b\b\b\b\b\b\b\b\b\b\b\b\b\b\b\b\b\b\b\b\b\b\b\b\b\b\b\b\b\b\b\b\b\b\b\b\b\b\b\b\b\b\b\b\b\b\b\b\b\b\b\b\b\b\b\b\b\b\b\b\b\b\b\b\b\b\b\b\b\b\b\b\b\b\b\b\b\b\b\b\b\b\b\b\b\b\b\b\b\b\b\b\b\b\b\b\b\b\b\b\b\b\b\b\b\b\b\b\b\b\b\b\b\b\b\b\b\b\b\b\b\b\b\b\b\b\b\b\b\b\b\b\b\b\b\b\b\b\b\b\b\b\b\b\b\b\b\b\b\b\b\b\b\b\b\b\b\b\b\b\b\b\b\b\b\b\b\b\b\b\b\b\b\b\b\b\b\b\b\b\b\b\b\b\b\b\b\b\b\b\b\b\b\b\b\b\b\b\b\b\b\b\b\b\b\b\b\b\b\b\b\b\b\b\b\b\b\b\b\b\b\b\b\b\b\b\b\b\b\b\b\b\b\b\b\b\b\b\b\b\b\b\b\b\b\b\b\b\b\b\b\b\b\b\b\b\b\b\b\b\b\b\b\b\b\b\b\b\b\b\b\b\b\b\b\b\b\b\b\b\b\b\b\b\b\b\b\b\b\b\b\b\b\b\b\b\b\b\b\b\b\b\b\b\b\b\b\b\b\b\b\b\b\b\b\b\b\b\b\b\b\b\b\b\b\b\b\b\b\b\b\b\b\b\b\b\b\b\b\b\b\b\b\b\b\b\b\b\b\b\b\b\b\b\b\b\b\b\b\b\b\b\b\b\b\b\b\b\b\b\b\b\b\b\b\b\b\b\b\b\b\b\b\b\b\b\b\b\b\b\b\b\b\b\b\b\b\b\b\b\b\b\b\b\b\b\b\b\b\b\b\b\b\b\b\b\b\b\b\b\b\b\b\b\b\b\b\b\b\b\b\b\b\b\b\b\b\b\b\b\b\b\b\b\b\b\b\b\b\b\b\b\b\b\b\b\b\b\b\b\b\b\b\b\b\b\b\b\b\b\b\b\b\b\b\b\b\b\b\b\b\b\b\b\b\b\b\b\b\b\b\b\b\b\b\b\b\b\b\b\b\b\b\b\b\b\b\b\b\b\b\b\b\b\b\b\b\b\b\b\b\b\b\b\b\b\b\b\b\b\b\b\b\b\b\b\b\b\b\b\b\b\b\b\b\b\b\b\b\b\b\b\b\b\b\b\b\b\b\b\b\b\b\b\b\b\b\b\b\b\b\b\b\b\b\b\b\b\b\b\b\b\b\b\b\b\b\b\b\b\b\b\b\b\b\b\b\b\b\b\b\b\b\b\b\b\b\b\b\b\b\b\b\b\b\b\b\b\b\b\b\b\b\b\b\b\b\b\b\b\b\b\b\b\b\b\b\b\b\b\b\b\b\b\b\b\b\b\b\b\b\b\b\b\b\b\b\b\b\b\b\b\b\b\b\b\b\b\b\b\b\b\b\b\b\b\b\b\b\b\b\b\b\b\b\b\b\b\b\b\b\b\b\b\b\b\b\b\b\b\b\b\b\b\b\b\b\b\b\b\b\b\b\b\b\b\b\b\b\b\b\b\b\b\b\b\b\b\b\b\b\b\b\b\b\b\b\b\b\b\b\b\b\b\b\b\b\b\b\b\b\b\b\b\b\b\b\b\b\b\b\b\b\b\b\b\b\b\b\b\b\b\b\b\b\b\b\b\b\b\b\b\b\b\b\b\b\b\b\b\b\b\b\b\b\b\b\b\b\b\b\b\b\b\b\b\b\b\b\b\b\b\b\b\b\b\b\b\b\b\b\b\b\b\b\b\b\b\b\b\b\b\b\b\b\b\b\b\b\b\b\b\b\b\b\b\b\b\b\b\b\b\b\b\b\b\b\b\b\b\b\b\b\b\b\b\b\b\b\b\b\b\b\b\b\b\b\b\b\b\b\b\b\b\b\b\b\b\b\b\b\b\b\b\b\b\b\b\b\b\b\b\b\b\b\b\b\b\b\b\b\b\b\b\b\b\b\b\b\b\b\b\b\b\b\b\b\b\b\b\b\b\b\b\b\b\b\b\b\b\b\b\b\b\b\b\b\b\b\b\b\b\b\b\b\b\b\b\b\b\b\b\b\b\b\b\b\b\b\b\b\b\b\b\b\b\b\b\b\b\b\b\b\b\b\b\b\b\b\b\b\b\b\b\b\b\b\b\b\b\b\b\b\b\b\b\b\b\b\b\b\b\b\b\b\b\b\b\b\b\b\b\b\b\b\b\b\b\b\b\b\b\b\b\b\b\b\b\b\b\b\b\b\b\b\b\b\b\b\b\b\b\b\b\b\b\b\b\b\b\b\b\b\b\b\b\b\b\b\b\b\b\b\b\b\b\b\b\b\b\b\b\b\b\b\b\b\b\b\b\b\b\b\b\b\b\b\b\b\b\b\b\b\b\b\b\b\b\b\b\b\b\b\b\b\b\b\b\b\b\b\b\b\b\b\b\b\b\b\b\b\b\b\b\b\b\b\b\b\b\b\b\b\b\b\b\b\b\b\b\b\b\b\b\b\b\b\b\b\b\b\b\b\b\b\b\b\b\b\b\b\b\b\b\b\b\b\b\b\b\b\b\b\b\b\b\b\b\b\b\b\b\b\b\b\b\b\b\b\b\b\b\b\b\b\b\b\b\b\b\b\b\b\b\b\b\b\b\b\b\b\b\b\b\b\b\b\b\b\b\b\b\b\b\b\b\b\b\b\b\b\b\b\b\b\b\b\b\b\b\b\b\b\b\b\b\b\b\b\b\b\b\b\b\b\b\b\b\b\b\b\b\b\b\b\b\b\b\b\b\b\b\b\b\b\b\b\b\b\b\b\b\b\b\b\b\b\b\b\b\b\b\b\b\b\b\b\b\b\b\b\b\b\b\b\b\b\b\b\b\b\b\b\b\b\b\b\b\b\b\b\b\b\b\b\b\b\b\b\b\b\b\b\b\b\b\b\b\b\b\b\b\b\b\b\b\b\b\b\b\b\b\b\b\b\b\b\b\b\b\b\b\b\b\b\b\b\b\b\b\b\b\b\b\b\b\b\b\b\b\b\b\b\b\b\b\b\b\b\b\b\b\b\b\b\b\b\b\b\b\b\b\b\b\b\b\b\b\b\b\b\b\b\b\b\b\b\b\b\b\b\b\b\b\b\b\b\b\b\b\b\b\b\b\b\b\b\b\b\b\b\b\b\b\b\b\b\b\b\b\b\b\b\b\b\b\b\b\b\b\b\b\b\b\b\b\b\b\b\b\b\b\b\b\b\b\b\b\b\b\b\b\b\b\b\b\b\b\b\b\b\b\b\b\b\b\b\b\b\b\b\b\b\b\b\b\b\b\b\b\b\b\b\b\b\b\b\b\b\b\b\b\b\b\b\b\b\b\b\b\b\b\b\b\b\b\b\b\b\b\b\b\b\b\b\b\b\b\b\b\b\b\b\b\b\b\b\b\b\b\b\b\b\b\b\b\b\b\b\b\b\b\b\b\b\b\b\b\b\b\b\b\b\b\b\b\b\b\b\b\b\b\b\b\b\b\b\b\b\b\b\b\b\b\b\b\b\b\b\b\b\b\b\b\b\b\b\b\b\b\b\b\b\b\b\b\b\b\b\b\b\b\b\b\b\b\b\b\b\b\b\b\b\b\b\b\b\b\b\b\b\b\b\b\b\b\b\b\b\b\b\b\b\b\b\b\b\b\b\b\b\b\b\b\b\b\b\b\b\b\b\b\b\b\b\b\b\b\b\b\b\b\b\b\b\b\b\b\b\b\b\b\b\b\b\b\b\b\b\b\b\b\b\b\b\b\b\b\b\b\b\b\b\b\b\b\b\b\b\b\b\b\b\b\b\b\b\b\b\b\b\b\b\b\b\b\b\b\b\b\b\b\b\b\b\b\b\b\b\b\b\b\b\b\b\b\b\b\b\b\b\b\b\b\b\b\b\b\b\b\b\b\b\b\b\b\b\b\b\b\b\b\b\b\b\b\b\b\b\b\b\b\b\b\b\b\b\b\b\b\b\b\b\b\b\b\b\b\b\b\b\b\b\b\b\b\b\b\b\b\b\b\b\b\b\b\b\b\b\b\b\b\b\b\b\b\b\b\b\b\b\b\b\b\b\b\b\b\b\b\b\b\b\b\b\b\b\b\b\b\b\b\b\b\b\b\b\b\b\b\b\b\b\b\b\b\b\b\b\b\b\b\b\b\b\b\b\b\b\b\b\b\b\b\b\b\b\b\b\b\b\b\b\b\b\b\b\b\b\b\b\b\b\b\b\b\b\b\b\b\b\b\b\b\b\b\b\b\b\b\b\b\b\b\b\b\b\b\b\b\b\b\b\b\b\b\b\b\b\b\b\b\b\b\b\b\b\b\b\b\b\b\b\b\b\b\b\b\b\b\b\b\b\b\b\b\b\b\b\b\b\b\b\b\b\b\b\b\b\b\b\b\b\b\b\b\b\b\b\b\b\b\b\b\b\b\b\b\b\b\b\b\b\b\b\b\b\b\b\b\b\b\b\b\b\b\b\b\b\b\b\b\b\b\b\b\b\b\b\b\b\b\b\b\b\b\b\b\b\b\b\b\b\b\b\b\b\b\b\b\b\b\b\b\b\b\b\b\b\b\b\b\b\b\b\b\b\b\b\b\b\b\b\b\b\b\b\b\b\b\b\b\b\b\b\b\b\b\b\b\b\b\b\b\b\b\b\b\b\b\b\b\b\b\b\b\b\b\b\b\b\b\b\b\b\b\b\b\b\b\b\b\b\b\b\b\b\b\b\b\b\b\b\b\b\b\b\b\b\b\b\b\b\b\b\b\b\b\b\b\b\b\b\b\b\b\b\b\b\b\b\b\b\b\b\b\b\b\b\b\b\b\b\b\b\b\b\b\b\b\b\b\b\b\b\b\b\b\b\b\b\b\b\b\b\b\b\b\b\b\b\b\b\b\b\b\b\b\b\b\b\b\b\b\b\b\b\b\b\b\b\b\b\b\b\b\b\b\b\b\b\b\b\b\b\b\b\b\b\b\b\b\b\b\b\b\b\b\b\b\b\b\b\b\b\b\b\b\b\b\b\b\b\b\b\b\b\b\b\b\b\b\b\b\b\b\b\b\b\b\b\b\b\b\b\b\b\b\b\b\b\b\b\b\b\b\b\b\b\b\b\b\b\b\b\b\b\b\b\b\b\b\b\b\b\b\b\b\b\b\b\b\b\b\b\b\b\b\b\b\b\b\b\b\b\b\b\b\b\b\b\b\b\b\b\b\b\b\b\b\b\b\b\b\b\b\b\b\b\b\b\b\b\b\b\b\b\b\b\b\b\b\b\b\b\b\b\b\b\b\b\b\b\b\b\b\b\b\b\b\b\b\b\b\b\b\b\b\b\b\b\b\b\b\b\b\b\b\b\b\b\b\b\b\b\b\b\b\b\b\b\b\b\b\b\b\b\b\b\b\b\b\b\b\b\b\b\b\b\b\b\b\b\b\b\b\b\b\b\b\b\b\b\b\b\b\b\b\b\b\b\b\b\b\b\b\b\b\b\b\b\b\b\b\b\b\b\b\b\b\b\b\b\b\b\b\b\b\b\b\b\b\b\b\b\b\b\b\b\b\b\b\b\b\b\b\b\b\b\b\b\b\b\b\b\b\b\b\b\b\b\b\b\b\b\b\b\b\b\b\b\b\b\b\b\b\b\b\b\b\b\b\b\b\b\b\b\b\b\b\b\b\b\b\b\b\b\b\b\b\b\b\b\b\b\b\b\b\b\b\b\b\b\b\b\b\b\b\b\b\b\b\b\b\b\b\b\b\b\b\b\b\b\b\b\b\b\b\b\b\b\b\b\b\b\b\b\b\b\b\b\b\b\b\b\b\b\b\b\b\b\b\b\b\b\b\b\b\b\b\b\b\b\b\b\b\b\b\b\b\b\b\b\b\b\b\b\b\b\b\b\b\b\b\b\b\b\b\b\b\b\b\b\b\b\b\b\b\b\b\b\b\b\b\b\b\b\b\b\b\b\b\b\b\b\b\b\b\b\b\b\b\b\b\b\b\b\b\b\b\b\b\b\b\b\b\b\b\b\b\b\b\b\b\b\b\b\b\b\b\b\b\b\b\b\b\b\b\b\b\b\b\b\b\b\b\b\b\b\b\b\b\b\b\b\b\b\b\b\b\b\b\b\b\b\b\b\b\b\b\b\b\b\b\b\b\b\b\b\b\b\b\b\b\b\b\b\b\b\b\b\b\b\b\b\b\b\b\b\b\b\b\b\b\b\b\b\b\b\b\b\b\b\b\b\b\b\b\b\b\b\b\b\b\b\b\b\b\b\b\b\b\b\b\b\b\b\b\b\b\b\b\b\b\b\b\b\b\b\b\b\b\b\b\b\b\b\b\b\b\b\b\b\b\b\b\b\b\b\b\b\b\b\b\b\b\b\b\b\b\b\b\b\b\b\b\b\b\b\b\b\b\b\b\b\b\b\b\b\b\b\b\b\b\b\b\b\b\b\b\b\b\b\b\b\b\b\b\b\b\b\b\b\b\b\b\b\b\b\b\b\b\b\b\b\b\b\b\b\b\b\b\b\b\b\b\b\b\b\b\b\b\b\b\b\b\b\b\b\b\b\b\b\b\b\b\b\b\b\b\b\b\b\b\b\b\b\b\b\b\b\b\b\b\b\b\b\b\b\b\b\b\b\b\b\b\b\b\b\b\b\b\b\b\b\b\b\b\b\b\b\b\b\b\b\b\b\b\b\b\b\b\b\b\b\b\b\b\b\b\b\b\b\b\b\b\b\b\b\b\b\b\b\b\b\b\b\b\b\b\b\b\b\b\b\b\b\b\b\b\b\b\b\b\b\b\b\b\b\b\b\b\b\b\b\b\b\b\b\b\b\b\b\b\b\b\b\b\b\b\b\b\b\b\b\b\b\b\b\b\b\b\b\b\b\b\b\b\b\b\b\b\b\b\b\b\b\b\b\b\b\b\b\b\b\b\b\b\b\b\b\b\b\b\b\b\b\b\b\b\b\b\b\b\b\b\b\b\b\b\b\b\b\b\b\b\b\b\b\b\b\b\b\b\b\b\b\b\b\b\b\b\b\b\b\b\b\b\b\b\b\b\b\b\b\b\b\b\b\b\b\b\b\b\b\b\b\b\b\b\b\b\b\b\b\b\b\b\b\b\b\b\b\b\b\b\b\b\b\b\b\b\b\b\b\b\b\b\b\b\b\b\b\b\b\b\b\b\b\b\b\b\b\b\b\b\b\b\b\b\b\b\b\b\b\b\b\b\b\b\b\b\b\b\b\b\b\b\b\b\b\b\b\b\b\b\b\b\b\b\b\b\b\b\b\b\b\b\b\b\b\b\b\b\b\b\b\b\b\b\b\b\b\b\b\b\b\b\b\b\b\b\b\b\b\b\b\b\b\b\b\b\b\b\b\b\b\b\b\b\b\b\b\b\b\b\b\b\b\b\b\b\b\b\b\b\b\b\b\b\b\b\b\b\b\b\b\b\b\b\b\b\b\b\b\b\b\b\b\b\b\b\b\b\b\b\b\b\b\b\b\b\b\b\b\b\b\b\b\b\b\b\b\b\b\b\b\b\b\b\b\b\b\b\b\b\b\b\b\b\b\b\b\b\b\b\b\b\b\b\b\b\b\b\b\b\b\b\b\b\b\b\b\b\b\b\b\b\b\b\b\b\b\b\b\b\b\b\b\b\b\b\b\b\b\b\b\b\b\b\b\b\b\b\b\b\b\b\b\b\b\b\b\b\b\b\b\b\b\b\b\b\b\b\b\b\b\b\b\b\b\b\b\b\b\b\b\b\b\b\b\b\b\b\b\b\b\b\b\b\b\b\b\b\b\b\b\b\b\b\b\b\b\b\b\b\b\b\b\b\b\b\b\b\b\b\b\b\b\b\b\b\b\b\b\b\b\b\b\b\b\b\b\b\b\b\b\b\b\b\b\b\b\b\b\b\b\b\b\b\b\b\b\b\b\b\b\b\b\b\b\b\b\b\b\b\b\b\b\b\b\b\b\b\b\b\b\b\b\b\b\b\b\b\b\b\b\b\b\b\b\b\b\b\b\b\b\b\b\b\b\b\b\b\b\b\b\b\b\b\b\b\b\b\b\b\b\b\b\b\b\b\b\b\b\b\b\b\b\b\b\b\b\b\b\b\b\b\b\b\b\b\b\b\b\b\b\b\b\b\b\b\b\b\b\b\b\b\b\b\b\b\b\b\b\b\b\b\b\b\b\b\b\b\b\b\b\b\b\b\b\b\b\b\b\b\b\b\b\b\b\b\b\b\b\b\b\b\b\b\b\b\b\b\b\b\b\b\b\b\b\b\b\b\b\b\b\b\b\b\b\b\b\b\b\b\b\b\b\b\b\b\b\b\b\b\b\b\b\b\b\b\b\b\b\b\b\b\b\b\b\b\b\b\b\b\b\b\b\b\b\b\b\b\b\b\b\b\b\b\b\b\b\b\b\b\b\b\b\b\b\b\b\b\b\b\b\b\b\b\b\b\b\b\b\b\b\b\b\b\b\b\b\b\b\b\b\b\b\b\b\b\b\b\b\b\b\b\b\b\b\b\b\b\b\b\b\b\b\b\b\b\b\b\b\b\b\b\b\b\b\b\b\b\b\b\b\b\b\b\b\b\b\b\b\b\b\b\b\b\b\b\b\b\b\b\b\b\b\b\b\b\b\b\b\b\b\b\b\b\b\b\b\b\b\b\b\b\b\b\b\b\b\b\b\b\b\b\b\b\b\b\b\b\b\b\b\b\b\b\b\b\b\b\b\b\b\b\b\b\b\b\b\b\b\b\b\b\b\b\b\b\b\b\b\b\b\b\b\b\b\b\b\b\b\b\b\b\b\b\b\b\b\b\b\b\b\b\b\b\b\b\b\b\b\b\b\b\b\b\b\b\b\b\b\b\b\b\b\b\b\b\b\b\b\b\b\b\b\b\b\b\b\b\b\b\b\b\b\b\b\b\b\b\b\b\b\b\b\b\b\b\b\b\b\b\b\b\b\b\b\b\b\b\b\b\b\b\b\b\b\b\b\b\b\b\b\b\b\b\b\b\b\b\b\b\b\b\b\b\b\b\b\b\b\b\b\b\b\b\b\b\b\b\b\b\b\b\b\b\b\b\b\b\b\b\b\b\b\b\b\b\b\b\b\b\b\b\b\b\b\b\b\b\b\b\b\b\b\b\b\b\b\b\b\b\b\b\b\b\b\b\b\b\b\b\b\b\b\b\b\b\b\b\b\b\b\b\b\b\b\b\b\b\b\b\b\b\b\b\b\b\b\b\b\b\b\b\b\b\b\b\b\b\b\b\b\b\b\b\b\b\b\b\b\b\b\b\b\b\b\b\b\b\b\b\b\b\b\b\b\b\b\b\b\b\b\b\b\b\b\b\b\b\b\b\b\b\b\b\b\b\b\b\b\b\b\b\b\b\b\b\b\b\b\b\b\b\b\b\b\b\b\b\b\b\b\b\b\b\b\b\b\b\b\b\b\b\b\b\b\b\b\b\b\b\b\b\b\b\b\b\b\b\b\b\b\b\b\b\b\b\b\b\b\b\b\b\b\b\b\b\b\b\b\b\b\b\b\b\b\b\b\b\b\b\b\b\b\b\b\b\b\b\b\b\b\b\b\b\b\b\b\b\b\b\b\b\b\b\b\b\b\b\b\b\b\b\b\b\b\b\b\b\b\b\b\b\b\b\b\b\b\b\b\b\b\b\b\b\b\b\b\b\b\b\b\b\b\b\b\b\b\b\b\b\b\b\b\b\b\b\b\b\b\b\b\b\b\b\b\b\b\b\b\b\b\b\b\b\b\b\b\b\b\b\b\b\b\b\b\b\b\b\b\b\b\b\b\b\b\b\b\b\b\b\b\b\b\b\b\b\b\b\b\b\b\b\b\b\b\b\b\b\b\b\b\b\b\b\b\b\b\b\b\b\b\b\b\b\b\b\b\b\b\b\b\b\b\b\b\b\b\b\b\b\b\b\b\b\b\b\b\b\b\b\b\b\b\b\b\b\b\b\b\b\b\b\b\b\b\b\b\b\b\b\b\b\b\b\b\b\b\b\b\b\b\b\b\b\b\b\b\b\b\b\b\b\b\b\b\b\b\b\b\b\b\b\b\b\b\b\b\b\b\b\b\b\b\b\b\b\b\b\b\b\b\b\b\b\b\b\b\b\b\b\b\b\b\b\b\b\b\b\b\b\b\b\b\b\b\b\b\b\b\b\b\b\b\b\b\b\b\b\b\b\b\b\b\b\b\b\b\b\b\b\b\b\b\b\b\b\b\b\b\b\b\b\b\b\b\b\b\b\b\b\b\b\b\b\b\b\b\b\b\b\b\b\b\b\b\b\b\b\b\b\b\b\b\b\b\b\b\b\b\b\b\b\b\b\b\b\b\b\b\b\b\b\b\b\b\b\b\b\b\b\b\b\b\b\b\b\b\b\b\b\b\b\b\b\b\b\b\b\b\b\b\b\b\b\b\b\b\b\b\b\b\b\b\b\b\b\b\b\b\b\b\b\b\b\b\b\b\b\b\b\b\b\b\b\b\b\b\b\b\b\b\b\b\b\b\b\b\b\b\b\b\b\b\b\b\b\b\b\b\b\b\b\b\b\b\b\b\b\b\b\b\b\b\b\b\b\b\b\b\b\b\b\b\b\b\b\b\b\b\b\b\b\b\b\b\b\b\b\b\b\b\b\b\b\b\b\b\b\b\b\b\b\b\b\b\b\b\b\b\b\b\b\b\b\b\b\b\b\b\b\b\b\b\b\b\b\b\b\b\b\b\b\b\b\b\b\b\b\b\b\b\b\b\b\b\b\b\b\b\b\b\b\b\b\b\b\b\b\b\b\b\b\b\b\b\b\b\b\b\b\b\b\b\b\b\b\b\b\b\b\b\b\b\b\b\b\b\b\b\b\b\b\b\b\b\b\b\b\b\b\b\b\b\b\b\b\b\b\b\b\b\b\b\b\b\b\b\b\b\b\b\b\b\b\b\b\b\b\b\b\b\b\b\b\b\b\b\b\b\b\b\b\b\b\b\b\b\b\b\b\b\b\b\b\b\b\b\b\b\b\b\b\b\b\b\b\b\b\b\b\b\b\b\b\b\b\b\b\b\b\b\b\b\b\b\b\b\b\b\b\b\b\b\b\b\b\b\b\b\b\b\b\b\b\b\b\b\b\b\b\b\b\b\b\b\b\b\b\b\b\b\b\b\b\b\b\b\b\b\b\b\b\b\b\b\b\b\b\b\b\b\b\b\b\b\b\b\b\b\b\b\b\b\b\b\b\b\b\b\b\b\b\b\b\b\b\b\b\b\b\b\b\b\b\b\b\b\b\b\b\b\b\b\b\b\b\b\b\b\b\b\b\b\b\b\b\b\b\b\b\b\b\b\b\b\b\b\b\b\b\b\b\b\b\b\b\b\b\b\b\b\b\b\b\b\b\b\b\b\b\b\b\b\b\b\b\b\b\b\b\b\b\b\b\b\b\b\b\b\b\b\b\b\b\b\b\b\b\b\b\b\b\b\b\b\b\b\b\b\b\b\b\b\b\b\b\b\b\b\b\b\b\b\b\b\b\b\b\b\b\b\b\b\b\b\b\b\b\b\b\b\b\b\b\b\b\b\b\b\b\b\b\b\b\b\b\b\b\b\b\b\b\b\b\b\b\b\b\b\b\b\b\b\b\b\b\b\b\b\b\b\b\b\b\b\b\b\b\b\b\b\b\b\b\b\b\b\b\b\b\b\b\b\b\b\b\b\b\b\b\b\b\b\b\b\b\b\b\b\b\b\b\b\b\b\b\b\b\b\b\b\b\b\b\b\b\b\b\b\b\b\b\b\b\b\b\b\b\b\b\b\b\b\b\b\b\b\b\b\b\b\b\b\b\b\b\b\b\b\b\b\b\b\b\b\b\b\b\b\b\b\b\b\b\b\b\b\b\b\b\b\b\b\b\b\b\b\b\b\b\b\b\b\b\b\b\b\b\b\b\b\b\b\b\b\b\b\b\b\b\b\b\b\b\b\b\b\b\b\b\b\b\b\b\b\b\b\b\b\b\b\b\b\b\b\b\b\b\b\b\b\b\b\b\b\b\b\b\b\b\b\b\b\b\b\b\b\b\b\b\b\b\b\b\b\b\b\b\b\b\b\b\b\b\b\b\b\b\b\b\b\b\b\b\b\b\b\b\b\b\b\b\b\b\b\b\b\b\b\b\b\b\b\b\b\b\b\b\b\b\b\b\b\b\b\b\b\b\b\b\b\b\b\b\b\b\b\b\b\b\b\b\b\b\b\b\b\b\b\b\b\b\b\b\b\b\b\b\b\b\b\b\b\b\b\b\b\b\b\b\b\b\b\b\b\b\b\b\b\b\b\b\b\b\b\b\b\b\b\b\b\b\b\b\b\b\b\b\b\b\b\b\b\b\b\b\b\b\b\b\b\b\b\b\b\b\b\b\b\b\b\b\b\b\b\b\b\b\b\b\b\b\b\b\b\b\b\b\b\b\b\b\b\b\b\b\b\b\b\b\b\b\b\b\b\b\b\b\b\b\b\b\b\b\b\b\b\b\b\b\b\b\b\b\b\b\b\b\b\b\b\b\b\b\b\b\b\b\b\b\b\b\b\b\b\b\b\b\b\b\b\b\b\b\b\b\b\b\b\b\b\b\b\b\b\b\b\b\b\b\b\b\b\b\b\b\b\b\b\b\b\b\b\b\b\b\b\b\b\b\b\b\b\b\b\b\b\b\b\b\b\b\b\b\b\b\b\b\b\b\b\b\b\b\b\b\b\b\b\b\b\b\b\b\b\b\b\b\b\b\b\b\b\b\b\b\b\b\b\b\b\b\b\b\b\b\b\b\b\b\b\b\b\b\b\b\b\b\b\b\b\b\b\b\b\b\b\b\b\b\b\b\b\b\b\b\b\b\b\b\b\b\b\b\b\b\b\b\b\b\b\b\b\b\b\b\b\b\b\b\b\b\b\b\b\b\b\b\b\b\b\b\b\b\b\b\b\b\b\b\b\b\b\b\b\b\b\b\b\b\b\b\b\b\b\b\b\b\b\b\b\b\b\b\b\b\b\b\b\b\b\b\b\b\b\b\b\b\b\b\b\b\b\b\b\b\b\b\b\b\b\b\b\b\b\b\b\b\b\b\b\b\b\b\b\b\b\b\b\b\b\b\b\b\b\b\b\b\b\b\b\b\b\b\b\b\b\b\b\b\b\b\b\b\b\b\b\b\b\b\b\b\b\b\b\b\b\b\b\b\b\b\b\b\b\b\b\b\b\b\b\b\b\b\b\b\b\b\b\b\b\b\b\b\b\b\b\b\b\b\b\b\b\b\b\b\b\b\b\b\b\b\b\b\b\b\b\b\b\b\b\b\b\b\b\b\b\b\b\b\b\b\b\b\b\b\b\b\b\b\b\b\b\b\b\b\b\b\b\b\b\b\b\b\b\b\b\b\b\b\b\b\b\b\b\b\b\b\b\b\b\b\b\b\b\b\b\b\b\b\b\b\b\b\b\b\b\b\b\b\b\b\b\b\b\b\b\b\b\b\b\b\b\b\b\b\b\b\b\b\b\b\b\b\b\b\b\b\b\b\b\b\b\b\b\b\b\b\b\b\b\b\b\b\b\b\b\b\b\b\b\b\b\b\b\b\b\b\b\b\b\b\b\b\b\b\b\b\b\b\b\b\b\b\b\b\b\b\b\b\b\b\b\b\b\b\b\b\b\b\b\b\b\b\b\b\b\b\b\b\b\b\b\b\b\b\b\b\b\b\b\b\b\b\b\b\b\b\b\b\b\b\b\b\b\b\b\b\b\b\b\b\b\b\b\b\b\b\b\b\b\b\b\b\b\b\b\b\b\b\b\b\b\b\b\b\b\b\b\b\b\b\b\b\b\b\b\b\b\b\b\b\b\b\b\b\b\b\b\b\b\b\b\b\b\b\b\b\b\b\b\b\b\b\b\b\b\b\b\b\b\b\b\b\b\b\b\b\b\b\b\b\b\b\b\b\b\b\b\b\b\b\b\b\b\b\b\b\b\b\b\b\b\b\b\b\b\b\b\b\b\b\b\b\b\b\b\b\b\b\b\b\b\b\b\b\b\b\b\b\b\b\b\b\b\b\b\b\b\b\b\b\b\b\b\b\b\b\b\b\b\b\b\b\b\b\b\b\b\b\b\b\b\b\b\b\b\b\b\b\b\b\b\b\b\b\b\b\b\b\b\b\b\b\b\b\b\b\b\b\b\b\b\b\b\b\b\b\b\b\b\b\b\b\b\b\b\b\b\b\b\b\b\b\b\b\b\b\b\b\b\b\b\b\b\b\b\b\b\b\b\b\b\b\b\b\b\b\b\b\b\b\b\b\b\b\b\b\b\b\b\b\b\b\b\b\b\b\b\b\b\b\b\b\b\b\b\b\b\b\b\b\b\b\b\b\b\b\b\b\b\b\b\b\b\b\b\b\b\b\b\b\b\b\b\b\b\b\b\b\b\b\b\b\b\b\b\b\b\b\b\b\b\b\b\b\b\b\b\b\b\b\b\b\b\b\b\b\b\b\b\b\b\b\b\b\b\b\b\b\b\b\b\b\b\b\b\b\b\b\b\b\b\b\b\b\b\b\b\b\b\b\b\b\b\b\b\b\b\b\b\b\b\b\b\b\b\b\b\b\b\b\b\b\b\b\b\b\b\b\b\b\b\b\b\b\b\b\b\b\b\b\b\b\b\b\b\b\b\b\b\b\b\b\b\b\b\b\b\b\b\b\b\b\b\b\b\b\b\b\b\b\b\b\b\b\b\b\b\b\b\b\b\b\b\b\b\b\b\b\b\b\b\b\b\b\b\b\b\b\b\b\b\b\b\b\b\b\b\b\b\b\b\b\b\b\b\b\b\b\b\b\b\b\b\b\b\b\b\b\b\b\b\b\b\b\b\b\b\b\b\b\b\b\b\b\b\b\b\b\b\b\b\b\b\b\b\b\b\b\b\b\b\b\b\b\b\b\b\b\b\b\b\b\b\b\b\b\b\b\b\b\b\b\b\b\b\b\b\b\b\b\b\b\b\b\b\b\b\b\b\b\b\b\b\b\b\b\b\b\b\b\b\b\b\b\b\b\b\b\b\b\b\b\b\b\b\b\b\b\b\b\b\b\b\b\b\b\b\b\b\b\b\b\b\b\b\b\b\b\b\b\b\b\b\b\b\b\b\b\b\b\b\b\b\b\b\b\b\b\b\b\b\b\b\b\b\b\b\b\b\b\b\b\b\b\b\b\b\b\b\b\b\b\b\b\b\b\b\b\b\b\b\b\b\b\b\b\b\b\b\b\b\b\b\b\b\b\b\b\b\b\b\b\b\b\b\b\b\b\b\b\b\b\b\b\b\b\b\b\b\b\b\b\b\b\b\b\b\b\b\b\b\b\b\b\b\b\b\b\b\b\b\b\b\b\b\b\b\b\b\b\b\b\b\b\b\b\b\b\b\b\b\b\b\b\b\b\b\b\b\b\b\b\b\b\b\b\b\b\b\b\b\b\b\b\b\n",
      "(4666, 8, 80, 80) (4666, 10, 80, 80) 1.0 -1.0 1.0 0.0\n",
      "(1358, 10, 80, 80) (1358, 10, 80, 80)\n",
      "0 0.832060344047 0.4\n",
      "1 0.676380706922 0.4\n",
      "2 0.883714279015 0.6\n",
      "3 0.538914391614 0.5\n",
      "4 0.388346507354 0.3\n",
      "5 0.843338811748 0.5\n",
      "6 0.966590586149 0.4\n",
      "7 0.970911060499 0.9\n",
      "8 0.994642857143 0.1\n",
      "9 0.967406111929 0.2\n",
      "val jk 0.806230565642\n",
      "(1358, 10, 80, 80) (1358, 10, 80, 80)\n",
      "0 0.832060344047 0.4\n",
      "1 0.676380706922 0.4\n",
      "2 0.883714279015 0.6\n",
      "3 0.538914391614 0.5\n",
      "4 0.388346507354 0.3\n",
      "5 0.843338811748 0.5\n",
      "6 0.966590586149 0.4\n",
      "7 0.970911060499 0.9\n",
      "8 0.994642857143 0.1\n",
      "9 0.967406111929 0.2\n",
      "predict test\n",
      "0 6010_0_0\n",
      "100 6050_1_0\n",
      "200 6090_1_1\n",
      "300 6130_2_4\n",
      "400 6170_4_0\n",
      "make submission file\n"
     ]
    },
    {
     "name": "stderr",
     "output_type": "stream",
     "text": [
      "Self-intersection at or near point 295.52499999999998 234.69374999999999\n"
     ]
    },
    {
     "name": "stdout",
     "output_type": "stream",
     "text": [
      "    ImageId  ClassType                                    MultipolygonWKT\n",
      "0  6120_2_4          1  POLYGON ((0 0, 0.009188 0, 0.009188 -0.0090399...\n",
      "1  6120_2_4          2  POLYGON ((0 0, 0.009188 0, 0.009188 -0.0090399...\n",
      "2  6120_2_4          3  POLYGON ((0 0, 0.009188 0, 0.009188 -0.0090399...\n",
      "3  6120_2_4          4  POLYGON ((0 0, 0.009188 0, 0.009188 -0.0090399...\n",
      "4  6120_2_4          5  POLYGON ((0 0, 0.009188 0, 0.009188 -0.0090399...\n",
      "0\n"
     ]
    },
    {
     "name": "stderr",
     "output_type": "stream",
     "text": [
      "Self-intersection at or near point 250.40298507462686 265.13432835820896\n",
      "Self-intersection at or near point 157.00544959128067 158.83378746594005\n",
      "Self-intersection at or near point 65.018181818181816 317.58181818181816\n",
      "Self-intersection at or near point 405.25 236.4375\n",
      "Self-intersection at or near point 321.90718562874252 403.41317365269464\n",
      "Self-intersection at or near point 398.52272727272725 460.14772727272725\n",
      "Self-intersection at or near point 321.60256410256409 63.301282051282051\n",
      "Self-intersection at or near point 268.07142857142856 380.07142857142856\n",
      "Self-intersection at or near point 478.68656716417911 65.955223880597018\n",
      "Self-intersection at or near point 477.252427184466 161.76699029126215\n",
      "Ring Self-intersection at or near point 324 185\n",
      "Self-intersection at or near point 158.25 99.75\n",
      "Self-intersection at or near point 316.42180094786733 226.12322274881515\n",
      "Self-intersection at or near point 350.86725663716817 245.30973451327435\n",
      "Self-intersection at or near point 77.857142857142861 190.85714285714286\n",
      "Self-intersection at or near point 469.59701492537312 249.65671641791045\n",
      "Self-intersection at or near point 351.57377049180326 100.59016393442623\n",
      "Self-intersection at or near point 316.26732673267327 53.587458745874585\n",
      "Self-intersection at or near point 159 294\n"
     ]
    },
    {
     "name": "stdout",
     "output_type": "stream",
     "text": [
      "100\n"
     ]
    },
    {
     "name": "stderr",
     "output_type": "stream",
     "text": [
      "Self-intersection at or near point 394.38028169014086 202.64788732394365\n",
      "Ring Self-intersection at or near point 453 67\n",
      "Self-intersection at or near point 42.150684931506852 100.48630136986301\n",
      "Self-intersection at or near point 396.09205020920501 79.043235704323564\n",
      "Self-intersection at or near point 316.42382271468142 155.78393351800554\n",
      "Self-intersection at or near point 448.67901234567898 401.79012345679013\n",
      "Self-intersection at or near point 279.70873786407765 2.3300970873786406\n",
      "Self-intersection at or near point 478.09512761020881 77.953596287703022\n",
      "Self-intersection at or near point 330.76170212765959 7.3063829787234038\n",
      "Self-intersection at or near point 339.22935779816515 122.09174311926606\n",
      "Self-intersection at or near point 317 238.5\n",
      "Self-intersection at or near point 321.13636363636363 319.13636363636363\n",
      "Self-intersection at or near point 477.43224299065423 205.14252336448598\n",
      "Ring Self-intersection at or near point 252 400\n"
     ]
    },
    {
     "name": "stdout",
     "output_type": "stream",
     "text": [
      "200\n"
     ]
    },
    {
     "name": "stderr",
     "output_type": "stream",
     "text": [
      "Self-intersection at or near point 170.85714285714286 105.28571428571429\n",
      "Self-intersection at or near point 349.35532994923858 102.01015228426395\n",
      "Self-intersection at or near point 477.96638655462186 96.016806722689068\n",
      "Self-intersection at or near point 357.01463414634145 77.063414634146341\n",
      "Self-intersection at or near point 47.576547231270361 248.93159609120522\n",
      "Self-intersection at or near point 478.71698113207549 65.245283018867923\n",
      "Self-intersection at or near point 398.171974522293 402.75159235668792\n",
      "Self-intersection at or near point 81.213049267643143 443.23302263648469\n",
      "Self-intersection at or near point 193.30769230769232 347.3609467455621\n",
      "Self-intersection at or near point 275.75590551181102 157.9291338582677\n",
      "Self-intersection at or near point 192 0\n",
      "Self-intersection at or near point 478.06400000000002 238.10400000000001\n",
      "Self-intersection at or near point 339.61111111111109 397.08333333333331\n",
      "Self-intersection at or near point 198.29303442754204 77.365092073658928\n",
      "Self-intersection at or near point 399 319.05263157894734\n",
      "Self-intersection at or near point 390.50239234449759 371.28229665071768\n",
      "Self-intersection at or near point 402.61971830985914 242.61267605633802\n"
     ]
    },
    {
     "name": "stdout",
     "output_type": "stream",
     "text": [
      "300\n"
     ]
    },
    {
     "name": "stderr",
     "output_type": "stream",
     "text": [
      "Ring Self-intersection at or near point 77 399\n",
      "Self-intersection at or near point 399 236.59459459459458\n",
      "Self-intersection at or near point 157.13886536833192 315.81964436917866\n",
      "Self-intersection at or near point 445.83008356545963 75.791086350974936\n",
      "Self-intersection at or near point 460.74468085106383 418.40425531914894\n",
      "Self-intersection at or near point 13 400\n",
      "Self-intersection at or near point 0.51674641148325362 237.79425837320574\n",
      "Self-intersection at or near point 476.32824427480915 372.75572519083971\n",
      "Self-intersection at or near point 442.38344226579522 161.33551198257081\n",
      "Self-intersection at or near point 476.4375 286.1875\n",
      "Self-intersection at or near point 352.96850393700788 333.77952755905511\n",
      "Self-intersection at or near point 319 398.44444444444446\n",
      "Self-intersection at or near point 396.9455252918288 416.95719844357978\n",
      "Self-intersection at or near point 16.913793103448278 320.37356321839081\n",
      "Self-intersection at or near point 396.68316831683171 170.05940594059405\n"
     ]
    },
    {
     "name": "stdout",
     "output_type": "stream",
     "text": [
      "400\n"
     ]
    },
    {
     "name": "stderr",
     "output_type": "stream",
     "text": [
      "Self-intersection at or near point 235.66666666666666 409.66666666666669\n",
      "Self-intersection at or near point 458.078125 465.6015625\n",
      "Self-intersection at or near point 396.01234567901236 159\n",
      "Self-intersection at or near point 415.86666666666667 0.46666666666666667\n",
      "Self-intersection at or near point 401 162.04444444444445\n",
      "Self-intersection at or near point 419.92592592592592 242.08641975308643\n",
      "Self-intersection at or near point 238.09807692307692 391.74230769230769\n",
      "Self-intersection at or near point 477.796875 320.5078125\n",
      "Self-intersection at or near point 407.2809364548495 21.979933110367892\n",
      "Self-intersection at or near point 290.17857142857144 75.035714285714292\n",
      "Self-intersection at or near point 401.20172910662825 191.77809798270894\n",
      "Self-intersection at or near point 227.08609271523179 138.95364238410596\n",
      "Self-intersection at or near point 400.93167701863354 239.17184265010351\n"
     ]
    },
    {
     "name": "stdout",
     "output_type": "stream",
     "text": [
      "500\n"
     ]
    },
    {
     "name": "stderr",
     "output_type": "stream",
     "text": [
      "Self-intersection at or near point 478.01123595505618 241.7865168539326\n",
      "Self-intersection at or near point 164.80000000000001 418.80000000000001\n",
      "Self-intersection at or near point 237.76373626373626 187.11263736263737\n",
      "Self-intersection at or near point 122.30985915492958 5.830985915492958\n",
      "Self-intersection at or near point 319.07692307692309 199.87912087912088\n",
      "Self-intersection at or near point 96 305.625\n",
      "Self-intersection at or near point 190.25 202.875\n",
      "Self-intersection at or near point 327.33333333333331 455.66666666666669\n",
      "Self-intersection at or near point 478.41754385964913 311.63157894736844\n",
      "Self-intersection at or near point 477.91150442477874 219.01769911504425\n",
      "Self-intersection at or near point 5.0598802395209574 202.94610778443115\n",
      "Self-intersection at or near point 441.87364620938627 245.44404332129963\n",
      "Self-intersection at or near point 369.95294117647057 70.882352941176464\n",
      "Self-intersection at or near point 128.17391304347825 127.65217391304348\n",
      "Self-intersection at or near point 81.606118546845124 294.44550669216062\n",
      "Self-intersection at or near point 431.17808219178085 316.75342465753425\n",
      "Self-intersection at or near point 320.33620689655174 33.71551724137931\n",
      "Self-intersection at or near point 319.04890829694324 243.07598253275108\n",
      "Ring Self-intersection at or near point 241 239\n",
      "Self-intersection at or near point 398.61764705882354 32.676470588235297\n"
     ]
    },
    {
     "name": "stdout",
     "output_type": "stream",
     "text": [
      "600\n"
     ]
    },
    {
     "name": "stderr",
     "output_type": "stream",
     "text": [
      "Self-intersection at or near point 416.23076923076923 21.846153846153847\n",
      "Self-intersection at or near point 349.10596026490066 82.092715231788077\n",
      "Self-intersection at or near point 380.29199999999997 112.122\n",
      "Self-intersection at or near point 304.70886075949369 319.05063291139243\n",
      "Ring Self-intersection at or near point 157 479\n",
      "Ring Self-intersection at or near point 479 274\n",
      "Self-intersection at or near point 449.11009174311926 110.37531276063386\n",
      "Self-intersection at or near point 43.032967032967036 206.8131868131868\n",
      "Self-intersection at or near point 305 0\n",
      "Self-intersection at or near point 343 75.421052631578945\n",
      "Self-intersection at or near point 357.94902548725639 401.61169415292352\n",
      "Self-intersection at or near point 235.5 401.75\n"
     ]
    },
    {
     "name": "stdout",
     "output_type": "stream",
     "text": [
      "700\n"
     ]
    },
    {
     "name": "stderr",
     "output_type": "stream",
     "text": [
      "Self-intersection at or near point 356.44628099173553 156.80991735537191\n",
      "Ring Self-intersection at or near point 0 457\n",
      "Self-intersection at or near point 134.18367346938774 175.10204081632654\n",
      "Self-intersection at or near point 37.669291338582674 138.38582677165354\n",
      "Self-intersection at or near point 360.21875 78.21875\n",
      "Self-intersection at or near point 332.52892561983469 73.330578512396698\n",
      "Self-intersection at or near point 250.06451612903226 396.29032258064518\n"
     ]
    },
    {
     "name": "stdout",
     "output_type": "stream",
     "text": [
      "800\n"
     ]
    },
    {
     "name": "stderr",
     "output_type": "stream",
     "text": [
      "Self-intersection at or near point 155.98245614035088 351.84210526315792\n",
      "Self-intersection at or near point 476.11111111111109 156.55555555555554\n",
      "Ring Self-intersection at or near point 76 44\n",
      "Ring Self-intersection at or near point 20 68\n",
      "Self-intersection at or near point 238.12701421800949 316.52322274881516\n",
      "Self-intersection at or near point 122 160\n",
      "Self-intersection at or near point 420.98058252427182 33.145631067961162\n",
      "Self-intersection at or near point 402.53846153846155 118.15384615384616\n",
      "Self-intersection at or near point 199.43312101910828 194.14012738853503\n",
      "Self-intersection at or near point 416 27.892857142857142\n"
     ]
    },
    {
     "name": "stdout",
     "output_type": "stream",
     "text": [
      "900\n"
     ]
    },
    {
     "name": "stderr",
     "output_type": "stream",
     "text": [
      "Self-intersection at or near point 276.00567644276254 478.86944181646169\n",
      "Self-intersection at or near point 398.75 108.5\n",
      "Self-intersection at or near point 235.09929078014184 397.33687943262413\n",
      "Self-intersection at or near point 477.37007874015745 421.59055118110234\n",
      "Self-intersection at or near point 158.55172413793105 115.86206896551724\n",
      "Self-intersection at or near point 374.01886792452831 6.4528301886792452\n",
      "Self-intersection at or near point 104.28571428571429 50.857142857142854\n",
      "Self-intersection at or near point 429 239\n",
      "Ring Self-intersection at or near point 320 142\n",
      "Self-intersection at or near point 432.84615384615387 395.85897435897436\n",
      "Self-intersection at or near point 87.239999999999995 75.879999999999995\n",
      "Self-intersection at or near point 404.06930693069307 155.96039603960395\n",
      "Self-intersection at or near point 399 316\n",
      "Self-intersection at or near point 473.04724409448818 384.89763779527561\n"
     ]
    },
    {
     "name": "stdout",
     "output_type": "stream",
     "text": [
      "1000\n"
     ]
    },
    {
     "name": "stderr",
     "output_type": "stream",
     "text": [
      "Self-intersection at or near point 406.31343283582089 9.4029850746268657\n",
      "Self-intersection at or near point 71.097560975609753 401.60975609756099\n",
      "Ring Self-intersection at or near point 320 320\n",
      "Self-intersection at or near point 165.37681159420291 104.80193236714976\n",
      "Self-intersection at or near point 101.89655172413794 214.27586206896552\n",
      "Self-intersection at or near point 476.41176470588238 158.47058823529412\n",
      "Self-intersection at or near point 36.704663212435236 5.7512953367875648\n",
      "Self-intersection at or near point 94.43795620437956 298.35766423357666\n",
      "Self-intersection at or near point 157 249.90909090909091\n",
      "Self-intersection at or near point 240.37974683544303 108.77215189873418\n",
      "Self-intersection at or near point 302.31034482758622 35.551724137931032\n",
      "Self-intersection at or near point 417.80000000000001 299.80000000000001\n",
      "Self-intersection at or near point 334.63999999999999 94.680000000000007\n",
      "Self-intersection at or near point 51.68292682926829 346.14634146341461\n",
      "Self-intersection at or near point 322.19999999999999 25.199999999999999\n"
     ]
    },
    {
     "name": "stdout",
     "output_type": "stream",
     "text": [
      "1100\n"
     ]
    },
    {
     "name": "stderr",
     "output_type": "stream",
     "text": [
      "Self-intersection at or near point 376 51.782608695652172\n",
      "Ring Self-intersection at or near point 71 99\n",
      "Self-intersection at or near point 24.160458452722064 236.55873925501433\n"
     ]
    },
    {
     "name": "stdout",
     "output_type": "stream",
     "text": [
      "1200\n"
     ]
    },
    {
     "name": "stderr",
     "output_type": "stream",
     "text": [
      "Self-intersection at or near point 135.16666666666666 183.91666666666666\n",
      "Self-intersection at or near point 244.52941176470588 320.218487394958\n",
      "Self-intersection at or near point 159.97794117647058 358.86029411764707\n",
      "Self-intersection at or near point 3.25 213.75\n",
      "Self-intersection at or near point 469 51.666666666666664\n",
      "Self-intersection at or near point 351.93638676844785 43.770992366412216\n",
      "Self-intersection at or near point 25.92258064516129 241.1032258064516\n"
     ]
    },
    {
     "name": "stdout",
     "output_type": "stream",
     "text": [
      "1300\n"
     ]
    },
    {
     "name": "stderr",
     "output_type": "stream",
     "text": [
      "Self-intersection at or near point 476.32432432432432 107.70270270270271\n",
      "Self-intersection at or near point 401.7507163323782 322.77077363896848\n",
      "Self-intersection at or near point 362.75147928994085 477.17159763313612\n",
      "Self-intersection at or near point 160.69642857142858 215.23214285714286\n",
      "Self-intersection at or near point 12.614457831325302 236.16867469879517\n",
      "Self-intersection at or near point 159.05244755244755 463.37412587412587\n",
      "Self-intersection at or near point 476.44736842105266 135.35526315789474\n",
      "Ring Self-intersection at or near point 397 350\n",
      "Self-intersection at or near point 255.79166666666666 304.5625\n",
      "Self-intersection at or near point 424.46153846153845 291.38461538461536\n"
     ]
    },
    {
     "name": "stdout",
     "output_type": "stream",
     "text": [
      "1400\n"
     ]
    },
    {
     "name": "stderr",
     "output_type": "stream",
     "text": [
      "Self-intersection at or near point 475.7227722772277 26.207920792079207\n",
      "Self-intersection at or near point 476.0919742237844 79.058582308142945\n",
      "Self-intersection at or near point 475.87356321839081 468.73563218390802\n",
      "Self-intersection at or near point 234.73786407766991 26.611650485436893\n",
      "Self-intersection at or near point 184.91891891891891 54.804054054054056\n",
      "Self-intersection at or near point 478.81609195402297 471.73563218390802\n",
      "Ring Self-intersection at or near point 441 240\n",
      "Self-intersection at or near point 319.36496350364962 197.69343065693431\n",
      "Self-intersection at or near point 395.74698795180723 234.42168674698794\n"
     ]
    },
    {
     "name": "stdout",
     "output_type": "stream",
     "text": [
      "1500\n"
     ]
    },
    {
     "name": "stderr",
     "output_type": "stream",
     "text": [
      "Self-intersection at or near point 277.83257918552039 156.38009049773757\n",
      "Self-intersection at or near point 258.92052980132451 161.18543046357615\n",
      "Self-intersection at or near point 420.31979695431471 58.928934010152282\n",
      "Self-intersection at or near point 152.8095238095238 116.08465608465609\n",
      "Self-intersection at or near point 468.33333333333331 463\n",
      "Self-intersection at or near point 75 345\n",
      "Self-intersection at or near point 220.0952380952381 123.42857142857143\n",
      "Self-intersection at or near point 479 97\n",
      "Self-intersection at or near point 398.68055555555554 206.95833333333334\n",
      "Self-intersection at or near point 331.47761194029852 443.56716417910445\n",
      "Self-intersection at or near point 2.4596273291925463 425.13043478260869\n"
     ]
    },
    {
     "name": "stdout",
     "output_type": "stream",
     "text": [
      "1600\n"
     ]
    },
    {
     "name": "stderr",
     "output_type": "stream",
     "text": [
      "Self-intersection at or near point 219.63225806451612 43.703225806451613\n",
      "Self-intersection at or near point 394.81176470588235 291.2823529411765\n",
      "Self-intersection at or near point 145.77500000000001 175.17500000000001\n",
      "Self-intersection at or near point 415.0935251798561 208.79856115107913\n",
      "Self-intersection at or near point 468.03793103448277 274.97241379310344\n",
      "Self-intersection at or near point 440.05405405405406 435.29729729729729\n",
      "Self-intersection at or near point 448.62886597938143 79.041237113402062\n",
      "Self-intersection at or near point 155.34328358208955 44.07462686567164\n",
      "Self-intersection at or near point 156.48407643312103 345.9299363057325\n"
     ]
    },
    {
     "name": "stdout",
     "output_type": "stream",
     "text": [
      "1700\n"
     ]
    },
    {
     "name": "stderr",
     "output_type": "stream",
     "text": [
      "Self-intersection at or near point 474.10344827586209 256.20689655172413\n",
      "Ring Self-intersection at or near point 160 62\n",
      "Self-intersection at or near point 315.31818181818181 206.68181818181819\n",
      "Self-intersection at or near point 327.52812499999999 147.75624999999999\n",
      "Self-intersection at or near point 126.46428571428571 57.428571428571431\n",
      "Self-intersection at or near point 433.33333333333331 478.33333333333331\n",
      "Self-intersection at or near point 438.62745098039215 388.96078431372547\n",
      "Self-intersection at or near point 334.4727272727273 83.506493506493513\n",
      "Self-intersection at or near point 471.83471074380168 238.80165289256198\n",
      "Self-intersection at or near point 474.89219330855019 216.20817843866172\n",
      "Self-intersection at or near point 398.60000000000002 266.60000000000002\n",
      "Self-intersection at or near point 312 160\n"
     ]
    },
    {
     "name": "stdout",
     "output_type": "stream",
     "text": [
      "1800\n"
     ]
    },
    {
     "name": "stderr",
     "output_type": "stream",
     "text": [
      "Self-intersection at or near point 402.72608695652173 228.31304347826088\n",
      "Self-intersection at or near point 477.6431718061674 197.63436123348018\n",
      "Self-intersection at or near point 399.91666666666669 418\n",
      "Self-intersection at or near point 453.072 110.28\n",
      "Self-intersection at or near point 366 233.63157894736841\n",
      "Self-intersection at or near point 399.94444444444446 207.13888888888889\n",
      "Self-intersection at or near point 78.104651162790702 168.26744186046511\n",
      "Self-intersection at or near point 291.29126213592235 343.73786407766988\n",
      "Self-intersection at or near point 1.0997375328083989 403.04199475065616\n",
      "Self-intersection at or near point 295 476\n",
      "Self-intersection at or near point 160.9375 352.375\n",
      "Self-intersection at or near point 460.07042253521126 31.08450704225352\n"
     ]
    },
    {
     "name": "stdout",
     "output_type": "stream",
     "text": [
      "1900\n"
     ]
    },
    {
     "name": "stderr",
     "output_type": "stream",
     "text": [
      "Self-intersection at or near point 220.48571428571429 307.60000000000002\n",
      "Self-intersection at or near point 84.442307692307693 402.73076923076923\n",
      "Self-intersection at or near point 328.34246575342468 241.20547945205479\n",
      "Self-intersection at or near point 372.9387755102041 143.59183673469389\n",
      "Self-intersection at or near point 317.00393700787401 238.92322834645668\n",
      "Self-intersection at or near point 190.09090909090909 157.45454545454547\n",
      "Self-intersection at or near point 316.9531914893617 57.748936170212765\n",
      "Self-intersection at or near point 348.28044692737433 394.03016759776534\n",
      "Self-intersection at or near point 228.69230769230768 321.61538461538464\n",
      "Self-intersection at or near point 353.64476021314385 401.82060390763763\n"
     ]
    },
    {
     "name": "stdout",
     "output_type": "stream",
     "text": [
      "2000\n"
     ]
    },
    {
     "name": "stderr",
     "output_type": "stream",
     "text": [
      "Self-intersection at or near point 314.82758620689657 426\n",
      "Self-intersection at or near point 299.46768060836501 81.224334600760457\n",
      "Self-intersection at or near point 355.83757961783442 258.75159235668792\n",
      "Ring Self-intersection at or near point 79 239\n",
      "Self-intersection at or near point 77 320\n",
      "Self-intersection at or near point 12.049792531120332 400.49792531120335\n",
      "Self-intersection at or near point 322.22222222222223 188.66666666666666\n",
      "Self-intersection at or near point 397 0.066666666666666652\n",
      "Self-intersection at or near point 371.42953020134229 241.34228187919464\n",
      "Self-intersection at or near point 352.39999999999998 475.60000000000002\n",
      "Self-intersection at or near point 411.96309963099628 318.66174661746618\n",
      "Self-intersection at or near point 236.68595041322314 262.11570247933884\n",
      "Self-intersection at or near point 229.51764705882354 412.74117647058824\n",
      "Self-intersection at or near point 399.79658605974396 219.04978662873398\n",
      "Self-intersection at or near point 397 305\n",
      "Self-intersection at or near point 236.95294117647057 287.97647058823532\n"
     ]
    },
    {
     "name": "stdout",
     "output_type": "stream",
     "text": [
      "2100\n"
     ]
    },
    {
     "name": "stderr",
     "output_type": "stream",
     "text": [
      "Self-intersection at or near point 435.15652173913043 351.80869565217392\n",
      "Self-intersection at or near point 418.21739130434781 77.826086956521735\n",
      "Self-intersection at or near point 395.41678939617083 221.09278350515464\n",
      "Self-intersection at or near point 347.13643178410797 402.18590704647676\n",
      "Self-intersection at or near point 415.06285714285713 0.50285714285714289\n",
      "Self-intersection at or near point 78.921933085501863 470.98884758364312\n",
      "Self-intersection at or near point 89.129870129870127 113.44155844155844\n",
      "Self-intersection at or near point 186.05847953216374 43.590643274853804\n",
      "Self-intersection at or near point 320.22857142857146 225.08571428571429\n",
      "Self-intersection at or near point 464.7511961722488 316.07655502392345\n"
     ]
    },
    {
     "name": "stdout",
     "output_type": "stream",
     "text": [
      "2200\n"
     ]
    },
    {
     "name": "stderr",
     "output_type": "stream",
     "text": [
      "Self-intersection at or near point 156.81818181818181 247\n",
      "Self-intersection at or near point 457.82978723404256 218.95744680851064\n",
      "Self-intersection at or near point 396.2474226804124 399.91752577319585\n",
      "Self-intersection at or near point 396 438.66666666666669\n",
      "Self-intersection at or near point 110.04761904761905 398\n",
      "Self-intersection at or near point 182.41463414634146 238.04878048780489\n",
      "Self-intersection at or near point 462.56573705179284 7.0358565737051793\n",
      "Ring Self-intersection at or near point 139 112\n",
      "Self-intersection at or near point 479 112\n",
      "Self-intersection at or near point 386.23943661971833 415.01408450704224\n",
      "Self-intersection at or near point 185.82456140350877 241.35087719298247\n"
     ]
    },
    {
     "name": "stdout",
     "output_type": "stream",
     "text": [
      "2300\n"
     ]
    },
    {
     "name": "stderr",
     "output_type": "stream",
     "text": [
      "Self-intersection at or near point 441.7829457364341 230.09302325581396\n",
      "Self-intersection at or near point 400.60068259385667 248.50853242320818\n",
      "Self-intersection at or near point 477.56923076923078 458.3692307692308\n",
      "Self-intersection at or near point 183.01599999999999 286.37599999999998\n",
      "Self-intersection at or near point 321.70754716981133 344.05660377358492\n",
      "Ring Self-intersection at or near point 398 438\n",
      "Self-intersection at or near point 237.58415841584159 27.214521452145213\n",
      "Self-intersection at or near point 478.36231884057969 398.94202898550725\n",
      "Self-intersection at or near point 392.44444444444446 221.44444444444446\n"
     ]
    },
    {
     "name": "stdout",
     "output_type": "stream",
     "text": [
      "2400\n"
     ]
    },
    {
     "name": "stderr",
     "output_type": "stream",
     "text": [
      "Self-intersection at or near point 90.352941176470594 236.58823529411765\n",
      "Self-intersection at or near point 321 53.5\n",
      "Ring Self-intersection at or near point 320 345\n",
      "Self-intersection at or near point 122.931640625 3.1171875\n",
      "Self-intersection at or near point 299.2093023255814 80.465116279069761\n",
      "Self-intersection at or near point 272.5 328.25\n",
      "Self-intersection at or near point 401.13291139240505 258.95569620253167\n",
      "Self-intersection at or near point 341.90909090909093 191.45454545454547\n",
      "Self-intersection at or near point 173 264.30000000000001\n",
      "Self-intersection at or near point 60.294642857142854 191.9375\n",
      "Self-intersection at or near point 398.11711711711712 392.2072072072072\n",
      "Self-intersection at or near point 356.66878980891721 67.929936305732483\n"
     ]
    },
    {
     "name": "stdout",
     "output_type": "stream",
     "text": [
      "2500\n"
     ]
    },
    {
     "name": "stderr",
     "output_type": "stream",
     "text": [
      "Self-intersection at or near point 235.98765432098764 419.50617283950618\n",
      "Self-intersection at or near point 78.764705882352942 352.41176470588238\n",
      "Self-intersection at or near point 408.38356164383561 175.46575342465752\n",
      "Self-intersection at or near point 108.68000000000001 452.36000000000001\n",
      "Self-intersection at or near point 403.34545454545457 17.072727272727274\n",
      "Ring Self-intersection at or near point 157 479\n",
      "Self-intersection at or near point 150.12280701754386 114.59649122807018\n",
      "Self-intersection at or near point 1.2565130260521042 302.58316633266531\n",
      "Self-intersection at or near point 310.55555555555554 27.148148148148149\n",
      "Self-intersection at or near point 283.68656716417911 191.86567164179104\n",
      "Self-intersection at or near point 371 356.14285714285717\n"
     ]
    },
    {
     "name": "stdout",
     "output_type": "stream",
     "text": [
      "2600\n"
     ]
    },
    {
     "name": "stderr",
     "output_type": "stream",
     "text": [
      "Self-intersection at or near point 348.9568345323741 399.35251798561148\n",
      "Self-intersection at or near point 416.29729729729729 478.18018018018017\n",
      "Self-intersection at or near point 392.15909090909093 80.38636363636364\n",
      "Self-intersection at or near point 283.54736842105262 12.631578947368421\n",
      "Self-intersection at or near point 258.78947368421052 179.57894736842104\n",
      "Self-intersection at or near point 377.93288590604027 82.147651006711413\n",
      "Self-intersection at or near point 466.60693641618496 286.03468208092488\n",
      "Self-intersection at or near point 278.28169014084506 212.61032863849766\n"
     ]
    },
    {
     "name": "stdout",
     "output_type": "stream",
     "text": [
      "2700\n"
     ]
    },
    {
     "name": "stderr",
     "output_type": "stream",
     "text": [
      "Self-intersection at or near point 446.89285714285717 354.07142857142856\n",
      "Self-intersection at or near point 10.714285714285715 251.14285714285714\n",
      "Self-intersection at or near point 320.48000000000002 100.88\n",
      "Self-intersection at or near point 246 298.54545454545456\n",
      "Ring Self-intersection at or near point 330 0\n",
      "Self-intersection at or near point 321.59541984732823 240.61832061068702\n",
      "Self-intersection at or near point 317 477.44444444444446\n",
      "Self-intersection at or near point 478.46478873239437 280.18309859154931\n",
      "Self-intersection at or near point 302.69565217391306 318.38339920948619\n"
     ]
    },
    {
     "name": "stdout",
     "output_type": "stream",
     "text": [
      "2800\n"
     ]
    },
    {
     "name": "stderr",
     "output_type": "stream",
     "text": [
      "Ring Self-intersection at or near point 384 67\n",
      "Self-intersection at or near point 27 359\n",
      "Self-intersection at or near point 342.27450980392155 238.0392156862745\n",
      "Ring Self-intersection at or near point 158 469\n",
      "Self-intersection at or near point 313.22727272727275 265.19230769230768\n",
      "Self-intersection at or near point 256.27705627705626 448.10389610389609\n",
      "Self-intersection at or near point 460.35849056603774 157.96226415094338\n",
      "Self-intersection at or near point 40 121\n",
      "Self-intersection at or near point 232.47511312217193 1.3393665158371042\n"
     ]
    },
    {
     "name": "stdout",
     "output_type": "stream",
     "text": [
      "2900\n"
     ]
    },
    {
     "name": "stderr",
     "output_type": "stream",
     "text": [
      "Self-intersection at or near point 460.57142857142856 329.42857142857144\n",
      "Self-intersection at or near point 300.57046979865771 355.69798657718121\n",
      "Self-intersection at or near point 183.04545454545453 460.27272727272725\n",
      "Self-intersection at or near point 455.31428571428569 139.48571428571429\n",
      "Self-intersection at or near point 161.42996742671011 79.788273615635177\n",
      "Self-intersection at or near point 239 242\n",
      "Self-intersection at or near point 429.14741035856576 242.05179282868525\n",
      "Self-intersection at or near point 318.08571428571429 398.05714285714288\n",
      "Self-intersection at or near point 475.05882352941177 19.431372549019606\n"
     ]
    },
    {
     "name": "stdout",
     "output_type": "stream",
     "text": [
      "3000\n"
     ]
    },
    {
     "name": "stderr",
     "output_type": "stream",
     "text": [
      "Self-intersection at or near point 317.00284090909093 398.94744318181819\n",
      "Self-intersection at or near point 382.24137931034483 447.93103448275861\n",
      "Self-intersection at or near point 205.79710144927537 194.75362318840581\n",
      "Self-intersection at or near point 396.75 290.5\n",
      "Self-intersection at or near point 463.21937321937321 32.940170940170937\n",
      "Ring Self-intersection at or near point 356 32\n",
      "Self-intersection at or near point 475 237.63636363636363\n",
      "Self-intersection at or near point 475.81967213114751 118.98360655737704\n",
      "Ring Self-intersection at or near point 159 64\n",
      "Self-intersection at or near point 261.24539877300612 174.14110429447854\n",
      "Self-intersection at or near point 94.21052631578948 82.15789473684211\n",
      "Self-intersection at or near point 317.97029702970298 303.03960396039605\n",
      "Ring Self-intersection at or near point 152 468\n"
     ]
    },
    {
     "name": "stdout",
     "output_type": "stream",
     "text": [
      "3100\n"
     ]
    },
    {
     "name": "stderr",
     "output_type": "stream",
     "text": [
      "Self-intersection at or near point 314.29559748427675 233.28301886792454\n",
      "Self-intersection at or near point 395.12292358803984 338.54485049833886\n",
      "Self-intersection at or near point 401.11538461538464 285.38461538461536\n",
      "Self-intersection at or near point 403 169.80000000000001\n",
      "Self-intersection at or near point 423.95824634655531 414.13569937369522\n",
      "Self-intersection at or near point 478.03763900769889 402.93584260051324\n",
      "Self-intersection at or near point 330.72222222222223 160\n"
     ]
    },
    {
     "name": "stdout",
     "output_type": "stream",
     "text": [
      "3200\n"
     ]
    },
    {
     "name": "stderr",
     "output_type": "stream",
     "text": [
      "Self-intersection at or near point 125.66666666666667 141\n",
      "Self-intersection at or near point 367.7560975609756 466.70731707317071\n",
      "Self-intersection at or near point 352.06315789473683 317.75526315789472\n",
      "Self-intersection at or near point 158.75 82.5\n",
      "Self-intersection at or near point 390.42857142857144 472.71428571428572\n"
     ]
    },
    {
     "name": "stdout",
     "output_type": "stream",
     "text": [
      "3300\n"
     ]
    },
    {
     "name": "stderr",
     "output_type": "stream",
     "text": [
      "Self-intersection at or near point 402.35820895522386 477.1194029850746\n",
      "Ring Self-intersection at or near point 226 249\n",
      "Ring Self-intersection at or near point 317 159\n",
      "Self-intersection at or near point 320.14606741573033 445.43820224719099\n",
      "Self-intersection at or near point 232.71090047393366 324.09478672985784\n",
      "Self-intersection at or near point 135.03846153846155 82.92307692307692\n",
      "Ring Self-intersection at or near point 186 131\n",
      "Self-intersection at or near point 411.87878787878788 4.7272727272727275\n",
      "Self-intersection at or near point 66.731034482758616 114.28275862068965\n",
      "Self-intersection at or near point 465.95652173913044 20.608695652173914\n"
     ]
    },
    {
     "name": "stdout",
     "output_type": "stream",
     "text": [
      "3400\n"
     ]
    },
    {
     "name": "stderr",
     "output_type": "stream",
     "text": [
      "Self-intersection at or near point 91 449.47058823529414\n",
      "Ring Self-intersection at or near point 455 349\n",
      "Self-intersection at or near point 240.85987261146497 138.51592356687897\n",
      "Self-intersection at or near point 334.12857142857143 112.22857142857143\n",
      "Self-intersection at or near point 221.19565217391303 430.93478260869563\n",
      "Self-intersection at or near point 442.70758122743683 321.07220216606498\n",
      "Self-intersection at or near point 12.018292682926829 145.8719512195122\n",
      "Self-intersection at or near point 185 217\n",
      "Ring Self-intersection at or near point 0 255\n",
      "Self-intersection at or near point 264.01351351351349 4.0675675675675675\n",
      "Self-intersection at or near point 414 53\n",
      "Self-intersection at or near point 173.38938053097345 440.75221238938053\n"
     ]
    },
    {
     "name": "stdout",
     "output_type": "stream",
     "text": [
      "3500\n"
     ]
    },
    {
     "name": "stderr",
     "output_type": "stream",
     "text": [
      "Self-intersection at or near point 240.11363636363637 97.772727272727266\n",
      "Self-intersection at or near point 400.78947368421052 274.78947368421052\n",
      "Self-intersection at or near point 474.64516129032256 382.51612903225805\n",
      "Self-intersection at or near point 245.5234375 130.3359375\n",
      "Self-intersection at or near point 316.79310344827587 160.12931034482759\n",
      "Self-intersection at or near point 155.048 478.26799999999997\n",
      "Self-intersection at or near point 467.85714285714283 211.78571428571428\n",
      "Self-intersection at or near point 94.806451612903231 397.45161290322579\n"
     ]
    },
    {
     "name": "stdout",
     "output_type": "stream",
     "text": [
      "3600\n"
     ]
    },
    {
     "name": "stderr",
     "output_type": "stream",
     "text": [
      "Self-intersection at or near point 401.72727272727275 429.45454545454544\n",
      "Self-intersection at or near point 273.17391304347825 164.69565217391303\n",
      "Self-intersection at or near point 366.13793103448273 455.95172413793102\n",
      "Self-intersection at or near point 465.45454545454544 30.030303030303031\n",
      "Self-intersection at or near point 478.57110091743118 245.00229357798165\n",
      "Self-intersection at or near point 396.47107438016531 259.43801652892563\n",
      "Self-intersection at or near point 299.80303030303031 274.06060606060606\n"
     ]
    },
    {
     "name": "stdout",
     "output_type": "stream",
     "text": [
      "3700\n"
     ]
    },
    {
     "name": "stderr",
     "output_type": "stream",
     "text": [
      "Self-intersection at or near point 125.27692307692308 405.81538461538463\n",
      "Self-intersection at or near point 238.05555555555554 318\n",
      "Self-intersection at or near point 236.74285714285713 365.32857142857142\n",
      "Self-intersection at or near point 399.23255813953489 468.25581395348837\n",
      "Self-intersection at or near point 283.94285714285712 467.24897959183676\n",
      "Self-intersection at or near point 402.6709265175719 399.01597444089458\n",
      "Self-intersection at or near point 318.00980392156862 115.73529411764706\n",
      "Self-intersection at or near point 475 151.25\n",
      "Self-intersection at or near point 439 386\n",
      "Self-intersection at or near point 17.16 125.84\n",
      "Self-intersection at or near point 326.57142857142856 80\n",
      "Self-intersection at or near point 471.74534161490681 100.57763975155279\n",
      "Self-intersection at or near point 395 404\n",
      "Self-intersection at or near point 424.41275797373356 76.707317073170728\n",
      "Self-intersection at or near point 399 282\n"
     ]
    },
    {
     "name": "stdout",
     "output_type": "stream",
     "text": [
      "3800\n"
     ]
    },
    {
     "name": "stderr",
     "output_type": "stream",
     "text": [
      "Self-intersection at or near point 476.8360655737705 320\n",
      "Self-intersection at or near point 317.48669201520914 372.85931558935363\n",
      "Self-intersection at or near point 285.55497382198951 316.5916230366492\n",
      "Self-intersection at or near point 464.74829931972789 403.26530612244898\n",
      "Self-intersection at or near point 398.73913043478262 228.69565217391303\n",
      "Self-intersection at or near point 377.33333333333331 15.5\n",
      "Self-intersection at or near point 423.46511627906978 157.53488372093022\n",
      "Self-intersection at or near point 402.28978224455614 183.24120603015075\n",
      "Self-intersection at or near point 361.94999999999999 175\n",
      "Self-intersection at or near point 460.7831325301205 277.20481927710841\n",
      "Ring Self-intersection at or near point 175 160\n",
      "Self-intersection at or near point 402.76335877862596 27.755725190839694\n",
      "Self-intersection at or near point 476.59455370650528 465.72163388804842\n",
      "Ring Self-intersection at or near point 454 320\n"
     ]
    },
    {
     "name": "stdout",
     "output_type": "stream",
     "text": [
      "3900\n"
     ]
    },
    {
     "name": "stderr",
     "output_type": "stream",
     "text": [
      "Self-intersection at or near point 454.62068965517244 74.310344827586206\n",
      "Self-intersection at or near point 478.27884615384613 181.75\n",
      "Self-intersection at or near point 458.27956989247309 446.92473118279571\n",
      "Self-intersection at or near point 382.47826086956519 89.826086956521735\n",
      "Self-intersection at or near point 338.40845070422534 103.2394366197183\n",
      "Self-intersection at or near point 411.40969162995594 313.32599118942733\n",
      "Self-intersection at or near point 460.89041095890411 421.8082191780822\n",
      "Self-intersection at or near point 148 400\n",
      "Self-intersection at or near point 133.00995024875621 105.09950248756219\n",
      "Self-intersection at or near point 82.900090009000905 391.70747074707469\n",
      "Ring Self-intersection at or near point 479 29\n",
      "Self-intersection at or near point 429.5 68\n",
      "Self-intersection at or near point 447.75 188.875\n",
      "Self-intersection at or near point 318.06145251396646 78.07821229050279\n"
     ]
    },
    {
     "name": "stdout",
     "output_type": "stream",
     "text": [
      "4000\n"
     ]
    },
    {
     "name": "stderr",
     "output_type": "stream",
     "text": [
      "Self-intersection at or near point 454.31662269129288 82.269129287598943\n",
      "Ring Self-intersection at or near point 203 177\n",
      "Ring Self-intersection at or near point 159 303\n",
      "Self-intersection at or near point 285.14606741573033 30.561797752808989\n",
      "Self-intersection at or near point 162.98876404494382 161.20224719101122\n"
     ]
    },
    {
     "name": "stdout",
     "output_type": "stream",
     "text": [
      "4100\n"
     ]
    },
    {
     "name": "stderr",
     "output_type": "stream",
     "text": [
      "Self-intersection at or near point 458.40340909090907 230.32954545454547\n",
      "Self-intersection at or near point 476.91176470588238 421.22058823529414\n",
      "Ring Self-intersection at or near point 422 239\n",
      "Self-intersection at or near point 367.34193548387094 80.638709677419357\n",
      "Self-intersection at or near point 473.59375 402.484375\n",
      "Self-intersection at or near point 73.220588235294116 240.36764705882354\n",
      "Self-intersection at or near point 203.19999999999999 411.80000000000001\n",
      "Self-intersection at or near point 30.296296296296298 371.40740740740739\n",
      "Self-intersection at or near point 303.80597014925371 9.5522388059701484\n",
      "Self-intersection at or near point 161.19512195121951 400.78048780487802\n",
      "Self-intersection at or near point 441 56\n",
      "Self-intersection at or near point 117.68888888888888 3.8133333333333335\n"
     ]
    },
    {
     "name": "stdout",
     "output_type": "stream",
     "text": [
      "4200\n"
     ]
    },
    {
     "name": "stderr",
     "output_type": "stream",
     "text": [
      "Self-intersection at or near point 278.10091743119267 402.54128440366975\n",
      "Self-intersection at or near point 2.0356234096692112 190.46564885496184\n",
      "Self-intersection at or near point 338.71248246844317 323.02945301542775\n",
      "Self-intersection at or near point 21.646551724137932 77.612068965517238\n",
      "Self-intersection at or near point 302.2162162162162 165.91891891891891\n",
      "Self-intersection at or near point 455.42857142857144 223\n",
      "Self-intersection at or near point 315.33333333333331 76.333333333333329\n",
      "Self-intersection at or near point 254.45283018867926 100.33962264150944\n",
      "Self-intersection at or near point 418.04268292682929 2.774390243902439\n",
      "Self-intersection at or near point 246.8102189781022 430.68613138686129\n"
     ]
    },
    {
     "name": "stdout",
     "output_type": "stream",
     "text": [
      "    ImageId  ClassType                                    MultipolygonWKT\n",
      "0  6120_2_4          1                           GEOMETRYCOLLECTION EMPTY\n",
      "1  6120_2_4          2                           GEOMETRYCOLLECTION EMPTY\n",
      "2  6120_2_4          3                           GEOMETRYCOLLECTION EMPTY\n",
      "3  6120_2_4          4                           GEOMETRYCOLLECTION EMPTY\n",
      "4  6120_2_4          5  MULTIPOLYGON (((0.0046332954588021 -0.00462812...\n"
     ]
    },
    {
     "name": "stderr",
     "output_type": "stream",
     "text": [
      "Self-intersection at or near point 182.28571428571428 457.42857142857144\n"
     ]
    },
    {
     "data": {
      "image/png": "[encoded data removed]",
      "text/plain": [
       "<matplotlib.figure.Figure at 0x7f13c693e350>"
      ]
     },
     "metadata": {},
     "output_type": "display_data"
    }
   ],
   "source": [
    "if __name__ == '__main__':\n",
    "    stick_all_train()\n",
    "    make_val()\n",
    "    model = train_net()\n",
    "    score, trs = calc_jacc(model)\n",
    "    predict_test(model, trs)\n",
    "    make_submit()\n",
    "\n",
    "    # bonus\n",
    "    check_predict()"
   ]
  },
  {
   "cell_type": "code",
   "execution_count": null,
   "metadata": {
    "collapsed": true
   },
   "outputs": [],
   "source": []
  }
 ],
 "metadata": {
  "kernelspec": {
   "display_name": "Python 2",
   "language": "python",
   "name": "python2"
  },
  "language_info": {
   "codemirror_mode": {
    "name": "ipython",
    "version": 2
   },
   "file_extension": ".py",
   "mimetype": "text/x-python",
   "name": "python",
   "nbconvert_exporter": "python",
   "pygments_lexer": "ipython2",
   "version": "2.7.12"
  }
 },
 "nbformat": 4,
 "nbformat_minor": 2
}
