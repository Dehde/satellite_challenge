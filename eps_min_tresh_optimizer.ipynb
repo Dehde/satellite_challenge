{
 "cells": [
  {
   "cell_type": "code",
   "execution_count": 8,
   "metadata": {
    "collapsed": false
   },
   "outputs": [
    {
     "name": "stdout",
     "output_type": "stream",
     "text": [
      "all done\n"
     ]
    }
   ],
   "source": [
    "%matplotlib inline\n",
    "cur_dir = '/home/rob/Udacity/capstone/data'\n",
    "import os\n",
    "from collections import defaultdict\n",
    "import cv2\n",
    "import csv\n",
    "import numpy as np\n",
    "from shapely.geometry import MultiPolygon, Polygon\n",
    "import shapely.wkt\n",
    "import shapely.affinity\n",
    "import sys\n",
    "csv.field_size_limit(sys.maxsize)\n",
    "\n",
    "def mask_to_polygons(mask, epsilon=10., min_area=10.):\n",
    "    # first, find contours with cv2: it's much faster than shapely\n",
    "    image, contours, hierarchy = cv2.findContours(\n",
    "        ((mask == 1) * 255).astype(np.uint8),\n",
    "        cv2.RETR_CCOMP, cv2.CHAIN_APPROX_TC89_KCOS)\n",
    "    # create approximate contours to have reasonable submission size\n",
    "    approx_contours = [cv2.approxPolyDP(cnt, epsilon, True)\n",
    "                       for cnt in contours]\n",
    "    if not contours:\n",
    "        return MultiPolygon()\n",
    "    # now messy stuff to associate parent and child contours\n",
    "    cnt_children = defaultdict(list)\n",
    "    child_contours = set()\n",
    "    assert hierarchy.shape[0] == 1\n",
    "    # http://docs.opencv.org/3.1.0/d9/d8b/tutorial_py_contours_hierarchy.html\n",
    "    for idx, (_, _, _, parent_idx) in enumerate(hierarchy[0]):\n",
    "        if parent_idx != -1:\n",
    "            child_contours.add(idx)\n",
    "            cnt_children[parent_idx].append(approx_contours[idx])\n",
    "    # create actual polygons filtering by area (removes artifacts)\n",
    "    all_polygons = []\n",
    "    for idx, cnt in enumerate(approx_contours):\n",
    "        if idx not in child_contours and cv2.contourArea(cnt) >= min_area:\n",
    "            assert cnt.shape[1] == 1\n",
    "            poly = Polygon(\n",
    "                shell=cnt[:, 0, :],\n",
    "                holes=[c[:, 0, :] for c in cnt_children.get(idx, [])\n",
    "                       if cv2.contourArea(c) >= min_area])\n",
    "            all_polygons.append(poly)\n",
    "    # approximating polygons might have created invalid ones, fix them\n",
    "    all_polygons = MultiPolygon(all_polygons)\n",
    "    if not all_polygons.is_valid:\n",
    "        try:\n",
    "            all_polygons = all_polygons.buffer(0)\n",
    "        except ValueError:\n",
    "            print \"standard buffer not possible. Use -1\"\n",
    "            try:\n",
    "                all_polygons = all_polygons.buffer(0)\n",
    "            except ValueError:\n",
    "                print \"-1 buffer not possible. Use -2\"\n",
    "                all_polygons = all_polygons.buffer(-2)\n",
    "        # Sometimes buffer() converts a simple Multipolygon to just a Polygon,\n",
    "        # need to keep it a Multi throughout\n",
    "        if all_polygons.type == 'Polygon':\n",
    "            all_polygons = MultiPolygon([all_polygons])\n",
    "    return all_polygons\n",
    "\n",
    "def get_scalers(im_size):\n",
    "    h, w = im_size # they are flipped so that mask_for_polygons works correctly\n",
    "    h, w = float(h), float(w)\n",
    "    w_ = w * (w / (w + 1))\n",
    "    h_ = h * (h / (h + 1))\n",
    "    return w_ / x_max, h_ / y_min\n",
    "\n",
    "    \n",
    "print \"all done\""
   ]
  },
  {
   "cell_type": "code",
   "execution_count": 45,
   "metadata": {
    "collapsed": false,
    "scrolled": true
   },
   "outputs": [
    {
     "name": "stdout",
     "output_type": "stream",
     "text": [
      "started\n",
      "1\n",
      "tresh: 0.15\n",
      "eps: 0.5\n",
      "minarea: 1.0\n"
     ]
    },
    {
     "name": "stderr",
     "output_type": "stream",
     "text": [
      "Self-intersection at or near point 217.66666666666666 562.66666666666663\n",
      "Self-intersection at or near point 499.44444444444446 177.66666666666666\n",
      "Self-intersection at or near point 786 66\n",
      "Self-intersection at or near point 279.75 186.25\n",
      "Self-intersection at or near point 459.07692307692309 371.76923076923077\n",
      "Self-intersection at or near point 355 0\n",
      "Self-intersection at or near point 100.47368421052632 679.63157894736844\n",
      "Self-intersection at or near point 185 546.5\n",
      "Self-intersection at or near point 293 190\n",
      "Self-intersection at or near point 217.66666666666666 562.66666666666663\n"
     ]
    },
    {
     "name": "stdout",
     "output_type": "stream",
     "text": [
      "tresh: 0.15 eps: 0.5 minarea: 1.0\n",
      "('Final jaccard', 0.07757890627114977)\n",
      "minarea: 3.0\n"
     ]
    },
    {
     "name": "stderr",
     "output_type": "stream",
     "text": [
      "Self-intersection at or near point 499.44444444444446 177.66666666666666\n",
      "Self-intersection at or near point 786 66\n",
      "Self-intersection at or near point 279.75 186.25\n",
      "Self-intersection at or near point 459.07692307692309 371.76923076923077\n",
      "Ring Self-intersection at or near point 485 60\n",
      "Self-intersection at or near point 100.47368421052632 679.63157894736844\n",
      "Self-intersection at or near point 185 546.5\n",
      "Self-intersection at or near point 293 190\n",
      "Self-intersection at or near point 217.66666666666666 562.66666666666663\n"
     ]
    },
    {
     "name": "stdout",
     "output_type": "stream",
     "text": [
      "tresh: 0.15 eps: 0.5 minarea: 3.0\n",
      "('Final jaccard', 0.07757287572452828)\n",
      "minarea: 10.0\n"
     ]
    },
    {
     "name": "stderr",
     "output_type": "stream",
     "text": [
      "Self-intersection at or near point 499.44444444444446 177.66666666666666\n",
      "Self-intersection at or near point 786 66\n",
      "Self-intersection at or near point 234.33333333333334 635.66666666666663\n",
      "Self-intersection at or near point 459.07692307692309 371.76923076923077\n",
      "Ring Self-intersection at or near point 485 60\n",
      "Self-intersection at or near point 100.47368421052632 679.63157894736844\n",
      "Self-intersection at or near point 185 546.5\n",
      "Self-intersection at or near point 293 190\n",
      "Self-intersection at or near point 217.66666666666666 562.66666666666663\n"
     ]
    },
    {
     "name": "stdout",
     "output_type": "stream",
     "text": [
      "tresh: 0.15 eps: 0.5 minarea: 10.0\n",
      "('Final jaccard', 0.07741353835163327)\n",
      "minarea: 15.0\n"
     ]
    },
    {
     "name": "stderr",
     "output_type": "stream",
     "text": [
      "Self-intersection at or near point 499.44444444444446 177.66666666666666\n",
      "Self-intersection at or near point 786 66\n",
      "Self-intersection at or near point 234.33333333333334 635.66666666666663\n",
      "Self-intersection at or near point 459.07692307692309 371.76923076923077\n",
      "Ring Self-intersection at or near point 485 60\n",
      "Self-intersection at or near point 100.47368421052632 679.63157894736844\n",
      "Self-intersection at or near point 185 546.5\n",
      "Self-intersection at or near point 293 190\n",
      "Self-intersection at or near point 611.05882352941171 731.64705882352939\n"
     ]
    },
    {
     "name": "stdout",
     "output_type": "stream",
     "text": [
      "tresh: 0.15 eps: 0.5 minarea: 15.0\n",
      "('Final jaccard', 0.07719706482746135)\n",
      "eps: 1.0\n",
      "minarea: 1.0\n"
     ]
    },
    {
     "name": "stderr",
     "output_type": "stream",
     "text": [
      "Self-intersection at or near point 499.44444444444446 177.66666666666666\n",
      "Ring Self-intersection at or near point 690 106\n",
      "Self-intersection at or near point 234.33333333333334 635.66666666666663\n",
      "Self-intersection at or near point 459.07692307692309 371.76923076923077\n",
      "Self-intersection at or near point 155 831.84615384615381\n",
      "Self-intersection at or near point 185 546.5\n",
      "Self-intersection at or near point 611.05882352941171 731.64705882352939\n"
     ]
    },
    {
     "name": "stdout",
     "output_type": "stream",
     "text": [
      "tresh: 0.15 eps: 1.0 minarea: 1.0\n",
      "('Final jaccard', 0.07746920504044424)\n",
      "minarea: 3.0\n"
     ]
    },
    {
     "name": "stderr",
     "output_type": "stream",
     "text": [
      "Self-intersection at or near point 499.44444444444446 177.66666666666666\n",
      "Ring Self-intersection at or near point 690 106\n",
      "Self-intersection at or near point 234.33333333333334 635.66666666666663\n",
      "Self-intersection at or near point 459.07692307692309 371.76923076923077\n",
      "Self-intersection at or near point 155 831.84615384615381\n",
      "Self-intersection at or near point 185 546.5\n",
      "Self-intersection at or near point 611.05882352941171 731.64705882352939\n"
     ]
    },
    {
     "name": "stdout",
     "output_type": "stream",
     "text": [
      "tresh: 0.15 eps: 1.0 minarea: 3.0\n",
      "('Final jaccard', 0.0774603609165449)\n",
      "minarea: 10.0\n"
     ]
    },
    {
     "name": "stderr",
     "output_type": "stream",
     "text": [
      "Self-intersection at or near point 499.44444444444446 177.66666666666666\n",
      "Ring Self-intersection at or near point 690 106\n",
      "Self-intersection at or near point 234.33333333333334 635.66666666666663\n",
      "Self-intersection at or near point 459.07692307692309 371.76923076923077\n",
      "Self-intersection at or near point 100.32432432432432 679.43243243243239\n",
      "Self-intersection at or near point 185 546.5\n",
      "Self-intersection at or near point 611.05882352941171 731.64705882352939\n"
     ]
    },
    {
     "name": "stdout",
     "output_type": "stream",
     "text": [
      "tresh: 0.15 eps: 1.0 minarea: 10.0\n",
      "('Final jaccard', 0.0772975449850152)\n",
      "minarea: 15.0\n"
     ]
    },
    {
     "name": "stderr",
     "output_type": "stream",
     "text": [
      "Self-intersection at or near point 499.44444444444446 177.66666666666666\n",
      "Ring Self-intersection at or near point 690 106\n",
      "Self-intersection at or near point 234.33333333333334 635.66666666666663\n",
      "Self-intersection at or near point 459.07692307692309 371.76923076923077\n",
      "Self-intersection at or near point 100.32432432432432 679.43243243243239\n",
      "Self-intersection at or near point 185 546.5\n",
      "Self-intersection at or near point 611.60839160839157 729.72027972027968\n"
     ]
    },
    {
     "name": "stdout",
     "output_type": "stream",
     "text": [
      "tresh: 0.15 eps: 1.0 minarea: 15.0\n",
      "('Final jaccard', 0.07709162966533094)\n",
      "eps: 3.0\n",
      "minarea: 1.0\n"
     ]
    },
    {
     "name": "stderr",
     "output_type": "stream",
     "text": [
      "Self-intersection at or near point 499.23529411764707 177.70588235294119\n",
      "Ring Self-intersection at or near point 690 106\n",
      "Self-intersection at or near point 459.70588235294116 371.11764705882354\n",
      "Self-intersection at or near point 11.585365853658537 743.48780487804879\n",
      "Self-intersection at or near point 611.60839160839157 729.72027972027968\n"
     ]
    },
    {
     "name": "stdout",
     "output_type": "stream",
     "text": [
      "tresh: 0.15 eps: 3.0 minarea: 1.0\n",
      "('Final jaccard', 0.07603358442679845)\n",
      "minarea: 3.0\n"
     ]
    },
    {
     "name": "stderr",
     "output_type": "stream",
     "text": [
      "Self-intersection at or near point 499.23529411764707 177.70588235294119\n",
      "Ring Self-intersection at or near point 690 106\n",
      "Self-intersection at or near point 459.70588235294116 371.11764705882354\n",
      "Self-intersection at or near point 11.585365853658537 743.48780487804879\n",
      "Self-intersection at or near point 611.60839160839157 729.72027972027968\n"
     ]
    },
    {
     "name": "stdout",
     "output_type": "stream",
     "text": [
      "tresh: 0.15 eps: 3.0 minarea: 3.0\n",
      "('Final jaccard', 0.07603358442679845)\n",
      "minarea: 10.0\n"
     ]
    },
    {
     "name": "stderr",
     "output_type": "stream",
     "text": [
      "Self-intersection at or near point 499.23529411764707 177.70588235294119\n",
      "Ring Self-intersection at or near point 690 106\n",
      "Self-intersection at or near point 459.70588235294116 371.11764705882354\n",
      "Self-intersection at or near point 11.585365853658537 743.48780487804879\n",
      "Self-intersection at or near point 611.60839160839157 729.72027972027968\n"
     ]
    },
    {
     "name": "stdout",
     "output_type": "stream",
     "text": [
      "tresh: 0.15 eps: 3.0 minarea: 10.0\n",
      "('Final jaccard', 0.07600471065228297)\n",
      "minarea: 15.0\n"
     ]
    },
    {
     "name": "stderr",
     "output_type": "stream",
     "text": [
      "Self-intersection at or near point 499.23529411764707 177.70588235294119\n",
      "Ring Self-intersection at or near point 690 106\n",
      "Self-intersection at or near point 459.70588235294116 371.11764705882354\n",
      "Self-intersection at or near point 11.585365853658537 743.48780487804879\n",
      "Self-intersection at or near point 217.25 561\n"
     ]
    },
    {
     "name": "stdout",
     "output_type": "stream",
     "text": [
      "tresh: 0.15 eps: 3.0 minarea: 15.0\n",
      "('Final jaccard', 0.07593621958161417)\n",
      "tresh: 0.2\n",
      "eps: 0.5\n",
      "minarea: 1.0\n"
     ]
    },
    {
     "name": "stderr",
     "output_type": "stream",
     "text": [
      "Self-intersection at or near point 409.15789473684208 15.052631578947368\n",
      "Ring Self-intersection at or near point 816 414\n",
      "Self-intersection at or near point 279.81818181818181 185.72727272727272\n",
      "Self-intersection at or near point 459.07692307692309 371.76923076923077\n",
      "Self-intersection at or near point 355 0\n",
      "Self-intersection at or near point 100.36585365853658 679.48780487804879\n",
      "Self-intersection at or near point 660.5 354.5\n",
      "Self-intersection at or near point 292 195\n",
      "Self-intersection at or near point 217.25 561\n"
     ]
    },
    {
     "name": "stdout",
     "output_type": "stream",
     "text": [
      "tresh: 0.2 eps: 0.5 minarea: 1.0\n",
      "('Final jaccard', 0.0775692910066532)\n",
      "minarea: 3.0\n"
     ]
    },
    {
     "name": "stderr",
     "output_type": "stream",
     "text": [
      "Self-intersection at or near point 409.33333333333331 14.833333333333334\n",
      "Ring Self-intersection at or near point 816 414\n",
      "Self-intersection at or near point 279.81818181818181 185.72727272727272\n",
      "Self-intersection at or near point 459.07692307692309 371.76923076923077\n",
      "Self-intersection at or near point 100.36585365853658 679.48780487804879\n",
      "Self-intersection at or near point 660.5 354.5\n",
      "Self-intersection at or near point 292 195\n",
      "Self-intersection at or near point 217.25 561\n"
     ]
    },
    {
     "name": "stdout",
     "output_type": "stream",
     "text": [
      "tresh: 0.2 eps: 0.5 minarea: 3.0\n",
      "('Final jaccard', 0.07756130852305086)\n",
      "minarea: 10.0\n"
     ]
    },
    {
     "name": "stderr",
     "output_type": "stream",
     "text": [
      "Self-intersection at or near point 409.15789473684208 15.052631578947368\n",
      "Ring Self-intersection at or near point 816 414\n",
      "Self-intersection at or near point 234.33333333333334 635.66666666666663\n",
      "Self-intersection at or near point 459.07692307692309 371.76923076923077\n",
      "Self-intersection at or near point 100.36585365853658 679.48780487804879\n",
      "Self-intersection at or near point 185 546.5\n",
      "Self-intersection at or near point 292 195\n",
      "Self-intersection at or near point 217.66666666666666 562.66666666666663\n"
     ]
    },
    {
     "name": "stdout",
     "output_type": "stream",
     "text": [
      "tresh: 0.2 eps: 0.5 minarea: 10.0\n",
      "('Final jaccard', 0.07739369891064285)\n",
      "minarea: 15.0\n"
     ]
    },
    {
     "name": "stderr",
     "output_type": "stream",
     "text": [
      "Self-intersection at or near point 409.15789473684208 15.052631578947368\n",
      "Ring Self-intersection at or near point 816 414\n",
      "Self-intersection at or near point 234.33333333333334 635.66666666666663\n",
      "Self-intersection at or near point 459.07692307692309 371.76923076923077\n",
      "Self-intersection at or near point 100.36585365853658 679.48780487804879\n",
      "Self-intersection at or near point 185 546.5\n",
      "Self-intersection at or near point 292 195\n",
      "Self-intersection at or near point 611.89999999999998 730.29999999999995\n"
     ]
    },
    {
     "name": "stdout",
     "output_type": "stream",
     "text": [
      "tresh: 0.2 eps: 0.5 minarea: 15.0\n",
      "('Final jaccard', 0.07716573299353051)\n",
      "eps: 1.0\n",
      "minarea: 1.0\n"
     ]
    },
    {
     "name": "stderr",
     "output_type": "stream",
     "text": [
      "Self-intersection at or near point 409.15789473684208 15.052631578947368\n",
      "Ring Self-intersection at or near point 690 106\n",
      "Self-intersection at or near point 234.33333333333334 635.66666666666663\n",
      "Self-intersection at or near point 459.07692307692309 371.76923076923077\n",
      "Self-intersection at or near point 155 831.60000000000002\n",
      "Self-intersection at or near point 660.18181818181813 354.54545454545456\n",
      "Self-intersection at or near point 611.89999999999998 730.29999999999995\n"
     ]
    },
    {
     "name": "stdout",
     "output_type": "stream",
     "text": [
      "tresh: 0.2 eps: 1.0 minarea: 1.0\n",
      "('Final jaccard', 0.07750624497830576)\n",
      "minarea: 3.0\n"
     ]
    },
    {
     "name": "stderr",
     "output_type": "stream",
     "text": [
      "Self-intersection at or near point 409.15789473684208 15.052631578947368\n",
      "Ring Self-intersection at or near point 690 106\n",
      "Self-intersection at or near point 234.33333333333334 635.66666666666663\n",
      "Self-intersection at or near point 459.07692307692309 371.76923076923077\n",
      "Self-intersection at or near point 155 831.60000000000002\n",
      "Self-intersection at or near point 660.18181818181813 354.54545454545456\n",
      "Self-intersection at or near point 611.89999999999998 730.29999999999995\n"
     ]
    },
    {
     "name": "stdout",
     "output_type": "stream",
     "text": [
      "tresh: 0.2 eps: 1.0 minarea: 3.0\n",
      "('Final jaccard', 0.07749970333398337)\n",
      "minarea: 10.0\n"
     ]
    },
    {
     "name": "stderr",
     "output_type": "stream",
     "text": [
      "Self-intersection at or near point 409.15789473684208 15.052631578947368\n",
      "Ring Self-intersection at or near point 690 106\n",
      "Self-intersection at or near point 234.33333333333334 635.66666666666663\n",
      "Self-intersection at or near point 459.07692307692309 371.76923076923077\n",
      "Self-intersection at or near point 155 831.60000000000002\n",
      "Self-intersection at or near point 185 546.5\n",
      "Self-intersection at or near point 611.89999999999998 730.29999999999995\n"
     ]
    },
    {
     "name": "stdout",
     "output_type": "stream",
     "text": [
      "tresh: 0.2 eps: 1.0 minarea: 10.0\n",
      "('Final jaccard', 0.07733406219616297)\n",
      "minarea: 15.0\n"
     ]
    },
    {
     "name": "stderr",
     "output_type": "stream",
     "text": [
      "Self-intersection at or near point 409.33333333333331 14.833333333333334\n",
      "Ring Self-intersection at or near point 690 106\n",
      "Self-intersection at or near point 234.33333333333334 635.66666666666663\n",
      "Self-intersection at or near point 459.07692307692309 371.76923076923077\n",
      "Self-intersection at or near point 155 831.60000000000002\n",
      "Self-intersection at or near point 185 546.5\n",
      "Self-intersection at or near point 180.18181818181819 282.54545454545456\n"
     ]
    },
    {
     "name": "stdout",
     "output_type": "stream",
     "text": [
      "tresh: 0.2 eps: 1.0 minarea: 15.0\n",
      "('Final jaccard', 0.07712720576843098)\n",
      "eps: 3.0\n",
      "minarea: 1.0\n"
     ]
    },
    {
     "name": "stderr",
     "output_type": "stream",
     "text": [
      "Self-intersection at or near point 430.74789915966386 168.30252100840337\n",
      "Ring Self-intersection at or near point 690 106\n",
      "Self-intersection at or near point 459.70588235294116 371.11764705882354\n",
      "Self-intersection at or near point 180.18181818181819 282.54545454545456\n"
     ]
    },
    {
     "name": "stdout",
     "output_type": "stream",
     "text": [
      "tresh: 0.2 eps: 3.0 minarea: 1.0\n",
      "('Final jaccard', 0.07598811786973654)\n",
      "minarea: 3.0\n"
     ]
    },
    {
     "name": "stderr",
     "output_type": "stream",
     "text": [
      "Self-intersection at or near point 430.74789915966386 168.30252100840337\n",
      "Ring Self-intersection at or near point 690 106\n",
      "Self-intersection at or near point 459.70588235294116 371.11764705882354\n",
      "Self-intersection at or near point 180.18181818181819 282.54545454545456\n"
     ]
    },
    {
     "name": "stdout",
     "output_type": "stream",
     "text": [
      "tresh: 0.2 eps: 3.0 minarea: 3.0\n",
      "('Final jaccard', 0.07598811786973654)\n",
      "minarea: 10.0\n"
     ]
    },
    {
     "name": "stderr",
     "output_type": "stream",
     "text": [
      "Self-intersection at or near point 430.74789915966386 168.30252100840337\n",
      "Ring Self-intersection at or near point 690 106\n",
      "Self-intersection at or near point 459.70588235294116 371.11764705882354\n",
      "Self-intersection at or near point 180.18181818181819 282.54545454545456\n"
     ]
    },
    {
     "name": "stdout",
     "output_type": "stream",
     "text": [
      "tresh: 0.2 eps: 3.0 minarea: 10.0\n",
      "('Final jaccard', 0.07597074514658478)\n",
      "minarea: 15.0\n"
     ]
    },
    {
     "name": "stderr",
     "output_type": "stream",
     "text": [
      "Self-intersection at or near point 430.74789915966386 168.30252100840337\n",
      "Ring Self-intersection at or near point 690 106\n",
      "Self-intersection at or near point 459.70588235294116 371.11764705882354\n",
      "Self-intersection at or near point 781.22222222222217 301.55555555555554\n"
     ]
    },
    {
     "name": "stdout",
     "output_type": "stream",
     "text": [
      "tresh: 0.2 eps: 3.0 minarea: 15.0\n",
      "('Final jaccard', 0.07589087541651243)\n",
      "tresh: 0.25\n",
      "eps: 0.5\n",
      "minarea: 1.0\n"
     ]
    },
    {
     "name": "stderr",
     "output_type": "stream",
     "text": [
      "Self-intersection at or near point 499.78571428571428 176.85714285714286\n",
      "Ring Self-intersection at or near point 289 253\n",
      "Self-intersection at or near point 279 187.33333333333334\n",
      "Self-intersection at or near point 459.07692307692309 371.76923076923077\n",
      "Self-intersection at or near point 355 0\n",
      "Self-intersection at or near point 381 420.125\n",
      "Self-intersection at or near point 185 546.5\n",
      "Self-intersection at or near point 595.16666666666663 760.88888888888891\n",
      "Self-intersection at or near point 292 195\n",
      "Self-intersection at or near point 781.22222222222217 301.55555555555554\n"
     ]
    },
    {
     "name": "stdout",
     "output_type": "stream",
     "text": [
      "tresh: 0.25 eps: 0.5 minarea: 1.0\n",
      "('Final jaccard', 0.07763504796546616)\n",
      "minarea: 3.0\n"
     ]
    },
    {
     "name": "stderr",
     "output_type": "stream",
     "text": [
      "Self-intersection at or near point 499.78571428571428 176.85714285714286\n",
      "Ring Self-intersection at or near point 289 253\n",
      "Self-intersection at or near point 279 187.33333333333334\n",
      "Self-intersection at or near point 459.07692307692309 371.76923076923077\n",
      "Self-intersection at or near point 381 420.125\n",
      "Self-intersection at or near point 185 546.5\n",
      "Self-intersection at or near point 595.16666666666663 760.88888888888891\n",
      "Self-intersection at or near point 292 195\n",
      "Self-intersection at or near point 781.22222222222217 301.55555555555554\n"
     ]
    },
    {
     "name": "stdout",
     "output_type": "stream",
     "text": [
      "tresh: 0.25 eps: 0.5 minarea: 3.0\n",
      "('Final jaccard', 0.0776291367968559)\n",
      "minarea: 10.0\n"
     ]
    },
    {
     "name": "stderr",
     "output_type": "stream",
     "text": [
      "Self-intersection at or near point 499.78571428571428 176.85714285714286\n",
      "Ring Self-intersection at or near point 289 253\n",
      "Self-intersection at or near point 267.14285714285717 214.57142857142858\n",
      "Self-intersection at or near point 459.07692307692309 371.76923076923077\n",
      "Self-intersection at or near point 381 420.125\n",
      "Self-intersection at or near point 185 546.5\n",
      "Self-intersection at or near point 595.16666666666663 760.88888888888891\n",
      "Self-intersection at or near point 292 195\n",
      "Self-intersection at or near point 781.22222222222217 301.55555555555554\n"
     ]
    },
    {
     "name": "stdout",
     "output_type": "stream",
     "text": [
      "tresh: 0.25 eps: 0.5 minarea: 10.0\n",
      "('Final jaccard', 0.0774855927686824)\n",
      "minarea: 15.0\n"
     ]
    },
    {
     "name": "stderr",
     "output_type": "stream",
     "text": [
      "Self-intersection at or near point 499.78571428571428 176.85714285714286\n",
      "Ring Self-intersection at or near point 289 253\n",
      "Self-intersection at or near point 267.14285714285717 214.57142857142858\n",
      "Self-intersection at or near point 459.07692307692309 371.76923076923077\n",
      "Self-intersection at or near point 381 420.125\n",
      "Self-intersection at or near point 185 546.5\n",
      "Self-intersection at or near point 595.16666666666663 760.88888888888891\n",
      "Self-intersection at or near point 292 195\n",
      "Self-intersection at or near point 781.22222222222217 301.55555555555554\n"
     ]
    },
    {
     "name": "stdout",
     "output_type": "stream",
     "text": [
      "tresh: 0.25 eps: 0.5 minarea: 15.0\n",
      "('Final jaccard', 0.07722315943589197)\n",
      "eps: 1.0\n",
      "minarea: 1.0\n"
     ]
    },
    {
     "name": "stderr",
     "output_type": "stream",
     "text": [
      "Self-intersection at or near point 499.78571428571428 176.85714285714286\n",
      "Ring Self-intersection at or near point 690 106\n",
      "Self-intersection at or near point 234.33333333333334 635.66666666666663\n",
      "Self-intersection at or near point 459.07692307692309 371.76923076923077\n",
      "Self-intersection at or near point 381 420.125\n",
      "Self-intersection at or near point 185 546.5\n",
      "Self-intersection at or near point 595.16666666666663 760.88888888888891\n",
      "Self-intersection at or near point 781.22222222222217 301.55555555555554\n"
     ]
    },
    {
     "name": "stdout",
     "output_type": "stream",
     "text": [
      "tresh: 0.25 eps: 1.0 minarea: 1.0\n",
      "('Final jaccard', 0.0775901166419438)\n",
      "minarea: 3.0\n"
     ]
    },
    {
     "name": "stderr",
     "output_type": "stream",
     "text": [
      "Self-intersection at or near point 499.78571428571428 176.85714285714286\n",
      "Ring Self-intersection at or near point 690 106\n",
      "Self-intersection at or near point 234.33333333333334 635.66666666666663\n",
      "Self-intersection at or near point 459.07692307692309 371.76923076923077\n",
      "Self-intersection at or near point 381 420.125\n",
      "Self-intersection at or near point 185 546.5\n",
      "Self-intersection at or near point 595.16666666666663 760.88888888888891\n",
      "Self-intersection at or near point 781.22222222222217 301.55555555555554\n"
     ]
    },
    {
     "name": "stdout",
     "output_type": "stream",
     "text": [
      "tresh: 0.25 eps: 1.0 minarea: 3.0\n",
      "('Final jaccard', 0.07758529589328264)\n",
      "minarea: 10.0\n"
     ]
    },
    {
     "name": "stderr",
     "output_type": "stream",
     "text": [
      "Self-intersection at or near point 499.78571428571428 176.85714285714286\n",
      "Ring Self-intersection at or near point 690 106\n",
      "Self-intersection at or near point 234.33333333333334 635.66666666666663\n",
      "Self-intersection at or near point 459.07692307692309 371.76923076923077\n",
      "Self-intersection at or near point 381 420.125\n",
      "Self-intersection at or near point 185 546.5\n",
      "Self-intersection at or near point 595.16666666666663 760.88888888888891\n",
      "Self-intersection at or near point 781.22222222222217 301.55555555555554\n"
     ]
    },
    {
     "name": "stdout",
     "output_type": "stream",
     "text": [
      "tresh: 0.25 eps: 1.0 minarea: 10.0\n",
      "('Final jaccard', 0.07743939003579263)\n",
      "minarea: 15.0\n"
     ]
    },
    {
     "name": "stderr",
     "output_type": "stream",
     "text": [
      "Self-intersection at or near point 499.78571428571428 176.85714285714286\n",
      "Ring Self-intersection at or near point 690 106\n",
      "Self-intersection at or near point 234.33333333333334 635.66666666666663\n",
      "Self-intersection at or near point 459.07692307692309 371.76923076923077\n",
      "Self-intersection at or near point 381 420.125\n",
      "Self-intersection at or near point 185 546.5\n",
      "Self-intersection at or near point 595.16666666666663 760.88888888888891\n",
      "Self-intersection at or near point 674.17241379310349 720.7536945812808\n"
     ]
    },
    {
     "name": "stdout",
     "output_type": "stream",
     "text": [
      "tresh: 0.25 eps: 1.0 minarea: 15.0\n",
      "('Final jaccard', 0.07719957453442204)\n",
      "eps: 3.0\n",
      "minarea: 1.0\n"
     ]
    },
    {
     "name": "stderr",
     "output_type": "stream",
     "text": [
      "Self-intersection at or near point 285.90604026845637 127.87919463087249\n",
      "Ring Self-intersection at or near point 690 106\n",
      "Ring Self-intersection at or near point 381 621\n",
      "Self-intersection at or near point 459.70588235294116 371.11764705882354\n",
      "Self-intersection at or near point 381.04000000000002 420.16000000000003\n",
      "Self-intersection at or near point 674.17241379310349 720.7536945812808\n"
     ]
    },
    {
     "name": "stdout",
     "output_type": "stream",
     "text": [
      "tresh: 0.25 eps: 3.0 minarea: 1.0\n",
      "('Final jaccard', 0.07610247336710682)\n",
      "minarea: 3.0\n"
     ]
    },
    {
     "name": "stderr",
     "output_type": "stream",
     "text": [
      "Self-intersection at or near point 285.90604026845637 127.87919463087249\n",
      "Ring Self-intersection at or near point 690 106\n",
      "Ring Self-intersection at or near point 381 621\n",
      "Self-intersection at or near point 459.70588235294116 371.11764705882354\n",
      "Self-intersection at or near point 381.04000000000002 420.16000000000003\n",
      "Self-intersection at or near point 674.17241379310349 720.7536945812808\n"
     ]
    },
    {
     "name": "stdout",
     "output_type": "stream",
     "text": [
      "tresh: 0.25 eps: 3.0 minarea: 3.0\n",
      "('Final jaccard', 0.07610247336710682)\n",
      "minarea: 10.0\n"
     ]
    },
    {
     "name": "stderr",
     "output_type": "stream",
     "text": [
      "Self-intersection at or near point 285.90604026845637 127.87919463087249\n",
      "Ring Self-intersection at or near point 690 106\n",
      "Ring Self-intersection at or near point 381 621\n",
      "Self-intersection at or near point 459.70588235294116 371.11764705882354\n",
      "Self-intersection at or near point 381.04000000000002 420.16000000000003\n",
      "Self-intersection at or near point 674.17241379310349 720.7536945812808\n"
     ]
    },
    {
     "name": "stdout",
     "output_type": "stream",
     "text": [
      "tresh: 0.25 eps: 3.0 minarea: 10.0\n",
      "('Final jaccard', 0.07608450785229903)\n",
      "minarea: 15.0\n"
     ]
    },
    {
     "name": "stderr",
     "output_type": "stream",
     "text": [
      "Self-intersection at or near point 285.90604026845637 127.87919463087249\n",
      "Ring Self-intersection at or near point 690 106\n",
      "Ring Self-intersection at or near point 381 621\n",
      "Self-intersection at or near point 459.70588235294116 371.11764705882354\n",
      "Self-intersection at or near point 381.04000000000002 420.16000000000003\n",
      "Self-intersection at or near point 170 266\n"
     ]
    },
    {
     "name": "stdout",
     "output_type": "stream",
     "text": [
      "tresh: 0.25 eps: 3.0 minarea: 15.0\n",
      "('Final jaccard', 0.07602447365105697)\n",
      "tresh: 0.3\n",
      "eps: 0.5\n",
      "minarea: 1.0\n"
     ]
    },
    {
     "name": "stderr",
     "output_type": "stream",
     "text": [
      "Self-intersection at or near point 465.76744186046511 175.65116279069767\n",
      "Self-intersection at or near point 39.333333333333336 412\n",
      "Self-intersection at or near point 279.57142857142856 186.57142857142858\n",
      "Self-intersection at or near point 459.09090909090907 371.72727272727275\n",
      "Self-intersection at or near point 355 0\n",
      "Self-intersection at or near point 133.63636363636363 192.63636363636363\n",
      "Self-intersection at or near point 185 546.5\n",
      "Self-intersection at or near point 292 195\n",
      "Self-intersection at or near point 170 266\n"
     ]
    },
    {
     "name": "stdout",
     "output_type": "stream",
     "text": [
      "tresh: 0.3 eps: 0.5 minarea: 1.0\n",
      "('Final jaccard', 0.07771150879204572)\n",
      "minarea: 3.0\n"
     ]
    },
    {
     "name": "stderr",
     "output_type": "stream",
     "text": [
      "Self-intersection at or near point 465.76744186046511 175.65116279069767\n",
      "Self-intersection at or near point 39.333333333333336 412\n",
      "Self-intersection at or near point 279.57142857142856 186.57142857142858\n",
      "Self-intersection at or near point 459.09090909090907 371.72727272727275\n",
      "Self-intersection at or near point 133.93333333333334 191.30000000000001\n",
      "Self-intersection at or near point 185 546.5\n",
      "Self-intersection at or near point 292 195\n",
      "Self-intersection at or near point 170 266\n"
     ]
    },
    {
     "name": "stdout",
     "output_type": "stream",
     "text": [
      "tresh: 0.3 eps: 0.5 minarea: 3.0\n",
      "('Final jaccard', 0.07771469073861334)\n",
      "minarea: 10.0\n"
     ]
    },
    {
     "name": "stderr",
     "output_type": "stream",
     "text": [
      "Self-intersection at or near point 465.76744186046511 175.65116279069767\n",
      "Self-intersection at or near point 39.333333333333336 412\n",
      "Self-intersection at or near point 6 614\n",
      "Self-intersection at or near point 459.09090909090907 371.72727272727275\n",
      "Self-intersection at or near point 133.63636363636363 192.63636363636363\n",
      "Self-intersection at or near point 185 546.5\n",
      "Self-intersection at or near point 292 195\n",
      "Self-intersection at or near point 170 266\n"
     ]
    },
    {
     "name": "stdout",
     "output_type": "stream",
     "text": [
      "tresh: 0.3 eps: 0.5 minarea: 10.0\n",
      "('Final jaccard', 0.07759349391750246)\n",
      "minarea: 15.0\n"
     ]
    },
    {
     "name": "stderr",
     "output_type": "stream",
     "text": [
      "Self-intersection at or near point 465.76744186046511 175.65116279069767\n",
      "Self-intersection at or near point 39.333333333333336 412\n",
      "Self-intersection at or near point 6 614\n",
      "Self-intersection at or near point 459.09090909090907 371.72727272727275\n",
      "Self-intersection at or near point 133.63636363636363 192.63636363636363\n",
      "Self-intersection at or near point 185 546.5\n",
      "Self-intersection at or near point 292 195\n",
      "Self-intersection at or near point 673 720\n"
     ]
    },
    {
     "name": "stdout",
     "output_type": "stream",
     "text": [
      "tresh: 0.3 eps: 0.5 minarea: 15.0\n",
      "('Final jaccard', 0.07732911320001552)\n",
      "eps: 1.0\n",
      "minarea: 1.0\n"
     ]
    },
    {
     "name": "stderr",
     "output_type": "stream",
     "text": [
      "Self-intersection at or near point 465.76744186046511 175.65116279069767\n",
      "Self-intersection at or near point 39.333333333333336 412\n",
      "Self-intersection at or near point 235 633\n",
      "Self-intersection at or near point 459.09090909090907 371.72727272727275\n",
      "Self-intersection at or near point 133.63636363636363 192.63636363636363\n",
      "Self-intersection at or near point 476.969696969697 331.87878787878788\n",
      "Self-intersection at or near point 293.30434782608694 188.52173913043478\n",
      "Self-intersection at or near point 673 720\n"
     ]
    },
    {
     "name": "stdout",
     "output_type": "stream",
     "text": [
      "tresh: 0.3 eps: 1.0 minarea: 1.0\n",
      "('Final jaccard', 0.0775820363527274)\n",
      "minarea: 3.0\n"
     ]
    },
    {
     "name": "stderr",
     "output_type": "stream",
     "text": [
      "Self-intersection at or near point 465.76744186046511 175.65116279069767\n",
      "Self-intersection at or near point 39.333333333333336 412\n",
      "Self-intersection at or near point 235 633\n",
      "Self-intersection at or near point 459.09090909090907 371.72727272727275\n",
      "Self-intersection at or near point 133.93333333333334 191.30000000000001\n",
      "Self-intersection at or near point 476.969696969697 331.87878787878788\n",
      "Self-intersection at or near point 293.30434782608694 188.52173913043478\n",
      "Self-intersection at or near point 673 720\n"
     ]
    },
    {
     "name": "stdout",
     "output_type": "stream",
     "text": [
      "tresh: 0.3 eps: 1.0 minarea: 3.0\n",
      "('Final jaccard', 0.07758640977448239)\n",
      "minarea: 10.0\n"
     ]
    },
    {
     "name": "stderr",
     "output_type": "stream",
     "text": [
      "Self-intersection at or near point 465.76744186046511 175.65116279069767\n",
      "Self-intersection at or near point 39.333333333333336 412\n",
      "Self-intersection at or near point 235 633\n",
      "Self-intersection at or near point 459.09090909090907 371.72727272727275\n",
      "Self-intersection at or near point 133.63636363636363 192.63636363636363\n",
      "Self-intersection at or near point 476.969696969697 331.87878787878788\n",
      "Self-intersection at or near point 293.30434782608694 188.52173913043478\n",
      "Self-intersection at or near point 673 720\n"
     ]
    },
    {
     "name": "stdout",
     "output_type": "stream",
     "text": [
      "tresh: 0.3 eps: 1.0 minarea: 10.0\n",
      "('Final jaccard', 0.07746628474670816)\n",
      "minarea: 15.0\n"
     ]
    },
    {
     "name": "stderr",
     "output_type": "stream",
     "text": [
      "Self-intersection at or near point 465.76744186046511 175.65116279069767\n",
      "Self-intersection at or near point 39.333333333333336 412\n",
      "Self-intersection at or near point 235 633\n",
      "Self-intersection at or near point 459.09090909090907 371.72727272727275\n",
      "Self-intersection at or near point 133.93333333333334 191.30000000000001\n",
      "Self-intersection at or near point 185 546.5\n",
      "Self-intersection at or near point 203.54418604651164 521.47906976744184\n"
     ]
    },
    {
     "name": "stdout",
     "output_type": "stream",
     "text": [
      "tresh: 0.3 eps: 1.0 minarea: 15.0\n",
      "('Final jaccard', 0.07726133483883489)\n",
      "eps: 3.0\n",
      "minarea: 1.0\n"
     ]
    },
    {
     "name": "stderr",
     "output_type": "stream",
     "text": [
      "Self-intersection at or near point 246.40601503759399 126.25563909774436\n",
      "Ring Self-intersection at or near point 690 106\n",
      "Self-intersection at or near point 459.70588235294116 371.11764705882354\n",
      "Self-intersection at or near point 381.04000000000002 420.16000000000003\n",
      "Self-intersection at or near point 203.54418604651164 521.47906976744184\n"
     ]
    },
    {
     "name": "stdout",
     "output_type": "stream",
     "text": [
      "tresh: 0.3 eps: 3.0 minarea: 1.0\n",
      "('Final jaccard', 0.07614614229118928)\n",
      "minarea: 3.0\n"
     ]
    },
    {
     "name": "stderr",
     "output_type": "stream",
     "text": [
      "Self-intersection at or near point 246.40601503759399 126.25563909774436\n",
      "Ring Self-intersection at or near point 690 106\n",
      "Self-intersection at or near point 459.70588235294116 371.11764705882354\n",
      "Self-intersection at or near point 381.04000000000002 420.16000000000003\n",
      "Self-intersection at or near point 202.81927710843374 522.50602409638554\n"
     ]
    },
    {
     "name": "stdout",
     "output_type": "stream",
     "text": [
      "tresh: 0.3 eps: 3.0 minarea: 3.0\n",
      "('Final jaccard', 0.07614614229118928)\n",
      "minarea: 10.0\n"
     ]
    },
    {
     "name": "stderr",
     "output_type": "stream",
     "text": [
      "Self-intersection at or near point 246.40601503759399 126.25563909774436\n",
      "Ring Self-intersection at or near point 690 106\n",
      "Self-intersection at or near point 459.70588235294116 371.11764705882354\n",
      "Self-intersection at or near point 381.04000000000002 420.16000000000003\n",
      "Self-intersection at or near point 202.81927710843374 522.50602409638554\n"
     ]
    },
    {
     "name": "stdout",
     "output_type": "stream",
     "text": [
      "tresh: 0.3 eps: 3.0 minarea: 10.0\n",
      "('Final jaccard', 0.07612840626490897)\n",
      "minarea: 15.0\n"
     ]
    },
    {
     "name": "stderr",
     "output_type": "stream",
     "text": [
      "Self-intersection at or near point 246.34285714285716 127.77142857142857\n",
      "Ring Self-intersection at or near point 690 106\n",
      "Self-intersection at or near point 459.70588235294116 371.11764705882354\n",
      "Self-intersection at or near point 381.04000000000002 420.16000000000003\n",
      "Self-intersection at or near point 180.75 278.25\n"
     ]
    },
    {
     "name": "stdout",
     "output_type": "stream",
     "text": [
      "tresh: 0.3 eps: 3.0 minarea: 15.0\n",
      "('Final jaccard', 0.07603029198390192)\n",
      "tresh: 0.35\n",
      "eps: 0.5\n",
      "minarea: 1.0\n"
     ]
    },
    {
     "name": "stderr",
     "output_type": "stream",
     "text": [
      "Self-intersection at or near point 465.76744186046511 175.65116279069767\n",
      "Self-intersection at or near point 39.333333333333336 412\n",
      "Self-intersection at or near point 281.11111111111109 653.66666666666663\n",
      "Self-intersection at or near point 459.09090909090907 371.72727272727275\n",
      "Self-intersection at or near point 355 0\n",
      "Self-intersection at or near point 134 193\n",
      "Self-intersection at or near point 185 546.5\n",
      "Self-intersection at or near point 292 195\n",
      "Self-intersection at or near point 180.75 278.25\n"
     ]
    },
    {
     "name": "stdout",
     "output_type": "stream",
     "text": [
      "tresh: 0.35 eps: 0.5 minarea: 1.0\n",
      "('Final jaccard', 0.07781421136286254)\n",
      "minarea: 3.0\n"
     ]
    },
    {
     "name": "stderr",
     "output_type": "stream",
     "text": [
      "Self-intersection at or near point 465.76744186046511 175.65116279069767\n",
      "Self-intersection at or near point 39.333333333333336 412\n",
      "Self-intersection at or near point 281.11111111111109 653.66666666666663\n",
      "Self-intersection at or near point 459.09090909090907 371.72727272727275\n",
      "Self-intersection at or near point 134 191.25\n",
      "Self-intersection at or near point 185 546.5\n",
      "Self-intersection at or near point 292 195\n",
      "Self-intersection at or near point 180.75 278.25\n"
     ]
    },
    {
     "name": "stdout",
     "output_type": "stream",
     "text": [
      "tresh: 0.35 eps: 0.5 minarea: 3.0\n",
      "('Final jaccard', 0.07781857218212125)\n",
      "minarea: 10.0\n"
     ]
    },
    {
     "name": "stderr",
     "output_type": "stream",
     "text": [
      "Self-intersection at or near point 465.76744186046511 175.65116279069767\n",
      "Self-intersection at or near point 39.333333333333336 412\n",
      "Self-intersection at or near point 281.11111111111109 653.66666666666663\n",
      "Self-intersection at or near point 459.09090909090907 371.72727272727275\n",
      "Self-intersection at or near point 134 191.25\n",
      "Self-intersection at or near point 185 546.5\n",
      "Self-intersection at or near point 292 195\n",
      "Self-intersection at or near point 180.75 278.25\n"
     ]
    },
    {
     "name": "stdout",
     "output_type": "stream",
     "text": [
      "tresh: 0.35 eps: 0.5 minarea: 10.0\n",
      "('Final jaccard', 0.07769698662953248)\n",
      "minarea: 15.0\n"
     ]
    },
    {
     "name": "stderr",
     "output_type": "stream",
     "text": [
      "Self-intersection at or near point 465.76744186046511 175.65116279069767\n",
      "Self-intersection at or near point 39.333333333333336 412\n",
      "Self-intersection at or near point 281.11111111111109 653.66666666666663\n",
      "Self-intersection at or near point 459.09090909090907 371.72727272727275\n",
      "Self-intersection at or near point 134 193\n",
      "Self-intersection at or near point 185 546.5\n",
      "Self-intersection at or near point 292 195\n",
      "Self-intersection at or near point 181 278.33333333333331\n"
     ]
    },
    {
     "name": "stdout",
     "output_type": "stream",
     "text": [
      "tresh: 0.35 eps: 0.5 minarea: 15.0\n",
      "('Final jaccard', 0.07746028258095555)\n",
      "eps: 1.0\n",
      "minarea: 1.0\n"
     ]
    },
    {
     "name": "stderr",
     "output_type": "stream",
     "text": [
      "Self-intersection at or near point 465.76744186046511 175.65116279069767\n",
      "Self-intersection at or near point 39.333333333333336 412\n",
      "Self-intersection at or near point 280.5344827586207 652.84482758620686\n",
      "Self-intersection at or near point 459.09090909090907 371.72727272727275\n",
      "Self-intersection at or near point 134 193\n",
      "Self-intersection at or near point 185 546.5\n",
      "Self-intersection at or near point 293.30434782608694 188.52173913043478\n",
      "Self-intersection at or near point 181 278.33333333333331\n"
     ]
    },
    {
     "name": "stdout",
     "output_type": "stream",
     "text": [
      "tresh: 0.35 eps: 1.0 minarea: 1.0\n",
      "('Final jaccard', 0.07754300701137166)\n",
      "minarea: 3.0\n"
     ]
    },
    {
     "name": "stderr",
     "output_type": "stream",
     "text": [
      "Self-intersection at or near point 465.76744186046511 175.65116279069767\n",
      "Self-intersection at or near point 39.333333333333336 412\n",
      "Self-intersection at or near point 280.5344827586207 652.84482758620686\n",
      "Self-intersection at or near point 459.09090909090907 371.72727272727275\n",
      "Self-intersection at or near point 134 191.25\n",
      "Self-intersection at or near point 185 546.5\n",
      "Self-intersection at or near point 293.30434782608694 188.52173913043478\n",
      "Self-intersection at or near point 181 278.33333333333331\n"
     ]
    },
    {
     "name": "stdout",
     "output_type": "stream",
     "text": [
      "tresh: 0.35 eps: 1.0 minarea: 3.0\n",
      "('Final jaccard', 0.07754755331030999)\n",
      "minarea: 10.0\n"
     ]
    },
    {
     "name": "stderr",
     "output_type": "stream",
     "text": [
      "Self-intersection at or near point 465.76744186046511 175.65116279069767\n",
      "Self-intersection at or near point 39.333333333333336 412\n",
      "Self-intersection at or near point 280.5344827586207 652.84482758620686\n",
      "Self-intersection at or near point 459.09090909090907 371.72727272727275\n",
      "Self-intersection at or near point 134 191.25\n",
      "Self-intersection at or near point 185 546.5\n",
      "Self-intersection at or near point 293.30434782608694 188.52173913043478\n",
      "Self-intersection at or near point 181 278.33333333333331\n"
     ]
    },
    {
     "name": "stdout",
     "output_type": "stream",
     "text": [
      "tresh: 0.35 eps: 1.0 minarea: 10.0\n",
      "('Final jaccard', 0.07742457241266162)\n",
      "minarea: 15.0\n"
     ]
    },
    {
     "name": "stderr",
     "output_type": "stream",
     "text": [
      "Self-intersection at or near point 465.76744186046511 175.65116279069767\n",
      "Self-intersection at or near point 39.333333333333336 412\n",
      "Self-intersection at or near point 280.5344827586207 652.84482758620686\n",
      "Self-intersection at or near point 459.09090909090907 371.72727272727275\n",
      "Self-intersection at or near point 134 193\n",
      "Self-intersection at or near point 185 546.5\n",
      "Self-intersection at or near point 202.81927710843374 522.50602409638554\n"
     ]
    },
    {
     "name": "stdout",
     "output_type": "stream",
     "text": [
      "tresh: 0.35 eps: 1.0 minarea: 15.0\n",
      "('Final jaccard', 0.0772099150260601)\n",
      "eps: 3.0\n",
      "minarea: 1.0\n"
     ]
    },
    {
     "name": "stderr",
     "output_type": "stream",
     "text": [
      "Self-intersection at or near point 740 151.5\n",
      "Ring Self-intersection at or near point 690 106\n",
      "Self-intersection at or near point 280.58247422680415 653.04639175257728\n",
      "Self-intersection at or near point 459.70588235294116 371.11764705882354\n",
      "Self-intersection at or near point 202.81927710843374 522.50602409638554\n"
     ]
    },
    {
     "name": "stdout",
     "output_type": "stream",
     "text": [
      "tresh: 0.35 eps: 3.0 minarea: 1.0\n",
      "('Final jaccard', 0.07623177017900302)\n",
      "minarea: 3.0\n"
     ]
    },
    {
     "name": "stderr",
     "output_type": "stream",
     "text": [
      "Self-intersection at or near point 740 151.5\n",
      "Ring Self-intersection at or near point 690 106\n",
      "Self-intersection at or near point 280.58247422680415 653.04639175257728\n",
      "Self-intersection at or near point 459.70588235294116 371.11764705882354\n",
      "Self-intersection at or near point 202.81927710843374 522.50602409638554\n"
     ]
    },
    {
     "name": "stdout",
     "output_type": "stream",
     "text": [
      "tresh: 0.35 eps: 3.0 minarea: 3.0\n",
      "('Final jaccard', 0.07623177017900302)\n",
      "minarea: 10.0\n"
     ]
    },
    {
     "name": "stderr",
     "output_type": "stream",
     "text": [
      "Self-intersection at or near point 740 151.5\n",
      "Ring Self-intersection at or near point 690 106\n",
      "Self-intersection at or near point 280.58247422680415 653.04639175257728\n",
      "Self-intersection at or near point 459.70588235294116 371.11764705882354\n",
      "Self-intersection at or near point 202.81927710843374 522.50602409638554\n"
     ]
    },
    {
     "name": "stdout",
     "output_type": "stream",
     "text": [
      "tresh: 0.35 eps: 3.0 minarea: 10.0\n",
      "('Final jaccard', 0.07620844673324752)\n",
      "minarea: 15.0\n"
     ]
    },
    {
     "name": "stderr",
     "output_type": "stream",
     "text": [
      "Self-intersection at or near point 740 151.5\n",
      "Ring Self-intersection at or near point 690 106\n",
      "Self-intersection at or near point 280.58247422680415 653.04639175257728\n",
      "Self-intersection at or near point 459.70588235294116 371.11764705882354\n",
      "Self-intersection at or near point 180.75 278.25\n"
     ]
    },
    {
     "name": "stdout",
     "output_type": "stream",
     "text": [
      "tresh: 0.35 eps: 3.0 minarea: 15.0\n",
      "('Final jaccard', 0.07611514733116322)\n",
      "tresh: 0.4\n",
      "eps: 0.5\n",
      "minarea: 1.0\n"
     ]
    },
    {
     "name": "stderr",
     "output_type": "stream",
     "text": [
      "Self-intersection at or near point 465.76744186046511 175.65116279069767\n",
      "Self-intersection at or near point 722.28571428571433 333\n",
      "Self-intersection at or near point 235 633\n",
      "Self-intersection at or near point 252.09090909090909 400.54545454545456\n",
      "Self-intersection at or near point 355 0\n",
      "Self-intersection at or near point 134 191.25\n",
      "Self-intersection at or near point 661.69230769230774 354.23076923076923\n",
      "Self-intersection at or near point 292 195\n",
      "Self-intersection at or near point 180.75 278.25\n"
     ]
    },
    {
     "name": "stdout",
     "output_type": "stream",
     "text": [
      "tresh: 0.4 eps: 0.5 minarea: 1.0\n",
      "('Final jaccard', 0.07789784138833367)\n",
      "minarea: 3.0\n"
     ]
    },
    {
     "name": "stderr",
     "output_type": "stream",
     "text": [
      "Self-intersection at or near point 465.76744186046511 175.65116279069767\n",
      "Self-intersection at or near point 722.28571428571433 333\n",
      "Self-intersection at or near point 235 633\n",
      "Self-intersection at or near point 252.09090909090909 400.54545454545456\n",
      "Ring Self-intersection at or near point 493 59\n",
      "Self-intersection at or near point 134 191.25\n",
      "Self-intersection at or near point 185.05263157894737 545.26315789473688\n",
      "Self-intersection at or near point 292 195\n",
      "Self-intersection at or near point 180.75 278.25\n"
     ]
    },
    {
     "name": "stdout",
     "output_type": "stream",
     "text": [
      "tresh: 0.4 eps: 0.5 minarea: 3.0\n",
      "('Final jaccard', 0.07790184064473488)\n",
      "minarea: 10.0\n"
     ]
    },
    {
     "name": "stderr",
     "output_type": "stream",
     "text": [
      "Self-intersection at or near point 465.76744186046511 175.65116279069767\n",
      "Self-intersection at or near point 722.28571428571433 333\n",
      "Self-intersection at or near point 235 633\n",
      "Self-intersection at or near point 252.09090909090909 400.54545454545456\n",
      "Ring Self-intersection at or near point 493 59\n",
      "Self-intersection at or near point 134 193\n",
      "Self-intersection at or near point 185.05263157894737 545.26315789473688\n",
      "Self-intersection at or near point 292 195\n",
      "Self-intersection at or near point 180.75 278.25\n"
     ]
    },
    {
     "name": "stdout",
     "output_type": "stream",
     "text": [
      "tresh: 0.4 eps: 0.5 minarea: 10.0\n",
      "('Final jaccard', 0.0777336517040564)\n",
      "minarea: 15.0\n"
     ]
    },
    {
     "name": "stderr",
     "output_type": "stream",
     "text": [
      "Self-intersection at or near point 465.76744186046511 175.65116279069767\n",
      "Self-intersection at or near point 722.28571428571433 333\n",
      "Self-intersection at or near point 235 633\n",
      "Self-intersection at or near point 252.09090909090909 400.54545454545456\n",
      "Ring Self-intersection at or near point 493 59\n",
      "Self-intersection at or near point 134 191.25\n",
      "Self-intersection at or near point 185.05263157894737 545.26315789473688\n",
      "Self-intersection at or near point 181 278.33333333333331\n"
     ]
    },
    {
     "name": "stdout",
     "output_type": "stream",
     "text": [
      "tresh: 0.4 eps: 0.5 minarea: 15.0\n",
      "('Final jaccard', 0.07753860096652626)\n",
      "eps: 1.0\n",
      "minarea: 1.0\n"
     ]
    },
    {
     "name": "stderr",
     "output_type": "stream",
     "text": [
      "Self-intersection at or near point 465.76744186046511 175.65116279069767\n",
      "Self-intersection at or near point 722.28571428571433 333\n",
      "Self-intersection at or near point 275.875 803.84375\n",
      "Self-intersection at or near point 349 328\n",
      "Self-intersection at or near point 134 193\n",
      "Self-intersection at or near point 661.69230769230774 354.23076923076923\n",
      "Self-intersection at or near point 293.30434782608694 188.52173913043478\n",
      "Self-intersection at or near point 181 278.33333333333331\n"
     ]
    },
    {
     "name": "stdout",
     "output_type": "stream",
     "text": [
      "tresh: 0.4 eps: 1.0 minarea: 1.0\n",
      "('Final jaccard', 0.07768653257372975)\n",
      "minarea: 3.0\n"
     ]
    },
    {
     "name": "stderr",
     "output_type": "stream",
     "text": [
      "Self-intersection at or near point 465.76744186046511 175.65116279069767\n",
      "Self-intersection at or near point 722.28571428571433 333\n",
      "Self-intersection at or near point 275.875 803.84375\n",
      "Self-intersection at or near point 349 328\n",
      "Self-intersection at or near point 134 191.25\n",
      "Self-intersection at or near point 185.05263157894737 545.26315789473688\n",
      "Self-intersection at or near point 293.30434782608694 188.52173913043478\n",
      "Self-intersection at or near point 181 278.33333333333331\n"
     ]
    },
    {
     "name": "stdout",
     "output_type": "stream",
     "text": [
      "tresh: 0.4 eps: 1.0 minarea: 3.0\n",
      "('Final jaccard', 0.07769057971813796)\n",
      "minarea: 10.0\n"
     ]
    },
    {
     "name": "stderr",
     "output_type": "stream",
     "text": [
      "Self-intersection at or near point 465.76744186046511 175.65116279069767\n",
      "Self-intersection at or near point 722.28571428571433 333\n",
      "Self-intersection at or near point 275.875 803.84375\n",
      "Self-intersection at or near point 252.09090909090909 400.54545454545456\n",
      "Self-intersection at or near point 134 193\n",
      "Self-intersection at or near point 185.05263157894737 545.26315789473688\n",
      "Self-intersection at or near point 293.30434782608694 188.52173913043478\n",
      "Self-intersection at or near point 181 278.33333333333331\n"
     ]
    },
    {
     "name": "stdout",
     "output_type": "stream",
     "text": [
      "tresh: 0.4 eps: 1.0 minarea: 10.0\n",
      "('Final jaccard', 0.07752576363416527)\n",
      "minarea: 15.0\n"
     ]
    },
    {
     "name": "stderr",
     "output_type": "stream",
     "text": [
      "Self-intersection at or near point 465.76744186046511 175.65116279069767\n",
      "Self-intersection at or near point 722.28571428571433 333\n",
      "Self-intersection at or near point 275.875 803.84375\n",
      "Self-intersection at or near point 252.09090909090909 400.54545454545456\n",
      "Self-intersection at or near point 134 191.25\n",
      "Self-intersection at or near point 185.05263157894737 545.26315789473688\n",
      "Self-intersection at or near point 203.54418604651164 521.47906976744184\n"
     ]
    },
    {
     "name": "stdout",
     "output_type": "stream",
     "text": [
      "tresh: 0.4 eps: 1.0 minarea: 15.0\n",
      "('Final jaccard', 0.07735663022097111)\n",
      "eps: 3.0\n",
      "minarea: 1.0\n"
     ]
    },
    {
     "name": "stderr",
     "output_type": "stream",
     "text": [
      "Self-intersection at or near point 740 151.5\n",
      "Self-intersection at or near point 722.28571428571433 333\n",
      "Self-intersection at or near point 3.75 449.375\n",
      "Self-intersection at or near point 346.13513513513516 293.10810810810813\n",
      "Self-intersection at or near point 203.54418604651164 521.47906976744184\n"
     ]
    },
    {
     "name": "stdout",
     "output_type": "stream",
     "text": [
      "tresh: 0.4 eps: 3.0 minarea: 1.0\n",
      "('Final jaccard', 0.0762178325034035)\n",
      "minarea: 3.0\n"
     ]
    },
    {
     "name": "stderr",
     "output_type": "stream",
     "text": [
      "Self-intersection at or near point 740 151.5\n",
      "Self-intersection at or near point 722.28571428571433 333\n",
      "Self-intersection at or near point 3.75 449.375\n",
      "Self-intersection at or near point 346.13513513513516 293.10810810810813\n",
      "Self-intersection at or near point 202.81927710843374 522.50602409638554\n"
     ]
    },
    {
     "name": "stdout",
     "output_type": "stream",
     "text": [
      "tresh: 0.4 eps: 3.0 minarea: 3.0\n",
      "('Final jaccard', 0.0762178325034035)\n",
      "minarea: 10.0\n"
     ]
    },
    {
     "name": "stderr",
     "output_type": "stream",
     "text": [
      "Self-intersection at or near point 740 151.5\n",
      "Self-intersection at or near point 722.28571428571433 333\n",
      "Self-intersection at or near point 3.8752025931928689 446.18233387358185\n",
      "Self-intersection at or near point 346.13513513513516 293.10810810810813\n",
      "Self-intersection at or near point 202.81927710843374 522.50602409638554\n"
     ]
    },
    {
     "name": "stdout",
     "output_type": "stream",
     "text": [
      "tresh: 0.4 eps: 3.0 minarea: 10.0\n",
      "('Final jaccard', 0.07619543173892099)\n",
      "minarea: 15.0\n"
     ]
    },
    {
     "name": "stderr",
     "output_type": "stream",
     "text": [
      "Self-intersection at or near point 740 151.5\n",
      "Self-intersection at or near point 722.28571428571433 333\n",
      "Self-intersection at or near point 3.75 449.375\n",
      "Self-intersection at or near point 346.13513513513516 293.10810810810813\n",
      "Self-intersection at or near point 148.33333333333334 818\n"
     ]
    },
    {
     "name": "stdout",
     "output_type": "stream",
     "text": [
      "tresh: 0.4 eps: 3.0 minarea: 15.0\n",
      "('Final jaccard', 0.0760891032033141)\n",
      "tresh: 0.45\n",
      "eps: 0.5\n",
      "minarea: 1.0\n"
     ]
    },
    {
     "name": "stderr",
     "output_type": "stream",
     "text": [
      "Self-intersection at or near point 466.14285714285717 190.28571428571428\n",
      "Self-intersection at or near point 722.28571428571433 333\n",
      "Ring Self-intersection at or near point 475 333\n",
      "Self-intersection at or near point 526.20000000000005 378.39999999999998\n",
      "Ring Self-intersection at or near point 493 59\n",
      "Self-intersection at or near point 134 193\n",
      "Self-intersection at or near point 661.69230769230774 354.23076923076923\n",
      "Self-intersection at or near point 293.25 188.5\n",
      "Self-intersection at or near point 148.33333333333334 818\n"
     ]
    },
    {
     "name": "stdout",
     "output_type": "stream",
     "text": [
      "tresh: 0.45 eps: 0.5 minarea: 1.0\n",
      "('Final jaccard', 0.07794138277310277)\n",
      "minarea: 3.0\n"
     ]
    },
    {
     "name": "stderr",
     "output_type": "stream",
     "text": [
      "Self-intersection at or near point 466.14285714285717 190.28571428571428\n",
      "Self-intersection at or near point 722.28571428571433 333\n",
      "Ring Self-intersection at or near point 475 333\n",
      "Self-intersection at or near point 526.20000000000005 378.39999999999998\n",
      "Ring Self-intersection at or near point 493 59\n",
      "Self-intersection at or near point 134 193\n",
      "Self-intersection at or near point 185.05263157894737 545.26315789473688\n",
      "Self-intersection at or near point 293.25 188.5\n",
      "Self-intersection at or near point 148.33333333333334 818\n"
     ]
    },
    {
     "name": "stdout",
     "output_type": "stream",
     "text": [
      "tresh: 0.45 eps: 0.5 minarea: 3.0\n",
      "('Final jaccard', 0.07794147722854075)\n",
      "minarea: 10.0\n"
     ]
    },
    {
     "name": "stderr",
     "output_type": "stream",
     "text": [
      "Self-intersection at or near point 466.14285714285717 190.28571428571428\n",
      "Self-intersection at or near point 722.28571428571433 333\n",
      "Ring Self-intersection at or near point 475 333\n",
      "Self-intersection at or near point 526.20000000000005 378.39999999999998\n",
      "Ring Self-intersection at or near point 493 59\n",
      "Self-intersection at or near point 134 191.25\n",
      "Self-intersection at or near point 185.05263157894737 545.26315789473688\n",
      "Self-intersection at or near point 293.25 188.5\n",
      "Self-intersection at or near point 148.33333333333334 818\n"
     ]
    },
    {
     "name": "stdout",
     "output_type": "stream",
     "text": [
      "tresh: 0.45 eps: 0.5 minarea: 10.0\n",
      "('Final jaccard', 0.07779195221926197)\n",
      "minarea: 15.0\n"
     ]
    },
    {
     "name": "stderr",
     "output_type": "stream",
     "text": [
      "Self-intersection at or near point 466.14285714285717 190.28571428571428\n",
      "Self-intersection at or near point 722.28571428571433 333\n",
      "Ring Self-intersection at or near point 475 333\n",
      "Self-intersection at or near point 526.20000000000005 378.39999999999998\n",
      "Ring Self-intersection at or near point 493 59\n",
      "Self-intersection at or near point 134 193\n",
      "Self-intersection at or near point 185.05263157894737 545.26315789473688\n",
      "Self-intersection at or near point 248 289\n",
      "Self-intersection at or near point 148.33333333333334 818\n"
     ]
    },
    {
     "name": "stdout",
     "output_type": "stream",
     "text": [
      "tresh: 0.45 eps: 0.5 minarea: 15.0\n",
      "('Final jaccard', 0.07758807379915371)\n",
      "eps: 1.0\n",
      "minarea: 1.0\n"
     ]
    },
    {
     "name": "stderr",
     "output_type": "stream",
     "text": [
      "Self-intersection at or near point 466.14285714285717 190.28571428571428\n",
      "Self-intersection at or near point 722.28571428571433 333\n",
      "Self-intersection at or near point 275.875 803.84375\n",
      "Self-intersection at or near point 349 328\n",
      "Self-intersection at or near point 134 191.25\n",
      "Self-intersection at or near point 661.69230769230774 354.23076923076923\n",
      "Self-intersection at or near point 293.23076923076923 188.61538461538461\n",
      "Self-intersection at or near point 148.33333333333334 818\n"
     ]
    },
    {
     "name": "stdout",
     "output_type": "stream",
     "text": [
      "tresh: 0.45 eps: 1.0 minarea: 1.0\n",
      "('Final jaccard', 0.07775874218040056)\n",
      "minarea: 3.0\n"
     ]
    },
    {
     "name": "stderr",
     "output_type": "stream",
     "text": [
      "Self-intersection at or near point 466.14285714285717 190.28571428571428\n",
      "Self-intersection at or near point 722.28571428571433 333\n",
      "Self-intersection at or near point 275.875 803.84375\n",
      "Self-intersection at or near point 349 328\n",
      "Self-intersection at or near point 134 191.25\n",
      "Self-intersection at or near point 185.05263157894737 545.26315789473688\n",
      "Self-intersection at or near point 293.23076923076923 188.61538461538461\n",
      "Self-intersection at or near point 148.33333333333334 818\n"
     ]
    },
    {
     "name": "stdout",
     "output_type": "stream",
     "text": [
      "tresh: 0.45 eps: 1.0 minarea: 3.0\n",
      "('Final jaccard', 0.07775887022087206)\n",
      "minarea: 10.0\n"
     ]
    },
    {
     "name": "stderr",
     "output_type": "stream",
     "text": [
      "Self-intersection at or near point 466.14285714285717 190.28571428571428\n",
      "Self-intersection at or near point 722.28571428571433 333\n",
      "Self-intersection at or near point 275.875 803.84375\n",
      "Self-intersection at or near point 252.09090909090909 400.54545454545456\n",
      "Self-intersection at or near point 134 191.25\n",
      "Self-intersection at or near point 185.05263157894737 545.26315789473688\n",
      "Self-intersection at or near point 148.33333333333334 818\n"
     ]
    },
    {
     "name": "stdout",
     "output_type": "stream",
     "text": [
      "tresh: 0.45 eps: 1.0 minarea: 10.0\n",
      "('Final jaccard', 0.07761389540417696)\n",
      "minarea: 15.0\n"
     ]
    },
    {
     "name": "stderr",
     "output_type": "stream",
     "text": [
      "Self-intersection at or near point 466.14285714285717 190.28571428571428\n",
      "Self-intersection at or near point 722.28571428571433 333\n",
      "Self-intersection at or near point 275.875 803.84375\n",
      "Self-intersection at or near point 252.09090909090909 400.54545454545456\n",
      "Self-intersection at or near point 134 193\n",
      "Self-intersection at or near point 185.05263157894737 545.26315789473688\n",
      "Self-intersection at or near point 49.421052631578945 583.36842105263156\n"
     ]
    },
    {
     "name": "stdout",
     "output_type": "stream",
     "text": [
      "tresh: 0.45 eps: 1.0 minarea: 15.0\n",
      "('Final jaccard', 0.07745380837441314)\n",
      "eps: 3.0\n",
      "minarea: 1.0\n"
     ]
    },
    {
     "name": "stderr",
     "output_type": "stream",
     "text": [
      "Self-intersection at or near point 486.66666666666669 213.88888888888889\n",
      "Self-intersection at or near point 722.28571428571433 333\n",
      "Self-intersection at or near point 3.75 449.375\n",
      "Self-intersection at or near point 346.38461538461536 293.30769230769232\n",
      "Self-intersection at or near point 49.421052631578945 583.36842105263156\n"
     ]
    },
    {
     "name": "stdout",
     "output_type": "stream",
     "text": [
      "tresh: 0.45 eps: 3.0 minarea: 1.0\n",
      "('Final jaccard', 0.07644174421198761)\n",
      "minarea: 3.0\n"
     ]
    },
    {
     "name": "stderr",
     "output_type": "stream",
     "text": [
      "Self-intersection at or near point 486.66666666666669 213.88888888888889\n",
      "Self-intersection at or near point 722.28571428571433 333\n",
      "Self-intersection at or near point 3.75 449.375\n",
      "Self-intersection at or near point 346.38461538461536 293.30769230769232\n",
      "Self-intersection at or near point 49.421052631578945 583.36842105263156\n"
     ]
    },
    {
     "name": "stdout",
     "output_type": "stream",
     "text": [
      "tresh: 0.45 eps: 3.0 minarea: 3.0\n",
      "('Final jaccard', 0.07644174421198761)\n",
      "minarea: 10.0\n"
     ]
    },
    {
     "name": "stderr",
     "output_type": "stream",
     "text": [
      "Self-intersection at or near point 486.66666666666669 213.88888888888889\n",
      "Self-intersection at or near point 722.28571428571433 333\n",
      "Self-intersection at or near point 3.75 449.375\n",
      "Self-intersection at or near point 346.38461538461536 293.30769230769232\n",
      "Self-intersection at or near point 49.421052631578945 583.36842105263156\n"
     ]
    },
    {
     "name": "stdout",
     "output_type": "stream",
     "text": [
      "tresh: 0.45 eps: 3.0 minarea: 10.0\n",
      "('Final jaccard', 0.07641939422659051)\n",
      "minarea: 15.0\n"
     ]
    },
    {
     "name": "stderr",
     "output_type": "stream",
     "text": [
      "Self-intersection at or near point 486.66666666666669 213.88888888888889\n",
      "Self-intersection at or near point 722.28571428571433 333\n",
      "Self-intersection at or near point 3.75 449.375\n",
      "Self-intersection at or near point 346.38461538461536 293.30769230769232\n",
      "Self-intersection at or near point 0 761\n"
     ]
    },
    {
     "name": "stdout",
     "output_type": "stream",
     "text": [
      "tresh: 0.45 eps: 3.0 minarea: 15.0\n",
      "('Final jaccard', 0.0762965351354993)\n",
      "2\n",
      "tresh: 0.15\n",
      "eps: 0.5\n",
      "minarea: 1.0\n"
     ]
    },
    {
     "name": "stderr",
     "output_type": "stream",
     "text": [
      "Self-intersection at or near point 298.60000000000002 46\n",
      "Self-intersection at or near point 679 259.5\n",
      "Self-intersection at or near point 828.85714285714289 0.5714285714285714\n",
      "Self-intersection at or near point 127.8 812.20000000000005\n",
      "Self-intersection at or near point 824.10000000000002 317.39999999999998\n",
      "Self-intersection at or near point 521 47\n",
      "Self-intersection at or near point 2 483\n",
      "Self-intersection at or near point 70 824.60000000000002\n",
      "Self-intersection at or near point 207.16666666666666 649.66666666666663\n",
      "TopologyException: Input geom 1 is invalid: Self-intersection at or near point 0.0068129999999999987 -0.0065719999999999997 at 0.0068129999999999987 -0.0065719999999999997\n",
      "Self-intersection at or near point 0.0068129999999999987 -0.0065719999999999997\n",
      "Self-intersection at or near point 0 761\n"
     ]
    },
    {
     "name": "stdout",
     "output_type": "stream",
     "text": [
      "topological error. Do not use this setup\n",
      "tresh: 0.15 eps: 0.5 minarea: 1.0\n",
      "('Final jaccard', 0.007914560265378113)\n",
      "minarea: 3.0\n"
     ]
    },
    {
     "name": "stderr",
     "output_type": "stream",
     "text": [
      "Self-intersection at or near point 298.60000000000002 46\n",
      "Self-intersection at or near point 679 259.5\n",
      "Self-intersection at or near point 828.85714285714289 0.5714285714285714\n",
      "Self-intersection at or near point 95.142857142857139 430.57142857142856\n",
      "Self-intersection at or near point 824.10000000000002 317.39999999999998\n",
      "Self-intersection at or near point 521 47\n",
      "Self-intersection at or near point 2 483\n",
      "Self-intersection at or near point 70 824.60000000000002\n",
      "Self-intersection at or near point 207.16666666666666 649.66666666666663\n",
      "TopologyException: Input geom 1 is invalid: Self-intersection at or near point 0.0068129999999999987 -0.0065719999999999997 at 0.0068129999999999987 -0.0065719999999999997\n",
      "Self-intersection at or near point 0.0068129999999999987 -0.0065719999999999997\n",
      "Self-intersection at or near point 0 761\n"
     ]
    },
    {
     "name": "stdout",
     "output_type": "stream",
     "text": [
      "topological error. Do not use this setup\n",
      "tresh: 0.15 eps: 0.5 minarea: 3.0\n",
      "('Final jaccard', 0.007913874836909902)\n",
      "minarea: 10.0\n"
     ]
    },
    {
     "name": "stderr",
     "output_type": "stream",
     "text": [
      "Self-intersection at or near point 95 102\n",
      "Self-intersection at or near point 679 259.5\n",
      "Self-intersection at or near point 0 431\n",
      "Self-intersection at or near point 280 28\n",
      "Self-intersection at or near point 2 483\n",
      "Self-intersection at or near point 70 824.60000000000002\n",
      "Self-intersection at or near point 319 820\n",
      "TopologyException: Input geom 1 is invalid: Self-intersection at or near point 0.0068129999999999987 -0.0065719999999999997 at 0.0068129999999999987 -0.0065719999999999997\n",
      "Self-intersection at or near point 0.0068129999999999987 -0.0065719999999999997\n",
      "Self-intersection at or near point 0 761\n"
     ]
    },
    {
     "name": "stdout",
     "output_type": "stream",
     "text": [
      "topological error. Do not use this setup\n",
      "tresh: 0.15 eps: 0.5 minarea: 10.0\n",
      "('Final jaccard', 0.00791653848102059)\n",
      "minarea: 15.0\n"
     ]
    },
    {
     "name": "stderr",
     "output_type": "stream",
     "text": [
      "Self-intersection at or near point 95 102\n",
      "Self-intersection at or near point 679 259.5\n",
      "Self-intersection at or near point 0 431\n",
      "Self-intersection at or near point 2 483\n",
      "Self-intersection at or near point 70 824.60000000000002\n",
      "Self-intersection at or near point 319 820\n",
      "TopologyException: Input geom 1 is invalid: Self-intersection at or near point 0.0068129999999999987 -0.0065719999999999997 at 0.0068129999999999987 -0.0065719999999999997\n",
      "Self-intersection at or near point 0.0068129999999999987 -0.0065719999999999997\n",
      "Self-intersection at or near point 0 802\n"
     ]
    },
    {
     "name": "stdout",
     "output_type": "stream",
     "text": [
      "topological error. Do not use this setup\n",
      "tresh: 0.15 eps: 0.5 minarea: 15.0\n",
      "('Final jaccard', 0.007920737745828124)\n",
      "eps: 1.0\n",
      "minarea: 1.0\n"
     ]
    },
    {
     "name": "stderr",
     "output_type": "stream",
     "text": [
      "Self-intersection at or near point 374.06896551724139 5.8965517241379306\n",
      "Self-intersection at or near point 679 259.5\n",
      "Self-intersection at or near point 828.85714285714289 0.5714285714285714\n",
      "Self-intersection at or near point 95.142857142857139 430.57142857142856\n",
      "Self-intersection at or near point 824.10000000000002 317.39999999999998\n",
      "Self-intersection at or near point 2 470\n",
      "Self-intersection at or near point 70 824.60000000000002\n",
      "Self-intersection at or near point 380.66666666666669 438\n",
      "TopologyException: Input geom 1 is invalid: Self-intersection at or near point 0.0068129999999999987 -0.0065719999999999997 at 0.0068129999999999987 -0.0065719999999999997\n",
      "Self-intersection at or near point 0.0068129999999999987 -0.0065719999999999997\n",
      "Self-intersection at or near point 0 802\n"
     ]
    },
    {
     "name": "stdout",
     "output_type": "stream",
     "text": [
      "topological error. Do not use this setup\n",
      "tresh: 0.15 eps: 1.0 minarea: 1.0\n",
      "('Final jaccard', 0.00789915973157723)\n",
      "minarea: 3.0\n"
     ]
    },
    {
     "name": "stderr",
     "output_type": "stream",
     "text": [
      "Self-intersection at or near point 374.06896551724139 5.8965517241379306\n",
      "Self-intersection at or near point 679 259.5\n",
      "Self-intersection at or near point 828.85714285714289 0.5714285714285714\n",
      "Self-intersection at or near point 95.142857142857139 430.57142857142856\n",
      "Self-intersection at or near point 824.10000000000002 317.39999999999998\n",
      "Self-intersection at or near point 2 470\n",
      "Self-intersection at or near point 70 824.60000000000002\n",
      "Self-intersection at or near point 380.66666666666669 438\n",
      "TopologyException: Input geom 1 is invalid: Self-intersection at or near point 0.0068129999999999987 -0.0065719999999999997 at 0.0068129999999999987 -0.0065719999999999997\n",
      "Self-intersection at or near point 0.0068129999999999987 -0.0065719999999999997\n",
      "Self-intersection at or near point 0 802\n"
     ]
    },
    {
     "name": "stdout",
     "output_type": "stream",
     "text": [
      "topological error. Do not use this setup\n",
      "tresh: 0.15 eps: 1.0 minarea: 3.0\n",
      "('Final jaccard', 0.007898525251411348)\n",
      "minarea: 10.0\n"
     ]
    },
    {
     "name": "stderr",
     "output_type": "stream",
     "text": [
      "Self-intersection at or near point 374.06896551724139 5.8965517241379306\n",
      "Self-intersection at or near point 679 259.5\n",
      "Self-intersection at or near point 1.096774193548387 653.61290322580646\n",
      "Self-intersection at or near point 280 28\n",
      "Self-intersection at or near point 2 470\n",
      "Self-intersection at or near point 70 824.60000000000002\n",
      "Self-intersection at or near point 380.66666666666669 438\n",
      "TopologyException: Input geom 1 is invalid: Self-intersection at or near point 0.0068129999999999987 -0.0065719999999999997 at 0.0068129999999999987 -0.0065719999999999997\n",
      "Self-intersection at or near point 0.0068129999999999987 -0.0065719999999999997\n",
      "Self-intersection at or near point 0 802\n"
     ]
    },
    {
     "name": "stdout",
     "output_type": "stream",
     "text": [
      "topological error. Do not use this setup\n",
      "tresh: 0.15 eps: 1.0 minarea: 10.0\n",
      "('Final jaccard', 0.007900775034866046)\n",
      "minarea: 15.0\n"
     ]
    },
    {
     "name": "stderr",
     "output_type": "stream",
     "text": [
      "Self-intersection at or near point 374.06896551724139 5.8965517241379306\n",
      "Self-intersection at or near point 679 259.5\n",
      "Self-intersection at or near point 1.096774193548387 653.61290322580646\n",
      "Self-intersection at or near point 2 470\n",
      "Self-intersection at or near point 70 824.60000000000002\n",
      "Self-intersection at or near point 380.66666666666669 438\n",
      "TopologyException: Input geom 1 is invalid: Self-intersection at or near point 0.0068129999999999987 -0.0065719999999999997 at 0.0068129999999999987 -0.0065719999999999997\n",
      "Self-intersection at or near point 0.0068129999999999987 -0.0065719999999999997\n",
      "Self-intersection at or near point 519 0\n"
     ]
    },
    {
     "name": "stdout",
     "output_type": "stream",
     "text": [
      "topological error. Do not use this setup\n",
      "tresh: 0.15 eps: 1.0 minarea: 15.0\n",
      "('Final jaccard', 0.007898080090378335)\n",
      "eps: 3.0\n",
      "minarea: 1.0\n"
     ]
    },
    {
     "name": "stderr",
     "output_type": "stream",
     "text": [
      "Self-intersection at or near point 717.65359477124184 181.78431372549019\n",
      "Self-intersection at or near point 335.07894736842104 440.5263157894737\n",
      "Self-intersection at or near point 522.69525959367945 307.03386004514675\n",
      "TopologyException: Input geom 1 is invalid: Self-intersection at or near point 0.0068129999999999987 -0.0065719999999999997 at 0.0068129999999999987 -0.0065719999999999997\n",
      "Self-intersection at or near point 0.0068129999999999987 -0.0065719999999999997\n",
      "Self-intersection at or near point 519 0\n"
     ]
    },
    {
     "name": "stdout",
     "output_type": "stream",
     "text": [
      "topological error. Do not use this setup\n",
      "tresh: 0.15 eps: 3.0 minarea: 1.0\n",
      "('Final jaccard', 0.007896869571554457)\n",
      "minarea: 3.0\n"
     ]
    },
    {
     "name": "stderr",
     "output_type": "stream",
     "text": [
      "Self-intersection at or near point 717.65359477124184 181.78431372549019\n",
      "Self-intersection at or near point 335.07894736842104 440.5263157894737\n",
      "Self-intersection at or near point 522.69525959367945 307.03386004514675\n",
      "TopologyException: Input geom 1 is invalid: Self-intersection at or near point 0.0068129999999999987 -0.0065719999999999997 at 0.0068129999999999987 -0.0065719999999999997\n",
      "Self-intersection at or near point 0.0068129999999999987 -0.0065719999999999997\n",
      "Self-intersection at or near point 519 0\n"
     ]
    },
    {
     "name": "stdout",
     "output_type": "stream",
     "text": [
      "topological error. Do not use this setup\n",
      "tresh: 0.15 eps: 3.0 minarea: 3.0\n",
      "('Final jaccard', 0.007896869571554457)\n",
      "minarea: 10.0\n"
     ]
    },
    {
     "name": "stderr",
     "output_type": "stream",
     "text": [
      "Self-intersection at or near point 717.65359477124184 181.78431372549019\n",
      "Self-intersection at or near point 335.07894736842104 440.5263157894737\n",
      "Self-intersection at or near point 522.69525959367945 307.03386004514675\n",
      "TopologyException: Input geom 1 is invalid: Self-intersection at or near point 0.0068129999999999987 -0.0065719999999999997 at 0.0068129999999999987 -0.0065719999999999997\n",
      "Self-intersection at or near point 0.0068129999999999987 -0.0065719999999999997\n",
      "Self-intersection at or near point 519 0\n"
     ]
    },
    {
     "name": "stdout",
     "output_type": "stream",
     "text": [
      "topological error. Do not use this setup\n",
      "tresh: 0.15 eps: 3.0 minarea: 10.0\n",
      "('Final jaccard', 0.00789659722686459)\n",
      "minarea: 15.0\n"
     ]
    },
    {
     "name": "stderr",
     "output_type": "stream",
     "text": [
      "Self-intersection at or near point 717.65359477124184 181.78431372549019\n",
      "Self-intersection at or near point 522.69525959367945 307.03386004514675\n",
      "TopologyException: Input geom 1 is invalid: Self-intersection at or near point 0.0068129999999999987 -0.0065719999999999997 at 0.0068129999999999987 -0.0065719999999999997\n",
      "Self-intersection at or near point 0.0068129999999999987 -0.0065719999999999997\n",
      "Self-intersection at or near point 440.92307692307691 776.30769230769226\n"
     ]
    },
    {
     "name": "stdout",
     "output_type": "stream",
     "text": [
      "topological error. Do not use this setup\n",
      "tresh: 0.15 eps: 3.0 minarea: 15.0\n",
      "('Final jaccard', 0.007896691128058873)\n",
      "tresh: 0.2\n",
      "eps: 0.5\n",
      "minarea: 1.0\n"
     ]
    },
    {
     "name": "stderr",
     "output_type": "stream",
     "text": [
      "Self-intersection at or near point 147.5 151.75\n",
      "Ring Self-intersection at or near point 344 300\n",
      "Self-intersection at or near point 828.85714285714289 0.5714285714285714\n",
      "Self-intersection at or near point 129.80645161290323 539.93548387096769\n",
      "Self-intersection at or near point 824.10000000000002 317.39999999999998\n",
      "Self-intersection at or near point 153 445\n",
      "Self-intersection at or near point 2 460\n",
      "Self-intersection at or near point 156.80000000000001 529.20000000000005\n",
      "Self-intersection at or near point 207.16666666666666 649.66666666666663\n",
      "Ring Self-intersection at or near point 612 616\n",
      "TopologyException: Input geom 1 is invalid: Self-intersection at or near point 0.0068129999999999987 -0.0065719999999999997 at 0.0068129999999999987 -0.0065719999999999997\n",
      "Self-intersection at or near point 0.0068129999999999987 -0.0065719999999999997\n",
      "Self-intersection at or near point 440.92307692307691 776.30769230769226\n"
     ]
    },
    {
     "name": "stdout",
     "output_type": "stream",
     "text": [
      "topological error. Do not use this setup\n",
      "tresh: 0.2 eps: 0.5 minarea: 1.0\n",
      "('Final jaccard', 0.007899804606884994)\n",
      "minarea: 3.0\n"
     ]
    },
    {
     "name": "stderr",
     "output_type": "stream",
     "text": [
      "Self-intersection at or near point 147.5 151.75\n",
      "Ring Self-intersection at or near point 344 300\n",
      "Self-intersection at or near point 828.85714285714289 0.5714285714285714\n",
      "Self-intersection at or near point 129.80645161290323 539.93548387096769\n",
      "Self-intersection at or near point 824.10000000000002 317.39999999999998\n",
      "Self-intersection at or near point 153 445\n",
      "Self-intersection at or near point 2 460\n",
      "Self-intersection at or near point 156.80000000000001 529.20000000000005\n",
      "Self-intersection at or near point 207.19999999999999 650\n",
      "Ring Self-intersection at or near point 612 616\n",
      "TopologyException: Input geom 1 is invalid: Self-intersection at or near point 0.0068129999999999987 -0.0065719999999999997 at 0.0068129999999999987 -0.0065719999999999997\n",
      "Self-intersection at or near point 0.0068129999999999987 -0.0065719999999999997\n",
      "Self-intersection at or near point 440.92307692307691 776.30769230769226\n"
     ]
    },
    {
     "name": "stdout",
     "output_type": "stream",
     "text": [
      "topological error. Do not use this setup\n",
      "tresh: 0.2 eps: 0.5 minarea: 3.0\n",
      "('Final jaccard', 0.007899757930071945)\n",
      "minarea: 10.0\n"
     ]
    },
    {
     "name": "stderr",
     "output_type": "stream",
     "text": [
      "Self-intersection at or near point 147.5 151.75\n",
      "Ring Self-intersection at or near point 344 300\n",
      "Self-intersection at or near point 216 784.5\n",
      "Self-intersection at or near point 280 28\n",
      "Self-intersection at or near point 153 445\n",
      "Self-intersection at or near point 2 460\n",
      "Self-intersection at or near point 156.80000000000001 529.20000000000005\n",
      "Self-intersection at or near point 319 820\n",
      "Ring Self-intersection at or near point 612 616\n",
      "TopologyException: Input geom 1 is invalid: Self-intersection at or near point 0.0068129999999999987 -0.0065719999999999997 at 0.0068129999999999987 -0.0065719999999999997\n",
      "Self-intersection at or near point 0.0068129999999999987 -0.0065719999999999997\n",
      "Self-intersection at or near point 440.92307692307691 776.30769230769226\n"
     ]
    },
    {
     "name": "stdout",
     "output_type": "stream",
     "text": [
      "topological error. Do not use this setup\n",
      "tresh: 0.2 eps: 0.5 minarea: 10.0\n",
      "('Final jaccard', 0.00790194980407989)\n",
      "minarea: 15.0\n"
     ]
    },
    {
     "name": "stderr",
     "output_type": "stream",
     "text": [
      "Self-intersection at or near point 147.5 151.75\n",
      "Ring Self-intersection at or near point 344 300\n",
      "Self-intersection at or near point 216 784.5\n",
      "Self-intersection at or near point 280 28\n",
      "Self-intersection at or near point 153 445\n",
      "Self-intersection at or near point 2 460\n",
      "Self-intersection at or near point 156.80000000000001 529.20000000000005\n",
      "Self-intersection at or near point 319 820\n",
      "Ring Self-intersection at or near point 612 616\n",
      "TopologyException: Input geom 1 is invalid: Self-intersection at or near point 0.0068129999999999987 -0.0065719999999999997 at 0.0068129999999999987 -0.0065719999999999997\n",
      "Self-intersection at or near point 0.0068129999999999987 -0.0065719999999999997\n",
      "Self-intersection at or near point 441 776.25\n"
     ]
    },
    {
     "name": "stdout",
     "output_type": "stream",
     "text": [
      "topological error. Do not use this setup\n",
      "tresh: 0.2 eps: 0.5 minarea: 15.0\n",
      "('Final jaccard', 0.007904216458501201)\n",
      "eps: 1.0\n",
      "minarea: 1.0\n"
     ]
    },
    {
     "name": "stderr",
     "output_type": "stream",
     "text": [
      "Self-intersection at or near point 121 134\n",
      "Ring Self-intersection at or near point 344 300\n",
      "Self-intersection at or near point 828.85714285714289 0.5714285714285714\n",
      "Self-intersection at or near point 463.81818181818181 408.90909090909093\n",
      "Self-intersection at or near point 824.10000000000002 317.39999999999998\n",
      "Self-intersection at or near point 153 445\n",
      "Self-intersection at or near point 2 460\n",
      "Self-intersection at or near point 156.76923076923077 529.15384615384619\n",
      "Self-intersection at or near point 207.19999999999999 650\n",
      "Ring Self-intersection at or near point 609 339\n",
      "TopologyException: Input geom 1 is invalid: Self-intersection at or near point 0.0068129999999999987 -0.0065719999999999997 at 0.0068129999999999987 -0.0065719999999999997\n",
      "Self-intersection at or near point 0.0068129999999999987 -0.0065719999999999997\n",
      "Self-intersection at or near point 441 776.25\n"
     ]
    },
    {
     "name": "stdout",
     "output_type": "stream",
     "text": [
      "topological error. Do not use this setup\n",
      "tresh: 0.2 eps: 1.0 minarea: 1.0\n",
      "('Final jaccard', 0.007887583688626808)\n",
      "minarea: 3.0\n"
     ]
    },
    {
     "name": "stderr",
     "output_type": "stream",
     "text": [
      "Self-intersection at or near point 121 134\n",
      "Ring Self-intersection at or near point 344 300\n",
      "Self-intersection at or near point 828.85714285714289 0.5714285714285714\n",
      "Self-intersection at or near point 463.81818181818181 408.90909090909093\n",
      "Self-intersection at or near point 824.10000000000002 317.39999999999998\n",
      "Self-intersection at or near point 153 445\n",
      "Self-intersection at or near point 2 460\n",
      "Self-intersection at or near point 156.36363636363637 528.5454545454545\n",
      "Self-intersection at or near point 207.19999999999999 650\n",
      "Ring Self-intersection at or near point 609 339\n",
      "TopologyException: Input geom 1 is invalid: Self-intersection at or near point 0.0068129999999999987 -0.0065719999999999997 at 0.0068129999999999987 -0.0065719999999999997\n",
      "Self-intersection at or near point 0.0068129999999999987 -0.0065719999999999997\n",
      "Self-intersection at or near point 441 776.25\n"
     ]
    },
    {
     "name": "stdout",
     "output_type": "stream",
     "text": [
      "topological error. Do not use this setup\n",
      "tresh: 0.2 eps: 1.0 minarea: 3.0\n",
      "('Final jaccard', 0.007887394324028742)\n",
      "minarea: 10.0\n"
     ]
    },
    {
     "name": "stderr",
     "output_type": "stream",
     "text": [
      "Self-intersection at or near point 121 134\n",
      "Ring Self-intersection at or near point 344 300\n",
      "Self-intersection at or near point 216.05555555555554 784.88888888888891\n",
      "Self-intersection at or near point 112 24\n",
      "Self-intersection at or near point 153 445\n",
      "Self-intersection at or near point 2 460\n",
      "Self-intersection at or near point 156.76923076923077 529.15384615384619\n",
      "Ring Self-intersection at or near point 399 695\n",
      "Ring Self-intersection at or near point 609 339\n",
      "TopologyException: Input geom 1 is invalid: Self-intersection at or near point 0.0068129999999999987 -0.0065719999999999997 at 0.0068129999999999987 -0.0065719999999999997\n",
      "Self-intersection at or near point 0.0068129999999999987 -0.0065719999999999997\n",
      "Self-intersection at or near point 441 776.25\n"
     ]
    },
    {
     "name": "stdout",
     "output_type": "stream",
     "text": [
      "topological error. Do not use this setup\n",
      "tresh: 0.2 eps: 1.0 minarea: 10.0\n",
      "('Final jaccard', 0.007889004650917858)\n",
      "minarea: 15.0\n"
     ]
    },
    {
     "name": "stderr",
     "output_type": "stream",
     "text": [
      "Self-intersection at or near point 121 134\n",
      "Ring Self-intersection at or near point 344 300\n",
      "Self-intersection at or near point 216.05555555555554 784.88888888888891\n",
      "Self-intersection at or near point 112 24\n",
      "Self-intersection at or near point 153 445\n",
      "Self-intersection at or near point 2 494\n",
      "Self-intersection at or near point 156.76923076923077 529.15384615384619\n",
      "Ring Self-intersection at or near point 399 695\n",
      "Ring Self-intersection at or near point 609 339\n",
      "TopologyException: Input geom 1 is invalid: Self-intersection at or near point 0.0068129999999999987 -0.0065719999999999997 at 0.0068129999999999987 -0.0065719999999999997\n",
      "Self-intersection at or near point 0.0068129999999999987 -0.0065719999999999997\n",
      "Self-intersection at or near point 443.97590361445782 773.7831325301205\n"
     ]
    },
    {
     "name": "stdout",
     "output_type": "stream",
     "text": [
      "topological error. Do not use this setup\n",
      "tresh: 0.2 eps: 1.0 minarea: 15.0\n",
      "('Final jaccard', 0.007884932451132094)\n",
      "eps: 3.0\n",
      "minarea: 1.0\n"
     ]
    },
    {
     "name": "stderr",
     "output_type": "stream",
     "text": [
      "Self-intersection at or near point 156 530.28571428571433\n",
      "Self-intersection at or near point 521.37735849056605 307.84905660377359\n",
      "TopologyException: Input geom 1 is invalid: Self-intersection at or near point 0.0068129999999999987 -0.0065719999999999997 at 0.0068129999999999987 -0.0065719999999999997\n",
      "Self-intersection at or near point 0.0068129999999999987 -0.0065719999999999997\n",
      "Self-intersection at or near point 443.97590361445782 773.7831325301205\n"
     ]
    },
    {
     "name": "stdout",
     "output_type": "stream",
     "text": [
      "topological error. Do not use this setup\n",
      "tresh: 0.2 eps: 3.0 minarea: 1.0\n",
      "('Final jaccard', 0.007920890146256958)\n",
      "minarea: 3.0\n"
     ]
    },
    {
     "name": "stderr",
     "output_type": "stream",
     "text": [
      "Self-intersection at or near point 156 530.28571428571433\n",
      "Self-intersection at or near point 521.37735849056605 307.84905660377359\n",
      "TopologyException: Input geom 1 is invalid: Self-intersection at or near point 0.0068129999999999987 -0.0065719999999999997 at 0.0068129999999999987 -0.0065719999999999997\n",
      "Self-intersection at or near point 0.0068129999999999987 -0.0065719999999999997\n",
      "Self-intersection at or near point 443.97590361445782 773.7831325301205\n"
     ]
    },
    {
     "name": "stdout",
     "output_type": "stream",
     "text": [
      "topological error. Do not use this setup\n",
      "tresh: 0.2 eps: 3.0 minarea: 3.0\n",
      "('Final jaccard', 0.007920890146256958)\n",
      "minarea: 10.0\n"
     ]
    },
    {
     "name": "stderr",
     "output_type": "stream",
     "text": [
      "Self-intersection at or near point 156 530.28571428571433\n",
      "Self-intersection at or near point 521.37735849056605 307.84905660377359\n",
      "TopologyException: Input geom 1 is invalid: Self-intersection at or near point 0.0068129999999999987 -0.0065719999999999997 at 0.0068129999999999987 -0.0065719999999999997\n",
      "Self-intersection at or near point 0.0068129999999999987 -0.0065719999999999997\n",
      "Self-intersection at or near point 443.97590361445782 773.7831325301205\n"
     ]
    },
    {
     "name": "stdout",
     "output_type": "stream",
     "text": [
      "topological error. Do not use this setup\n",
      "tresh: 0.2 eps: 3.0 minarea: 10.0\n",
      "('Final jaccard', 0.007919487380034416)\n",
      "minarea: 15.0\n"
     ]
    },
    {
     "name": "stderr",
     "output_type": "stream",
     "text": [
      "Self-intersection at or near point 156 530.28571428571433\n",
      "Self-intersection at or near point 521.37735849056605 307.84905660377359\n",
      "TopologyException: Input geom 1 is invalid: Self-intersection at or near point 0.0068129999999999987 -0.0065719999999999997 at 0.0068129999999999987 -0.0065719999999999997\n",
      "Self-intersection at or near point 0.0068129999999999987 -0.0065719999999999997\n",
      "Self-intersection at or near point 830.43076923076922 314.7076923076923\n"
     ]
    },
    {
     "name": "stdout",
     "output_type": "stream",
     "text": [
      "topological error. Do not use this setup\n",
      "tresh: 0.2 eps: 3.0 minarea: 15.0\n",
      "('Final jaccard', 0.00792145961495825)\n",
      "tresh: 0.25\n",
      "eps: 0.5\n",
      "minarea: 1.0\n"
     ]
    },
    {
     "name": "stderr",
     "output_type": "stream",
     "text": [
      "Self-intersection at or near point 525.39999999999998 523.39999999999998\n",
      "Ring Self-intersection at or near point 317 191\n",
      "Self-intersection at or near point 284.04761904761904 176.14285714285714\n",
      "Self-intersection at or near point 1.3076923076923077 558.46153846153845\n",
      "Self-intersection at or near point 824.10000000000002 317.39999999999998\n",
      "Self-intersection at or near point 153 445\n",
      "Self-intersection at or near point 158.5 831\n",
      "Self-intersection at or near point 47 520.33333333333337\n",
      "Self-intersection at or near point 207.09090909090909 649.81818181818187\n",
      "Self-intersection at or near point 1 445\n",
      "TopologyException: Input geom 1 is invalid: Self-intersection at or near point 0.0068129999999999987 -0.0065719999999999997 at 0.0068129999999999987 -0.0065719999999999997\n",
      "Self-intersection at or near point 0.0068129999999999987 -0.0065719999999999997\n",
      "Self-intersection at or near point 830.43076923076922 314.7076923076923\n"
     ]
    },
    {
     "name": "stdout",
     "output_type": "stream",
     "text": [
      "topological error. Do not use this setup\n",
      "tresh: 0.25 eps: 0.5 minarea: 1.0\n",
      "('Final jaccard', 0.007898991518618536)\n",
      "minarea: 3.0\n"
     ]
    },
    {
     "name": "stderr",
     "output_type": "stream",
     "text": [
      "Self-intersection at or near point 525.39999999999998 523.39999999999998\n",
      "Ring Self-intersection at or near point 317 191\n",
      "Self-intersection at or near point 284.04761904761904 176.14285714285714\n",
      "Self-intersection at or near point 1.3076923076923077 558.46153846153845\n",
      "Self-intersection at or near point 824.10000000000002 317.39999999999998\n",
      "Self-intersection at or near point 153 445\n",
      "Self-intersection at or near point 158.5 831\n",
      "Self-intersection at or near point 47 520.33333333333337\n",
      "Self-intersection at or near point 207.11111111111111 650\n",
      "Self-intersection at or near point 1 445\n",
      "TopologyException: Input geom 1 is invalid: Self-intersection at or near point 0.0068129999999999987 -0.0065719999999999997 at 0.0068129999999999987 -0.0065719999999999997\n",
      "Self-intersection at or near point 0.0068129999999999987 -0.0065719999999999997\n",
      "Self-intersection at or near point 830.43076923076922 314.7076923076923\n"
     ]
    },
    {
     "name": "stdout",
     "output_type": "stream",
     "text": [
      "topological error. Do not use this setup\n",
      "tresh: 0.25 eps: 0.5 minarea: 3.0\n",
      "('Final jaccard', 0.007898929709416035)\n",
      "minarea: 10.0\n"
     ]
    },
    {
     "name": "stderr",
     "output_type": "stream",
     "text": [
      "Self-intersection at or near point 525.39999999999998 523.39999999999998\n",
      "Ring Self-intersection at or near point 317 191\n",
      "Self-intersection at or near point 284.04761904761904 176.14285714285714\n",
      "Self-intersection at or near point 1.3076923076923077 558.46153846153845\n",
      "Self-intersection at or near point 153 445\n",
      "Self-intersection at or near point 2 460\n",
      "Self-intersection at or near point 47 520.33333333333337\n",
      "Self-intersection at or near point 143.40000000000001 828\n",
      "Self-intersection at or near point 413 238\n",
      "TopologyException: Input geom 1 is invalid: Self-intersection at or near point 0.0068129999999999987 -0.0065719999999999997 at 0.0068129999999999987 -0.0065719999999999997\n",
      "Self-intersection at or near point 0.0068129999999999987 -0.0065719999999999997\n",
      "Self-intersection at or near point 830.96992481203006 278.04511278195491\n"
     ]
    },
    {
     "name": "stdout",
     "output_type": "stream",
     "text": [
      "topological error. Do not use this setup\n",
      "tresh: 0.25 eps: 0.5 minarea: 10.0\n",
      "('Final jaccard', 0.007899284040108714)\n",
      "minarea: 15.0\n"
     ]
    },
    {
     "name": "stderr",
     "output_type": "stream",
     "text": [
      "Self-intersection at or near point 525.39999999999998 523.39999999999998\n",
      "Ring Self-intersection at or near point 317 191\n",
      "Self-intersection at or near point 284.04761904761904 176.14285714285714\n",
      "Self-intersection at or near point 1.3076923076923077 558.46153846153845\n",
      "Self-intersection at or near point 153 445\n",
      "Self-intersection at or near point 2 460\n",
      "Self-intersection at or near point 47 520.33333333333337\n",
      "Self-intersection at or near point 143.40000000000001 828\n",
      "Self-intersection at or near point 413 238\n",
      "TopologyException: Input geom 1 is invalid: Self-intersection at or near point 0.0068129999999999987 -0.0065719999999999997 at 0.0068129999999999987 -0.0065719999999999997\n",
      "Self-intersection at or near point 0.0068129999999999987 -0.0065719999999999997\n",
      "Self-intersection at or near point 829.96503496503499 312.74125874125872\n"
     ]
    },
    {
     "name": "stdout",
     "output_type": "stream",
     "text": [
      "topological error. Do not use this setup\n",
      "tresh: 0.25 eps: 0.5 minarea: 15.0\n",
      "('Final jaccard', 0.007900361198478652)\n",
      "eps: 1.0\n",
      "minarea: 1.0\n"
     ]
    },
    {
     "name": "stderr",
     "output_type": "stream",
     "text": [
      "Self-intersection at or near point 525.39999999999998 523.39999999999998\n",
      "Self-intersection at or near point 678 355\n",
      "Self-intersection at or near point 216.125 784.75\n",
      "Self-intersection at or near point 463.81818181818181 408.90909090909093\n",
      "Self-intersection at or near point 824.10000000000002 317.39999999999998\n",
      "Self-intersection at or near point 153 445\n",
      "Self-intersection at or near point 2 460\n",
      "Ring Self-intersection at or near point 276 478\n",
      "Self-intersection at or near point 207.09090909090909 649.81818181818187\n",
      "Self-intersection at or near point 413 238\n",
      "TopologyException: Input geom 1 is invalid: Self-intersection at or near point 0.0068129999999999987 -0.0065719999999999997 at 0.0068129999999999987 -0.0065719999999999997\n",
      "Self-intersection at or near point 0.0068129999999999987 -0.0065719999999999997\n",
      "Self-intersection at or near point 829.96503496503499 312.74125874125872\n"
     ]
    },
    {
     "name": "stdout",
     "output_type": "stream",
     "text": [
      "topological error. Do not use this setup\n",
      "tresh: 0.25 eps: 1.0 minarea: 1.0\n",
      "('Final jaccard', 0.007894107128392246)\n",
      "minarea: 3.0\n"
     ]
    },
    {
     "name": "stderr",
     "output_type": "stream",
     "text": [
      "Self-intersection at or near point 525.39999999999998 523.39999999999998\n",
      "Self-intersection at or near point 678 355\n",
      "Self-intersection at or near point 216.125 784.75\n",
      "Self-intersection at or near point 463.81818181818181 408.90909090909093\n",
      "Self-intersection at or near point 824.10000000000002 317.39999999999998\n",
      "Self-intersection at or near point 153 445\n",
      "Self-intersection at or near point 2 460\n",
      "Ring Self-intersection at or near point 276 478\n",
      "Self-intersection at or near point 207.09090909090909 649.81818181818187\n",
      "Self-intersection at or near point 413 238\n",
      "TopologyException: Input geom 1 is invalid: Self-intersection at or near point 0.0068129999999999987 -0.0065719999999999997 at 0.0068129999999999987 -0.0065719999999999997\n",
      "Self-intersection at or near point 0.0068129999999999987 -0.0065719999999999997\n",
      "Self-intersection at or near point 829.96503496503499 312.74125874125872\n"
     ]
    },
    {
     "name": "stdout",
     "output_type": "stream",
     "text": [
      "topological error. Do not use this setup\n",
      "tresh: 0.25 eps: 1.0 minarea: 3.0\n",
      "('Final jaccard', 0.007893939695939725)\n",
      "minarea: 10.0\n"
     ]
    },
    {
     "name": "stderr",
     "output_type": "stream",
     "text": [
      "Self-intersection at or near point 525.39999999999998 523.39999999999998\n",
      "Self-intersection at or near point 678 355\n",
      "Self-intersection at or near point 216.125 784.75\n",
      "Self-intersection at or near point 1.3076923076923077 558.46153846153845\n",
      "Self-intersection at or near point 153 445\n",
      "Self-intersection at or near point 2 460\n",
      "Ring Self-intersection at or near point 276 478\n",
      "Self-intersection at or near point 143.1875 827.46875\n",
      "Self-intersection at or near point 413 238\n",
      "TopologyException: Input geom 1 is invalid: Self-intersection at or near point 0.0068129999999999987 -0.0065719999999999997 at 0.0068129999999999987 -0.0065719999999999997\n",
      "Self-intersection at or near point 0.0068129999999999987 -0.0065719999999999997\n",
      "Self-intersection at or near point 0 761\n"
     ]
    },
    {
     "name": "stdout",
     "output_type": "stream",
     "text": [
      "topological error. Do not use this setup\n",
      "tresh: 0.25 eps: 1.0 minarea: 10.0\n",
      "('Final jaccard', 0.007893880561981023)\n",
      "minarea: 15.0\n"
     ]
    },
    {
     "name": "stderr",
     "output_type": "stream",
     "text": [
      "Self-intersection at or near point 525.39999999999998 523.39999999999998\n",
      "Self-intersection at or near point 678 355\n",
      "Self-intersection at or near point 216.125 784.75\n",
      "Self-intersection at or near point 1.3076923076923077 558.46153846153845\n",
      "Self-intersection at or near point 153 445\n",
      "Self-intersection at or near point 2 495\n",
      "Ring Self-intersection at or near point 276 478\n",
      "Self-intersection at or near point 143.1875 827.46875\n",
      "Self-intersection at or near point 413 238\n",
      "TopologyException: Input geom 1 is invalid: Self-intersection at or near point 0.0068129999999999987 -0.0065719999999999997 at 0.0068129999999999987 -0.0065719999999999997\n",
      "Self-intersection at or near point 0.0068129999999999987 -0.0065719999999999997\n",
      "Self-intersection at or near point 0 801\n"
     ]
    },
    {
     "name": "stdout",
     "output_type": "stream",
     "text": [
      "topological error. Do not use this setup\n",
      "tresh: 0.25 eps: 1.0 minarea: 15.0\n",
      "('Final jaccard', 0.007887994408365333)\n",
      "eps: 3.0\n",
      "minarea: 1.0\n"
     ]
    },
    {
     "name": "stderr",
     "output_type": "stream",
     "text": [
      "Self-intersection at or near point 525 523.57142857142856\n",
      "Ring Self-intersection at or near point 73 440\n",
      "TopologyException: Input geom 1 is invalid: Self-intersection at or near point 0.0068129999999999987 -0.0065719999999999997 at 0.0068129999999999987 -0.0065719999999999997\n",
      "Self-intersection at or near point 0.0068129999999999987 -0.0065719999999999997\n",
      "Self-intersection at or near point 0 801\n"
     ]
    },
    {
     "name": "stdout",
     "output_type": "stream",
     "text": [
      "topological error. Do not use this setup\n",
      "tresh: 0.25 eps: 3.0 minarea: 1.0\n",
      "('Final jaccard', 0.007903206204360755)\n",
      "minarea: 3.0\n"
     ]
    },
    {
     "name": "stderr",
     "output_type": "stream",
     "text": [
      "Self-intersection at or near point 525 523.57142857142856\n",
      "Ring Self-intersection at or near point 73 440\n",
      "TopologyException: Input geom 1 is invalid: Self-intersection at or near point 0.0068129999999999987 -0.0065719999999999997 at 0.0068129999999999987 -0.0065719999999999997\n",
      "Self-intersection at or near point 0.0068129999999999987 -0.0065719999999999997\n",
      "Self-intersection at or near point 0 801\n"
     ]
    },
    {
     "name": "stdout",
     "output_type": "stream",
     "text": [
      "topological error. Do not use this setup\n",
      "tresh: 0.25 eps: 3.0 minarea: 3.0\n",
      "('Final jaccard', 0.007903206204360755)\n",
      "minarea: 10.0\n"
     ]
    },
    {
     "name": "stderr",
     "output_type": "stream",
     "text": [
      "Self-intersection at or near point 525 523.57142857142856\n",
      "Ring Self-intersection at or near point 73 440\n",
      "TopologyException: Input geom 1 is invalid: Self-intersection at or near point 0.0068129999999999987 -0.0065719999999999997 at 0.0068129999999999987 -0.0065719999999999997\n",
      "Self-intersection at or near point 0.0068129999999999987 -0.0065719999999999997\n",
      "Self-intersection at or near point 0 801\n"
     ]
    },
    {
     "name": "stdout",
     "output_type": "stream",
     "text": [
      "topological error. Do not use this setup\n",
      "tresh: 0.25 eps: 3.0 minarea: 10.0\n",
      "('Final jaccard', 0.007902982841753585)\n",
      "minarea: 15.0\n"
     ]
    },
    {
     "name": "stderr",
     "output_type": "stream",
     "text": [
      "Self-intersection at or near point 525 523.57142857142856\n",
      "Ring Self-intersection at or near point 73 440\n",
      "TopologyException: Input geom 1 is invalid: Self-intersection at or near point 0.0068129999999999987 -0.0065719999999999997 at 0.0068129999999999987 -0.0065719999999999997\n",
      "Self-intersection at or near point 0.0068129999999999987 -0.0065719999999999997\n",
      "Self-intersection at or near point 830.43076923076922 314.7076923076923\n"
     ]
    },
    {
     "name": "stdout",
     "output_type": "stream",
     "text": [
      "topological error. Do not use this setup\n",
      "tresh: 0.25 eps: 3.0 minarea: 15.0\n",
      "('Final jaccard', 0.00790466336846288)\n",
      "tresh: 0.3\n",
      "eps: 0.5\n",
      "minarea: 1.0\n"
     ]
    },
    {
     "name": "stderr",
     "output_type": "stream",
     "text": [
      "Ring Self-intersection at or near point 431 90\n",
      "Ring Self-intersection at or near point 317 191\n",
      "Self-intersection at or near point 216 784.66666666666663\n",
      "Self-intersection at or near point 1 8\n",
      "Self-intersection at or near point 824.10000000000002 317.39999999999998\n",
      "Self-intersection at or near point 323 146\n",
      "Self-intersection at or near point 1.2857142857142858 485.28571428571428\n",
      "Self-intersection at or near point 329.5 183.75\n",
      "Self-intersection at or near point 207.11111111111111 650\n",
      "TopologyException: Input geom 1 is invalid: Self-intersection at or near point 0.0068129999999999987 -0.0065719999999999997 at 0.0068129999999999987 -0.0065719999999999997\n",
      "Self-intersection at or near point 0.0068129999999999987 -0.0065719999999999997\n",
      "Self-intersection at or near point 830.43076923076922 314.7076923076923\n"
     ]
    },
    {
     "name": "stdout",
     "output_type": "stream",
     "text": [
      "topological error. Do not use this setup\n",
      "tresh: 0.3 eps: 0.5 minarea: 1.0\n",
      "('Final jaccard', 0.007892497718722118)\n",
      "minarea: 3.0\n"
     ]
    },
    {
     "name": "stderr",
     "output_type": "stream",
     "text": [
      "Ring Self-intersection at or near point 431 90\n",
      "Ring Self-intersection at or near point 317 191\n",
      "Self-intersection at or near point 216 784.66666666666663\n",
      "Self-intersection at or near point 1 8\n",
      "Self-intersection at or near point 824.10000000000002 317.39999999999998\n",
      "Self-intersection at or near point 2 461\n",
      "Self-intersection at or near point 329.5 183.75\n",
      "Self-intersection at or near point 207.11111111111111 650\n",
      "TopologyException: Input geom 1 is invalid: Self-intersection at or near point 0.0068129999999999987 -0.0065719999999999997 at 0.0068129999999999987 -0.0065719999999999997\n",
      "Self-intersection at or near point 0.0068129999999999987 -0.0065719999999999997\n",
      "Self-intersection at or near point 830.43076923076922 314.7076923076923\n"
     ]
    },
    {
     "name": "stdout",
     "output_type": "stream",
     "text": [
      "topological error. Do not use this setup\n",
      "tresh: 0.3 eps: 0.5 minarea: 3.0\n",
      "('Final jaccard', 0.007892521994478072)\n",
      "minarea: 10.0\n"
     ]
    },
    {
     "name": "stderr",
     "output_type": "stream",
     "text": [
      "Ring Self-intersection at or near point 431 90\n",
      "Ring Self-intersection at or near point 317 191\n",
      "Self-intersection at or near point 216 784.66666666666663\n",
      "Self-intersection at or near point 1 8\n",
      "Self-intersection at or near point 2 461\n",
      "Self-intersection at or near point 329.5 183.75\n",
      "Self-intersection at or near point 319 820\n",
      "TopologyException: Input geom 1 is invalid: Self-intersection at or near point 0.0068129999999999987 -0.0065719999999999997 at 0.0068129999999999987 -0.0065719999999999997\n",
      "Self-intersection at or near point 0.0068129999999999987 -0.0065719999999999997\n",
      "Self-intersection at or near point 830.96992481203006 278.04511278195491\n"
     ]
    },
    {
     "name": "stdout",
     "output_type": "stream",
     "text": [
      "topological error. Do not use this setup\n",
      "tresh: 0.3 eps: 0.5 minarea: 10.0\n",
      "('Final jaccard', 0.007891879263769776)\n",
      "minarea: 15.0\n"
     ]
    },
    {
     "name": "stderr",
     "output_type": "stream",
     "text": [
      "Ring Self-intersection at or near point 431 90\n",
      "Ring Self-intersection at or near point 317 191\n",
      "Self-intersection at or near point 216 784.66666666666663\n",
      "Self-intersection at or near point 1 8\n",
      "Self-intersection at or near point 160 830\n",
      "Self-intersection at or near point 329.5 183.75\n",
      "Self-intersection at or near point 319 820\n",
      "TopologyException: Input geom 1 is invalid: Self-intersection at or near point 0.0068129999999999987 -0.0065719999999999997 at 0.0068129999999999987 -0.0065719999999999997\n",
      "Self-intersection at or near point 0.0068129999999999987 -0.0065719999999999997\n",
      "Self-intersection at or near point 829.96503496503499 312.74125874125872\n"
     ]
    },
    {
     "name": "stdout",
     "output_type": "stream",
     "text": [
      "topological error. Do not use this setup\n",
      "tresh: 0.3 eps: 0.5 minarea: 15.0\n",
      "('Final jaccard', 0.007893735243138878)\n",
      "eps: 1.0\n",
      "minarea: 1.0\n"
     ]
    },
    {
     "name": "stderr",
     "output_type": "stream",
     "text": [
      "Self-intersection at or near point 401 25\n",
      "Self-intersection at or near point 678 355\n",
      "Self-intersection at or near point 216.125 784.75\n",
      "Self-intersection at or near point 543 321.14285714285717\n",
      "Self-intersection at or near point 824.10000000000002 317.39999999999998\n",
      "Self-intersection at or near point 2 420\n",
      "Self-intersection at or near point 16 10\n",
      "Self-intersection at or near point 277.27272727272725 278.18181818181819\n",
      "TopologyException: Input geom 1 is invalid: Self-intersection at or near point 0.0068129999999999987 -0.0065719999999999997 at 0.0068129999999999987 -0.0065719999999999997\n",
      "Self-intersection at or near point 0.0068129999999999987 -0.0065719999999999997\n",
      "Self-intersection at or near point 829.96503496503499 312.74125874125872\n"
     ]
    },
    {
     "name": "stdout",
     "output_type": "stream",
     "text": [
      "topological error. Do not use this setup\n",
      "tresh: 0.3 eps: 1.0 minarea: 1.0\n",
      "('Final jaccard', 0.007860479618384802)\n",
      "minarea: 3.0\n"
     ]
    },
    {
     "name": "stderr",
     "output_type": "stream",
     "text": [
      "Self-intersection at or near point 401 25\n",
      "Self-intersection at or near point 678 355\n",
      "Self-intersection at or near point 216.125 784.75\n",
      "Self-intersection at or near point 543 321.14285714285717\n",
      "Self-intersection at or near point 824.10000000000002 317.39999999999998\n",
      "Self-intersection at or near point 2 420\n",
      "Self-intersection at or near point 16 10\n",
      "Self-intersection at or near point 277.27272727272725 278.18181818181819\n",
      "TopologyException: Input geom 1 is invalid: Self-intersection at or near point 0.0068129999999999987 -0.0065719999999999997 at 0.0068129999999999987 -0.0065719999999999997\n",
      "Self-intersection at or near point 0.0068129999999999987 -0.0065719999999999997\n",
      "Self-intersection at or near point 829.96503496503499 312.74125874125872\n"
     ]
    },
    {
     "name": "stdout",
     "output_type": "stream",
     "text": [
      "topological error. Do not use this setup\n",
      "tresh: 0.3 eps: 1.0 minarea: 3.0\n",
      "('Final jaccard', 0.00786051402636604)\n",
      "minarea: 10.0\n"
     ]
    },
    {
     "name": "stderr",
     "output_type": "stream",
     "text": [
      "Self-intersection at or near point 401 25\n",
      "Self-intersection at or near point 678 355\n",
      "Self-intersection at or near point 216.125 784.75\n",
      "Self-intersection at or near point 1 8\n",
      "Self-intersection at or near point 2 461\n",
      "Self-intersection at or near point 16 10\n",
      "Self-intersection at or near point 277.27272727272725 278.18181818181819\n",
      "TopologyException: Input geom 1 is invalid: Self-intersection at or near point 0.0068129999999999987 -0.0065719999999999997 at 0.0068129999999999987 -0.0065719999999999997\n",
      "Self-intersection at or near point 0.0068129999999999987 -0.0065719999999999997\n",
      "Self-intersection at or near point 588.61538461538464 802.15384615384619\n"
     ]
    },
    {
     "name": "stdout",
     "output_type": "stream",
     "text": [
      "topological error. Do not use this setup\n",
      "tresh: 0.3 eps: 1.0 minarea: 10.0\n",
      "('Final jaccard', 0.007859635280022856)\n",
      "minarea: 15.0\n"
     ]
    },
    {
     "name": "stderr",
     "output_type": "stream",
     "text": [
      "Self-intersection at or near point 401 25\n",
      "Self-intersection at or near point 678 355\n",
      "Self-intersection at or near point 216.125 784.75\n",
      "Self-intersection at or near point 1 8\n",
      "Self-intersection at or near point 829 687\n",
      "Self-intersection at or near point 16 10\n",
      "Self-intersection at or near point 277.27272727272725 278.18181818181819\n",
      "TopologyException: Input geom 1 is invalid: Self-intersection at or near point 0.0068129999999999987 -0.0065719999999999997 at 0.0068129999999999987 -0.0065719999999999997\n",
      "Self-intersection at or near point 0.0068129999999999987 -0.0065719999999999997\n",
      "Ring Self-intersection at or near point 508 0\n"
     ]
    },
    {
     "name": "stdout",
     "output_type": "stream",
     "text": [
      "topological error. Do not use this setup\n",
      "tresh: 0.3 eps: 1.0 minarea: 15.0\n",
      "('Final jaccard', 0.007855422947403176)\n",
      "eps: 3.0\n",
      "minarea: 1.0\n"
     ]
    },
    {
     "name": "stderr",
     "output_type": "stream",
     "text": [
      "Self-intersection at or near point 450.11111111111109 54.988888888888887\n",
      "Ring Self-intersection at or near point 719 151\n",
      "Ring Self-intersection at or near point 73 440\n",
      "TopologyException: Input geom 1 is invalid: Self-intersection at or near point 0.0068129999999999987 -0.0065719999999999997 at 0.0068129999999999987 -0.0065719999999999997\n",
      "Self-intersection at or near point 0.0068129999999999987 -0.0065719999999999997\n",
      "Ring Self-intersection at or near point 508 0\n"
     ]
    },
    {
     "name": "stdout",
     "output_type": "stream",
     "text": [
      "topological error. Do not use this setup\n",
      "tresh: 0.3 eps: 3.0 minarea: 1.0\n",
      "('Final jaccard', 0.007904582083501789)\n",
      "minarea: 3.0\n"
     ]
    },
    {
     "name": "stderr",
     "output_type": "stream",
     "text": [
      "Self-intersection at or near point 450.11111111111109 54.988888888888887\n",
      "Ring Self-intersection at or near point 719 151\n",
      "Ring Self-intersection at or near point 73 440\n",
      "TopologyException: Input geom 1 is invalid: Self-intersection at or near point 0.0068129999999999987 -0.0065719999999999997 at 0.0068129999999999987 -0.0065719999999999997\n",
      "Self-intersection at or near point 0.0068129999999999987 -0.0065719999999999997\n",
      "Ring Self-intersection at or near point 508 0\n"
     ]
    },
    {
     "name": "stdout",
     "output_type": "stream",
     "text": [
      "topological error. Do not use this setup\n",
      "tresh: 0.3 eps: 3.0 minarea: 3.0\n",
      "('Final jaccard', 0.007904582083501789)\n",
      "minarea: 10.0\n"
     ]
    },
    {
     "name": "stderr",
     "output_type": "stream",
     "text": [
      "Self-intersection at or near point 450.11111111111109 54.988888888888887\n",
      "Ring Self-intersection at or near point 719 151\n",
      "Ring Self-intersection at or near point 73 440\n",
      "TopologyException: Input geom 1 is invalid: Self-intersection at or near point 0.0068129999999999987 -0.0065719999999999997 at 0.0068129999999999987 -0.0065719999999999997\n",
      "Self-intersection at or near point 0.0068129999999999987 -0.0065719999999999997\n",
      "Ring Self-intersection at or near point 508 0\n"
     ]
    },
    {
     "name": "stdout",
     "output_type": "stream",
     "text": [
      "topological error. Do not use this setup\n",
      "tresh: 0.3 eps: 3.0 minarea: 10.0\n",
      "('Final jaccard', 0.007903397516150107)\n",
      "minarea: 15.0\n"
     ]
    },
    {
     "name": "stderr",
     "output_type": "stream",
     "text": [
      "Self-intersection at or near point 450.11111111111109 54.988888888888887\n",
      "Ring Self-intersection at or near point 719 151\n",
      "Ring Self-intersection at or near point 73 440\n",
      "TopologyException: Input geom 1 is invalid: Self-intersection at or near point 0.0068129999999999987 -0.0065719999999999997 at 0.0068129999999999987 -0.0065719999999999997\n",
      "Self-intersection at or near point 0.0068129999999999987 -0.0065719999999999997\n",
      "Self-intersection at or near point 830.43076923076922 314.7076923076923\n"
     ]
    },
    {
     "name": "stdout",
     "output_type": "stream",
     "text": [
      "topological error. Do not use this setup\n",
      "tresh: 0.3 eps: 3.0 minarea: 15.0\n",
      "('Final jaccard', 0.007903007975996103)\n",
      "tresh: 0.35\n",
      "eps: 0.5\n",
      "minarea: 1.0\n"
     ]
    },
    {
     "name": "stderr",
     "output_type": "stream",
     "text": [
      "Self-intersection at or near point 371.60000000000002 173.80000000000001\n",
      "Self-intersection at or near point 343.2962962962963 150.77777777777777\n",
      "Self-intersection at or near point 216 784.39999999999998\n",
      "Self-intersection at or near point 543.5 321.125\n",
      "Self-intersection at or near point 824.10000000000002 317.39999999999998\n",
      "Self-intersection at or near point 323 146\n",
      "Self-intersection at or near point 2 443\n",
      "Self-intersection at or near point 329.5 183.75\n",
      "Self-intersection at or near point 207.11111111111111 650\n",
      "TopologyException: Input geom 1 is invalid: Self-intersection at or near point 0.0068129999999999987 -0.0065719999999999997 at 0.0068129999999999987 -0.0065719999999999997\n",
      "Self-intersection at or near point 0.0068129999999999987 -0.0065719999999999997\n",
      "Self-intersection at or near point 830.43076923076922 314.7076923076923\n"
     ]
    },
    {
     "name": "stdout",
     "output_type": "stream",
     "text": [
      "topological error. Do not use this setup\n",
      "tresh: 0.35 eps: 0.5 minarea: 1.0\n",
      "('Final jaccard', 0.007873514636569049)\n",
      "minarea: 3.0\n"
     ]
    },
    {
     "name": "stderr",
     "output_type": "stream",
     "text": [
      "Self-intersection at or near point 371.60000000000002 173.80000000000001\n",
      "Self-intersection at or near point 343.2962962962963 150.77777777777777\n",
      "Self-intersection at or near point 216 784.39999999999998\n",
      "Self-intersection at or near point 543 321.5\n",
      "Self-intersection at or near point 824.10000000000002 317.39999999999998\n",
      "Self-intersection at or near point 2 443\n",
      "Self-intersection at or near point 329.5 183.75\n",
      "Self-intersection at or near point 207.11111111111111 650\n",
      "TopologyException: Input geom 1 is invalid: Self-intersection at or near point 0.0068129999999999987 -0.0065719999999999997 at 0.0068129999999999987 -0.0065719999999999997\n",
      "Self-intersection at or near point 0.0068129999999999987 -0.0065719999999999997\n",
      "Self-intersection at or near point 830.43076923076922 314.7076923076923\n"
     ]
    },
    {
     "name": "stdout",
     "output_type": "stream",
     "text": [
      "topological error. Do not use this setup\n",
      "tresh: 0.35 eps: 0.5 minarea: 3.0\n",
      "('Final jaccard', 0.007873662238826611)\n",
      "minarea: 10.0\n"
     ]
    },
    {
     "name": "stderr",
     "output_type": "stream",
     "text": [
      "Ring Self-intersection at or near point 416 91\n",
      "Self-intersection at or near point 343.2962962962963 150.77777777777777\n",
      "Self-intersection at or near point 216 784.39999999999998\n",
      "Self-intersection at or near point 543 321.5\n",
      "Self-intersection at or near point 2 443\n",
      "Self-intersection at or near point 329.5 183.75\n",
      "Self-intersection at or near point 0 776\n",
      "TopologyException: Input geom 1 is invalid: Self-intersection at or near point 0.0068129999999999987 -0.0065719999999999997 at 0.0068129999999999987 -0.0065719999999999997\n",
      "Self-intersection at or near point 0.0068129999999999987 -0.0065719999999999997\n",
      "Self-intersection at or near point 830.969696969697 278.06060606060606\n"
     ]
    },
    {
     "name": "stdout",
     "output_type": "stream",
     "text": [
      "topological error. Do not use this setup\n",
      "tresh: 0.35 eps: 0.5 minarea: 10.0\n",
      "('Final jaccard', 0.007870799983002384)\n",
      "minarea: 15.0\n"
     ]
    },
    {
     "name": "stderr",
     "output_type": "stream",
     "text": [
      "Ring Self-intersection at or near point 416 91\n",
      "Self-intersection at or near point 343.2962962962963 150.77777777777777\n",
      "Self-intersection at or near point 216 784.39999999999998\n",
      "Self-intersection at or near point 543.5 321.125\n",
      "Ring Self-intersection at or near point 2 511\n",
      "Self-intersection at or near point 329.5 183.75\n",
      "Self-intersection at or near point 0 776\n",
      "TopologyException: Input geom 1 is invalid: Self-intersection at or near point 0.0068129999999999987 -0.0065719999999999997 at 0.0068129999999999987 -0.0065719999999999997\n",
      "Self-intersection at or near point 0.0068129999999999987 -0.0065719999999999997\n",
      "Self-intersection at or near point 829.96503496503499 312.74125874125872\n"
     ]
    },
    {
     "name": "stdout",
     "output_type": "stream",
     "text": [
      "topological error. Do not use this setup\n",
      "tresh: 0.35 eps: 0.5 minarea: 15.0\n",
      "('Final jaccard', 0.00787272465018915)\n",
      "eps: 1.0\n",
      "minarea: 1.0\n"
     ]
    },
    {
     "name": "stderr",
     "output_type": "stream",
     "text": [
      "Self-intersection at or near point 371.60000000000002 173.80000000000001\n",
      "Self-intersection at or near point 343.2962962962963 150.77777777777777\n",
      "Self-intersection at or near point 216.21428571428572 784.57142857142856\n",
      "Self-intersection at or near point 543.14285714285711 321.0612244897959\n",
      "Self-intersection at or near point 824.10000000000002 317.39999999999998\n",
      "Self-intersection at or near point 2 443\n",
      "Self-intersection at or near point 298.10000000000002 460.19999999999999\n",
      "Self-intersection at or near point 277.27272727272725 278.18181818181819\n",
      "TopologyException: Input geom 1 is invalid: Self-intersection at or near point 0.0068129999999999987 -0.0065719999999999997 at 0.0068129999999999987 -0.0065719999999999997\n",
      "Self-intersection at or near point 0.0068129999999999987 -0.0065719999999999997\n",
      "Self-intersection at or near point 829.96503496503499 312.74125874125872\n"
     ]
    },
    {
     "name": "stdout",
     "output_type": "stream",
     "text": [
      "topological error. Do not use this setup\n",
      "tresh: 0.35 eps: 1.0 minarea: 1.0\n",
      "('Final jaccard', 0.007857885381459814)\n",
      "minarea: 3.0\n"
     ]
    },
    {
     "name": "stderr",
     "output_type": "stream",
     "text": [
      "Self-intersection at or near point 371.60000000000002 173.80000000000001\n",
      "Self-intersection at or near point 343.2962962962963 150.77777777777777\n",
      "Self-intersection at or near point 216.21428571428572 784.57142857142856\n",
      "Self-intersection at or near point 543 321.14285714285717\n",
      "Self-intersection at or near point 824.10000000000002 317.39999999999998\n",
      "Self-intersection at or near point 2 443\n",
      "Self-intersection at or near point 298.10000000000002 460.19999999999999\n",
      "Self-intersection at or near point 277.27272727272725 278.18181818181819\n",
      "TopologyException: Input geom 1 is invalid: Self-intersection at or near point 0.0068129999999999987 -0.0065719999999999997 at 0.0068129999999999987 -0.0065719999999999997\n",
      "Self-intersection at or near point 0.0068129999999999987 -0.0065719999999999997\n",
      "Self-intersection at or near point 829.96503496503499 312.74125874125872\n"
     ]
    },
    {
     "name": "stdout",
     "output_type": "stream",
     "text": [
      "topological error. Do not use this setup\n",
      "tresh: 0.35 eps: 1.0 minarea: 3.0\n",
      "('Final jaccard', 0.007857878401809314)\n",
      "minarea: 10.0\n"
     ]
    },
    {
     "name": "stderr",
     "output_type": "stream",
     "text": [
      "Ring Self-intersection at or near point 416 91\n",
      "Self-intersection at or near point 343.2962962962963 150.77777777777777\n",
      "Self-intersection at or near point 216.21428571428572 784.57142857142856\n",
      "Self-intersection at or near point 543 321.14285714285717\n",
      "Self-intersection at or near point 2 443\n",
      "Self-intersection at or near point 298.10000000000002 460.19999999999999\n",
      "Self-intersection at or near point 277.27272727272725 278.18181818181819\n",
      "TopologyException: Input geom 1 is invalid: Self-intersection at or near point 0.0068129999999999987 -0.0065719999999999997 at 0.0068129999999999987 -0.0065719999999999997\n",
      "Self-intersection at or near point 0.0068129999999999987 -0.0065719999999999997\n",
      "Ring Self-intersection at or near point 169 542\n"
     ]
    },
    {
     "name": "stdout",
     "output_type": "stream",
     "text": [
      "topological error. Do not use this setup\n",
      "tresh: 0.35 eps: 1.0 minarea: 10.0\n",
      "('Final jaccard', 0.007855813547290669)\n",
      "minarea: 15.0\n"
     ]
    },
    {
     "name": "stderr",
     "output_type": "stream",
     "text": [
      "Ring Self-intersection at or near point 416 91\n",
      "Self-intersection at or near point 343.2962962962963 150.77777777777777\n",
      "Self-intersection at or near point 216.21428571428572 784.57142857142856\n",
      "Self-intersection at or near point 543 321.14285714285717\n",
      "Self-intersection at or near point 2 443\n",
      "Self-intersection at or near point 298.10000000000002 460.19999999999999\n",
      "Self-intersection at or near point 277.27272727272725 278.18181818181819\n",
      "TopologyException: Input geom 1 is invalid: Self-intersection at or near point 0.0068129999999999987 -0.0065719999999999997 at 0.0068129999999999987 -0.0065719999999999997\n",
      "Self-intersection at or near point 0.0068129999999999987 -0.0065719999999999997\n"
     ]
    },
    {
     "name": "stdout",
     "output_type": "stream",
     "text": [
      "topological error. Do not use this setup\n",
      "tresh: 0.35 eps: 1.0 minarea: 15.0\n",
      "('Final jaccard', 0.007854663022523993)\n",
      "eps: 3.0\n",
      "minarea: 1.0\n"
     ]
    },
    {
     "name": "stderr",
     "output_type": "stream",
     "text": [
      "Self-intersection at or near point 450.20610687022901 54.908396946564885\n",
      "Self-intersection at or near point 343.2962962962963 150.77777777777777\n",
      "Ring Self-intersection at or near point 73 440\n",
      "TopologyException: Input geom 1 is invalid: Self-intersection at or near point 0.0068129999999999987 -0.0065719999999999997 at 0.0068129999999999987 -0.0065719999999999997\n",
      "Self-intersection at or near point 0.0068129999999999987 -0.0065719999999999997\n"
     ]
    },
    {
     "name": "stdout",
     "output_type": "stream",
     "text": [
      "topological error. Do not use this setup\n",
      "tresh: 0.35 eps: 3.0 minarea: 1.0\n",
      "('Final jaccard', 0.007797210429523966)\n",
      "minarea: 3.0\n"
     ]
    },
    {
     "name": "stderr",
     "output_type": "stream",
     "text": [
      "Self-intersection at or near point 450.20610687022901 54.908396946564885\n",
      "Self-intersection at or near point 343.2962962962963 150.77777777777777\n",
      "Ring Self-intersection at or near point 73 440\n",
      "TopologyException: Input geom 1 is invalid: Self-intersection at or near point 0.0068129999999999987 -0.0065719999999999997 at 0.0068129999999999987 -0.0065719999999999997\n",
      "Self-intersection at or near point 0.0068129999999999987 -0.0065719999999999997\n"
     ]
    },
    {
     "name": "stdout",
     "output_type": "stream",
     "text": [
      "topological error. Do not use this setup\n",
      "tresh: 0.35 eps: 3.0 minarea: 3.0\n",
      "('Final jaccard', 0.007797210429523966)\n",
      "minarea: 10.0\n"
     ]
    },
    {
     "name": "stderr",
     "output_type": "stream",
     "text": [
      "Self-intersection at or near point 450.20610687022901 54.908396946564885\n",
      "Self-intersection at or near point 343.2962962962963 150.77777777777777\n",
      "Ring Self-intersection at or near point 73 440\n",
      "TopologyException: Input geom 1 is invalid: Self-intersection at or near point 0.0068129999999999987 -0.0065719999999999997 at 0.0068129999999999987 -0.0065719999999999997\n",
      "Self-intersection at or near point 0.0068129999999999987 -0.0065719999999999997\n"
     ]
    },
    {
     "name": "stdout",
     "output_type": "stream",
     "text": [
      "topological error. Do not use this setup\n",
      "tresh: 0.35 eps: 3.0 minarea: 10.0\n",
      "('Final jaccard', 0.0077959419580554724)\n",
      "minarea: 15.0\n"
     ]
    },
    {
     "name": "stderr",
     "output_type": "stream",
     "text": [
      "Self-intersection at or near point 450.20610687022901 54.908396946564885\n",
      "Self-intersection at or near point 343.2962962962963 150.77777777777777\n",
      "Ring Self-intersection at or near point 73 440\n",
      "TopologyException: Input geom 1 is invalid: Self-intersection at or near point 0.0068129999999999987 -0.0065719999999999997 at 0.0068129999999999987 -0.0065719999999999997\n",
      "Self-intersection at or near point 0.0068129999999999987 -0.0065719999999999997\n",
      "Self-intersection at or near point 830.969696969697 278.06060606060606\n"
     ]
    },
    {
     "name": "stdout",
     "output_type": "stream",
     "text": [
      "topological error. Do not use this setup\n",
      "tresh: 0.35 eps: 3.0 minarea: 15.0\n",
      "('Final jaccard', 0.007798417182361621)\n",
      "tresh: 0.4\n",
      "eps: 0.5\n",
      "minarea: 1.0\n"
     ]
    },
    {
     "name": "stderr",
     "output_type": "stream",
     "text": [
      "Self-intersection at or near point 510.88888888888891 495.11111111111109\n",
      "Self-intersection at or near point 674.23076923076928 99.92307692307692\n",
      "Self-intersection at or near point 330.19999999999999 243.19999999999999\n",
      "Self-intersection at or near point 91.833333333333329 543.75\n",
      "Self-intersection at or near point 824.10000000000002 317.39999999999998\n",
      "Self-intersection at or near point 2 443\n",
      "Self-intersection at or near point 742.33333333333337 232.66666666666666\n",
      "Self-intersection at or near point 0.068181818181818177 775.93181818181813\n",
      "TopologyException: Input geom 1 is invalid: Self-intersection at or near point 0.0068129999999999987 -0.0065719999999999997 at 0.0068129999999999987 -0.0065719999999999997\n",
      "Self-intersection at or near point 0.0068129999999999987 -0.0065719999999999997\n",
      "Self-intersection at or near point 830.969696969697 278.06060606060606\n"
     ]
    },
    {
     "name": "stdout",
     "output_type": "stream",
     "text": [
      "topological error. Do not use this setup\n",
      "tresh: 0.4 eps: 0.5 minarea: 1.0\n",
      "('Final jaccard', 0.007859588206473018)\n",
      "minarea: 3.0\n"
     ]
    },
    {
     "name": "stderr",
     "output_type": "stream",
     "text": [
      "Self-intersection at or near point 510.88888888888891 495.11111111111109\n",
      "Self-intersection at or near point 674.33333333333337 100.33333333333333\n",
      "Self-intersection at or near point 330.19999999999999 243.19999999999999\n",
      "Self-intersection at or near point 91.833333333333329 543.75\n",
      "Self-intersection at or near point 824.10000000000002 317.39999999999998\n",
      "Self-intersection at or near point 2 443\n",
      "Self-intersection at or near point 742.33333333333337 232.66666666666666\n",
      "Self-intersection at or near point 0.068181818181818177 775.93181818181813\n",
      "TopologyException: Input geom 1 is invalid: Self-intersection at or near point 0.0068129999999999987 -0.0065719999999999997 at 0.0068129999999999987 -0.0065719999999999997\n",
      "Self-intersection at or near point 0.0068129999999999987 -0.0065719999999999997\n",
      "Self-intersection at or near point 830.969696969697 278.06060606060606\n"
     ]
    },
    {
     "name": "stdout",
     "output_type": "stream",
     "text": [
      "topological error. Do not use this setup\n",
      "tresh: 0.4 eps: 0.5 minarea: 3.0\n",
      "('Final jaccard', 0.007859619300836684)\n",
      "minarea: 10.0\n"
     ]
    },
    {
     "name": "stderr",
     "output_type": "stream",
     "text": [
      "Self-intersection at or near point 510.88888888888891 495.11111111111109\n",
      "Self-intersection at or near point 671.15789473684208 452.94736842105266\n",
      "Self-intersection at or near point 216 784\n",
      "Self-intersection at or near point 59 548.66666666666663\n",
      "Self-intersection at or near point 159 830\n",
      "Self-intersection at or near point 742.33333333333337 232.66666666666666\n",
      "Self-intersection at or near point 0.068181818181818177 775.93181818181813\n",
      "TopologyException: Input geom 1 is invalid: Self-intersection at or near point 0.0068129999999999987 -0.0065719999999999997 at 0.0068129999999999987 -0.0065719999999999997\n",
      "Self-intersection at or near point 0.0068129999999999987 -0.0065719999999999997\n",
      "Self-intersection at or near point 830.969696969697 278.06060606060606\n"
     ]
    },
    {
     "name": "stdout",
     "output_type": "stream",
     "text": [
      "topological error. Do not use this setup\n",
      "tresh: 0.4 eps: 0.5 minarea: 10.0\n",
      "('Final jaccard', 0.007858485234620332)\n",
      "minarea: 15.0\n"
     ]
    },
    {
     "name": "stderr",
     "output_type": "stream",
     "text": [
      "Self-intersection at or near point 510.88888888888891 495.11111111111109\n",
      "Self-intersection at or near point 671.15789473684208 452.94736842105266\n",
      "Self-intersection at or near point 216 784\n",
      "Self-intersection at or near point 59 548.66666666666663\n",
      "Ring Self-intersection at or near point 2 511\n",
      "Self-intersection at or near point 742.33333333333337 232.66666666666666\n",
      "Self-intersection at or near point 0.068181818181818177 775.93181818181813\n",
      "TopologyException: Input geom 1 is invalid: Self-intersection at or near point 0.0068129999999999987 -0.0065719999999999997 at 0.0068129999999999987 -0.0065719999999999997\n",
      "Self-intersection at or near point 0.0068129999999999987 -0.0065719999999999997\n",
      "Self-intersection at or near point 830 311.5\n"
     ]
    },
    {
     "name": "stdout",
     "output_type": "stream",
     "text": [
      "topological error. Do not use this setup\n",
      "tresh: 0.4 eps: 0.5 minarea: 15.0\n",
      "('Final jaccard', 0.007858500917297881)\n",
      "eps: 1.0\n",
      "minarea: 1.0\n"
     ]
    },
    {
     "name": "stderr",
     "output_type": "stream",
     "text": [
      "Self-intersection at or near point 510.88888888888891 495.11111111111109\n",
      "Self-intersection at or near point 674.60000000000002 100.59999999999999\n",
      "Self-intersection at or near point 330.19999999999999 243.19999999999999\n",
      "Self-intersection at or near point 544.31578947368416 320.21052631578948\n",
      "Self-intersection at or near point 824.10000000000002 317.39999999999998\n",
      "Self-intersection at or near point 2 467\n",
      "Self-intersection at or near point 742.05882352941171 232.94117647058823\n",
      "Self-intersection at or near point 277.27272727272725 278.18181818181819\n",
      "TopologyException: Input geom 1 is invalid: Self-intersection at or near point 0.0068129999999999987 -0.0065719999999999997 at 0.0068129999999999987 -0.0065719999999999997\n",
      "Self-intersection at or near point 0.0068129999999999987 -0.0065719999999999997\n",
      "Self-intersection at or near point 830 311.5\n"
     ]
    },
    {
     "name": "stdout",
     "output_type": "stream",
     "text": [
      "topological error. Do not use this setup\n",
      "tresh: 0.4 eps: 1.0 minarea: 1.0\n",
      "('Final jaccard', 0.007843197672518334)\n",
      "minarea: 3.0\n"
     ]
    },
    {
     "name": "stderr",
     "output_type": "stream",
     "text": [
      "Self-intersection at or near point 510.88888888888891 495.11111111111109\n",
      "Self-intersection at or near point 674.33333333333337 99.888888888888886\n",
      "Self-intersection at or near point 330.19999999999999 243.19999999999999\n",
      "Self-intersection at or near point 544.31578947368416 320.21052631578948\n",
      "Self-intersection at or near point 824.10000000000002 317.39999999999998\n",
      "Self-intersection at or near point 2 467\n",
      "Self-intersection at or near point 742.05882352941171 232.94117647058823\n",
      "Self-intersection at or near point 277.27272727272725 278.18181818181819\n",
      "TopologyException: Input geom 1 is invalid: Self-intersection at or near point 0.0068129999999999987 -0.0065719999999999997 at 0.0068129999999999987 -0.0065719999999999997\n",
      "Self-intersection at or near point 0.0068129999999999987 -0.0065719999999999997\n",
      "Self-intersection at or near point 830 311.5\n"
     ]
    },
    {
     "name": "stdout",
     "output_type": "stream",
     "text": [
      "topological error. Do not use this setup\n",
      "tresh: 0.4 eps: 1.0 minarea: 3.0\n",
      "('Final jaccard', 0.007843184979908402)\n",
      "minarea: 10.0\n"
     ]
    },
    {
     "name": "stderr",
     "output_type": "stream",
     "text": [
      "Self-intersection at or near point 510.88888888888891 495.11111111111109\n",
      "Self-intersection at or near point 671.33333333333337 453\n",
      "Self-intersection at or near point 216.33333333333334 784.33333333333337\n",
      "Self-intersection at or near point 544.31578947368416 320.21052631578948\n",
      "Self-intersection at or near point 742.05882352941171 232.94117647058823\n",
      "Self-intersection at or near point 277.27272727272725 278.18181818181819\n",
      "TopologyException: Input geom 1 is invalid: Self-intersection at or near point 0.0068129999999999987 -0.0065719999999999997 at 0.0068129999999999987 -0.0065719999999999997\n",
      "Self-intersection at or near point 0.0068129999999999987 -0.0065719999999999997\n",
      "Ring Self-intersection at or near point 169 542\n"
     ]
    },
    {
     "name": "stdout",
     "output_type": "stream",
     "text": [
      "topological error. Do not use this setup\n",
      "tresh: 0.4 eps: 1.0 minarea: 10.0\n",
      "('Final jaccard', 0.00784385823822636)\n",
      "minarea: 15.0\n"
     ]
    },
    {
     "name": "stderr",
     "output_type": "stream",
     "text": [
      "Self-intersection at or near point 510.88888888888891 495.11111111111109\n",
      "Self-intersection at or near point 671.33333333333337 453\n",
      "Self-intersection at or near point 216.33333333333334 784.33333333333337\n",
      "Self-intersection at or near point 544.31578947368416 320.21052631578948\n",
      "Self-intersection at or near point 742.05882352941171 232.94117647058823\n",
      "Self-intersection at or near point 277.27272727272725 278.18181818181819\n",
      "TopologyException: Input geom 1 is invalid: Self-intersection at or near point 0.0068129999999999987 -0.0065719999999999997 at 0.0068129999999999987 -0.0065719999999999997\n",
      "Self-intersection at or near point 0.0068129999999999987 -0.0065719999999999997\n"
     ]
    },
    {
     "name": "stdout",
     "output_type": "stream",
     "text": [
      "topological error. Do not use this setup\n",
      "tresh: 0.4 eps: 1.0 minarea: 15.0\n",
      "('Final jaccard', 0.007839543977656587)\n",
      "eps: 3.0\n",
      "minarea: 1.0\n"
     ]
    },
    {
     "name": "stderr",
     "output_type": "stream",
     "text": [
      "Self-intersection at or near point 450.13793103448273 55.03793103448276\n",
      "Self-intersection at or near point 343.2962962962963 150.77777777777777\n",
      "Self-intersection at or near point 544.11111111111109 320.33333333333331\n",
      "Self-intersection at or near point 208.15555555555557 648.71111111111111\n",
      "TopologyException: Input geom 1 is invalid: Self-intersection at or near point 0.0068129999999999987 -0.0065719999999999997 at 0.0068129999999999987 -0.0065719999999999997\n",
      "Self-intersection at or near point 0.0068129999999999987 -0.0065719999999999997\n"
     ]
    },
    {
     "name": "stdout",
     "output_type": "stream",
     "text": [
      "topological error. Do not use this setup\n",
      "tresh: 0.4 eps: 3.0 minarea: 1.0\n",
      "('Final jaccard', 0.007810026177442594)\n",
      "minarea: 3.0\n"
     ]
    },
    {
     "name": "stderr",
     "output_type": "stream",
     "text": [
      "Self-intersection at or near point 450.13793103448273 55.03793103448276\n",
      "Self-intersection at or near point 343.2962962962963 150.77777777777777\n",
      "Self-intersection at or near point 544.11111111111109 320.33333333333331\n",
      "Self-intersection at or near point 208.15555555555557 648.71111111111111\n",
      "TopologyException: Input geom 1 is invalid: Self-intersection at or near point 0.0068129999999999987 -0.0065719999999999997 at 0.0068129999999999987 -0.0065719999999999997\n",
      "Self-intersection at or near point 0.0068129999999999987 -0.0065719999999999997\n"
     ]
    },
    {
     "name": "stdout",
     "output_type": "stream",
     "text": [
      "topological error. Do not use this setup\n",
      "tresh: 0.4 eps: 3.0 minarea: 3.0\n",
      "('Final jaccard', 0.007810026177442594)\n",
      "minarea: 10.0\n"
     ]
    },
    {
     "name": "stderr",
     "output_type": "stream",
     "text": [
      "Self-intersection at or near point 450.13793103448273 55.03793103448276\n",
      "Self-intersection at or near point 343.2962962962963 150.77777777777777\n",
      "Self-intersection at or near point 544.19718309859149 320.28169014084506\n",
      "Ring Self-intersection at or near point 73 440\n",
      "TopologyException: Input geom 1 is invalid: Self-intersection at or near point 0.0068129999999999987 -0.0065719999999999997 at 0.0068129999999999987 -0.0065719999999999997\n",
      "Self-intersection at or near point 0.0068129999999999987 -0.0065719999999999997\n"
     ]
    },
    {
     "name": "stdout",
     "output_type": "stream",
     "text": [
      "topological error. Do not use this setup\n",
      "tresh: 0.4 eps: 3.0 minarea: 10.0\n",
      "('Final jaccard', 0.007809013133557624)\n",
      "minarea: 15.0\n"
     ]
    },
    {
     "name": "stderr",
     "output_type": "stream",
     "text": [
      "Self-intersection at or near point 450.13793103448273 55.03793103448276\n",
      "Self-intersection at or near point 343.2962962962963 150.77777777777777\n",
      "Self-intersection at or near point 544.11111111111109 320.33333333333331\n",
      "Ring Self-intersection at or near point 73 440\n",
      "TopologyException: Input geom 1 is invalid: Self-intersection at or near point 0.0068129999999999987 -0.0065719999999999997 at 0.0068129999999999987 -0.0065719999999999997\n",
      "Self-intersection at or near point 0.0068129999999999987 -0.0065719999999999997\n",
      "Self-intersection at or near point 830.969696969697 278.06060606060606\n"
     ]
    },
    {
     "name": "stdout",
     "output_type": "stream",
     "text": [
      "topological error. Do not use this setup\n",
      "tresh: 0.4 eps: 3.0 minarea: 15.0\n",
      "('Final jaccard', 0.007808859200011909)\n",
      "tresh: 0.45\n",
      "eps: 0.5\n",
      "minarea: 1.0\n"
     ]
    },
    {
     "name": "stderr",
     "output_type": "stream",
     "text": [
      "Self-intersection at or near point 478 86\n",
      "Self-intersection at or near point 1.4482758620689655 254.17241379310346\n",
      "Self-intersection at or near point 674.33333333333337 100.33333333333333\n",
      "Self-intersection at or near point 216 784\n",
      "Self-intersection at or near point 59 548.66666666666663\n",
      "Self-intersection at or near point 824.10000000000002 317.39999999999998\n",
      "Self-intersection at or near point 158.63636363636363 830.36363636363637\n",
      "Self-intersection at or near point 430.83333333333331 562.5\n",
      "Self-intersection at or near point 321 69.25\n",
      "TopologyException: Input geom 1 is invalid: Self-intersection at or near point 0.0068129999999999987 -0.0065719999999999997 at 0.0068129999999999987 -0.0065719999999999997\n",
      "Self-intersection at or near point 0.0068129999999999987 -0.0065719999999999997\n",
      "Self-intersection at or near point 830.969696969697 278.06060606060606\n"
     ]
    },
    {
     "name": "stdout",
     "output_type": "stream",
     "text": [
      "topological error. Do not use this setup\n",
      "tresh: 0.45 eps: 0.5 minarea: 1.0\n",
      "('Final jaccard', 0.007862050418123013)\n",
      "minarea: 3.0\n"
     ]
    },
    {
     "name": "stderr",
     "output_type": "stream",
     "text": [
      "Self-intersection at or near point 478 86\n",
      "Self-intersection at or near point 1.4482758620689655 254.17241379310346\n",
      "Self-intersection at or near point 674.23076923076928 99.92307692307692\n",
      "Self-intersection at or near point 216 784\n",
      "Self-intersection at or near point 59 548.66666666666663\n",
      "Self-intersection at or near point 824.10000000000002 317.39999999999998\n",
      "Self-intersection at or near point 158.63636363636363 830.36363636363637\n",
      "Self-intersection at or near point 430.83333333333331 562.5\n",
      "Self-intersection at or near point 321 69.25\n",
      "TopologyException: Input geom 1 is invalid: Self-intersection at or near point 0.0068129999999999987 -0.0065719999999999997 at 0.0068129999999999987 -0.0065719999999999997\n",
      "Self-intersection at or near point 0.0068129999999999987 -0.0065719999999999997\n",
      "Self-intersection at or near point 830.969696969697 278.06060606060606\n"
     ]
    },
    {
     "name": "stdout",
     "output_type": "stream",
     "text": [
      "topological error. Do not use this setup\n",
      "tresh: 0.45 eps: 0.5 minarea: 3.0\n",
      "('Final jaccard', 0.00786221652877065)\n",
      "minarea: 10.0\n"
     ]
    },
    {
     "name": "stderr",
     "output_type": "stream",
     "text": [
      "Self-intersection at or near point 141.77777777777777 34.185185185185183\n",
      "Self-intersection at or near point 671.15789473684208 452.94736842105266\n",
      "Self-intersection at or near point 216 784\n",
      "Self-intersection at or near point 59 548.66666666666663\n",
      "Self-intersection at or near point 76 828\n",
      "Self-intersection at or near point 430.83333333333331 562.5\n",
      "Self-intersection at or near point 321 69.25\n",
      "TopologyException: Input geom 1 is invalid: Self-intersection at or near point 0.0068129999999999987 -0.0065719999999999997 at 0.0068129999999999987 -0.0065719999999999997\n",
      "Self-intersection at or near point 0.0068129999999999987 -0.0065719999999999997\n",
      "Self-intersection at or near point 830.969696969697 278.06060606060606\n"
     ]
    },
    {
     "name": "stdout",
     "output_type": "stream",
     "text": [
      "topological error. Do not use this setup\n",
      "tresh: 0.45 eps: 0.5 minarea: 10.0\n",
      "('Final jaccard', 0.007860579628657473)\n",
      "minarea: 15.0\n"
     ]
    },
    {
     "name": "stderr",
     "output_type": "stream",
     "text": [
      "Self-intersection at or near point 141.77777777777777 34.185185185185183\n",
      "Self-intersection at or near point 671.15789473684208 452.94736842105266\n",
      "Self-intersection at or near point 216 784\n",
      "Self-intersection at or near point 59 548.66666666666663\n",
      "Self-intersection at or near point 76 828\n",
      "Self-intersection at or near point 430.83333333333331 562.5\n",
      "Self-intersection at or near point 321 69.25\n",
      "TopologyException: Input geom 1 is invalid: Self-intersection at or near point 0.0068129999999999987 -0.0065719999999999997 at 0.0068129999999999987 -0.0065719999999999997\n",
      "Self-intersection at or near point 0.0068129999999999987 -0.0065719999999999997\n",
      "Self-intersection at or near point 830 311.5\n"
     ]
    },
    {
     "name": "stdout",
     "output_type": "stream",
     "text": [
      "topological error. Do not use this setup\n",
      "tresh: 0.45 eps: 0.5 minarea: 15.0\n",
      "('Final jaccard', 0.007860390420641607)\n",
      "eps: 1.0\n",
      "minarea: 1.0\n"
     ]
    },
    {
     "name": "stderr",
     "output_type": "stream",
     "text": [
      "Self-intersection at or near point 478 86\n",
      "Self-intersection at or near point 1.5 253.5\n",
      "Self-intersection at or near point 674.60000000000002 100.59999999999999\n",
      "Self-intersection at or near point 216.33333333333334 784.33333333333337\n",
      "Self-intersection at or near point 544.31578947368416 320.21052631578948\n",
      "Self-intersection at or near point 824.10000000000002 317.39999999999998\n",
      "Self-intersection at or near point 158.63636363636363 830.36363636363637\n",
      "Self-intersection at or near point 400 445\n",
      "Self-intersection at or near point 320.41025641025641 70.282051282051285\n",
      "TopologyException: Input geom 1 is invalid: Self-intersection at or near point 0.0068129999999999987 -0.0065719999999999997 at 0.0068129999999999987 -0.0065719999999999997\n",
      "Self-intersection at or near point 0.0068129999999999987 -0.0065719999999999997\n",
      "Self-intersection at or near point 830 311.5\n"
     ]
    },
    {
     "name": "stdout",
     "output_type": "stream",
     "text": [
      "topological error. Do not use this setup\n",
      "tresh: 0.45 eps: 1.0 minarea: 1.0\n",
      "('Final jaccard', 0.007852496786573375)\n",
      "minarea: 3.0\n"
     ]
    },
    {
     "name": "stderr",
     "output_type": "stream",
     "text": [
      "Self-intersection at or near point 478 86\n",
      "Self-intersection at or near point 1.5 253.5\n",
      "Self-intersection at or near point 674.60000000000002 100.59999999999999\n",
      "Self-intersection at or near point 216.33333333333334 784.33333333333337\n",
      "Self-intersection at or near point 544.31578947368416 320.21052631578948\n",
      "Self-intersection at or near point 824.10000000000002 317.39999999999998\n",
      "Self-intersection at or near point 158.63636363636363 830.36363636363637\n",
      "Self-intersection at or near point 400 445\n",
      "Self-intersection at or near point 320.41025641025641 70.282051282051285\n",
      "TopologyException: Input geom 1 is invalid: Self-intersection at or near point 0.0068129999999999987 -0.0065719999999999997 at 0.0068129999999999987 -0.0065719999999999997\n",
      "Self-intersection at or near point 0.0068129999999999987 -0.0065719999999999997\n",
      "Self-intersection at or near point 830 311.5\n"
     ]
    },
    {
     "name": "stdout",
     "output_type": "stream",
     "text": [
      "topological error. Do not use this setup\n",
      "tresh: 0.45 eps: 1.0 minarea: 3.0\n",
      "('Final jaccard', 0.00785256348861855)\n",
      "minarea: 10.0\n"
     ]
    },
    {
     "name": "stderr",
     "output_type": "stream",
     "text": [
      "Self-intersection at or near point 141.77777777777777 34.185185185185183\n",
      "Self-intersection at or near point 671.33333333333337 453\n",
      "Self-intersection at or near point 216.33333333333334 784.33333333333337\n",
      "Self-intersection at or near point 544.31578947368416 320.21052631578948\n",
      "Self-intersection at or near point 2 510\n",
      "Self-intersection at or near point 400 445\n",
      "Self-intersection at or near point 320.41025641025641 70.282051282051285\n",
      "TopologyException: Input geom 1 is invalid: Self-intersection at or near point 0.0068129999999999987 -0.0065719999999999997 at 0.0068129999999999987 -0.0065719999999999997\n",
      "Self-intersection at or near point 0.0068129999999999987 -0.0065719999999999997\n",
      "Self-intersection at or near point 466.85714285714283 801.53571428571433\n"
     ]
    },
    {
     "name": "stdout",
     "output_type": "stream",
     "text": [
      "topological error. Do not use this setup\n",
      "tresh: 0.45 eps: 1.0 minarea: 10.0\n",
      "('Final jaccard', 0.00785247150582193)\n",
      "minarea: 15.0\n"
     ]
    },
    {
     "name": "stderr",
     "output_type": "stream",
     "text": [
      "Self-intersection at or near point 141.77777777777777 34.185185185185183\n",
      "Self-intersection at or near point 671.33333333333337 453\n",
      "Self-intersection at or near point 216.33333333333334 784.33333333333337\n",
      "Self-intersection at or near point 544.31578947368416 320.21052631578948\n",
      "Self-intersection at or near point 2 510\n",
      "Self-intersection at or near point 400 445\n",
      "Self-intersection at or near point 320.41025641025641 70.282051282051285\n",
      "TopologyException: Input geom 1 is invalid: Self-intersection at or near point 0.0068129999999999987 -0.0065719999999999997 at 0.0068129999999999987 -0.0065719999999999997\n",
      "Self-intersection at or near point 0.0068129999999999987 -0.0065719999999999997\n"
     ]
    },
    {
     "name": "stdout",
     "output_type": "stream",
     "text": [
      "topological error. Do not use this setup\n",
      "tresh: 0.45 eps: 1.0 minarea: 15.0\n",
      "('Final jaccard', 0.007847987597031068)\n",
      "eps: 3.0\n",
      "minarea: 1.0\n"
     ]
    },
    {
     "name": "stderr",
     "output_type": "stream",
     "text": [
      "Self-intersection at or near point 450.6917808219178 54.287671232876711\n",
      "Self-intersection at or near point 343.2962962962963 150.77777777777777\n",
      "Self-intersection at or near point 544.19718309859149 320.28169014084506\n",
      "Self-intersection at or near point 208.36842105263159 651.0526315789474\n",
      "TopologyException: Input geom 1 is invalid: Self-intersection at or near point 0.0068129999999999987 -0.0065719999999999997 at 0.0068129999999999987 -0.0065719999999999997\n",
      "Self-intersection at or near point 0.0068129999999999987 -0.0065719999999999997\n"
     ]
    },
    {
     "name": "stdout",
     "output_type": "stream",
     "text": [
      "topological error. Do not use this setup\n",
      "tresh: 0.45 eps: 3.0 minarea: 1.0\n",
      "('Final jaccard', 0.007841047351517274)\n",
      "minarea: 3.0\n"
     ]
    },
    {
     "name": "stderr",
     "output_type": "stream",
     "text": [
      "Self-intersection at or near point 450.6917808219178 54.287671232876711\n",
      "Self-intersection at or near point 343.2962962962963 150.77777777777777\n",
      "Self-intersection at or near point 544.19718309859149 320.28169014084506\n",
      "Self-intersection at or near point 208.36842105263159 651.0526315789474\n",
      "TopologyException: Input geom 1 is invalid: Self-intersection at or near point 0.0068129999999999987 -0.0065719999999999997 at 0.0068129999999999987 -0.0065719999999999997\n",
      "Self-intersection at or near point 0.0068129999999999987 -0.0065719999999999997\n"
     ]
    },
    {
     "name": "stdout",
     "output_type": "stream",
     "text": [
      "topological error. Do not use this setup\n",
      "tresh: 0.45 eps: 3.0 minarea: 3.0\n",
      "('Final jaccard', 0.007841047351517274)\n",
      "minarea: 10.0\n"
     ]
    },
    {
     "name": "stderr",
     "output_type": "stream",
     "text": [
      "Self-intersection at or near point 450.6917808219178 54.287671232876711\n",
      "Self-intersection at or near point 343.2962962962963 150.77777777777777\n",
      "Self-intersection at or near point 544.11111111111109 320.33333333333331\n",
      "Ring Self-intersection at or near point 73 440\n",
      "TopologyException: Input geom 1 is invalid: Self-intersection at or near point 0.0068129999999999987 -0.0065719999999999997 at 0.0068129999999999987 -0.0065719999999999997\n",
      "Self-intersection at or near point 0.0068129999999999987 -0.0065719999999999997\n"
     ]
    },
    {
     "name": "stdout",
     "output_type": "stream",
     "text": [
      "topological error. Do not use this setup\n",
      "tresh: 0.45 eps: 3.0 minarea: 10.0\n",
      "('Final jaccard', 0.007840094766516986)\n",
      "minarea: 15.0\n"
     ]
    },
    {
     "name": "stderr",
     "output_type": "stream",
     "text": [
      "Self-intersection at or near point 450.6917808219178 54.287671232876711\n",
      "Self-intersection at or near point 343.2962962962963 150.77777777777777\n",
      "Self-intersection at or near point 544.11111111111109 320.33333333333331\n",
      "Ring Self-intersection at or near point 73 440\n",
      "TopologyException: Input geom 1 is invalid: Self-intersection at or near point 0.0068129999999999987 -0.0065719999999999997 at 0.0068129999999999987 -0.0065719999999999997\n",
      "Self-intersection at or near point 0.0068129999999999987 -0.0065719999999999997\n",
      "Self-intersection at or near point 0.90000000000000002 828.10000000000002\n"
     ]
    },
    {
     "name": "stdout",
     "output_type": "stream",
     "text": [
      "topological error. Do not use this setup\n",
      "tresh: 0.45 eps: 3.0 minarea: 15.0\n",
      "('Final jaccard', 0.007840245315326832)\n",
      "3\n",
      "tresh: 0.15\n",
      "eps: 0.5\n",
      "minarea: 1.0\n"
     ]
    },
    {
     "name": "stderr",
     "output_type": "stream",
     "text": [
      "Self-intersection at or near point 393.97222222222223 171.80555555555554\n",
      "Self-intersection at or near point 770 382\n",
      "Self-intersection at or near point 217 831\n",
      "Self-intersection at or near point 284.17142857142858 28.257142857142856\n",
      "Self-intersection at or near point 354 0\n",
      "Self-intersection at or near point 2 502\n",
      "Self-intersection at or near point 363 185.5\n",
      "Self-intersection at or near point 336 18.333333333333332\n",
      "Ring Self-intersection at or near point 831 2\n",
      "Self-intersection at or near point 0.90000000000000002 828.10000000000002\n"
     ]
    },
    {
     "name": "stdout",
     "output_type": "stream",
     "text": [
      "tresh: 0.15 eps: 0.5 minarea: 1.0\n",
      "('Final jaccard', 0.026499821708678276)\n",
      "minarea: 3.0\n"
     ]
    },
    {
     "name": "stderr",
     "output_type": "stream",
     "text": [
      "Self-intersection at or near point 393.97222222222223 171.80555555555554\n",
      "Self-intersection at or near point 770 382\n",
      "Self-intersection at or near point 217 831\n",
      "Self-intersection at or near point 284.17142857142858 28.257142857142856\n",
      "Self-intersection at or near point 2 502\n",
      "Self-intersection at or near point 363 185.5\n",
      "Self-intersection at or near point 336 18.333333333333332\n",
      "Ring Self-intersection at or near point 831 2\n",
      "Self-intersection at or near point 67 586\n"
     ]
    },
    {
     "name": "stdout",
     "output_type": "stream",
     "text": [
      "tresh: 0.15 eps: 0.5 minarea: 3.0\n",
      "('Final jaccard', 0.026500169056747902)\n",
      "minarea: 10.0\n"
     ]
    },
    {
     "name": "stderr",
     "output_type": "stream",
     "text": [
      "Self-intersection at or near point 393.97222222222223 171.80555555555554\n",
      "Self-intersection at or near point 429.5 337\n",
      "Self-intersection at or near point 217 831\n",
      "Self-intersection at or near point 284.17142857142858 28.257142857142856\n",
      "Self-intersection at or near point 363 185.5\n",
      "Self-intersection at or near point 336 18.333333333333332\n",
      "Self-intersection at or near point 67 586\n"
     ]
    },
    {
     "name": "stdout",
     "output_type": "stream",
     "text": [
      "tresh: 0.15 eps: 0.5 minarea: 10.0\n",
      "('Final jaccard', 0.026494439160734143)\n",
      "minarea: 15.0\n"
     ]
    },
    {
     "name": "stderr",
     "output_type": "stream",
     "text": [
      "Self-intersection at or near point 393.97222222222223 171.80555555555554\n",
      "Self-intersection at or near point 429.5 337\n",
      "Self-intersection at or near point 217 831\n",
      "Self-intersection at or near point 284.17142857142858 28.257142857142856\n",
      "Self-intersection at or near point 363 185.5\n",
      "Self-intersection at or near point 336 18.333333333333332\n",
      "Self-intersection at or near point 779.16666666666663 307.83333333333331\n"
     ]
    },
    {
     "name": "stdout",
     "output_type": "stream",
     "text": [
      "tresh: 0.15 eps: 0.5 minarea: 15.0\n",
      "('Final jaccard', 0.026478730005099604)\n",
      "eps: 1.0\n",
      "minarea: 1.0\n"
     ]
    },
    {
     "name": "stderr",
     "output_type": "stream",
     "text": [
      "Ring Self-intersection at or near point 529 539\n",
      "Self-intersection at or near point 769.5 382\n",
      "Self-intersection at or near point 383 631\n",
      "Self-intersection at or near point 284.17142857142858 28.257142857142856\n",
      "Self-intersection at or near point 2 502\n",
      "Self-intersection at or near point 362.93333333333334 185.19999999999999\n",
      "Self-intersection at or near point 507.42105263157896 313.89473684210526\n",
      "Self-intersection at or near point 831 2\n",
      "Self-intersection at or near point 779.16666666666663 307.83333333333331\n"
     ]
    },
    {
     "name": "stdout",
     "output_type": "stream",
     "text": [
      "tresh: 0.15 eps: 1.0 minarea: 1.0\n",
      "('Final jaccard', 0.02650951673000408)\n",
      "minarea: 3.0\n"
     ]
    },
    {
     "name": "stderr",
     "output_type": "stream",
     "text": [
      "Ring Self-intersection at or near point 529 539\n",
      "Self-intersection at or near point 769.5 382\n",
      "Self-intersection at or near point 383 631\n",
      "Self-intersection at or near point 284.17142857142858 28.257142857142856\n",
      "Self-intersection at or near point 2 502\n",
      "Self-intersection at or near point 362.93333333333334 185.19999999999999\n",
      "Self-intersection at or near point 507.42105263157896 313.89473684210526\n",
      "Self-intersection at or near point 831 2\n",
      "Self-intersection at or near point 779.16666666666663 307.83333333333331\n"
     ]
    },
    {
     "name": "stdout",
     "output_type": "stream",
     "text": [
      "tresh: 0.15 eps: 1.0 minarea: 3.0\n",
      "('Final jaccard', 0.026509913852996125)\n",
      "minarea: 10.0\n"
     ]
    },
    {
     "name": "stderr",
     "output_type": "stream",
     "text": [
      "Ring Self-intersection at or near point 529 539\n",
      "Self-intersection at or near point 429.5 337\n",
      "Self-intersection at or near point 383 631\n",
      "Self-intersection at or near point 284.17142857142858 28.257142857142856\n",
      "Self-intersection at or near point 362.93333333333334 185.19999999999999\n",
      "Self-intersection at or near point 507.42105263157896 313.89473684210526\n",
      "Self-intersection at or near point 779.16666666666663 307.83333333333331\n"
     ]
    },
    {
     "name": "stdout",
     "output_type": "stream",
     "text": [
      "tresh: 0.15 eps: 1.0 minarea: 10.0\n",
      "('Final jaccard', 0.02650358460978519)\n",
      "minarea: 15.0\n"
     ]
    },
    {
     "name": "stderr",
     "output_type": "stream",
     "text": [
      "Ring Self-intersection at or near point 529 539\n",
      "Self-intersection at or near point 429.5 337\n",
      "Self-intersection at or near point 383 631\n",
      "Self-intersection at or near point 284.17142857142858 28.257142857142856\n",
      "Self-intersection at or near point 362.93333333333334 185.19999999999999\n",
      "Self-intersection at or near point 507.42105263157896 313.89473684210526\n",
      "Self-intersection at or near point 60.41935483870968 787.64516129032256\n"
     ]
    },
    {
     "name": "stdout",
     "output_type": "stream",
     "text": [
      "tresh: 0.15 eps: 1.0 minarea: 15.0\n",
      "('Final jaccard', 0.026488395304105322)\n",
      "eps: 3.0\n",
      "minarea: 1.0\n"
     ]
    },
    {
     "name": "stderr",
     "output_type": "stream",
     "text": [
      "Self-intersection at or near point 460.53846153846155 170\n",
      "Self-intersection at or near point 5.5245901639344259 452.31147540983608\n",
      "Self-intersection at or near point 66.129870129870127 446.89610389610391\n",
      "Self-intersection at or near point 467.4406779661017 338.16949152542372\n",
      "Self-intersection at or near point 60.41935483870968 787.64516129032256\n"
     ]
    },
    {
     "name": "stdout",
     "output_type": "stream",
     "text": [
      "tresh: 0.15 eps: 3.0 minarea: 1.0\n",
      "('Final jaccard', 0.026244891741094498)\n",
      "minarea: 3.0\n"
     ]
    },
    {
     "name": "stderr",
     "output_type": "stream",
     "text": [
      "Self-intersection at or near point 460.53846153846155 170\n",
      "Self-intersection at or near point 5.5245901639344259 452.31147540983608\n",
      "Self-intersection at or near point 66.129870129870127 446.89610389610391\n",
      "Self-intersection at or near point 467.4406779661017 338.16949152542372\n",
      "Self-intersection at or near point 60.41935483870968 787.64516129032256\n"
     ]
    },
    {
     "name": "stdout",
     "output_type": "stream",
     "text": [
      "tresh: 0.15 eps: 3.0 minarea: 3.0\n",
      "('Final jaccard', 0.026244891741094498)\n",
      "minarea: 10.0\n"
     ]
    },
    {
     "name": "stderr",
     "output_type": "stream",
     "text": [
      "Self-intersection at or near point 460.53846153846155 170\n",
      "Self-intersection at or near point 5.5245901639344259 452.31147540983608\n",
      "Self-intersection at or near point 66.129870129870127 446.89610389610391\n",
      "Self-intersection at or near point 467.4406779661017 338.16949152542372\n",
      "Self-intersection at or near point 60.013698630136986 788.09589041095887\n"
     ]
    },
    {
     "name": "stdout",
     "output_type": "stream",
     "text": [
      "tresh: 0.15 eps: 3.0 minarea: 10.0\n",
      "('Final jaccard', 0.026241687878921588)\n",
      "minarea: 15.0\n"
     ]
    },
    {
     "name": "stderr",
     "output_type": "stream",
     "text": [
      "Self-intersection at or near point 460.53846153846155 170\n",
      "Self-intersection at or near point 66.129870129870127 446.89610389610391\n",
      "Self-intersection at or near point 467.4406779661017 338.16949152542372\n",
      "Self-intersection at or near point 830.45614035087715 314.71929824561403\n"
     ]
    },
    {
     "name": "stdout",
     "output_type": "stream",
     "text": [
      "tresh: 0.15 eps: 3.0 minarea: 15.0\n",
      "('Final jaccard', 0.026223831384116863)\n",
      "tresh: 0.2\n",
      "eps: 0.5\n",
      "minarea: 1.0\n"
     ]
    },
    {
     "name": "stderr",
     "output_type": "stream",
     "text": [
      "Ring Self-intersection at or near point 529 539\n",
      "Self-intersection at or near point 426.53846153846155 335.15384615384613\n",
      "Self-intersection at or near point 24 687\n",
      "Self-intersection at or near point 284.17142857142858 28.257142857142856\n",
      "Ring Self-intersection at or near point 157 435\n",
      "Self-intersection at or near point 157.66666666666666 830.33333333333337\n",
      "Self-intersection at or near point 363 185.5\n",
      "Self-intersection at or near point 507.28571428571428 314\n",
      "Ring Self-intersection at or near point 831 2\n",
      "Self-intersection at or near point 293 190\n",
      "Self-intersection at or near point 830.45614035087715 314.71929824561403\n"
     ]
    },
    {
     "name": "stdout",
     "output_type": "stream",
     "text": [
      "tresh: 0.2 eps: 0.5 minarea: 1.0\n",
      "('Final jaccard', 0.02660668552256567)\n",
      "minarea: 3.0\n"
     ]
    },
    {
     "name": "stderr",
     "output_type": "stream",
     "text": [
      "Ring Self-intersection at or near point 529 539\n",
      "Self-intersection at or near point 426.53846153846155 335.15384615384613\n",
      "Self-intersection at or near point 24 687\n",
      "Self-intersection at or near point 284.17142857142858 28.257142857142856\n",
      "Ring Self-intersection at or near point 157 435\n",
      "Self-intersection at or near point 2 502\n",
      "Self-intersection at or near point 363 185.5\n",
      "Self-intersection at or near point 507.28571428571428 314\n",
      "Ring Self-intersection at or near point 831 2\n",
      "Self-intersection at or near point 293 190\n",
      "Self-intersection at or near point 830.45614035087715 314.71929824561403\n"
     ]
    },
    {
     "name": "stdout",
     "output_type": "stream",
     "text": [
      "tresh: 0.2 eps: 0.5 minarea: 3.0\n",
      "('Final jaccard', 0.0266074850353238)\n",
      "minarea: 10.0\n"
     ]
    },
    {
     "name": "stderr",
     "output_type": "stream",
     "text": [
      "Ring Self-intersection at or near point 529 539\n",
      "Self-intersection at or near point 426.53846153846155 335.15384615384613\n",
      "Self-intersection at or near point 217 831\n",
      "Self-intersection at or near point 284.17142857142858 28.257142857142856\n",
      "Ring Self-intersection at or near point 157 435\n",
      "Self-intersection at or near point 363 185.5\n",
      "Self-intersection at or near point 507.28571428571428 314\n",
      "Self-intersection at or near point 293 190\n",
      "Self-intersection at or near point 830.45614035087715 314.71929824561403\n"
     ]
    },
    {
     "name": "stdout",
     "output_type": "stream",
     "text": [
      "tresh: 0.2 eps: 0.5 minarea: 10.0\n",
      "('Final jaccard', 0.026600495778974262)\n",
      "minarea: 15.0\n"
     ]
    },
    {
     "name": "stderr",
     "output_type": "stream",
     "text": [
      "Ring Self-intersection at or near point 529 539\n",
      "Self-intersection at or near point 426.53846153846155 335.15384615384613\n",
      "Self-intersection at or near point 217 831\n",
      "Self-intersection at or near point 284.17142857142858 28.257142857142856\n",
      "Ring Self-intersection at or near point 157 435\n",
      "Self-intersection at or near point 363 185.5\n",
      "Self-intersection at or near point 507.28571428571428 314\n",
      "Self-intersection at or near point 293 190\n",
      "Self-intersection at or near point 830.45614035087715 314.71929824561403\n"
     ]
    },
    {
     "name": "stdout",
     "output_type": "stream",
     "text": [
      "tresh: 0.2 eps: 0.5 minarea: 15.0\n",
      "('Final jaccard', 0.02658280363257854)\n",
      "eps: 1.0\n",
      "minarea: 1.0\n"
     ]
    },
    {
     "name": "stderr",
     "output_type": "stream",
     "text": [
      "Ring Self-intersection at or near point 529 539\n",
      "Self-intersection at or near point 426.14285714285717 335.28571428571428\n",
      "Self-intersection at or near point 284.17142857142858 28.257142857142856\n",
      "Self-intersection at or near point 157.25 435.25\n",
      "Self-intersection at or near point 2 502\n",
      "Self-intersection at or near point 362.93333333333334 185.19999999999999\n",
      "Self-intersection at or near point 507.42105263157896 313.89473684210526\n",
      "Self-intersection at or near point 831 2\n",
      "Self-intersection at or near point 830.45614035087715 314.71929824561403\n"
     ]
    },
    {
     "name": "stdout",
     "output_type": "stream",
     "text": [
      "tresh: 0.2 eps: 1.0 minarea: 1.0\n",
      "('Final jaccard', 0.026603703178894076)\n",
      "minarea: 3.0\n"
     ]
    },
    {
     "name": "stderr",
     "output_type": "stream",
     "text": [
      "Ring Self-intersection at or near point 529 539\n",
      "Self-intersection at or near point 426.14285714285717 335.28571428571428\n",
      "Self-intersection at or near point 284.17142857142858 28.257142857142856\n",
      "Self-intersection at or near point 157.25 435.25\n",
      "Self-intersection at or near point 2 502\n",
      "Self-intersection at or near point 362.93333333333334 185.19999999999999\n",
      "Self-intersection at or near point 507.42105263157896 313.89473684210526\n",
      "Self-intersection at or near point 831 2\n",
      "Self-intersection at or near point 830.45614035087715 314.71929824561403\n"
     ]
    },
    {
     "name": "stdout",
     "output_type": "stream",
     "text": [
      "tresh: 0.2 eps: 1.0 minarea: 3.0\n",
      "('Final jaccard', 0.026604530977823528)\n",
      "minarea: 10.0\n"
     ]
    },
    {
     "name": "stderr",
     "output_type": "stream",
     "text": [
      "Ring Self-intersection at or near point 529 539\n",
      "Self-intersection at or near point 426.14285714285717 335.28571428571428\n",
      "Self-intersection at or near point 284.17142857142858 28.257142857142856\n",
      "Self-intersection at or near point 157.25 435.25\n",
      "Self-intersection at or near point 362.93333333333334 185.19999999999999\n",
      "Self-intersection at or near point 507.42105263157896 313.89473684210526\n",
      "Self-intersection at or near point 830.45614035087715 314.71929824561403\n"
     ]
    },
    {
     "name": "stdout",
     "output_type": "stream",
     "text": [
      "tresh: 0.2 eps: 1.0 minarea: 10.0\n",
      "('Final jaccard', 0.026597688694914114)\n",
      "minarea: 15.0\n"
     ]
    },
    {
     "name": "stderr",
     "output_type": "stream",
     "text": [
      "Ring Self-intersection at or near point 529 539\n",
      "Self-intersection at or near point 426.14285714285717 335.28571428571428\n",
      "Self-intersection at or near point 284.17142857142858 28.257142857142856\n",
      "Self-intersection at or near point 157.25 435.25\n",
      "Self-intersection at or near point 362.93333333333334 185.19999999999999\n",
      "Self-intersection at or near point 507.42105263157896 313.89473684210526\n",
      "Self-intersection at or near point 829.12121212121212 311.530303030303\n"
     ]
    },
    {
     "name": "stdout",
     "output_type": "stream",
     "text": [
      "tresh: 0.2 eps: 1.0 minarea: 15.0\n",
      "('Final jaccard', 0.02657967823659269)\n",
      "eps: 3.0\n",
      "minarea: 1.0\n"
     ]
    },
    {
     "name": "stderr",
     "output_type": "stream",
     "text": [
      "Ring Self-intersection at or near point 463 173\n",
      "Self-intersection at or near point 543.13114754098365 292.19672131147541\n",
      "Self-intersection at or near point 112.92307692307692 468.94871794871796\n",
      "Self-intersection at or near point 829.12121212121212 311.530303030303\n"
     ]
    },
    {
     "name": "stdout",
     "output_type": "stream",
     "text": [
      "tresh: 0.2 eps: 3.0 minarea: 1.0\n",
      "('Final jaccard', 0.026354749802256775)\n",
      "minarea: 3.0\n"
     ]
    },
    {
     "name": "stderr",
     "output_type": "stream",
     "text": [
      "Ring Self-intersection at or near point 463 173\n",
      "Self-intersection at or near point 543.13114754098365 292.19672131147541\n",
      "Self-intersection at or near point 112.92307692307692 468.94871794871796\n",
      "Self-intersection at or near point 828.91780821917803 314.83561643835617\n"
     ]
    },
    {
     "name": "stdout",
     "output_type": "stream",
     "text": [
      "tresh: 0.2 eps: 3.0 minarea: 3.0\n",
      "('Final jaccard', 0.026354749802256775)\n",
      "minarea: 10.0\n"
     ]
    },
    {
     "name": "stderr",
     "output_type": "stream",
     "text": [
      "Ring Self-intersection at or near point 463 173\n",
      "Self-intersection at or near point 543.13114754098365 292.19672131147541\n",
      "Self-intersection at or near point 112.92307692307692 468.94871794871796\n",
      "Self-intersection at or near point 60.013698630136986 788.09589041095887\n",
      "Ring Self-intersection at or near point 463 173\n"
     ]
    },
    {
     "name": "stdout",
     "output_type": "stream",
     "text": [
      "tresh: 0.2 eps: 3.0 minarea: 10.0\n",
      "('Final jaccard', 0.026351915931336897)\n",
      "minarea: 15.0\n"
     ]
    },
    {
     "name": "stderr",
     "output_type": "stream",
     "text": [
      "Self-intersection at or near point 66.378787878787875 446.69696969696969\n",
      "Self-intersection at or near point 830.45614035087715 314.71929824561403\n"
     ]
    },
    {
     "name": "stdout",
     "output_type": "stream",
     "text": [
      "tresh: 0.2 eps: 3.0 minarea: 15.0\n",
      "('Final jaccard', 0.02633666109446886)\n",
      "tresh: 0.25\n",
      "eps: 0.5\n",
      "minarea: 1.0\n"
     ]
    },
    {
     "name": "stderr",
     "output_type": "stream",
     "text": [
      "Self-intersection at or near point 110.68965517241379 0.34482758620689657\n",
      "Self-intersection at or near point 357.33333333333331 287.33333333333331\n",
      "Ring Self-intersection at or near point 332 44\n",
      "Self-intersection at or near point 280.92857142857144 49.285714285714285\n",
      "Self-intersection at or near point 2 502\n",
      "Self-intersection at or near point 211.25 781.125\n",
      "Self-intersection at or near point 507.28571428571428 314\n",
      "Ring Self-intersection at or near point 831 2\n",
      "Self-intersection at or near point 293 190\n",
      "Self-intersection at or near point 830.45614035087715 314.71929824561403\n"
     ]
    },
    {
     "name": "stdout",
     "output_type": "stream",
     "text": [
      "tresh: 0.25 eps: 0.5 minarea: 1.0\n",
      "('Final jaccard', 0.02670529741001271)\n",
      "minarea: 3.0\n"
     ]
    },
    {
     "name": "stderr",
     "output_type": "stream",
     "text": [
      "Self-intersection at or near point 110.68965517241379 0.34482758620689657\n",
      "Self-intersection at or near point 357.33333333333331 287.33333333333331\n",
      "Ring Self-intersection at or near point 332 44\n",
      "Self-intersection at or near point 280.92857142857144 49.285714285714285\n",
      "Self-intersection at or near point 2 502\n",
      "Ring Self-intersection at or near point 567 199\n",
      "Self-intersection at or near point 507.28571428571428 314\n",
      "Ring Self-intersection at or near point 831 2\n",
      "Self-intersection at or near point 293 190\n",
      "Self-intersection at or near point 830.45614035087715 314.71929824561403\n"
     ]
    },
    {
     "name": "stdout",
     "output_type": "stream",
     "text": [
      "tresh: 0.25 eps: 0.5 minarea: 3.0\n",
      "('Final jaccard', 0.026706424230033457)\n",
      "minarea: 10.0\n"
     ]
    },
    {
     "name": "stderr",
     "output_type": "stream",
     "text": [
      "Self-intersection at or near point 110.68965517241379 0.34482758620689657\n",
      "Self-intersection at or near point 357.33333333333331 287.33333333333331\n",
      "Ring Self-intersection at or near point 332 44\n",
      "Self-intersection at or near point 280.92857142857144 49.285714285714285\n",
      "Ring Self-intersection at or near point 567 199\n",
      "Self-intersection at or near point 507.28571428571428 314\n",
      "Self-intersection at or near point 293 190\n",
      "Self-intersection at or near point 830.45614035087715 314.71929824561403\n"
     ]
    },
    {
     "name": "stdout",
     "output_type": "stream",
     "text": [
      "tresh: 0.25 eps: 0.5 minarea: 10.0\n",
      "('Final jaccard', 0.02669349341987111)\n",
      "minarea: 15.0\n"
     ]
    },
    {
     "name": "stderr",
     "output_type": "stream",
     "text": [
      "Self-intersection at or near point 110.68965517241379 0.34482758620689657\n",
      "Self-intersection at or near point 357.33333333333331 287.33333333333331\n",
      "Self-intersection at or near point 280.92857142857144 49.285714285714285\n",
      "Ring Self-intersection at or near point 567 199\n",
      "Self-intersection at or near point 507.28571428571428 314\n",
      "Self-intersection at or near point 293 190\n",
      "Self-intersection at or near point 830.45614035087715 314.71929824561403\n"
     ]
    },
    {
     "name": "stdout",
     "output_type": "stream",
     "text": [
      "tresh: 0.25 eps: 0.5 minarea: 15.0\n",
      "('Final jaccard', 0.02668080993207758)\n",
      "eps: 1.0\n",
      "minarea: 1.0\n"
     ]
    },
    {
     "name": "stderr",
     "output_type": "stream",
     "text": [
      "Self-intersection at or near point 110.68965517241379 0.34482758620689657\n",
      "Self-intersection at or near point 357.06666666666666 286.86666666666667\n",
      "Self-intersection at or near point 282.14285714285717 49.714285714285715\n",
      "Self-intersection at or near point 2 502\n",
      "Self-intersection at or near point 284.19999999999999 8.5999999999999996\n",
      "Self-intersection at or near point 507.42105263157896 313.89473684210526\n",
      "Self-intersection at or near point 831 2\n",
      "Self-intersection at or near point 830.45614035087715 314.71929824561403\n"
     ]
    },
    {
     "name": "stdout",
     "output_type": "stream",
     "text": [
      "tresh: 0.25 eps: 1.0 minarea: 1.0\n",
      "('Final jaccard', 0.02671011675350935)\n",
      "minarea: 3.0\n"
     ]
    },
    {
     "name": "stderr",
     "output_type": "stream",
     "text": [
      "Self-intersection at or near point 110.68965517241379 0.34482758620689657\n",
      "Self-intersection at or near point 357.06666666666666 286.86666666666667\n",
      "Self-intersection at or near point 282.14285714285717 49.714285714285715\n",
      "Self-intersection at or near point 2 502\n",
      "Self-intersection at or near point 284.19999999999999 8.5999999999999996\n",
      "Self-intersection at or near point 507.42105263157896 313.89473684210526\n",
      "Self-intersection at or near point 831 2\n",
      "Self-intersection at or near point 830.45614035087715 314.71929824561403\n"
     ]
    },
    {
     "name": "stdout",
     "output_type": "stream",
     "text": [
      "tresh: 0.25 eps: 1.0 minarea: 3.0\n",
      "('Final jaccard', 0.026710594749142808)\n",
      "minarea: 10.0\n"
     ]
    },
    {
     "name": "stderr",
     "output_type": "stream",
     "text": [
      "Self-intersection at or near point 110.68965517241379 0.34482758620689657\n",
      "Self-intersection at or near point 357.33333333333331 287.33333333333331\n",
      "Self-intersection at or near point 282.14285714285717 49.714285714285715\n",
      "Self-intersection at or near point 284.19999999999999 8.5999999999999996\n",
      "Self-intersection at or near point 507.42105263157896 313.89473684210526\n",
      "Self-intersection at or near point 830.45614035087715 314.71929824561403\n"
     ]
    },
    {
     "name": "stdout",
     "output_type": "stream",
     "text": [
      "tresh: 0.25 eps: 1.0 minarea: 10.0\n",
      "('Final jaccard', 0.02669804723968253)\n",
      "minarea: 15.0\n"
     ]
    },
    {
     "name": "stderr",
     "output_type": "stream",
     "text": [
      "Self-intersection at or near point 110.68965517241379 0.34482758620689657\n",
      "Self-intersection at or near point 357.33333333333331 287.33333333333331\n",
      "Self-intersection at or near point 282.14285714285717 49.714285714285715\n",
      "Self-intersection at or near point 284.19999999999999 8.5999999999999996\n",
      "Self-intersection at or near point 507.42105263157896 313.89473684210526\n",
      "Self-intersection at or near point 828.91780821917803 314.83561643835617\n"
     ]
    },
    {
     "name": "stdout",
     "output_type": "stream",
     "text": [
      "tresh: 0.25 eps: 1.0 minarea: 15.0\n",
      "('Final jaccard', 0.026678381147040676)\n",
      "eps: 3.0\n",
      "minarea: 1.0\n"
     ]
    },
    {
     "name": "stderr",
     "output_type": "stream",
     "text": [
      "Self-intersection at or near point 111.08499095840868 1.2296564195298374\n",
      "Self-intersection at or near point 355.62085308056874 285.11848341232229\n",
      "Self-intersection at or near point 543.13114754098365 292.19672131147541\n",
      "Self-intersection at or near point 282.06976744186045 49.668604651162788\n",
      "Self-intersection at or near point 20.142857142857142 535.76190476190482\n",
      "Self-intersection at or near point 828.91780821917803 314.83561643835617\n"
     ]
    },
    {
     "name": "stdout",
     "output_type": "stream",
     "text": [
      "tresh: 0.25 eps: 3.0 minarea: 1.0\n",
      "('Final jaccard', 0.026200739416583973)\n",
      "minarea: 3.0\n"
     ]
    },
    {
     "name": "stderr",
     "output_type": "stream",
     "text": [
      "Self-intersection at or near point 111.08499095840868 1.2296564195298374\n",
      "Self-intersection at or near point 355.62085308056874 285.11848341232229\n",
      "Self-intersection at or near point 543.13114754098365 292.19672131147541\n",
      "Self-intersection at or near point 282.06976744186045 49.668604651162788\n",
      "Self-intersection at or near point 20.142857142857142 535.76190476190482\n",
      "Self-intersection at or near point 828.91780821917803 314.83561643835617\n"
     ]
    },
    {
     "name": "stdout",
     "output_type": "stream",
     "text": [
      "tresh: 0.25 eps: 3.0 minarea: 3.0\n",
      "('Final jaccard', 0.026200739416583973)\n",
      "minarea: 10.0\n"
     ]
    },
    {
     "name": "stderr",
     "output_type": "stream",
     "text": [
      "Self-intersection at or near point 111.08499095840868 1.2296564195298374\n",
      "Self-intersection at or near point 355.62085308056874 285.11848341232229\n",
      "Self-intersection at or near point 543.13114754098365 292.19672131147541\n",
      "Self-intersection at or near point 282.06976744186045 49.668604651162788\n",
      "Self-intersection at or near point 20.142857142857142 535.76190476190482\n",
      "Self-intersection at or near point 152.21686746987953 535.34337349397595\n"
     ]
    },
    {
     "name": "stdout",
     "output_type": "stream",
     "text": [
      "tresh: 0.25 eps: 3.0 minarea: 10.0\n",
      "('Final jaccard', 0.026197581728631226)\n",
      "minarea: 15.0\n"
     ]
    },
    {
     "name": "stderr",
     "output_type": "stream",
     "text": [
      "Self-intersection at or near point 111.08499095840868 1.2296564195298374\n",
      "Self-intersection at or near point 355.62085308056874 285.11848341232229\n",
      "Self-intersection at or near point 66.378787878787875 446.69696969696969\n",
      "Self-intersection at or near point 282.06976744186045 49.668604651162788\n",
      "Self-intersection at or near point 20.142857142857142 535.76190476190482\n",
      "Self-intersection at or near point 830.45614035087715 314.71929824561403\n"
     ]
    },
    {
     "name": "stdout",
     "output_type": "stream",
     "text": [
      "tresh: 0.25 eps: 3.0 minarea: 15.0\n",
      "('Final jaccard', 0.02618312633366609)\n",
      "tresh: 0.3\n",
      "eps: 0.5\n",
      "minarea: 1.0\n"
     ]
    },
    {
     "name": "stderr",
     "output_type": "stream",
     "text": [
      "Self-intersection at or near point 182.94117647058823 24.176470588235293\n",
      "Self-intersection at or near point 1 167\n",
      "Self-intersection at or near point 316.39999999999998 826.60000000000002\n",
      "Self-intersection at or near point 50 370\n",
      "Self-intersection at or near point 2 502\n",
      "Self-intersection at or near point 43 528.25\n",
      "Self-intersection at or near point 507.28571428571428 314\n",
      "Ring Self-intersection at or near point 831 2\n",
      "Self-intersection at or near point 293 190\n",
      "Self-intersection at or near point 830.45614035087715 314.71929824561403\n"
     ]
    },
    {
     "name": "stdout",
     "output_type": "stream",
     "text": [
      "tresh: 0.3 eps: 0.5 minarea: 1.0\n",
      "('Final jaccard', 0.026769849896679066)\n",
      "minarea: 3.0\n"
     ]
    },
    {
     "name": "stderr",
     "output_type": "stream",
     "text": [
      "Self-intersection at or near point 182.94117647058823 24.176470588235293\n",
      "Self-intersection at or near point 1 167\n",
      "Self-intersection at or near point 316.39999999999998 826.60000000000002\n",
      "Self-intersection at or near point 50 370\n",
      "Self-intersection at or near point 2 502\n",
      "Self-intersection at or near point 43 528.25\n",
      "Self-intersection at or near point 507.28571428571428 314\n",
      "Ring Self-intersection at or near point 831 2\n",
      "Self-intersection at or near point 293 190\n",
      "Self-intersection at or near point 830.45614035087715 314.71929824561403\n"
     ]
    },
    {
     "name": "stdout",
     "output_type": "stream",
     "text": [
      "tresh: 0.3 eps: 0.5 minarea: 3.0\n",
      "('Final jaccard', 0.026769753989086133)\n",
      "minarea: 10.0\n"
     ]
    },
    {
     "name": "stderr",
     "output_type": "stream",
     "text": [
      "Self-intersection at or near point 182.94117647058823 24.176470588235293\n",
      "Self-intersection at or near point 45 405\n",
      "Self-intersection at or near point 316.39999999999998 826.60000000000002\n",
      "Self-intersection at or near point 50 370\n",
      "Self-intersection at or near point 567 199\n",
      "Self-intersection at or near point 507.28571428571428 314\n",
      "Self-intersection at or near point 293 190\n",
      "Self-intersection at or near point 830.45614035087715 314.71929824561403\n"
     ]
    },
    {
     "name": "stdout",
     "output_type": "stream",
     "text": [
      "tresh: 0.3 eps: 0.5 minarea: 10.0\n",
      "('Final jaccard', 0.026761177782653328)\n",
      "minarea: 15.0\n"
     ]
    },
    {
     "name": "stderr",
     "output_type": "stream",
     "text": [
      "Self-intersection at or near point 182.94117647058823 24.176470588235293\n",
      "Self-intersection at or near point 45 405\n",
      "Self-intersection at or near point 316.39999999999998 826.60000000000002\n",
      "Self-intersection at or near point 50 370\n",
      "Self-intersection at or near point 567 199\n",
      "Self-intersection at or near point 507.28571428571428 314\n",
      "Self-intersection at or near point 293 190\n",
      "Self-intersection at or near point 830.45614035087715 314.71929824561403\n"
     ]
    },
    {
     "name": "stdout",
     "output_type": "stream",
     "text": [
      "tresh: 0.3 eps: 0.5 minarea: 15.0\n",
      "('Final jaccard', 0.02674038012555004)\n",
      "eps: 1.0\n",
      "minarea: 1.0\n"
     ]
    },
    {
     "name": "stderr",
     "output_type": "stream",
     "text": [
      "Self-intersection at or near point 182.94117647058823 24.176470588235293\n",
      "Self-intersection at or near point 786 66\n",
      "Self-intersection at or near point 316.43137254901961 826.72549019607845\n",
      "Self-intersection at or near point 64 114\n",
      "Self-intersection at or near point 2 502\n",
      "Self-intersection at or near point 284.19999999999999 8.5999999999999996\n",
      "Self-intersection at or near point 507.42105263157896 313.89473684210526\n",
      "Self-intersection at or near point 831 2\n",
      "Self-intersection at or near point 830.45614035087715 314.71929824561403\n"
     ]
    },
    {
     "name": "stdout",
     "output_type": "stream",
     "text": [
      "tresh: 0.3 eps: 1.0 minarea: 1.0\n",
      "('Final jaccard', 0.026778799870993582)\n",
      "minarea: 3.0\n"
     ]
    },
    {
     "name": "stderr",
     "output_type": "stream",
     "text": [
      "Self-intersection at or near point 182.94117647058823 24.176470588235293\n",
      "Self-intersection at or near point 786 66\n",
      "Self-intersection at or near point 316.43137254901961 826.72549019607845\n",
      "Self-intersection at or near point 64 114\n",
      "Self-intersection at or near point 2 502\n",
      "Self-intersection at or near point 284.19999999999999 8.5999999999999996\n",
      "Self-intersection at or near point 507.42105263157896 313.89473684210526\n",
      "Self-intersection at or near point 831 2\n",
      "Self-intersection at or near point 830.45614035087715 314.71929824561403\n"
     ]
    },
    {
     "name": "stdout",
     "output_type": "stream",
     "text": [
      "tresh: 0.3 eps: 1.0 minarea: 3.0\n",
      "('Final jaccard', 0.026778744771720438)\n",
      "minarea: 10.0\n"
     ]
    },
    {
     "name": "stderr",
     "output_type": "stream",
     "text": [
      "Self-intersection at or near point 182.94117647058823 24.176470588235293\n",
      "Self-intersection at or near point 786 66\n",
      "Self-intersection at or near point 316.43137254901961 826.72549019607845\n",
      "Self-intersection at or near point 64 114\n",
      "Self-intersection at or near point 284.19999999999999 8.5999999999999996\n",
      "Self-intersection at or near point 507.42105263157896 313.89473684210526\n",
      "Self-intersection at or near point 830.45614035087715 314.71929824561403\n"
     ]
    },
    {
     "name": "stdout",
     "output_type": "stream",
     "text": [
      "tresh: 0.3 eps: 1.0 minarea: 10.0\n",
      "('Final jaccard', 0.02676908152191015)\n",
      "minarea: 15.0\n"
     ]
    },
    {
     "name": "stderr",
     "output_type": "stream",
     "text": [
      "Self-intersection at or near point 182.94117647058823 24.176470588235293\n",
      "Self-intersection at or near point 786 66\n",
      "Self-intersection at or near point 316.43137254901961 826.72549019607845\n",
      "Self-intersection at or near point 284.19999999999999 8.5999999999999996\n",
      "Self-intersection at or near point 507.42105263157896 313.89473684210526\n",
      "Self-intersection at or near point 828.91780821917803 314.83561643835617\n"
     ]
    },
    {
     "name": "stdout",
     "output_type": "stream",
     "text": [
      "tresh: 0.3 eps: 1.0 minarea: 15.0\n",
      "('Final jaccard', 0.026750083262934946)\n",
      "eps: 3.0\n",
      "minarea: 1.0\n"
     ]
    },
    {
     "name": "stderr",
     "output_type": "stream",
     "text": [
      "Self-intersection at or near point 111.08499095840868 1.2296564195298374\n",
      "Self-intersection at or near point 543.13114754098365 292.19672131147541\n",
      "Self-intersection at or near point 522.07692307692309 79.061538461538461\n",
      "Self-intersection at or near point 828.91780821917803 314.83561643835617\n"
     ]
    },
    {
     "name": "stdout",
     "output_type": "stream",
     "text": [
      "tresh: 0.3 eps: 3.0 minarea: 1.0\n",
      "('Final jaccard', 0.02624100586829313)\n",
      "minarea: 3.0\n"
     ]
    },
    {
     "name": "stderr",
     "output_type": "stream",
     "text": [
      "Self-intersection at or near point 111.08499095840868 1.2296564195298374\n",
      "Self-intersection at or near point 543.13114754098365 292.19672131147541\n",
      "Self-intersection at or near point 522.07692307692309 79.061538461538461\n",
      "Self-intersection at or near point 828.91780821917803 314.83561643835617\n"
     ]
    },
    {
     "name": "stdout",
     "output_type": "stream",
     "text": [
      "tresh: 0.3 eps: 3.0 minarea: 3.0\n",
      "('Final jaccard', 0.02624100586829313)\n",
      "minarea: 10.0\n"
     ]
    },
    {
     "name": "stderr",
     "output_type": "stream",
     "text": [
      "Self-intersection at or near point 111.08499095840868 1.2296564195298374\n",
      "Self-intersection at or near point 543.13114754098365 292.19672131147541\n",
      "Self-intersection at or near point 522.25 78.75\n",
      "Ring Self-intersection at or near point 671 101\n"
     ]
    },
    {
     "name": "stdout",
     "output_type": "stream",
     "text": [
      "tresh: 0.3 eps: 3.0 minarea: 10.0\n",
      "('Final jaccard', 0.026237680537844046)\n",
      "minarea: 15.0\n"
     ]
    },
    {
     "name": "stderr",
     "output_type": "stream",
     "text": [
      "Self-intersection at or near point 111.08499095840868 1.2296564195298374\n",
      "Self-intersection at or near point 66 447\n",
      "Self-intersection at or near point 522.25 78.75\n",
      "Self-intersection at or near point 830.45614035087715 314.71929824561403\n"
     ]
    },
    {
     "name": "stdout",
     "output_type": "stream",
     "text": [
      "tresh: 0.3 eps: 3.0 minarea: 15.0\n",
      "('Final jaccard', 0.026221998640790875)\n",
      "tresh: 0.35\n",
      "eps: 0.5\n",
      "minarea: 1.0\n"
     ]
    },
    {
     "name": "stderr",
     "output_type": "stream",
     "text": [
      "Self-intersection at or near point 330.14285714285717 54.142857142857146\n",
      "Self-intersection at or near point 1 167\n",
      "Self-intersection at or near point 316.39999999999998 826.60000000000002\n",
      "Self-intersection at or near point 50 370\n",
      "Self-intersection at or near point 43 528.25\n",
      "Self-intersection at or near point 507.28571428571428 314\n",
      "Ring Self-intersection at or near point 831 2\n",
      "Ring Self-intersection at or near point 293 192\n",
      "Self-intersection at or near point 830.45614035087715 314.71929824561403\n"
     ]
    },
    {
     "name": "stdout",
     "output_type": "stream",
     "text": [
      "tresh: 0.35 eps: 0.5 minarea: 1.0\n",
      "('Final jaccard', 0.02683079137902825)\n",
      "minarea: 3.0\n"
     ]
    },
    {
     "name": "stderr",
     "output_type": "stream",
     "text": [
      "Self-intersection at or near point 330.14285714285717 54.142857142857146\n",
      "Self-intersection at or near point 1 167\n",
      "Self-intersection at or near point 316.39999999999998 826.60000000000002\n",
      "Self-intersection at or near point 50 370\n",
      "Self-intersection at or near point 43.111111111111114 528.16666666666663\n",
      "Self-intersection at or near point 507.28571428571428 314\n",
      "Ring Self-intersection at or near point 831 2\n",
      "Ring Self-intersection at or near point 293 192\n",
      "Self-intersection at or near point 830.45614035087715 314.71929824561403\n"
     ]
    },
    {
     "name": "stdout",
     "output_type": "stream",
     "text": [
      "tresh: 0.35 eps: 0.5 minarea: 3.0\n",
      "('Final jaccard', 0.026831461612488866)\n",
      "minarea: 10.0\n"
     ]
    },
    {
     "name": "stderr",
     "output_type": "stream",
     "text": [
      "Self-intersection at or near point 330.14285714285717 54.142857142857146\n",
      "Self-intersection at or near point 786 66\n",
      "Self-intersection at or near point 316.39999999999998 826.60000000000002\n",
      "Self-intersection at or near point 50 370\n",
      "Self-intersection at or near point 507.28571428571428 314\n",
      "Ring Self-intersection at or near point 293 192\n",
      "Self-intersection at or near point 830.45614035087715 314.71929824561403\n"
     ]
    },
    {
     "name": "stdout",
     "output_type": "stream",
     "text": [
      "tresh: 0.35 eps: 0.5 minarea: 10.0\n",
      "('Final jaccard', 0.026815906782597786)\n",
      "minarea: 15.0\n"
     ]
    },
    {
     "name": "stderr",
     "output_type": "stream",
     "text": [
      "Self-intersection at or near point 330.14285714285717 54.142857142857146\n",
      "Self-intersection at or near point 786 66\n",
      "Self-intersection at or near point 316.39999999999998 826.60000000000002\n",
      "Self-intersection at or near point 50 370\n",
      "Self-intersection at or near point 507.28571428571428 314\n",
      "Ring Self-intersection at or near point 293 192\n",
      "Self-intersection at or near point 830.45614035087715 314.71929824561403\n"
     ]
    },
    {
     "name": "stdout",
     "output_type": "stream",
     "text": [
      "tresh: 0.35 eps: 0.5 minarea: 15.0\n",
      "('Final jaccard', 0.02680124643689151)\n",
      "eps: 1.0\n",
      "minarea: 1.0\n"
     ]
    },
    {
     "name": "stderr",
     "output_type": "stream",
     "text": [
      "Self-intersection at or near point 506 13\n",
      "Self-intersection at or near point 772.02702702702697 385.89189189189187\n",
      "Self-intersection at or near point 316.43137254901961 826.72549019607845\n",
      "Self-intersection at or near point 548 181.5\n",
      "Self-intersection at or near point 284.19999999999999 8.5999999999999996\n",
      "Self-intersection at or near point 507.5 313.83333333333331\n",
      "Self-intersection at or near point 831 2\n",
      "Self-intersection at or near point 830.45614035087715 314.71929824561403\n"
     ]
    },
    {
     "name": "stdout",
     "output_type": "stream",
     "text": [
      "tresh: 0.35 eps: 1.0 minarea: 1.0\n",
      "('Final jaccard', 0.026830689895722494)\n",
      "minarea: 3.0\n"
     ]
    },
    {
     "name": "stderr",
     "output_type": "stream",
     "text": [
      "Self-intersection at or near point 506 13\n",
      "Self-intersection at or near point 772.02702702702697 385.89189189189187\n",
      "Self-intersection at or near point 316.43137254901961 826.72549019607845\n",
      "Self-intersection at or near point 548 181.5\n",
      "Self-intersection at or near point 284.19999999999999 8.5999999999999996\n",
      "Self-intersection at or near point 507.5 313.83333333333331\n",
      "Self-intersection at or near point 831 2\n",
      "Self-intersection at or near point 830.45614035087715 314.71929824561403\n"
     ]
    },
    {
     "name": "stdout",
     "output_type": "stream",
     "text": [
      "tresh: 0.35 eps: 1.0 minarea: 3.0\n",
      "('Final jaccard', 0.02683093658641608)\n",
      "minarea: 10.0\n"
     ]
    },
    {
     "name": "stderr",
     "output_type": "stream",
     "text": [
      "Self-intersection at or near point 506 13\n",
      "Self-intersection at or near point 772.02702702702697 385.89189189189187\n",
      "Self-intersection at or near point 316.43137254901961 826.72549019607845\n",
      "Self-intersection at or near point 64 114\n",
      "Self-intersection at or near point 284.19999999999999 8.5999999999999996\n",
      "Self-intersection at or near point 507.5 313.83333333333331\n",
      "Self-intersection at or near point 830.45614035087715 314.71929824561403\n"
     ]
    },
    {
     "name": "stdout",
     "output_type": "stream",
     "text": [
      "tresh: 0.35 eps: 1.0 minarea: 10.0\n",
      "('Final jaccard', 0.026817680307364276)\n",
      "minarea: 15.0\n"
     ]
    },
    {
     "name": "stderr",
     "output_type": "stream",
     "text": [
      "Self-intersection at or near point 506 13\n",
      "Self-intersection at or near point 772.02702702702697 385.89189189189187\n",
      "Self-intersection at or near point 316.43137254901961 826.72549019607845\n",
      "Self-intersection at or near point 374 426\n",
      "Self-intersection at or near point 284.19999999999999 8.5999999999999996\n",
      "Self-intersection at or near point 507.5 313.83333333333331\n",
      "Self-intersection at or near point 829.12121212121212 311.530303030303\n"
     ]
    },
    {
     "name": "stdout",
     "output_type": "stream",
     "text": [
      "tresh: 0.35 eps: 1.0 minarea: 15.0\n",
      "('Final jaccard', 0.02680434696639187)\n",
      "eps: 3.0\n",
      "minarea: 1.0\n"
     ]
    },
    {
     "name": "stderr",
     "output_type": "stream",
     "text": [
      "Ring Self-intersection at or near point 110 0\n",
      "Self-intersection at or near point 772.02702702702697 385.89189189189187\n",
      "Self-intersection at or near point 543.14545454545453 292.21818181818179\n",
      "Self-intersection at or near point 1 677\n",
      "Self-intersection at or near point 829.12121212121212 311.530303030303\n"
     ]
    },
    {
     "name": "stdout",
     "output_type": "stream",
     "text": [
      "tresh: 0.35 eps: 3.0 minarea: 1.0\n",
      "('Final jaccard', 0.026322055060239477)\n",
      "minarea: 3.0\n"
     ]
    },
    {
     "name": "stderr",
     "output_type": "stream",
     "text": [
      "Ring Self-intersection at or near point 110 0\n",
      "Self-intersection at or near point 772.02702702702697 385.89189189189187\n",
      "Self-intersection at or near point 543.14545454545453 292.21818181818179\n",
      "Self-intersection at or near point 1 677\n",
      "Self-intersection at or near point 829.12121212121212 311.530303030303\n"
     ]
    },
    {
     "name": "stdout",
     "output_type": "stream",
     "text": [
      "tresh: 0.35 eps: 3.0 minarea: 3.0\n",
      "('Final jaccard', 0.026322055060239477)\n",
      "minarea: 10.0\n"
     ]
    },
    {
     "name": "stderr",
     "output_type": "stream",
     "text": [
      "Ring Self-intersection at or near point 110 0\n",
      "Self-intersection at or near point 772.02702702702697 385.89189189189187\n",
      "Self-intersection at or near point 543.14545454545453 292.21818181818179\n",
      "Self-intersection at or near point 1 677\n",
      "Self-intersection at or near point 829.12121212121212 311.530303030303\n"
     ]
    },
    {
     "name": "stdout",
     "output_type": "stream",
     "text": [
      "tresh: 0.35 eps: 3.0 minarea: 10.0\n",
      "('Final jaccard', 0.026319885618425302)\n",
      "minarea: 15.0\n"
     ]
    },
    {
     "name": "stderr",
     "output_type": "stream",
     "text": [
      "Ring Self-intersection at or near point 110 0\n",
      "Self-intersection at or near point 772.02702702702697 385.89189189189187\n",
      "Self-intersection at or near point 66 447\n",
      "Self-intersection at or near point 1 677\n",
      "Self-intersection at or near point 830.45614035087715 314.71929824561403\n"
     ]
    },
    {
     "name": "stdout",
     "output_type": "stream",
     "text": [
      "tresh: 0.35 eps: 3.0 minarea: 15.0\n",
      "('Final jaccard', 0.02630482277288949)\n",
      "tresh: 0.4\n",
      "eps: 0.5\n",
      "minarea: 1.0\n"
     ]
    },
    {
     "name": "stderr",
     "output_type": "stream",
     "text": [
      "Self-intersection at or near point 330.89999999999998 51.799999999999997\n",
      "Self-intersection at or near point 564 718\n",
      "Self-intersection at or near point 539.13333333333333 294.13333333333333\n",
      "Self-intersection at or near point 547.57142857142856 181.71428571428572\n",
      "Self-intersection at or near point 507.19999999999999 314\n",
      "Ring Self-intersection at or near point 831 2\n",
      "Self-intersection at or near point 292 195\n",
      "Self-intersection at or near point 830.45614035087715 314.71929824561403\n"
     ]
    },
    {
     "name": "stdout",
     "output_type": "stream",
     "text": [
      "tresh: 0.4 eps: 0.5 minarea: 1.0\n",
      "('Final jaccard', 0.026891352808191982)\n",
      "minarea: 3.0\n"
     ]
    },
    {
     "name": "stderr",
     "output_type": "stream",
     "text": [
      "Self-intersection at or near point 330.89999999999998 51.799999999999997\n",
      "Self-intersection at or near point 564 718\n",
      "Self-intersection at or near point 539.13333333333333 294.13333333333333\n",
      "Self-intersection at or near point 547.57142857142856 181.71428571428572\n",
      "Self-intersection at or near point 507.19999999999999 314\n",
      "Ring Self-intersection at or near point 831 2\n",
      "Self-intersection at or near point 292 195\n",
      "Self-intersection at or near point 830.45614035087715 314.71929824561403\n"
     ]
    },
    {
     "name": "stdout",
     "output_type": "stream",
     "text": [
      "tresh: 0.4 eps: 0.5 minarea: 3.0\n",
      "('Final jaccard', 0.026891487300292085)\n",
      "minarea: 10.0\n"
     ]
    },
    {
     "name": "stderr",
     "output_type": "stream",
     "text": [
      "Self-intersection at or near point 330.89999999999998 51.799999999999997\n",
      "Self-intersection at or near point 759 383\n",
      "Self-intersection at or near point 539.13333333333333 294.13333333333333\n",
      "Self-intersection at or near point 373.85714285714283 426.28571428571428\n",
      "Self-intersection at or near point 507.19999999999999 314\n",
      "Self-intersection at or near point 292 195\n",
      "Self-intersection at or near point 830.45614035087715 314.71929824561403\n"
     ]
    },
    {
     "name": "stdout",
     "output_type": "stream",
     "text": [
      "tresh: 0.4 eps: 0.5 minarea: 10.0\n",
      "('Final jaccard', 0.02687628715715336)\n",
      "minarea: 15.0\n"
     ]
    },
    {
     "name": "stderr",
     "output_type": "stream",
     "text": [
      "Self-intersection at or near point 330.89999999999998 51.799999999999997\n",
      "Self-intersection at or near point 759 383\n",
      "Self-intersection at or near point 539.13333333333333 294.13333333333333\n",
      "Self-intersection at or near point 373.85714285714283 426.28571428571428\n",
      "Self-intersection at or near point 507.19999999999999 314\n",
      "Self-intersection at or near point 292 195\n",
      "Self-intersection at or near point 830.45614035087715 314.71929824561403\n"
     ]
    },
    {
     "name": "stdout",
     "output_type": "stream",
     "text": [
      "tresh: 0.4 eps: 0.5 minarea: 15.0\n",
      "('Final jaccard', 0.026861134041180665)\n",
      "eps: 1.0\n",
      "minarea: 1.0\n"
     ]
    },
    {
     "name": "stderr",
     "output_type": "stream",
     "text": [
      "Ring Self-intersection at or near point 111 0\n",
      "Self-intersection at or near point 772.02702702702697 385.89189189189187\n",
      "Self-intersection at or near point 539.13333333333333 294.13333333333333\n",
      "Self-intersection at or near point 547.57142857142856 181.71428571428572\n",
      "Ring Self-intersection at or near point 156 436\n",
      "Self-intersection at or near point 135 597\n",
      "Self-intersection at or near point 465.52173913043481 338.91304347826087\n",
      "Self-intersection at or near point 831 2\n",
      "Self-intersection at or near point 293.30434782608694 188.52173913043478\n",
      "Self-intersection at or near point 830.45614035087715 314.71929824561403\n"
     ]
    },
    {
     "name": "stdout",
     "output_type": "stream",
     "text": [
      "tresh: 0.4 eps: 1.0 minarea: 1.0\n",
      "('Final jaccard', 0.026893189833689938)\n",
      "minarea: 3.0\n"
     ]
    },
    {
     "name": "stderr",
     "output_type": "stream",
     "text": [
      "Ring Self-intersection at or near point 111 0\n",
      "Self-intersection at or near point 772.02702702702697 385.89189189189187\n",
      "Self-intersection at or near point 539.13333333333333 294.13333333333333\n",
      "Self-intersection at or near point 547.57142857142856 181.71428571428572\n",
      "Ring Self-intersection at or near point 156 436\n",
      "Self-intersection at or near point 135 597\n",
      "Self-intersection at or near point 465.52173913043481 338.91304347826087\n",
      "Self-intersection at or near point 831 2\n",
      "Self-intersection at or near point 293.30434782608694 188.52173913043478\n",
      "Self-intersection at or near point 830.45614035087715 314.71929824561403\n"
     ]
    },
    {
     "name": "stdout",
     "output_type": "stream",
     "text": [
      "tresh: 0.4 eps: 1.0 minarea: 3.0\n",
      "('Final jaccard', 0.026893526799433937)\n",
      "minarea: 10.0\n"
     ]
    },
    {
     "name": "stderr",
     "output_type": "stream",
     "text": [
      "Ring Self-intersection at or near point 111 0\n",
      "Self-intersection at or near point 772.02702702702697 385.89189189189187\n",
      "Self-intersection at or near point 539.13333333333333 294.13333333333333\n",
      "Self-intersection at or near point 373.93103448275861 426.34482758620692\n",
      "Ring Self-intersection at or near point 156 436\n",
      "Self-intersection at or near point 465.52173913043481 338.91304347826087\n",
      "Self-intersection at or near point 293.30434782608694 188.52173913043478\n",
      "Self-intersection at or near point 830.45614035087715 314.71929824561403\n"
     ]
    },
    {
     "name": "stdout",
     "output_type": "stream",
     "text": [
      "tresh: 0.4 eps: 1.0 minarea: 10.0\n",
      "('Final jaccard', 0.026879261143653747)\n",
      "minarea: 15.0\n"
     ]
    },
    {
     "name": "stderr",
     "output_type": "stream",
     "text": [
      "Ring Self-intersection at or near point 111 0\n",
      "Self-intersection at or near point 772.02702702702697 385.89189189189187\n",
      "Self-intersection at or near point 539.13333333333333 294.13333333333333\n",
      "Self-intersection at or near point 373.93103448275861 426.34482758620692\n",
      "Ring Self-intersection at or near point 156 436\n",
      "Self-intersection at or near point 465.52173913043481 338.91304347826087\n",
      "Self-intersection at or near point 829.12121212121212 311.530303030303\n"
     ]
    },
    {
     "name": "stdout",
     "output_type": "stream",
     "text": [
      "tresh: 0.4 eps: 1.0 minarea: 15.0\n",
      "('Final jaccard', 0.02686377677345593)\n",
      "eps: 3.0\n",
      "minarea: 1.0\n"
     ]
    },
    {
     "name": "stderr",
     "output_type": "stream",
     "text": [
      "Ring Self-intersection at or near point 111 0\n",
      "Self-intersection at or near point 772.02702702702697 385.89189189189187\n",
      "Self-intersection at or near point 543.14545454545453 292.21818181818179\n",
      "Self-intersection at or near point 545.98571428571427 290.35714285714283\n",
      "Self-intersection at or near point 1 677\n",
      "Self-intersection at or near point 829.12121212121212 311.530303030303\n"
     ]
    },
    {
     "name": "stdout",
     "output_type": "stream",
     "text": [
      "tresh: 0.4 eps: 3.0 minarea: 1.0\n",
      "('Final jaccard', 0.026482269809456938)\n",
      "minarea: 3.0\n"
     ]
    },
    {
     "name": "stderr",
     "output_type": "stream",
     "text": [
      "Ring Self-intersection at or near point 111 0\n",
      "Self-intersection at or near point 772.02702702702697 385.89189189189187\n",
      "Self-intersection at or near point 543.14545454545453 292.21818181818179\n",
      "Self-intersection at or near point 545.98571428571427 290.35714285714283\n",
      "Self-intersection at or near point 1 677\n",
      "Self-intersection at or near point 829.12121212121212 311.530303030303\n"
     ]
    },
    {
     "name": "stdout",
     "output_type": "stream",
     "text": [
      "tresh: 0.4 eps: 3.0 minarea: 3.0\n",
      "('Final jaccard', 0.026482269809456938)\n",
      "minarea: 10.0\n"
     ]
    },
    {
     "name": "stderr",
     "output_type": "stream",
     "text": [
      "Ring Self-intersection at or near point 111 0\n",
      "Self-intersection at or near point 772.02702702702697 385.89189189189187\n",
      "Self-intersection at or near point 543.14545454545453 292.21818181818179\n",
      "Self-intersection at or near point 545.98571428571427 290.35714285714283\n",
      "Self-intersection at or near point 1 677\n",
      "Self-intersection at or near point 829.12121212121212 311.530303030303\n"
     ]
    },
    {
     "name": "stdout",
     "output_type": "stream",
     "text": [
      "tresh: 0.4 eps: 3.0 minarea: 10.0\n",
      "('Final jaccard', 0.026480052884124968)\n",
      "minarea: 15.0\n"
     ]
    },
    {
     "name": "stderr",
     "output_type": "stream",
     "text": [
      "Ring Self-intersection at or near point 111 0\n",
      "Self-intersection at or near point 772.02702702702697 385.89189189189187\n",
      "Self-intersection at or near point 66 447\n",
      "Self-intersection at or near point 545.98571428571427 290.35714285714283\n",
      "Self-intersection at or near point 1 677\n",
      "Self-intersection at or near point 689.85714285714289 350\n"
     ]
    },
    {
     "name": "stdout",
     "output_type": "stream",
     "text": [
      "tresh: 0.4 eps: 3.0 minarea: 15.0\n",
      "('Final jaccard', 0.02646289793518725)\n",
      "tresh: 0.45\n",
      "eps: 0.5\n",
      "minarea: 1.0\n"
     ]
    },
    {
     "name": "stderr",
     "output_type": "stream",
     "text": [
      "Self-intersection at or near point 331 51.666666666666664\n",
      "Self-intersection at or near point 564 718\n",
      "Self-intersection at or near point 333 42\n",
      "Self-intersection at or near point 547.57142857142856 181.71428571428572\n",
      "Self-intersection at or near point 293 482\n",
      "Self-intersection at or near point 507.19999999999999 314\n",
      "Ring Self-intersection at or near point 831 2\n",
      "Self-intersection at or near point 292 195\n",
      "Self-intersection at or near point 689.85714285714289 350\n"
     ]
    },
    {
     "name": "stdout",
     "output_type": "stream",
     "text": [
      "tresh: 0.45 eps: 0.5 minarea: 1.0\n",
      "('Final jaccard', 0.026950598111038494)\n",
      "minarea: 3.0\n"
     ]
    },
    {
     "name": "stderr",
     "output_type": "stream",
     "text": [
      "Self-intersection at or near point 331 51.666666666666664\n",
      "Self-intersection at or near point 564 718\n",
      "Self-intersection at or near point 333 42\n",
      "Self-intersection at or near point 547.57142857142856 181.71428571428572\n",
      "Self-intersection at or near point 293 482\n",
      "Self-intersection at or near point 507.19999999999999 314\n",
      "Ring Self-intersection at or near point 831 2\n",
      "Self-intersection at or near point 292 195\n",
      "Self-intersection at or near point 689.85714285714289 350\n"
     ]
    },
    {
     "name": "stdout",
     "output_type": "stream",
     "text": [
      "tresh: 0.45 eps: 0.5 minarea: 3.0\n",
      "('Final jaccard', 0.026950792862007588)\n",
      "minarea: 10.0\n"
     ]
    },
    {
     "name": "stderr",
     "output_type": "stream",
     "text": [
      "Self-intersection at or near point 331 51.666666666666664\n",
      "Self-intersection at or near point 759 383\n",
      "Self-intersection at or near point 174 478\n",
      "Self-intersection at or near point 50 370\n",
      "Ring Self-intersection at or near point 321 501\n",
      "Self-intersection at or near point 507.19999999999999 314\n",
      "Self-intersection at or near point 292 195\n",
      "Self-intersection at or near point 689.85714285714289 350\n"
     ]
    },
    {
     "name": "stdout",
     "output_type": "stream",
     "text": [
      "tresh: 0.45 eps: 0.5 minarea: 10.0\n",
      "('Final jaccard', 0.026934016211010138)\n",
      "minarea: 15.0\n"
     ]
    },
    {
     "name": "stderr",
     "output_type": "stream",
     "text": [
      "Self-intersection at or near point 331 51.666666666666664\n",
      "Self-intersection at or near point 759 383\n",
      "Self-intersection at or near point 174 478\n",
      "Self-intersection at or near point 50 370\n",
      "Ring Self-intersection at or near point 321 501\n",
      "Self-intersection at or near point 507.19999999999999 314\n",
      "Self-intersection at or near point 292 195\n",
      "Self-intersection at or near point 689.85714285714289 350\n"
     ]
    },
    {
     "name": "stdout",
     "output_type": "stream",
     "text": [
      "tresh: 0.45 eps: 0.5 minarea: 15.0\n",
      "('Final jaccard', 0.02692206491000387)\n",
      "eps: 1.0\n",
      "minarea: 1.0\n"
     ]
    },
    {
     "name": "stderr",
     "output_type": "stream",
     "text": [
      "Self-intersection at or near point 330.30000000000001 52.600000000000001\n",
      "Self-intersection at or near point 772.05882352941171 385.91176470588238\n",
      "Self-intersection at or near point 333 42\n",
      "Self-intersection at or near point 547.57142857142856 181.71428571428572\n",
      "Self-intersection at or near point 465.52173913043481 338.91304347826087\n",
      "Self-intersection at or near point 831 2\n",
      "Self-intersection at or near point 293.30434782608694 188.52173913043478\n",
      "Self-intersection at or near point 689.85714285714289 350\n"
     ]
    },
    {
     "name": "stdout",
     "output_type": "stream",
     "text": [
      "tresh: 0.45 eps: 1.0 minarea: 1.0\n",
      "('Final jaccard', 0.026964181236425334)\n",
      "minarea: 3.0\n"
     ]
    },
    {
     "name": "stderr",
     "output_type": "stream",
     "text": [
      "Self-intersection at or near point 330.125 54\n",
      "Self-intersection at or near point 772.05882352941171 385.91176470588238\n",
      "Self-intersection at or near point 333 42\n",
      "Self-intersection at or near point 547.57142857142856 181.71428571428572\n",
      "Self-intersection at or near point 465.52173913043481 338.91304347826087\n",
      "Self-intersection at or near point 831 2\n",
      "Self-intersection at or near point 293.30434782608694 188.52173913043478\n",
      "Self-intersection at or near point 689.85714285714289 350\n"
     ]
    },
    {
     "name": "stdout",
     "output_type": "stream",
     "text": [
      "tresh: 0.45 eps: 1.0 minarea: 3.0\n",
      "('Final jaccard', 0.02696479832418879)\n",
      "minarea: 10.0\n"
     ]
    },
    {
     "name": "stderr",
     "output_type": "stream",
     "text": [
      "Self-intersection at or near point 330.30000000000001 52.600000000000001\n",
      "Self-intersection at or near point 772.05882352941171 385.91176470588238\n",
      "Self-intersection at or near point 66 447\n",
      "Self-intersection at or near point 465.52173913043481 338.91304347826087\n",
      "Self-intersection at or near point 293.30434782608694 188.52173913043478\n",
      "Self-intersection at or near point 689.85714285714289 350\n"
     ]
    },
    {
     "name": "stdout",
     "output_type": "stream",
     "text": [
      "tresh: 0.45 eps: 1.0 minarea: 10.0\n",
      "('Final jaccard', 0.02694838563481245)\n",
      "minarea: 15.0\n"
     ]
    },
    {
     "name": "stderr",
     "output_type": "stream",
     "text": [
      "Self-intersection at or near point 330.30000000000001 52.600000000000001\n",
      "Self-intersection at or near point 772.05882352941171 385.91176470588238\n",
      "Self-intersection at or near point 66 447\n",
      "Self-intersection at or near point 465.52173913043481 338.91304347826087\n",
      "Self-intersection at or near point 691.13043478260875 350.3478260869565\n"
     ]
    },
    {
     "name": "stdout",
     "output_type": "stream",
     "text": [
      "tresh: 0.45 eps: 1.0 minarea: 15.0\n",
      "('Final jaccard', 0.02693644013460124)\n",
      "eps: 3.0\n",
      "minarea: 1.0\n"
     ]
    },
    {
     "name": "stderr",
     "output_type": "stream",
     "text": [
      "Ring Self-intersection at or near point 111 0\n",
      "Self-intersection at or near point 721.46280991735534 334.52066115702479\n",
      "Self-intersection at or near point 133.11111111111111 688.88888888888891\n",
      "Self-intersection at or near point 691.13043478260875 350.3478260869565\n"
     ]
    },
    {
     "name": "stdout",
     "output_type": "stream",
     "text": [
      "tresh: 0.45 eps: 3.0 minarea: 1.0\n",
      "('Final jaccard', 0.026555949272950467)\n",
      "minarea: 3.0\n"
     ]
    },
    {
     "name": "stderr",
     "output_type": "stream",
     "text": [
      "Ring Self-intersection at or near point 111 0\n",
      "Self-intersection at or near point 721.46280991735534 334.52066115702479\n",
      "Self-intersection at or near point 133.11111111111111 688.88888888888891\n",
      "Self-intersection at or near point 691.13043478260875 350.3478260869565\n"
     ]
    },
    {
     "name": "stdout",
     "output_type": "stream",
     "text": [
      "tresh: 0.45 eps: 3.0 minarea: 3.0\n",
      "('Final jaccard', 0.026555949272950467)\n",
      "minarea: 10.0\n"
     ]
    },
    {
     "name": "stderr",
     "output_type": "stream",
     "text": [
      "Ring Self-intersection at or near point 111 0\n",
      "Self-intersection at or near point 721.46280991735534 334.52066115702479\n",
      "Self-intersection at or near point 133.11111111111111 688.88888888888891\n",
      "Self-intersection at or near point 691.13043478260875 350.3478260869565\n"
     ]
    },
    {
     "name": "stdout",
     "output_type": "stream",
     "text": [
      "tresh: 0.45 eps: 3.0 minarea: 10.0\n",
      "('Final jaccard', 0.026553731151485307)\n",
      "minarea: 15.0\n"
     ]
    },
    {
     "name": "stderr",
     "output_type": "stream",
     "text": [
      "Ring Self-intersection at or near point 111 0\n",
      "Self-intersection at or near point 721.46280991735534 334.52066115702479\n",
      "Self-intersection at or near point 133.11111111111111 688.88888888888891\n",
      "Self-intersection at or near point 590.21403197158077 0.6420959147424512\n"
     ]
    },
    {
     "name": "stdout",
     "output_type": "stream",
     "text": [
      "tresh: 0.45 eps: 3.0 minarea: 15.0\n",
      "('Final jaccard', 0.026533425586522132)\n",
      "4\n",
      "tresh: 0.15\n",
      "eps: 0.5\n",
      "minarea: 1.0\n"
     ]
    },
    {
     "name": "stderr",
     "output_type": "stream",
     "text": [
      "Self-intersection at or near point 0.69354838709677424 21.85483870967742\n",
      "Self-intersection at or near point 709.28571428571433 402.57142857142856\n",
      "Self-intersection at or near point 131 833\n",
      "Self-intersection at or near point 611.20000000000005 720.39999999999998\n",
      "Self-intersection at or near point 2.5807365439093486 625.35410764872518\n",
      "Self-intersection at or near point 723.76923076923072 260.26923076923077\n",
      "Self-intersection at or near point 728.66666666666663 158.88888888888889\n",
      "Self-intersection at or near point 697.66666666666663 305.66666666666669\n",
      "Self-intersection at or near point 830.04938271604942 77.950617283950621\n",
      "Self-intersection at or near point 430.71428571428572 22.142857142857142\n",
      "Self-intersection at or near point 469.69230769230768 157.61538461538461\n",
      "Self-intersection at or near point 830.31468531468533 142.65734265734267\n",
      "Self-intersection at or near point 419 788\n",
      "Self-intersection at or near point 830.0191570881226 261.9808429118774\n",
      "Self-intersection at or near point 590.21403197158077 0.6420959147424512\n"
     ]
    },
    {
     "name": "stdout",
     "output_type": "stream",
     "text": [
      "tresh: 0.15 eps: 0.5 minarea: 1.0\n",
      "('Final jaccard', 0.041455121203509686)\n",
      "minarea: 3.0\n"
     ]
    },
    {
     "name": "stderr",
     "output_type": "stream",
     "text": [
      "Self-intersection at or near point 0.69354838709677424 21.85483870967742\n",
      "Self-intersection at or near point 709.28571428571433 402.57142857142856\n",
      "Self-intersection at or near point 131 833\n",
      "Self-intersection at or near point 611.20000000000005 720.39999999999998\n",
      "Self-intersection at or near point 2.5807365439093486 625.35410764872518\n",
      "Self-intersection at or near point 723.76923076923072 260.26923076923077\n",
      "Self-intersection at or near point 728.66666666666663 158.88888888888889\n",
      "Self-intersection at or near point 697.66666666666663 305.66666666666669\n",
      "Self-intersection at or near point 830.04938271604942 77.950617283950621\n",
      "Self-intersection at or near point 430.71428571428572 22.142857142857142\n",
      "Self-intersection at or near point 448.14285714285717 373.28571428571428\n",
      "Self-intersection at or near point 830.31468531468533 142.65734265734267\n",
      "Self-intersection at or near point 419 788\n",
      "Self-intersection at or near point 830.0191570881226 261.9808429118774\n",
      "Self-intersection at or near point 590.21403197158077 0.6420959147424512\n"
     ]
    },
    {
     "name": "stdout",
     "output_type": "stream",
     "text": [
      "tresh: 0.15 eps: 0.5 minarea: 3.0\n",
      "('Final jaccard', 0.04145932443239799)\n",
      "minarea: 10.0\n"
     ]
    },
    {
     "name": "stderr",
     "output_type": "stream",
     "text": [
      "Self-intersection at or near point 0.69354838709677424 21.85483870967742\n",
      "Self-intersection at or near point 709.28571428571433 402.57142857142856\n",
      "Self-intersection at or near point 131 833\n",
      "Self-intersection at or near point 611.20000000000005 720.39999999999998\n",
      "Self-intersection at or near point 2.6706586826347305 640.50598802395211\n",
      "Self-intersection at or near point 723.76923076923072 260.26923076923077\n",
      "Self-intersection at or near point 728.66666666666663 158.88888888888889\n",
      "Self-intersection at or near point 697.22222222222217 303.88888888888891\n",
      "Self-intersection at or near point 830.04938271604942 77.950617283950621\n",
      "Self-intersection at or near point 430.71428571428572 22.142857142857142\n",
      "Self-intersection at or near point 448.14285714285717 373.28571428571428\n",
      "Self-intersection at or near point 830.31468531468533 142.65734265734267\n",
      "Self-intersection at or near point 419 788\n",
      "Self-intersection at or near point 830.0191570881226 261.9808429118774\n",
      "Self-intersection at or near point 590.21403197158077 0.6420959147424512\n"
     ]
    },
    {
     "name": "stdout",
     "output_type": "stream",
     "text": [
      "tresh: 0.15 eps: 0.5 minarea: 10.0\n",
      "('Final jaccard', 0.041426190763726244)\n",
      "minarea: 15.0\n"
     ]
    },
    {
     "name": "stderr",
     "output_type": "stream",
     "text": [
      "Self-intersection at or near point 0.69354838709677424 21.85483870967742\n",
      "Self-intersection at or near point 709.28571428571433 402.57142857142856\n",
      "Self-intersection at or near point 131 833\n",
      "Self-intersection at or near point 611.20000000000005 720.39999999999998\n",
      "Self-intersection at or near point 2.5807365439093486 625.35410764872518\n",
      "Self-intersection at or near point 723.76923076923072 260.26923076923077\n",
      "Self-intersection at or near point 728.66666666666663 158.88888888888889\n",
      "Self-intersection at or near point 0 604\n",
      "Self-intersection at or near point 830.10843373493981 73.108433734939766\n",
      "Self-intersection at or near point 430.71428571428572 22.142857142857142\n",
      "Self-intersection at or near point 448.14285714285717 373.28571428571428\n",
      "Self-intersection at or near point 830.31468531468533 142.65734265734267\n",
      "Self-intersection at or near point 419 788\n",
      "Self-intersection at or near point 830.0191570881226 261.9808429118774\n",
      "Self-intersection at or near point 590.25679275439529 0.6419818859882791\n"
     ]
    },
    {
     "name": "stdout",
     "output_type": "stream",
     "text": [
      "tresh: 0.15 eps: 0.5 minarea: 15.0\n",
      "('Final jaccard', 0.04139059405803591)\n",
      "eps: 1.0\n",
      "minarea: 1.0\n"
     ]
    },
    {
     "name": "stderr",
     "output_type": "stream",
     "text": [
      "Self-intersection at or near point 0.78899082568807333 16.605504587155963\n",
      "Self-intersection at or near point 763.5 398.5\n",
      "TopologyException: Input geom 0 is invalid: Self-intersection at or near point 0.0031666657021426747 -0.0025068871521488245 at 0.0031666657021426747 -0.0025068871521488245\n",
      "Self-intersection at or near point 0.0031666657021426747 -0.0025068871521488245\n",
      "Self-intersection at or near point 590.25679275439529 0.6419818859882791\n"
     ]
    },
    {
     "name": "stdout",
     "output_type": "stream",
     "text": [
      "topological error. Do not use this setup\n",
      "tresh: 0.15 eps: 1.0 minarea: 1.0\n",
      "('Final jaccard', 0.013176016042378036)\n",
      "minarea: 3.0\n"
     ]
    },
    {
     "name": "stderr",
     "output_type": "stream",
     "text": [
      "Self-intersection at or near point 0.78899082568807333 16.605504587155963\n",
      "Self-intersection at or near point 763.5 398.5\n",
      "TopologyException: Input geom 0 is invalid: Self-intersection at or near point 0.0031666657021426747 -0.0025068871521488245 at 0.0031666657021426747 -0.0025068871521488245\n",
      "Self-intersection at or near point 0.0031666657021426747 -0.0025068871521488245\n",
      "Self-intersection at or near point 590.25679275439529 0.6419818859882791\n"
     ]
    },
    {
     "name": "stdout",
     "output_type": "stream",
     "text": [
      "topological error. Do not use this setup\n",
      "tresh: 0.15 eps: 1.0 minarea: 3.0\n",
      "('Final jaccard', 0.013176040807270648)\n",
      "minarea: 10.0\n"
     ]
    },
    {
     "name": "stderr",
     "output_type": "stream",
     "text": [
      "Self-intersection at or near point 0.69354838709677424 21.85483870967742\n",
      "Self-intersection at or near point 763.5 398.5\n",
      "TopologyException: Input geom 0 is invalid: Self-intersection at or near point 0.0031666657021426248 -0.0025068871521487751 at 0.0031666657021426248 -0.0025068871521487751\n",
      "Self-intersection at or near point 0.0031666657021426248 -0.0025068871521487751\n",
      "Self-intersection at or near point 590.25679275439529 0.6419818859882791\n"
     ]
    },
    {
     "name": "stdout",
     "output_type": "stream",
     "text": [
      "topological error. Do not use this setup\n",
      "tresh: 0.15 eps: 1.0 minarea: 10.0\n",
      "('Final jaccard', 0.013176619859290594)\n",
      "minarea: 15.0\n"
     ]
    },
    {
     "name": "stderr",
     "output_type": "stream",
     "text": [
      "Self-intersection at or near point 0.78899082568807333 16.605504587155963\n",
      "Self-intersection at or near point 763.5 398.5\n",
      "TopologyException: Input geom 0 is invalid: Self-intersection at or near point 0.0031666657021426747 -0.0025068871521488245 at 0.0031666657021426747 -0.0025068871521488245\n",
      "Self-intersection at or near point 0.0031666657021426747 -0.0025068871521488245\n",
      "Self-intersection at or near point 588.60062728698381 2.5718766335598535\n"
     ]
    },
    {
     "name": "stdout",
     "output_type": "stream",
     "text": [
      "topological error. Do not use this setup\n",
      "tresh: 0.15 eps: 1.0 minarea: 15.0\n",
      "('Final jaccard', 0.013175429320391903)\n",
      "eps: 3.0\n",
      "minarea: 1.0\n"
     ]
    },
    {
     "name": "stderr",
     "output_type": "stream",
     "text": [
      "Self-intersection at or near point 0 228\n",
      "Self-intersection at or near point 764.88888888888891 399.88888888888891\n",
      "Self-intersection at or near point 222.02985074626866 278.91044776119401\n",
      "Self-intersection at or near point 222.12625482625484 830.32664092664095\n",
      "Self-intersection at or near point 808.57894736842104 724.26315789473688\n",
      "Self-intersection at or near point 626.05106382978727 221.72765957446808\n",
      "Ring Self-intersection at or near point 831 553\n",
      "Self-intersection at or near point 830.06918238993705 76.327044025157235\n",
      "Self-intersection at or near point 239.12121212121212 497.24242424242425\n",
      "Self-intersection at or near point 703.22429906542061 695.3364485981308\n",
      "Self-intersection at or near point 830.09615384615381 241.80769230769232\n",
      "Self-intersection at or near point 588.60062728698381 2.5718766335598535\n"
     ]
    },
    {
     "name": "stdout",
     "output_type": "stream",
     "text": [
      "tresh: 0.15 eps: 3.0 minarea: 1.0\n",
      "('Final jaccard', 0.04114308878904922)\n",
      "minarea: 3.0\n"
     ]
    },
    {
     "name": "stderr",
     "output_type": "stream",
     "text": [
      "Self-intersection at or near point 0 228\n",
      "Self-intersection at or near point 764.88888888888891 399.88888888888891\n",
      "Self-intersection at or near point 222.02985074626866 278.91044776119401\n",
      "Self-intersection at or near point 222.12625482625484 830.32664092664095\n",
      "Self-intersection at or near point 808.57894736842104 724.26315789473688\n",
      "Self-intersection at or near point 626.05106382978727 221.72765957446808\n",
      "Ring Self-intersection at or near point 831 553\n",
      "Self-intersection at or near point 830.06918238993705 76.327044025157235\n",
      "Self-intersection at or near point 239.12121212121212 497.24242424242425\n",
      "Self-intersection at or near point 703.22429906542061 695.3364485981308\n",
      "Self-intersection at or near point 830.09615384615381 241.80769230769232\n",
      "Self-intersection at or near point 588.60062728698381 2.5718766335598535\n"
     ]
    },
    {
     "name": "stdout",
     "output_type": "stream",
     "text": [
      "tresh: 0.15 eps: 3.0 minarea: 3.0\n",
      "('Final jaccard', 0.04114308878904922)\n",
      "minarea: 10.0\n"
     ]
    },
    {
     "name": "stderr",
     "output_type": "stream",
     "text": [
      "Self-intersection at or near point 0 228\n",
      "Self-intersection at or near point 764.88888888888891 399.88888888888891\n",
      "Self-intersection at or near point 222.02985074626866 278.91044776119401\n",
      "Self-intersection at or near point 222.12625482625484 830.32664092664095\n",
      "Self-intersection at or near point 808.57894736842104 724.26315789473688\n",
      "Self-intersection at or near point 626.05106382978727 221.72765957446808\n",
      "Ring Self-intersection at or near point 831 553\n",
      "Self-intersection at or near point 830.06918238993705 76.327044025157235\n",
      "Self-intersection at or near point 239.12121212121212 497.24242424242425\n",
      "Self-intersection at or near point 703.22429906542061 695.3364485981308\n",
      "Self-intersection at or near point 830.09615384615381 241.80769230769232\n",
      "Self-intersection at or near point 588.60062728698381 2.5718766335598535\n"
     ]
    },
    {
     "name": "stdout",
     "output_type": "stream",
     "text": [
      "tresh: 0.15 eps: 3.0 minarea: 10.0\n",
      "('Final jaccard', 0.0411407653141854)\n",
      "minarea: 15.0\n"
     ]
    },
    {
     "name": "stderr",
     "output_type": "stream",
     "text": [
      "Self-intersection at or near point 0 228\n",
      "Self-intersection at or near point 764.88888888888891 399.88888888888891\n",
      "Self-intersection at or near point 222.12625482625484 830.32664092664095\n",
      "Self-intersection at or near point 808.57894736842104 724.26315789473688\n",
      "Self-intersection at or near point 626.05106382978727 221.72765957446808\n",
      "Ring Self-intersection at or near point 831 553\n",
      "Self-intersection at or near point 830.06918238993705 76.327044025157235\n",
      "Self-intersection at or near point 239.30769230769232 497\n",
      "Self-intersection at or near point 703.22429906542061 695.3364485981308\n",
      "Self-intersection at or near point 830.09615384615381 241.80769230769232\n",
      "Self-intersection at or near point 591.27851458885937 0.63925729442970824\n"
     ]
    },
    {
     "name": "stdout",
     "output_type": "stream",
     "text": [
      "tresh: 0.15 eps: 3.0 minarea: 15.0\n",
      "('Final jaccard', 0.04103164561575014)\n",
      "tresh: 0.2\n",
      "eps: 0.5\n",
      "minarea: 1.0\n"
     ]
    },
    {
     "name": "stderr",
     "output_type": "stream",
     "text": [
      "Self-intersection at or near point 0.63063063063063063 25.315315315315317\n",
      "Self-intersection at or near point 805.29411764705878 347.47058823529414\n",
      "Self-intersection at or near point 131 833\n",
      "Self-intersection at or near point 718.60000000000002 361.39999999999998\n",
      "Self-intersection at or near point 2.6080691642651299 625.13544668587895\n",
      "Self-intersection at or near point 804.88461538461536 636.07692307692309\n",
      "Self-intersection at or near point 684.5 502.5\n",
      "Self-intersection at or near point 26.896551724137932 832.48275862068965\n",
      "Self-intersection at or near point 830.11494252873558 72.574712643678154\n",
      "Self-intersection at or near point 278 578\n",
      "Self-intersection at or near point 782.18595825426939 0.13946869070208728\n",
      "Self-intersection at or near point 232.66666666666666 608.33333333333337\n",
      "Self-intersection at or near point 830.01727447216888 262.47408829174663\n",
      "Self-intersection at or near point 591.27851458885937 0.63925729442970824\n"
     ]
    },
    {
     "name": "stdout",
     "output_type": "stream",
     "text": [
      "tresh: 0.2 eps: 0.5 minarea: 1.0\n",
      "('Final jaccard', 0.041143439863193854)\n",
      "minarea: 3.0\n"
     ]
    },
    {
     "name": "stderr",
     "output_type": "stream",
     "text": [
      "Self-intersection at or near point 0.63063063063063063 25.315315315315317\n",
      "Self-intersection at or near point 805.29411764705878 347.47058823529414\n",
      "Self-intersection at or near point 131 833\n",
      "Self-intersection at or near point 718.60000000000002 361.39999999999998\n",
      "Self-intersection at or near point 2.7012195121951219 640.55182926829264\n",
      "Self-intersection at or near point 804.88461538461536 636.07692307692309\n",
      "Self-intersection at or near point 684.5 502.5\n",
      "Self-intersection at or near point 26.896551724137932 832.48275862068965\n",
      "Self-intersection at or near point 830.11494252873558 72.574712643678154\n",
      "Self-intersection at or near point 278 578\n",
      "Self-intersection at or near point 782.18595825426939 0.13946869070208728\n",
      "Self-intersection at or near point 232.66666666666666 608.33333333333337\n",
      "Self-intersection at or near point 830.01727447216888 262.47408829174663\n",
      "Self-intersection at or near point 591.27851458885937 0.63925729442970824\n"
     ]
    },
    {
     "name": "stdout",
     "output_type": "stream",
     "text": [
      "tresh: 0.2 eps: 0.5 minarea: 3.0\n",
      "('Final jaccard', 0.041145397211253855)\n",
      "minarea: 10.0\n"
     ]
    },
    {
     "name": "stderr",
     "output_type": "stream",
     "text": [
      "Self-intersection at or near point 0.63063063063063063 25.315315315315317\n",
      "Self-intersection at or near point 805.29411764705878 347.47058823529414\n",
      "Self-intersection at or near point 131 833\n",
      "Self-intersection at or near point 718.60000000000002 361.39999999999998\n",
      "Self-intersection at or near point 2.6080691642651299 625.13544668587895\n",
      "Self-intersection at or near point 804.88461538461536 636.07692307692309\n",
      "Self-intersection at or near point 657.79999999999995 515.39999999999998\n",
      "Self-intersection at or near point 26.896551724137932 832.48275862068965\n",
      "Self-intersection at or near point 830.04938271604942 77.950617283950621\n",
      "Self-intersection at or near point 511 203\n",
      "Self-intersection at or near point 782.18595825426939 0.13946869070208728\n",
      "Self-intersection at or near point 830.01727447216888 262.47408829174663\n",
      "Self-intersection at or near point 591.27851458885937 0.63925729442970824\n"
     ]
    },
    {
     "name": "stdout",
     "output_type": "stream",
     "text": [
      "tresh: 0.2 eps: 0.5 minarea: 10.0\n",
      "('Final jaccard', 0.04110403206524303)\n",
      "minarea: 15.0\n"
     ]
    },
    {
     "name": "stderr",
     "output_type": "stream",
     "text": [
      "Self-intersection at or near point 0.63063063063063063 25.315315315315317\n",
      "Self-intersection at or near point 805.29411764705878 347.47058823529414\n",
      "Self-intersection at or near point 131 833\n",
      "Self-intersection at or near point 718.60000000000002 361.39999999999998\n",
      "Self-intersection at or near point 2.7012195121951219 640.55182926829264\n",
      "Self-intersection at or near point 804.88461538461536 636.07692307692309\n",
      "Self-intersection at or near point 657.79999999999995 515.39999999999998\n",
      "Self-intersection at or near point 26.896551724137932 832.48275862068965\n",
      "Self-intersection at or near point 830.11494252873558 72.574712643678154\n",
      "Self-intersection at or near point 511 203\n",
      "Self-intersection at or near point 782.18595825426939 0.13946869070208728\n",
      "Self-intersection at or near point 830.01727447216888 262.47408829174663\n",
      "Self-intersection at or near point 589.50785340314133 0.64397905759162311\n"
     ]
    },
    {
     "name": "stdout",
     "output_type": "stream",
     "text": [
      "tresh: 0.2 eps: 0.5 minarea: 15.0\n",
      "('Final jaccard', 0.04108196138062342)\n",
      "eps: 1.0\n",
      "minarea: 1.0\n"
     ]
    },
    {
     "name": "stderr",
     "output_type": "stream",
     "text": [
      "Self-intersection at or near point 0.63063063063063063 25.315315315315317\n",
      "Self-intersection at or near point 636.60000000000002 660\n",
      "Ring Self-intersection at or near point 440 312\n",
      "Self-intersection at or near point 718.5625 361.625\n",
      "Self-intersection at or near point 3.5082146768893758 639.92004381161007\n",
      "Self-intersection at or near point 804.90909090909088 636.09090909090912\n",
      "Self-intersection at or near point 657.79999999999995 515.39999999999998\n",
      "Self-intersection at or near point 26.896551724137932 832.48275862068965\n",
      "Self-intersection at or near point 830.11494252873558 72.574712643678154\n",
      "Self-intersection at or near point 443 315\n",
      "Self-intersection at or near point 331 561\n",
      "Self-intersection at or near point 782.18595825426939 0.13946869070208728\n",
      "Self-intersection at or near point 314.7837837837838 613.45945945945948\n",
      "Self-intersection at or near point 830.01727447216888 262.47408829174663\n",
      "Self-intersection at or near point 589.50785340314133 0.64397905759162311\n"
     ]
    },
    {
     "name": "stdout",
     "output_type": "stream",
     "text": [
      "tresh: 0.2 eps: 1.0 minarea: 1.0\n",
      "('Final jaccard', 0.04114474962090887)\n",
      "minarea: 3.0\n"
     ]
    },
    {
     "name": "stderr",
     "output_type": "stream",
     "text": [
      "Self-intersection at or near point 0.63063063063063063 25.315315315315317\n",
      "Self-intersection at or near point 636.60000000000002 660\n",
      "Ring Self-intersection at or near point 440 312\n",
      "Self-intersection at or near point 718.5625 361.625\n",
      "Self-intersection at or near point 3.5082146768893758 639.92004381161007\n",
      "Self-intersection at or near point 804.90909090909088 636.09090909090912\n",
      "Self-intersection at or near point 657.79999999999995 515.39999999999998\n",
      "Self-intersection at or near point 26.896551724137932 832.48275862068965\n",
      "Self-intersection at or near point 830.11494252873558 72.574712643678154\n",
      "Self-intersection at or near point 443 315\n",
      "Self-intersection at or near point 331 561\n",
      "Self-intersection at or near point 782.18595825426939 0.13946869070208728\n",
      "Self-intersection at or near point 314.7837837837838 613.45945945945948\n",
      "Self-intersection at or near point 830.01727447216888 262.47408829174663\n",
      "Self-intersection at or near point 589.50785340314133 0.64397905759162311\n"
     ]
    },
    {
     "name": "stdout",
     "output_type": "stream",
     "text": [
      "tresh: 0.2 eps: 1.0 minarea: 3.0\n",
      "('Final jaccard', 0.0411466121660521)\n",
      "minarea: 10.0\n"
     ]
    },
    {
     "name": "stderr",
     "output_type": "stream",
     "text": [
      "Self-intersection at or near point 0.63063063063063063 25.315315315315317\n",
      "Self-intersection at or near point 636.60000000000002 660\n",
      "Ring Self-intersection at or near point 440 312\n",
      "Self-intersection at or near point 718.5625 361.625\n",
      "Self-intersection at or near point 3.5082146768893758 639.92004381161007\n",
      "Self-intersection at or near point 804.90909090909088 636.09090909090912\n",
      "Self-intersection at or near point 657.79999999999995 515.39999999999998\n",
      "Self-intersection at or near point 26.896551724137932 832.48275862068965\n",
      "Self-intersection at or near point 830.11494252873558 72.574712643678154\n",
      "Ring Self-intersection at or near point 520 22\n",
      "Self-intersection at or near point 331 561\n",
      "Self-intersection at or near point 782.18595825426939 0.13946869070208728\n",
      "Self-intersection at or near point 314.7837837837838 613.45945945945948\n",
      "Self-intersection at or near point 830.01727447216888 262.47408829174663\n",
      "Self-intersection at or near point 589.50785340314133 0.64397905759162311\n"
     ]
    },
    {
     "name": "stdout",
     "output_type": "stream",
     "text": [
      "tresh: 0.2 eps: 1.0 minarea: 10.0\n",
      "('Final jaccard', 0.041104009783043426)\n",
      "minarea: 15.0\n"
     ]
    },
    {
     "name": "stderr",
     "output_type": "stream",
     "text": [
      "Self-intersection at or near point 0.63063063063063063 25.315315315315317\n",
      "Self-intersection at or near point 636.60000000000002 660\n",
      "Ring Self-intersection at or near point 440 312\n",
      "Self-intersection at or near point 718.5625 361.625\n",
      "Self-intersection at or near point 3.5082146768893758 639.92004381161007\n",
      "Self-intersection at or near point 804.90909090909088 636.09090909090912\n",
      "Self-intersection at or near point 657.79999999999995 515.39999999999998\n",
      "Self-intersection at or near point 26.896551724137932 832.48275862068965\n",
      "Self-intersection at or near point 830.04938271604942 77.950617283950621\n",
      "Ring Self-intersection at or near point 520 22\n",
      "Self-intersection at or near point 331 561\n",
      "Self-intersection at or near point 782.18595825426939 0.13946869070208728\n",
      "Self-intersection at or near point 830.01727447216888 262.47408829174663\n",
      "Self-intersection at or near point 591.22799999999995 2.544\n"
     ]
    },
    {
     "name": "stdout",
     "output_type": "stream",
     "text": [
      "tresh: 0.2 eps: 1.0 minarea: 15.0\n",
      "('Final jaccard', 0.04109361116340494)\n",
      "eps: 3.0\n",
      "minarea: 1.0\n"
     ]
    },
    {
     "name": "stderr",
     "output_type": "stream",
     "text": [
      "Self-intersection at or near point 0 227\n",
      "Self-intersection at or near point 810.76470588235293 255.1764705882353\n",
      "Self-intersection at or near point 441.42372881355931 311.38983050847457\n",
      "Self-intersection at or near point 831 548\n",
      "Self-intersection at or near point 775.74233128834351 682.85276073619627\n",
      "Self-intersection at or near point 659.45945945945948 515.05405405405406\n",
      "Self-intersection at or near point 764.27906976744191 830.79069767441865\n",
      "Ring Self-intersection at or near point 0 9\n",
      "Self-intersection at or near point 782.0699001426533 0.13980028530670469\n",
      "Self-intersection at or near point 704.32624113475174 694.63120567375881\n",
      "Self-intersection at or near point 830.0944123314066 242.26396917148361\n",
      "Self-intersection at or near point 591.22799999999995 2.544\n"
     ]
    },
    {
     "name": "stdout",
     "output_type": "stream",
     "text": [
      "tresh: 0.2 eps: 3.0 minarea: 1.0\n",
      "('Final jaccard', 0.04074140442179796)\n",
      "minarea: 3.0\n"
     ]
    },
    {
     "name": "stderr",
     "output_type": "stream",
     "text": [
      "Self-intersection at or near point 0 227\n",
      "Self-intersection at or near point 810.76470588235293 255.1764705882353\n",
      "Self-intersection at or near point 441.42372881355931 311.38983050847457\n",
      "Self-intersection at or near point 831 548\n",
      "Self-intersection at or near point 775.74233128834351 682.85276073619627\n",
      "Self-intersection at or near point 659.45945945945948 515.05405405405406\n",
      "Self-intersection at or near point 764.27906976744191 830.79069767441865\n",
      "Ring Self-intersection at or near point 0 9\n",
      "Self-intersection at or near point 782.0699001426533 0.13980028530670469\n",
      "Self-intersection at or near point 704.32624113475174 694.63120567375881\n",
      "Self-intersection at or near point 830.0944123314066 242.26396917148361\n",
      "Self-intersection at or near point 591.22799999999995 2.544\n"
     ]
    },
    {
     "name": "stdout",
     "output_type": "stream",
     "text": [
      "tresh: 0.2 eps: 3.0 minarea: 3.0\n",
      "('Final jaccard', 0.04074140442179796)\n",
      "minarea: 10.0\n"
     ]
    },
    {
     "name": "stderr",
     "output_type": "stream",
     "text": [
      "Self-intersection at or near point 0 227\n",
      "Self-intersection at or near point 810.76470588235293 255.1764705882353\n",
      "Self-intersection at or near point 441.42372881355931 311.38983050847457\n",
      "Self-intersection at or near point 831 548\n",
      "Self-intersection at or near point 775.74233128834351 682.85276073619627\n",
      "Self-intersection at or near point 659.45945945945948 515.05405405405406\n",
      "Self-intersection at or near point 764.27906976744191 830.79069767441865\n",
      "Ring Self-intersection at or near point 0 9\n",
      "Self-intersection at or near point 782.0699001426533 0.13980028530670469\n",
      "Self-intersection at or near point 704.32624113475174 694.63120567375881\n",
      "Self-intersection at or near point 830.0944123314066 242.26396917148361\n",
      "Self-intersection at or near point 591.22799999999995 2.544\n"
     ]
    },
    {
     "name": "stdout",
     "output_type": "stream",
     "text": [
      "tresh: 0.2 eps: 3.0 minarea: 10.0\n",
      "('Final jaccard', 0.0407401604281515)\n",
      "minarea: 15.0\n"
     ]
    },
    {
     "name": "stderr",
     "output_type": "stream",
     "text": [
      "Self-intersection at or near point 0 227\n",
      "Self-intersection at or near point 810.76470588235293 255.1764705882353\n",
      "Self-intersection at or near point 441.42372881355931 311.38983050847457\n",
      "Self-intersection at or near point 831 548\n",
      "Self-intersection at or near point 775.74233128834351 682.85276073619627\n",
      "Self-intersection at or near point 659.45945945945948 515.05405405405406\n",
      "Self-intersection at or near point 764.27906976744191 830.79069767441865\n",
      "Ring Self-intersection at or near point 0 9\n",
      "Self-intersection at or near point 782.0699001426533 0.13980028530670469\n",
      "Self-intersection at or near point 704.32624113475174 694.63120567375881\n",
      "Self-intersection at or near point 830.0944123314066 242.26396917148361\n",
      "Self-intersection at or near point 590.85385296722768 0.64038972542072625\n"
     ]
    },
    {
     "name": "stdout",
     "output_type": "stream",
     "text": [
      "tresh: 0.2 eps: 3.0 minarea: 15.0\n",
      "('Final jaccard', 0.04072774869305311)\n",
      "tresh: 0.25\n",
      "eps: 0.5\n",
      "minarea: 1.0\n"
     ]
    },
    {
     "name": "stderr",
     "output_type": "stream",
     "text": [
      "Self-intersection at or near point 0 226\n",
      "Self-intersection at or near point 815.66666666666663 509\n",
      "Self-intersection at or near point 831 441\n",
      "Self-intersection at or near point 698.28571428571433 832.71428571428567\n",
      "Self-intersection at or near point 2.6080691642651299 625.13544668587895\n",
      "Self-intersection at or near point 723.76923076923072 260.26923076923077\n",
      "Self-intersection at or near point 683.3125 728.75\n",
      "Self-intersection at or near point 0 603\n",
      "Self-intersection at or near point 0.89032258064516134 11.445161290322581\n",
      "Self-intersection at or near point 351.77777777777777 511.11111111111109\n",
      "Self-intersection at or near point 331 566\n",
      "Self-intersection at or near point 782.18595825426939 0.13946869070208728\n",
      "Self-intersection at or near point 491.22222222222223 793.83333333333337\n",
      "Self-intersection at or near point 830.69230769230774 261.46153846153845\n",
      "Self-intersection at or near point 590.85385296722768 0.64038972542072625\n"
     ]
    },
    {
     "name": "stdout",
     "output_type": "stream",
     "text": [
      "tresh: 0.25 eps: 0.5 minarea: 1.0\n",
      "('Final jaccard', 0.042482395562096105)\n",
      "minarea: 3.0\n"
     ]
    },
    {
     "name": "stderr",
     "output_type": "stream",
     "text": [
      "Self-intersection at or near point 0 226\n",
      "Self-intersection at or near point 815.66666666666663 509\n",
      "Self-intersection at or near point 831 441\n",
      "Self-intersection at or near point 411.5 832\n",
      "Self-intersection at or near point 2.7064220183486238 641.41284403669727\n",
      "Self-intersection at or near point 723.76923076923072 260.26923076923077\n",
      "Self-intersection at or near point 683.3125 728.75\n",
      "Self-intersection at or near point 0 603\n",
      "Self-intersection at or near point 0.95364238410596025 6.5695364238410594\n",
      "Self-intersection at or near point 351.66666666666669 510.66666666666669\n",
      "Self-intersection at or near point 331 566\n",
      "Self-intersection at or near point 782.18595825426939 0.13946869070208728\n",
      "Self-intersection at or near point 491.22222222222223 793.83333333333337\n",
      "Self-intersection at or near point 830.69230769230774 261.46153846153845\n",
      "Self-intersection at or near point 590.85385296722768 0.64038972542072625\n"
     ]
    },
    {
     "name": "stdout",
     "output_type": "stream",
     "text": [
      "tresh: 0.25 eps: 0.5 minarea: 3.0\n",
      "('Final jaccard', 0.04247984423375521)\n",
      "minarea: 10.0\n"
     ]
    },
    {
     "name": "stderr",
     "output_type": "stream",
     "text": [
      "Self-intersection at or near point 0 226\n",
      "Self-intersection at or near point 741.79999999999995 387.80000000000001\n",
      "Self-intersection at or near point 831 441\n",
      "Self-intersection at or near point 411.5 832\n",
      "Self-intersection at or near point 2.7064220183486238 641.41284403669727\n",
      "Self-intersection at or near point 723.76923076923072 260.26923076923077\n",
      "Self-intersection at or near point 683.3125 728.75\n",
      "Self-intersection at or near point 0 603\n",
      "Self-intersection at or near point 0.95364238410596025 6.5695364238410594\n",
      "Self-intersection at or near point 316 610\n",
      "Self-intersection at or near point 331 566\n",
      "Self-intersection at or near point 782.18595825426939 0.13946869070208728\n",
      "Self-intersection at or near point 491.22222222222223 793.83333333333337\n",
      "Self-intersection at or near point 830.625 243.5\n",
      "Self-intersection at or near point 590.85385296722768 0.64038972542072625\n"
     ]
    },
    {
     "name": "stdout",
     "output_type": "stream",
     "text": [
      "tresh: 0.25 eps: 0.5 minarea: 10.0\n",
      "('Final jaccard', 0.0424504118852914)\n",
      "minarea: 15.0\n"
     ]
    },
    {
     "name": "stderr",
     "output_type": "stream",
     "text": [
      "Self-intersection at or near point 0 226\n",
      "Self-intersection at or near point 741.79999999999995 387.80000000000001\n",
      "Self-intersection at or near point 831 441\n",
      "Self-intersection at or near point 411.5 832\n",
      "Self-intersection at or near point 2.7064220183486238 641.41284403669727\n",
      "Self-intersection at or near point 723.76923076923072 260.26923076923077\n",
      "Self-intersection at or near point 683.3125 728.75\n",
      "Self-intersection at or near point 0 603\n",
      "Self-intersection at or near point 0.89032258064516134 11.445161290322581\n",
      "Self-intersection at or near point 316 610\n",
      "Self-intersection at or near point 331 566\n",
      "Self-intersection at or near point 782.18595825426939 0.13946869070208728\n",
      "Self-intersection at or near point 491.66666666666669 794.5\n",
      "Self-intersection at or near point 830.625 243.5\n",
      "Self-intersection at or near point 590.85385296722768 0.64038972542072625\n"
     ]
    },
    {
     "name": "stdout",
     "output_type": "stream",
     "text": [
      "tresh: 0.25 eps: 0.5 minarea: 15.0\n",
      "('Final jaccard', 0.04245600345298873)\n",
      "eps: 1.0\n",
      "minarea: 1.0\n"
     ]
    },
    {
     "name": "stderr",
     "output_type": "stream",
     "text": [
      "Self-intersection at or near point 0 226\n",
      "Self-intersection at or near point 815.66666666666663 509\n",
      "Self-intersection at or near point 831 441\n",
      "Self-intersection at or near point 0 7\n",
      "Self-intersection at or near point 3.5130434782608697 640.46086956521742\n",
      "Self-intersection at or near point 725.14285714285711 694.57142857142856\n",
      "Self-intersection at or near point 683.3125 728.75\n",
      "Self-intersection at or near point 0 603\n",
      "Self-intersection at or near point 0 8\n",
      "Self-intersection at or near point 351 512\n",
      "Self-intersection at or near point 335 822\n",
      "Self-intersection at or near point 782.18595825426939 0.13946869070208728\n",
      "Self-intersection at or near point 491.22222222222223 793.83333333333337\n",
      "Self-intersection at or near point 830.31147540983602 243.91803278688525\n",
      "Self-intersection at or near point 590.85385296722768 0.64038972542072625\n"
     ]
    },
    {
     "name": "stdout",
     "output_type": "stream",
     "text": [
      "tresh: 0.25 eps: 1.0 minarea: 1.0\n",
      "('Final jaccard', 0.04240288235318756)\n",
      "minarea: 3.0\n"
     ]
    },
    {
     "name": "stderr",
     "output_type": "stream",
     "text": [
      "Self-intersection at or near point 0 226\n",
      "Self-intersection at or near point 815.66666666666663 509\n",
      "Self-intersection at or near point 831 441\n",
      "Self-intersection at or near point 0 7\n",
      "Self-intersection at or near point 3.5130434782608697 640.46086956521742\n",
      "Self-intersection at or near point 725.14285714285711 694.57142857142856\n",
      "Self-intersection at or near point 683.20000000000005 729.20000000000005\n",
      "Self-intersection at or near point 0 603\n",
      "Self-intersection at or near point 0 8\n",
      "Self-intersection at or near point 351 512\n",
      "Self-intersection at or near point 335 822\n",
      "Self-intersection at or near point 782.18595825426939 0.13946869070208728\n",
      "Self-intersection at or near point 491.22222222222223 793.83333333333337\n",
      "Self-intersection at or near point 830.31147540983602 243.91803278688525\n",
      "Self-intersection at or near point 590.85385296722768 0.64038972542072625\n"
     ]
    },
    {
     "name": "stdout",
     "output_type": "stream",
     "text": [
      "tresh: 0.25 eps: 1.0 minarea: 3.0\n",
      "('Final jaccard', 0.04240026440693343)\n",
      "minarea: 10.0\n"
     ]
    },
    {
     "name": "stderr",
     "output_type": "stream",
     "text": [
      "Self-intersection at or near point 0 226\n",
      "Self-intersection at or near point 768.15384615384619 687.69230769230774\n",
      "Self-intersection at or near point 831 441\n",
      "Self-intersection at or near point 0 7\n",
      "Self-intersection at or near point 3.5130434782608697 640.46086956521742\n",
      "Self-intersection at or near point 725.14285714285711 694.57142857142856\n",
      "Self-intersection at or near point 683.20000000000005 729.20000000000005\n",
      "Self-intersection at or near point 0 603\n",
      "Self-intersection at or near point 0 8\n",
      "Ring Self-intersection at or near point 476 714\n",
      "Self-intersection at or near point 335 822\n",
      "Self-intersection at or near point 782.18595825426939 0.13946869070208728\n",
      "Self-intersection at or near point 491.22222222222223 793.83333333333337\n",
      "Self-intersection at or near point 830.31147540983602 243.91803278688525\n",
      "Self-intersection at or near point 590.85385296722768 0.64038972542072625\n"
     ]
    },
    {
     "name": "stdout",
     "output_type": "stream",
     "text": [
      "tresh: 0.25 eps: 1.0 minarea: 10.0\n",
      "('Final jaccard', 0.04237609709580517)\n",
      "minarea: 15.0\n"
     ]
    },
    {
     "name": "stderr",
     "output_type": "stream",
     "text": [
      "Self-intersection at or near point 0 226\n",
      "Self-intersection at or near point 768.15384615384619 687.69230769230774\n",
      "Self-intersection at or near point 831 441\n",
      "Self-intersection at or near point 0 7\n",
      "Self-intersection at or near point 3.5130434782608697 640.46086956521742\n",
      "Self-intersection at or near point 725.14285714285711 694.57142857142856\n",
      "Self-intersection at or near point 683.20000000000005 729.20000000000005\n",
      "Self-intersection at or near point 0 603\n",
      "Self-intersection at or near point 0 8\n",
      "Ring Self-intersection at or near point 476 714\n",
      "Self-intersection at or near point 436 370\n",
      "Self-intersection at or near point 782.18595825426939 0.13946869070208728\n",
      "Self-intersection at or near point 491.22222222222223 793.83333333333337\n",
      "Self-intersection at or near point 830.31147540983602 243.91803278688525\n",
      "Self-intersection at or near point 592.60824742268039 2.536082474226804\n"
     ]
    },
    {
     "name": "stdout",
     "output_type": "stream",
     "text": [
      "tresh: 0.25 eps: 1.0 minarea: 15.0\n",
      "('Final jaccard', 0.04224641183805388)\n",
      "eps: 3.0\n",
      "minarea: 1.0\n"
     ]
    },
    {
     "name": "stderr",
     "output_type": "stream",
     "text": [
      "Self-intersection at or near point 697.71698113207549 785.62264150943395\n",
      "Self-intersection at or near point 767.42857142857144 687.57142857142856\n",
      "Self-intersection at or near point 831 548\n",
      "Self-intersection at or near point 775.7913043478261 682.86956521739125\n",
      "Self-intersection at or near point 626.94767441860461 221.42441860465115\n",
      "Self-intersection at or near point 0 654\n",
      "Ring Self-intersection at or near point 0 8\n",
      "Self-intersection at or near point 483.00970873786406 293.07766990291265\n",
      "Self-intersection at or near point 497.16129032258067 692.22580645161293\n",
      "Self-intersection at or near point 592.81632653061229 232.24489795918367\n",
      "Self-intersection at or near point 592.60824742268039 2.536082474226804\n"
     ]
    },
    {
     "name": "stdout",
     "output_type": "stream",
     "text": [
      "tresh: 0.25 eps: 3.0 minarea: 1.0\n",
      "('Final jaccard', 0.04206735769038719)\n",
      "minarea: 3.0\n"
     ]
    },
    {
     "name": "stderr",
     "output_type": "stream",
     "text": [
      "Self-intersection at or near point 697.71698113207549 785.62264150943395\n",
      "Self-intersection at or near point 767.42857142857144 687.57142857142856\n",
      "Self-intersection at or near point 831 548\n",
      "Self-intersection at or near point 775.7913043478261 682.86956521739125\n",
      "Self-intersection at or near point 626.94767441860461 221.42441860465115\n",
      "Self-intersection at or near point 0 654\n",
      "Ring Self-intersection at or near point 0 8\n",
      "Self-intersection at or near point 483.00970873786406 293.07766990291265\n",
      "Self-intersection at or near point 497.16129032258067 692.22580645161293\n",
      "Self-intersection at or near point 592.81632653061229 232.24489795918367\n",
      "Self-intersection at or near point 592.60824742268039 2.536082474226804\n"
     ]
    },
    {
     "name": "stdout",
     "output_type": "stream",
     "text": [
      "tresh: 0.25 eps: 3.0 minarea: 3.0\n",
      "('Final jaccard', 0.04206735769038719)\n",
      "minarea: 10.0\n"
     ]
    },
    {
     "name": "stderr",
     "output_type": "stream",
     "text": [
      "Self-intersection at or near point 697.71698113207549 785.62264150943395\n",
      "Self-intersection at or near point 767.42857142857144 687.57142857142856\n",
      "Self-intersection at or near point 831 548\n",
      "Self-intersection at or near point 775.7913043478261 682.86956521739125\n",
      "Self-intersection at or near point 626.94767441860461 221.42441860465115\n",
      "Self-intersection at or near point 0 654\n",
      "Ring Self-intersection at or near point 0 8\n",
      "Self-intersection at or near point 483.00970873786406 293.07766990291265\n",
      "Self-intersection at or near point 497.16129032258067 692.22580645161293\n",
      "Self-intersection at or near point 592.81632653061229 232.24489795918367\n",
      "Self-intersection at or near point 592.60824742268039 2.536082474226804\n"
     ]
    },
    {
     "name": "stdout",
     "output_type": "stream",
     "text": [
      "tresh: 0.25 eps: 3.0 minarea: 10.0\n",
      "('Final jaccard', 0.04206872278071925)\n",
      "minarea: 15.0\n"
     ]
    },
    {
     "name": "stderr",
     "output_type": "stream",
     "text": [
      "Self-intersection at or near point 697.71698113207549 785.62264150943395\n",
      "Self-intersection at or near point 767.42857142857144 687.57142857142856\n",
      "Self-intersection at or near point 831 548\n",
      "Self-intersection at or near point 775.7913043478261 682.86956521739125\n",
      "Self-intersection at or near point 626.94767441860461 221.42441860465115\n",
      "Self-intersection at or near point 0 654\n",
      "Ring Self-intersection at or near point 0 8\n",
      "Self-intersection at or near point 483.00970873786406 293.07766990291265\n",
      "Self-intersection at or near point 497.16129032258067 692.22580645161293\n",
      "Self-intersection at or near point 592.81632653061229 232.24489795918367\n",
      "Self-intersection at or near point 0 94\n"
     ]
    },
    {
     "name": "stdout",
     "output_type": "stream",
     "text": [
      "tresh: 0.25 eps: 3.0 minarea: 15.0\n",
      "('Final jaccard', 0.04206624219106279)\n",
      "tresh: 0.3\n",
      "eps: 0.5\n",
      "minarea: 1.0\n"
     ]
    },
    {
     "name": "stderr",
     "output_type": "stream",
     "text": [
      "Self-intersection at or near point 0 226\n",
      "Self-intersection at or near point 671 51\n",
      "Self-intersection at or near point 772.33333333333337 690.66666666666663\n",
      "Self-intersection at or near point 250 354\n",
      "Self-intersection at or near point 411.25 832.875\n",
      "Self-intersection at or near point 1 639.33333333333337\n",
      "Self-intersection at or near point 724.60000000000002 695.20000000000005\n",
      "Self-intersection at or near point 554.75 519.25\n",
      "Self-intersection at or near point 692.66666666666663 293.66666666666669\n",
      "Self-intersection at or near point 524 76.5\n",
      "Self-intersection at or near point 430.66666666666669 14.666666666666666\n",
      "Self-intersection at or near point 335 822\n",
      "Self-intersection at or near point 782.18595825426939 0.13946869070208728\n",
      "Ring Self-intersection at or near point 507 828\n",
      "Self-intersection at or near point 830.66666666666663 244.33333333333334\n",
      "Self-intersection at or near point 0 94\n"
     ]
    },
    {
     "name": "stdout",
     "output_type": "stream",
     "text": [
      "tresh: 0.3 eps: 0.5 minarea: 1.0\n",
      "('Final jaccard', 0.042342131803039446)\n",
      "minarea: 3.0\n"
     ]
    },
    {
     "name": "stderr",
     "output_type": "stream",
     "text": [
      "Self-intersection at or near point 0 226\n",
      "Self-intersection at or near point 671 51\n",
      "Self-intersection at or near point 772.33333333333337 690.66666666666663\n",
      "Self-intersection at or near point 250 354\n",
      "Self-intersection at or near point 411.25 832.875\n",
      "Self-intersection at or near point 1 632.66666666666663\n",
      "Self-intersection at or near point 724.60000000000002 695.20000000000005\n",
      "Self-intersection at or near point 554.75 519.25\n",
      "Self-intersection at or near point 692.66666666666663 293.66666666666669\n",
      "Self-intersection at or near point 524 76.5\n",
      "Self-intersection at or near point 430.66666666666669 14.666666666666666\n",
      "Self-intersection at or near point 335 822\n",
      "Self-intersection at or near point 782.18595825426939 0.13946869070208728\n",
      "Ring Self-intersection at or near point 507 828\n",
      "Self-intersection at or near point 830.66666666666663 244.33333333333334\n",
      "Self-intersection at or near point 0 94\n"
     ]
    },
    {
     "name": "stdout",
     "output_type": "stream",
     "text": [
      "tresh: 0.3 eps: 0.5 minarea: 3.0\n",
      "('Final jaccard', 0.04233794257555521)\n",
      "minarea: 10.0\n"
     ]
    },
    {
     "name": "stderr",
     "output_type": "stream",
     "text": [
      "Self-intersection at or near point 0 226\n",
      "Self-intersection at or near point 671 51\n",
      "Self-intersection at or near point 772.33333333333337 690.66666666666663\n",
      "Self-intersection at or near point 250 354\n",
      "Self-intersection at or near point 411.25 832.875\n",
      "Self-intersection at or near point 1 639.33333333333337\n",
      "Self-intersection at or near point 724.60000000000002 695.20000000000005\n",
      "Self-intersection at or near point 554.75 519.25\n",
      "Self-intersection at or near point 692.66666666666663 293.66666666666669\n",
      "Self-intersection at or near point 524 76.5\n",
      "Self-intersection at or near point 335 822\n",
      "Self-intersection at or near point 782.18595825426939 0.13946869070208728\n",
      "Ring Self-intersection at or near point 507 828\n",
      "Self-intersection at or near point 830.66666666666663 244.33333333333334\n",
      "Self-intersection at or near point 0 94\n"
     ]
    },
    {
     "name": "stdout",
     "output_type": "stream",
     "text": [
      "tresh: 0.3 eps: 0.5 minarea: 10.0\n",
      "('Final jaccard', 0.04233095084780117)\n",
      "minarea: 15.0\n"
     ]
    },
    {
     "name": "stderr",
     "output_type": "stream",
     "text": [
      "Self-intersection at or near point 0 226\n",
      "Self-intersection at or near point 671 51\n",
      "Self-intersection at or near point 772.33333333333337 690.66666666666663\n",
      "Self-intersection at or near point 250 354\n",
      "Self-intersection at or near point 411.25 832.875\n",
      "Self-intersection at or near point 1 632.66666666666663\n",
      "Self-intersection at or near point 724.60000000000002 695.20000000000005\n",
      "Self-intersection at or near point 554.75 519.25\n",
      "Self-intersection at or near point 692.66666666666663 293.66666666666669\n",
      "Self-intersection at or near point 524 76.5\n",
      "Self-intersection at or near point 422 88\n",
      "Self-intersection at or near point 782.18595825426939 0.13946869070208728\n",
      "Ring Self-intersection at or near point 507 828\n",
      "Self-intersection at or near point 830.66666666666663 244.33333333333334\n",
      "Self-intersection at or near point 0 94\n"
     ]
    },
    {
     "name": "stdout",
     "output_type": "stream",
     "text": [
      "tresh: 0.3 eps: 0.5 minarea: 15.0\n",
      "('Final jaccard', 0.042336608981609104)\n",
      "eps: 1.0\n",
      "minarea: 1.0\n"
     ]
    },
    {
     "name": "stderr",
     "output_type": "stream",
     "text": [
      "Self-intersection at or near point 0 226\n",
      "Self-intersection at or near point 465.53731343283584 269.40298507462688\n",
      "Self-intersection at or near point 768.66666666666663 688\n",
      "Self-intersection at or near point 214 703\n",
      "Self-intersection at or near point 0 8\n",
      "Self-intersection at or near point 0.16224489795918368 637.13469387755106\n",
      "Self-intersection at or near point 721.66666666666663 260.12820512820514\n",
      "Self-intersection at or near point 614.5 240\n",
      "Self-intersection at or near point 752.17142857142858 649.79999999999995\n",
      "Self-intersection at or near point 524 76.5\n",
      "Self-intersection at or near point 335 822\n",
      "Self-intersection at or near point 782.18595825426939 0.13946869070208728\n",
      "Self-intersection at or near point 223 484\n",
      "Self-intersection at or near point 830.38461538461536 244.61538461538461\n",
      "Self-intersection at or near point 0 94\n"
     ]
    },
    {
     "name": "stdout",
     "output_type": "stream",
     "text": [
      "tresh: 0.3 eps: 1.0 minarea: 1.0\n",
      "('Final jaccard', 0.042218506614598396)\n",
      "minarea: 3.0\n"
     ]
    },
    {
     "name": "stderr",
     "output_type": "stream",
     "text": [
      "Self-intersection at or near point 0 226\n",
      "Self-intersection at or near point 465.53731343283584 269.40298507462688\n",
      "Self-intersection at or near point 768.66666666666663 688\n",
      "Self-intersection at or near point 214 703\n",
      "Self-intersection at or near point 0 8\n",
      "Self-intersection at or near point 0.16224489795918368 637.13469387755106\n",
      "Self-intersection at or near point 721.66666666666663 260.12820512820514\n",
      "Self-intersection at or near point 614.5 240\n",
      "Self-intersection at or near point 752.17142857142858 649.79999999999995\n",
      "Self-intersection at or near point 524 76.5\n",
      "Self-intersection at or near point 335 822\n",
      "Self-intersection at or near point 782.18595825426939 0.13946869070208728\n",
      "Self-intersection at or near point 223 484\n",
      "Self-intersection at or near point 830.38461538461536 244.61538461538461\n",
      "Self-intersection at or near point 0 94\n"
     ]
    },
    {
     "name": "stdout",
     "output_type": "stream",
     "text": [
      "tresh: 0.3 eps: 1.0 minarea: 3.0\n",
      "('Final jaccard', 0.04221616476866354)\n",
      "minarea: 10.0\n"
     ]
    },
    {
     "name": "stderr",
     "output_type": "stream",
     "text": [
      "Self-intersection at or near point 0 226\n",
      "Self-intersection at or near point 465.53731343283584 269.40298507462688\n",
      "Self-intersection at or near point 768.66666666666663 688\n",
      "Self-intersection at or near point 214 703\n",
      "Self-intersection at or near point 0 8\n",
      "Self-intersection at or near point 0.15899999999999997 638.21199999999999\n",
      "Self-intersection at or near point 721.66666666666663 260.12820512820514\n",
      "Self-intersection at or near point 614.5 240\n",
      "Self-intersection at or near point 752.17142857142858 649.79999999999995\n",
      "Self-intersection at or near point 524 76.5\n",
      "Self-intersection at or near point 335 822\n",
      "Self-intersection at or near point 782.18595825426939 0.13946869070208728\n",
      "Self-intersection at or near point 223 484\n",
      "Self-intersection at or near point 830.38461538461536 244.61538461538461\n",
      "Self-intersection at or near point 0 94\n"
     ]
    },
    {
     "name": "stdout",
     "output_type": "stream",
     "text": [
      "tresh: 0.3 eps: 1.0 minarea: 10.0\n",
      "('Final jaccard', 0.04221385106541695)\n",
      "minarea: 15.0\n"
     ]
    },
    {
     "name": "stderr",
     "output_type": "stream",
     "text": [
      "Self-intersection at or near point 0 226\n",
      "Self-intersection at or near point 465.53731343283584 269.40298507462688\n",
      "Self-intersection at or near point 768.66666666666663 688\n",
      "Self-intersection at or near point 214 703\n",
      "Self-intersection at or near point 0 8\n",
      "Self-intersection at or near point 0.16224489795918368 637.13469387755106\n",
      "Self-intersection at or near point 721.66666666666663 260.12820512820514\n",
      "Self-intersection at or near point 614.5 240\n",
      "Self-intersection at or near point 752.05555555555554 650.61111111111109\n",
      "Self-intersection at or near point 524 76.5\n",
      "Self-intersection at or near point 497 54\n",
      "Self-intersection at or near point 782.18595825426939 0.13946869070208728\n",
      "Self-intersection at or near point 223 484\n",
      "Self-intersection at or near point 830.38461538461536 244.61538461538461\n"
     ]
    },
    {
     "name": "stdout",
     "output_type": "stream",
     "text": [
      "tresh: 0.3 eps: 1.0 minarea: 15.0\n",
      "('Final jaccard', 0.042057626650316475)\n",
      "eps: 3.0\n",
      "minarea: 1.0\n"
     ]
    },
    {
     "name": "stderr",
     "output_type": "stream",
     "text": [
      "Self-intersection at or near point 0 226\n",
      "Self-intersection at or near point 830.03999999999996 827.72000000000003\n",
      "Self-intersection at or near point 225.53086419753086 274.76543209876542\n",
      "Self-intersection at or near point 808.69892473118284 722.95698924731187\n",
      "Self-intersection at or near point 339.01324503311258 304.81456953642385\n",
      "Self-intersection at or near point 707.21917808219177 415.8082191780822\n",
      "Ring Self-intersection at or near point 0 8\n",
      "Self-intersection at or near point 782.0699001426533 0.13980028530670469\n",
      "Self-intersection at or near point 620 804.5\n",
      "Self-intersection at or near point 747.66666666666663 96.888888888888886\n"
     ]
    },
    {
     "name": "stdout",
     "output_type": "stream",
     "text": [
      "tresh: 0.3 eps: 3.0 minarea: 1.0\n",
      "('Final jaccard', 0.04168436563433242)\n",
      "minarea: 3.0\n"
     ]
    },
    {
     "name": "stderr",
     "output_type": "stream",
     "text": [
      "Self-intersection at or near point 0 226\n",
      "Self-intersection at or near point 830.03999999999996 827.72000000000003\n",
      "Self-intersection at or near point 225.53086419753086 274.76543209876542\n",
      "Self-intersection at or near point 808.69892473118284 722.95698924731187\n",
      "Self-intersection at or near point 339.01324503311258 304.81456953642385\n",
      "Self-intersection at or near point 707.21917808219177 415.8082191780822\n",
      "Ring Self-intersection at or near point 0 8\n",
      "Self-intersection at or near point 782.0699001426533 0.13980028530670469\n",
      "Self-intersection at or near point 620 804.5\n",
      "Self-intersection at or near point 747.66666666666663 96.888888888888886\n"
     ]
    },
    {
     "name": "stdout",
     "output_type": "stream",
     "text": [
      "tresh: 0.3 eps: 3.0 minarea: 3.0\n",
      "('Final jaccard', 0.04168436563433242)\n",
      "minarea: 10.0\n"
     ]
    },
    {
     "name": "stderr",
     "output_type": "stream",
     "text": [
      "Self-intersection at or near point 0 226\n",
      "Self-intersection at or near point 830.03999999999996 827.72000000000003\n",
      "Self-intersection at or near point 225.53086419753086 274.76543209876542\n",
      "Self-intersection at or near point 808.69892473118284 722.95698924731187\n",
      "Self-intersection at or near point 339.01324503311258 304.81456953642385\n",
      "Self-intersection at or near point 707.21917808219177 415.8082191780822\n",
      "Ring Self-intersection at or near point 0 8\n",
      "Self-intersection at or near point 782.0699001426533 0.13980028530670469\n",
      "Self-intersection at or near point 620 804.5\n",
      "Self-intersection at or near point 747.66666666666663 96.888888888888886\n"
     ]
    },
    {
     "name": "stdout",
     "output_type": "stream",
     "text": [
      "tresh: 0.3 eps: 3.0 minarea: 10.0\n",
      "('Final jaccard', 0.041687592426449795)\n",
      "minarea: 15.0\n"
     ]
    },
    {
     "name": "stderr",
     "output_type": "stream",
     "text": [
      "Self-intersection at or near point 0 226\n",
      "Self-intersection at or near point 830.03999999999996 827.72000000000003\n",
      "Self-intersection at or near point 808.69892473118284 722.95698924731187\n",
      "Self-intersection at or near point 339.01324503311258 304.81456953642385\n",
      "Self-intersection at or near point 707.21917808219177 415.8082191780822\n",
      "Ring Self-intersection at or near point 0 8\n",
      "Self-intersection at or near point 782.0699001426533 0.13980028530670469\n",
      "Self-intersection at or near point 620 804.5\n",
      "Self-intersection at or near point 747.66666666666663 96.888888888888886\n",
      "Self-intersection at or near point 333.28571428571428 20.857142857142858\n"
     ]
    },
    {
     "name": "stdout",
     "output_type": "stream",
     "text": [
      "tresh: 0.3 eps: 3.0 minarea: 15.0\n",
      "('Final jaccard', 0.04169694342801826)\n",
      "tresh: 0.35\n",
      "eps: 0.5\n",
      "minarea: 1.0\n"
     ]
    },
    {
     "name": "stderr",
     "output_type": "stream",
     "text": [
      "Self-intersection at or near point 1 564.5\n",
      "Self-intersection at or near point 430.71428571428572 319.85714285714283\n",
      "Self-intersection at or near point 772.33333333333337 690.66666666666663\n",
      "Self-intersection at or near point 373 508\n",
      "Self-intersection at or near point 0 31\n",
      "Self-intersection at or near point 1 610\n",
      "Self-intersection at or near point 725 694.85714285714289\n",
      "Self-intersection at or near point 294 229.25\n",
      "Self-intersection at or near point 692.66666666666663 293.66666666666669\n",
      "Self-intersection at or near point 0.40000000000000002 6.5999999999999996\n",
      "Self-intersection at or near point 49 336\n",
      "Self-intersection at or near point 302 429\n",
      "Self-intersection at or near point 368 48\n",
      "Self-intersection at or near point 809.5 230.5\n",
      "Self-intersection at or near point 333.28571428571428 20.857142857142858\n"
     ]
    },
    {
     "name": "stdout",
     "output_type": "stream",
     "text": [
      "tresh: 0.35 eps: 0.5 minarea: 1.0\n",
      "('Final jaccard', 0.04219101927231839)\n",
      "minarea: 3.0\n"
     ]
    },
    {
     "name": "stderr",
     "output_type": "stream",
     "text": [
      "Self-intersection at or near point 1 564.5\n",
      "Self-intersection at or near point 430.71428571428572 319.85714285714283\n",
      "Self-intersection at or near point 772.33333333333337 690.66666666666663\n",
      "Self-intersection at or near point 373 508\n",
      "Self-intersection at or near point 0 31\n",
      "Self-intersection at or near point 1 639.33333333333337\n",
      "Self-intersection at or near point 725 694.85714285714289\n",
      "Self-intersection at or near point 294 229.25\n",
      "Self-intersection at or near point 692.66666666666663 293.66666666666669\n",
      "Self-intersection at or near point 0.40000000000000002 6.5999999999999996\n",
      "Self-intersection at or near point 350 526\n",
      "Self-intersection at or near point 302 429\n",
      "Self-intersection at or near point 368 48\n",
      "Self-intersection at or near point 809.5 230.5\n",
      "Self-intersection at or near point 333.28571428571428 20.857142857142858\n"
     ]
    },
    {
     "name": "stdout",
     "output_type": "stream",
     "text": [
      "tresh: 0.35 eps: 0.5 minarea: 3.0\n",
      "('Final jaccard', 0.04218297210072428)\n",
      "minarea: 10.0\n"
     ]
    },
    {
     "name": "stderr",
     "output_type": "stream",
     "text": [
      "Self-intersection at or near point 1 564.5\n",
      "Self-intersection at or near point 430.71428571428572 319.85714285714283\n",
      "Self-intersection at or near point 772.33333333333337 690.66666666666663\n",
      "Self-intersection at or near point 373 508\n",
      "Self-intersection at or near point 0 31\n",
      "Self-intersection at or near point 1 639.33333333333337\n",
      "Self-intersection at or near point 725 694.85714285714289\n",
      "Self-intersection at or near point 294 229.25\n",
      "Self-intersection at or near point 692.66666666666663 293.66666666666669\n",
      "Self-intersection at or near point 630 833\n",
      "Self-intersection at or near point 350 526\n",
      "Self-intersection at or near point 302 429\n",
      "Self-intersection at or near point 368 48\n",
      "Self-intersection at or near point 809.5 230.5\n",
      "Self-intersection at or near point 333.28571428571428 20.857142857142858\n"
     ]
    },
    {
     "name": "stdout",
     "output_type": "stream",
     "text": [
      "tresh: 0.35 eps: 0.5 minarea: 10.0\n",
      "('Final jaccard', 0.042167792527123514)\n",
      "minarea: 15.0\n"
     ]
    },
    {
     "name": "stderr",
     "output_type": "stream",
     "text": [
      "Self-intersection at or near point 1 564.5\n",
      "Self-intersection at or near point 430.71428571428572 319.85714285714283\n",
      "Self-intersection at or near point 772.33333333333337 690.66666666666663\n",
      "Self-intersection at or near point 373 508\n",
      "Self-intersection at or near point 0 31\n",
      "Self-intersection at or near point 1 639.33333333333337\n",
      "Self-intersection at or near point 725 694.85714285714289\n",
      "Self-intersection at or near point 294 229.25\n",
      "Self-intersection at or near point 692.66666666666663 293.66666666666669\n",
      "Self-intersection at or near point 630 833\n",
      "Ring Self-intersection at or near point 240 648\n",
      "Self-intersection at or near point 302 429\n",
      "Self-intersection at or near point 368 48\n",
      "Self-intersection at or near point 809.5 230.5\n",
      "Self-intersection at or near point 331.85714285714283 20.085714285714285\n"
     ]
    },
    {
     "name": "stdout",
     "output_type": "stream",
     "text": [
      "tresh: 0.35 eps: 0.5 minarea: 15.0\n",
      "('Final jaccard', 0.04216648154621486)\n",
      "eps: 1.0\n",
      "minarea: 1.0\n"
     ]
    },
    {
     "name": "stderr",
     "output_type": "stream",
     "text": [
      "Self-intersection at or near point 0 11\n",
      "Self-intersection at or near point 465.58064516129031 269.29032258064518\n",
      "Self-intersection at or near point 768.83333333333337 403.83333333333331\n",
      "Self-intersection at or near point 214 703\n",
      "Self-intersection at or near point 0 31\n",
      "Self-intersection at or near point 1 630.5\n",
      "Self-intersection at or near point 725 694.46153846153845\n",
      "Self-intersection at or near point 294 229.25\n",
      "Self-intersection at or near point 692.66666666666663 293.66666666666669\n",
      "Self-intersection at or near point 630 833\n",
      "Ring Self-intersection at or near point 240 648\n",
      "Self-intersection at or near point 302 429\n",
      "Ring Self-intersection at or near point 829 213\n",
      "Self-intersection at or near point 735.39999999999998 482.60000000000002\n",
      "Self-intersection at or near point 331.85714285714283 20.085714285714285\n"
     ]
    },
    {
     "name": "stdout",
     "output_type": "stream",
     "text": [
      "tresh: 0.35 eps: 1.0 minarea: 1.0\n",
      "('Final jaccard', 0.04212951315355442)\n",
      "minarea: 3.0\n"
     ]
    },
    {
     "name": "stderr",
     "output_type": "stream",
     "text": [
      "Self-intersection at or near point 0 11\n",
      "Self-intersection at or near point 465.58064516129031 269.29032258064518\n",
      "Self-intersection at or near point 768.83333333333337 403.83333333333331\n",
      "Self-intersection at or near point 214 703\n",
      "Self-intersection at or near point 0 31\n",
      "Self-intersection at or near point 1 630.5\n",
      "Self-intersection at or near point 725 694.46153846153845\n",
      "Self-intersection at or near point 294 229.25\n",
      "Self-intersection at or near point 692.66666666666663 293.66666666666669\n",
      "Self-intersection at or near point 630 833\n",
      "Ring Self-intersection at or near point 240 648\n",
      "Self-intersection at or near point 302 429\n",
      "Ring Self-intersection at or near point 829 213\n",
      "Self-intersection at or near point 735.39999999999998 482.60000000000002\n",
      "Self-intersection at or near point 331.85714285714283 20.085714285714285\n"
     ]
    },
    {
     "name": "stdout",
     "output_type": "stream",
     "text": [
      "tresh: 0.35 eps: 1.0 minarea: 3.0\n",
      "('Final jaccard', 0.04212261644681219)\n",
      "minarea: 10.0\n"
     ]
    },
    {
     "name": "stderr",
     "output_type": "stream",
     "text": [
      "Self-intersection at or near point 0 11\n",
      "Self-intersection at or near point 465.58064516129031 269.29032258064518\n",
      "Self-intersection at or near point 768.83333333333337 403.83333333333331\n",
      "Self-intersection at or near point 214 703\n",
      "Self-intersection at or near point 0 31\n",
      "Self-intersection at or near point 1 610\n",
      "Self-intersection at or near point 725 694.46153846153845\n",
      "Self-intersection at or near point 294 229.25\n",
      "Self-intersection at or near point 692.66666666666663 293.66666666666669\n",
      "Self-intersection at or near point 630 833\n",
      "Ring Self-intersection at or near point 240 648\n",
      "Self-intersection at or near point 302 429\n",
      "Ring Self-intersection at or near point 829 213\n",
      "Self-intersection at or near point 735.39999999999998 482.60000000000002\n",
      "Self-intersection at or near point 331.85714285714283 20.085714285714285\n"
     ]
    },
    {
     "name": "stdout",
     "output_type": "stream",
     "text": [
      "tresh: 0.35 eps: 1.0 minarea: 10.0\n",
      "('Final jaccard', 0.04209014088577594)\n",
      "minarea: 15.0\n"
     ]
    },
    {
     "name": "stderr",
     "output_type": "stream",
     "text": [
      "Self-intersection at or near point 0 11\n",
      "Self-intersection at or near point 430.80000000000001 319.80000000000001\n",
      "Self-intersection at or near point 768.83333333333337 403.83333333333331\n",
      "Self-intersection at or near point 214 703\n",
      "Self-intersection at or near point 0 31\n",
      "Self-intersection at or near point 1 630.5\n",
      "Self-intersection at or near point 725 694.46153846153845\n",
      "Self-intersection at or near point 294 229.25\n",
      "Self-intersection at or near point 692.66666666666663 293.66666666666669\n",
      "Self-intersection at or near point 630 833\n",
      "Ring Self-intersection at or near point 240 648\n",
      "Self-intersection at or near point 302 429\n",
      "Ring Self-intersection at or near point 829 213\n",
      "Self-intersection at or near point 735.39999999999998 482.60000000000002\n"
     ]
    },
    {
     "name": "stdout",
     "output_type": "stream",
     "text": [
      "tresh: 0.35 eps: 1.0 minarea: 15.0\n",
      "('Final jaccard', 0.042095427044805005)\n",
      "eps: 3.0\n",
      "minarea: 1.0\n"
     ]
    },
    {
     "name": "stderr",
     "output_type": "stream",
     "text": [
      "Self-intersection at or near point 0 226\n",
      "Self-intersection at or near point 780.39759036144574 421.36144578313252\n",
      "Self-intersection at or near point 422.44444444444446 830.77777777777783\n",
      "Self-intersection at or near point 808.85714285714289 722.57142857142856\n",
      "Self-intersection at or near point 560.41095890410963 53.452054794520549\n",
      "Ring Self-intersection at or near point 831 554\n",
      "Ring Self-intersection at or near point 240 648\n",
      "Self-intersection at or near point 540 146\n",
      "Self-intersection at or near point 405.17213114754099 831.59836065573768\n",
      "Self-intersection at or near point 745.90909090909088 686.90909090909088\n"
     ]
    },
    {
     "name": "stdout",
     "output_type": "stream",
     "text": [
      "tresh: 0.35 eps: 3.0 minarea: 1.0\n",
      "('Final jaccard', 0.04156242291419388)\n",
      "minarea: 3.0\n"
     ]
    },
    {
     "name": "stderr",
     "output_type": "stream",
     "text": [
      "Self-intersection at or near point 0 226\n",
      "Self-intersection at or near point 780.39759036144574 421.36144578313252\n",
      "Self-intersection at or near point 422.44444444444446 830.77777777777783\n",
      "Self-intersection at or near point 808.85714285714289 722.57142857142856\n",
      "Self-intersection at or near point 560.41095890410963 53.452054794520549\n",
      "Ring Self-intersection at or near point 831 554\n",
      "Ring Self-intersection at or near point 240 648\n",
      "Self-intersection at or near point 540 146\n",
      "Self-intersection at or near point 405.17213114754099 831.59836065573768\n",
      "Self-intersection at or near point 745.90909090909088 686.90909090909088\n"
     ]
    },
    {
     "name": "stdout",
     "output_type": "stream",
     "text": [
      "tresh: 0.35 eps: 3.0 minarea: 3.0\n",
      "('Final jaccard', 0.04156242291419388)\n",
      "minarea: 10.0\n"
     ]
    },
    {
     "name": "stderr",
     "output_type": "stream",
     "text": [
      "Self-intersection at or near point 0 226\n",
      "Self-intersection at or near point 780.39759036144574 421.36144578313252\n",
      "Self-intersection at or near point 422.44444444444446 830.77777777777783\n",
      "Self-intersection at or near point 808.85714285714289 722.57142857142856\n",
      "Self-intersection at or near point 560.41095890410963 53.452054794520549\n",
      "Ring Self-intersection at or near point 831 554\n",
      "Ring Self-intersection at or near point 240 648\n",
      "Self-intersection at or near point 540 146\n",
      "Self-intersection at or near point 405.17213114754099 831.59836065573768\n",
      "Self-intersection at or near point 745.90909090909088 686.90909090909088\n"
     ]
    },
    {
     "name": "stdout",
     "output_type": "stream",
     "text": [
      "tresh: 0.35 eps: 3.0 minarea: 10.0\n",
      "('Final jaccard', 0.04156262319848022)\n",
      "minarea: 15.0\n"
     ]
    },
    {
     "name": "stderr",
     "output_type": "stream",
     "text": [
      "Self-intersection at or near point 0 226\n",
      "Self-intersection at or near point 780.39759036144574 421.36144578313252\n",
      "Self-intersection at or near point 422.44444444444446 830.77777777777783\n",
      "Self-intersection at or near point 735.21495327102809 583.92523364485976\n",
      "Self-intersection at or near point 560.41095890410963 53.452054794520549\n",
      "Ring Self-intersection at or near point 831 554\n",
      "Ring Self-intersection at or near point 240 648\n",
      "Self-intersection at or near point 540 146\n",
      "Self-intersection at or near point 405.17213114754099 831.59836065573768\n",
      "Self-intersection at or near point 745.90909090909088 686.90909090909088\n",
      "Self-intersection at or near point 0 228\n"
     ]
    },
    {
     "name": "stdout",
     "output_type": "stream",
     "text": [
      "tresh: 0.35 eps: 3.0 minarea: 15.0\n",
      "('Final jaccard', 0.041548450725436024)\n",
      "tresh: 0.4\n",
      "eps: 0.5\n",
      "minarea: 1.0\n"
     ]
    },
    {
     "name": "stderr",
     "output_type": "stream",
     "text": [
      "Self-intersection at or near point 503.66666666666669 621\n",
      "Self-intersection at or near point 768.82608695652175 403.78260869565219\n",
      "Self-intersection at or near point 214.53846153846155 702.30769230769226\n",
      "Self-intersection at or near point 463.36363636363637 319.54545454545456\n",
      "Self-intersection at or near point 580 298.60000000000002\n",
      "Self-intersection at or near point 723.66666666666663 696\n",
      "Self-intersection at or near point 456.07142857142856 806.28571428571433\n",
      "Self-intersection at or near point 318 456.33333333333331\n",
      "Self-intersection at or near point 793.77777777777783 832.18518518518522\n",
      "Self-intersection at or near point 239.93548387096774 649.51612903225805\n",
      "Self-intersection at or near point 414.80000000000001 342.39999999999998\n",
      "Self-intersection at or near point 449.89795918367349 42.081632653061227\n",
      "Self-intersection at or near point 156.75 270\n",
      "Self-intersection at or near point 830.83561643835617 783.02739726027403\n",
      "Self-intersection at or near point 0 228\n"
     ]
    },
    {
     "name": "stdout",
     "output_type": "stream",
     "text": [
      "tresh: 0.4 eps: 0.5 minarea: 1.0\n",
      "('Final jaccard', 0.04188007136947741)\n",
      "minarea: 3.0\n"
     ]
    },
    {
     "name": "stderr",
     "output_type": "stream",
     "text": [
      "Self-intersection at or near point 503.66666666666669 621\n",
      "Self-intersection at or near point 768.82608695652175 403.78260869565219\n",
      "Self-intersection at or near point 214.53846153846155 702.30769230769226\n",
      "Self-intersection at or near point 463.57142857142856 318.71428571428572\n",
      "Self-intersection at or near point 580 298.60000000000002\n",
      "Self-intersection at or near point 723.66666666666663 696\n",
      "Self-intersection at or near point 456.07142857142856 806.28571428571433\n",
      "Self-intersection at or near point 318 456.33333333333331\n",
      "Self-intersection at or near point 793.77777777777783 832.18518518518522\n",
      "Self-intersection at or near point 239.93548387096774 649.51612903225805\n",
      "Self-intersection at or near point 331 566\n",
      "Self-intersection at or near point 449.89795918367349 42.081632653061227\n",
      "Self-intersection at or near point 156.75 270\n",
      "Self-intersection at or near point 830.83561643835617 783.02739726027403\n",
      "Self-intersection at or near point 0 228\n"
     ]
    },
    {
     "name": "stdout",
     "output_type": "stream",
     "text": [
      "tresh: 0.4 eps: 0.5 minarea: 3.0\n",
      "('Final jaccard', 0.041872831280056484)\n",
      "minarea: 10.0\n"
     ]
    },
    {
     "name": "stderr",
     "output_type": "stream",
     "text": [
      "Self-intersection at or near point 503.66666666666669 621\n",
      "Self-intersection at or near point 768.82608695652175 403.78260869565219\n",
      "Self-intersection at or near point 214.53846153846155 702.30769230769226\n",
      "Self-intersection at or near point 463.57142857142856 318.71428571428572\n",
      "Self-intersection at or near point 580 298.60000000000002\n",
      "Self-intersection at or near point 723.66666666666663 696\n",
      "Self-intersection at or near point 456.07142857142856 806.28571428571433\n",
      "Self-intersection at or near point 318 456.33333333333331\n",
      "Self-intersection at or near point 793.77777777777783 832.18518518518522\n",
      "Self-intersection at or near point 239.93548387096774 649.51612903225805\n",
      "Self-intersection at or near point 331 566\n",
      "Self-intersection at or near point 449.89795918367349 42.081632653061227\n",
      "Self-intersection at or near point 156.75 270\n",
      "Self-intersection at or near point 830.83561643835617 783.02739726027403\n",
      "Self-intersection at or near point 0 228\n"
     ]
    },
    {
     "name": "stdout",
     "output_type": "stream",
     "text": [
      "tresh: 0.4 eps: 0.5 minarea: 10.0\n",
      "('Final jaccard', 0.04177715076994394)\n",
      "minarea: 15.0\n"
     ]
    },
    {
     "name": "stderr",
     "output_type": "stream",
     "text": [
      "Self-intersection at or near point 503.66666666666669 621\n",
      "Self-intersection at or near point 768.82608695652175 403.78260869565219\n",
      "Self-intersection at or near point 214.53846153846155 702.30769230769226\n",
      "Self-intersection at or near point 463.57142857142856 318.71428571428572\n",
      "Self-intersection at or near point 580 298.60000000000002\n",
      "Self-intersection at or near point 723.66666666666663 696\n",
      "Self-intersection at or near point 456.07142857142856 806.28571428571433\n",
      "Self-intersection at or near point 318 456.33333333333331\n",
      "Self-intersection at or near point 793.77777777777783 832.18518518518522\n",
      "Self-intersection at or near point 239.93548387096774 649.51612903225805\n",
      "Self-intersection at or near point 331 566\n",
      "Self-intersection at or near point 449.89795918367349 42.081632653061227\n",
      "Self-intersection at or near point 156.75 270\n",
      "Self-intersection at or near point 830.83561643835617 783.02739726027403\n",
      "Self-intersection at or near point 0 228\n"
     ]
    },
    {
     "name": "stdout",
     "output_type": "stream",
     "text": [
      "tresh: 0.4 eps: 0.5 minarea: 15.0\n",
      "('Final jaccard', 0.04173294054195785)\n",
      "eps: 1.0\n",
      "minarea: 1.0\n"
     ]
    },
    {
     "name": "stderr",
     "output_type": "stream",
     "text": [
      "Self-intersection at or near point 504.07692307692309 620.69230769230774\n",
      "Self-intersection at or near point 768.82352941176475 403.8235294117647\n",
      "Self-intersection at or near point 214.53846153846155 702.30769230769226\n",
      "Self-intersection at or near point 464 318.5\n",
      "Self-intersection at or near point 579.63157894736844 298.5263157894737\n",
      "Self-intersection at or near point 725.74468085106378 693.65957446808511\n",
      "Self-intersection at or near point 456.03773584905662 806.15094339622647\n",
      "Self-intersection at or near point 704.25 235.75\n",
      "Self-intersection at or near point 630 833\n",
      "Self-intersection at or near point 239.93548387096774 649.51612903225805\n",
      "Self-intersection at or near point 414.80000000000001 342.39999999999998\n",
      "Self-intersection at or near point 449.89795918367349 42.081632653061227\n",
      "Self-intersection at or near point 157.16666666666666 270.33333333333331\n",
      "Self-intersection at or near point 830.83561643835617 783.02739726027403\n",
      "Self-intersection at or near point 0 228\n"
     ]
    },
    {
     "name": "stdout",
     "output_type": "stream",
     "text": [
      "tresh: 0.4 eps: 1.0 minarea: 1.0\n",
      "('Final jaccard', 0.04175220164749009)\n",
      "minarea: 3.0\n"
     ]
    },
    {
     "name": "stderr",
     "output_type": "stream",
     "text": [
      "Self-intersection at or near point 504.07692307692309 620.69230769230774\n",
      "Self-intersection at or near point 768.82352941176475 403.8235294117647\n",
      "Self-intersection at or near point 214.53846153846155 702.30769230769226\n",
      "Self-intersection at or near point 464 318.5\n",
      "Self-intersection at or near point 579.63157894736844 298.5263157894737\n",
      "Self-intersection at or near point 725.74468085106378 693.65957446808511\n",
      "Self-intersection at or near point 456.03773584905662 806.15094339622647\n",
      "Self-intersection at or near point 704.25 235.75\n",
      "Self-intersection at or near point 630 833\n",
      "Self-intersection at or near point 239.93548387096774 649.51612903225805\n",
      "Self-intersection at or near point 335 822\n",
      "Self-intersection at or near point 449.89795918367349 42.081632653061227\n",
      "Self-intersection at or near point 157.16666666666666 270.33333333333331\n",
      "Self-intersection at or near point 830.83561643835617 783.02739726027403\n",
      "Self-intersection at or near point 0 228\n"
     ]
    },
    {
     "name": "stdout",
     "output_type": "stream",
     "text": [
      "tresh: 0.4 eps: 1.0 minarea: 3.0\n",
      "('Final jaccard', 0.04174389431843842)\n",
      "minarea: 10.0\n"
     ]
    },
    {
     "name": "stderr",
     "output_type": "stream",
     "text": [
      "Self-intersection at or near point 504.07692307692309 620.69230769230774\n",
      "Self-intersection at or near point 768.82352941176475 403.8235294117647\n",
      "Self-intersection at or near point 214.53846153846155 702.30769230769226\n",
      "Self-intersection at or near point 464 318.5\n",
      "Self-intersection at or near point 579.63157894736844 298.5263157894737\n",
      "Self-intersection at or near point 725.74468085106378 693.65957446808511\n",
      "Self-intersection at or near point 456.03773584905662 806.15094339622647\n",
      "Self-intersection at or near point 318.04878048780489 456.39024390243901\n",
      "Self-intersection at or near point 630 833\n",
      "Self-intersection at or near point 239.93548387096774 649.51612903225805\n",
      "Ring Self-intersection at or near point 355 382\n",
      "Self-intersection at or near point 449.89795918367349 42.081632653061227\n",
      "Self-intersection at or near point 157.16666666666666 270.33333333333331\n",
      "Self-intersection at or near point 830.83561643835617 783.02739726027403\n",
      "Self-intersection at or near point 0 228\n"
     ]
    },
    {
     "name": "stdout",
     "output_type": "stream",
     "text": [
      "tresh: 0.4 eps: 1.0 minarea: 10.0\n",
      "('Final jaccard', 0.04167086744125061)\n",
      "minarea: 15.0\n"
     ]
    },
    {
     "name": "stderr",
     "output_type": "stream",
     "text": [
      "Self-intersection at or near point 504.07692307692309 620.69230769230774\n",
      "Self-intersection at or near point 768.82352941176475 403.8235294117647\n",
      "Self-intersection at or near point 214.53846153846155 702.30769230769226\n",
      "Self-intersection at or near point 464 320.5\n",
      "Self-intersection at or near point 579.63157894736844 298.5263157894737\n",
      "Self-intersection at or near point 725.74468085106378 693.65957446808511\n",
      "Self-intersection at or near point 456.03773584905662 806.15094339622647\n",
      "Self-intersection at or near point 318.04878048780489 456.39024390243901\n",
      "Self-intersection at or near point 630 833\n",
      "Self-intersection at or near point 239.93548387096774 649.51612903225805\n",
      "Ring Self-intersection at or near point 355 382\n",
      "Self-intersection at or near point 449.89795918367349 42.081632653061227\n",
      "Self-intersection at or near point 157.16666666666666 270.33333333333331\n",
      "Self-intersection at or near point 830.83561643835617 783.02739726027403\n"
     ]
    },
    {
     "name": "stdout",
     "output_type": "stream",
     "text": [
      "tresh: 0.4 eps: 1.0 minarea: 15.0\n",
      "('Final jaccard', 0.041638166897116545)\n",
      "eps: 3.0\n",
      "minarea: 1.0\n"
     ]
    },
    {
     "name": "stderr",
     "output_type": "stream",
     "text": [
      "Self-intersection at or near point 0 5\n",
      "Self-intersection at or near point 768.38461538461536 410.84615384615387\n",
      "Self-intersection at or near point 333.13953488372096 294.81395348837208\n",
      "Self-intersection at or near point 807.71428571428567 722.85714285714289\n",
      "Self-intersection at or near point 560.47169811320759 54.849056603773583\n",
      "Self-intersection at or near point 704.77419354838707 439.70967741935482\n",
      "Self-intersection at or near point 338 69\n",
      "Self-intersection at or near point 747.70588235294122 96.882352941176464\n"
     ]
    },
    {
     "name": "stdout",
     "output_type": "stream",
     "text": [
      "tresh: 0.4 eps: 3.0 minarea: 1.0\n",
      "('Final jaccard', 0.041330376167882814)\n",
      "minarea: 3.0\n"
     ]
    },
    {
     "name": "stderr",
     "output_type": "stream",
     "text": [
      "Self-intersection at or near point 0 5\n",
      "Self-intersection at or near point 768.38461538461536 410.84615384615387\n",
      "Self-intersection at or near point 333.13953488372096 294.81395348837208\n",
      "Self-intersection at or near point 807.71428571428567 722.85714285714289\n",
      "Self-intersection at or near point 560.47169811320759 54.849056603773583\n",
      "Self-intersection at or near point 704.77419354838707 439.70967741935482\n",
      "Self-intersection at or near point 338 69\n",
      "Self-intersection at or near point 747.70588235294122 96.882352941176464\n"
     ]
    },
    {
     "name": "stdout",
     "output_type": "stream",
     "text": [
      "tresh: 0.4 eps: 3.0 minarea: 3.0\n",
      "('Final jaccard', 0.041330376167882814)\n",
      "minarea: 10.0\n"
     ]
    },
    {
     "name": "stderr",
     "output_type": "stream",
     "text": [
      "Self-intersection at or near point 0 5\n",
      "Self-intersection at or near point 768.38461538461536 410.84615384615387\n",
      "Self-intersection at or near point 333.13953488372096 294.81395348837208\n",
      "Self-intersection at or near point 807.71428571428567 722.85714285714289\n",
      "Self-intersection at or near point 560.47169811320759 54.849056603773583\n",
      "Self-intersection at or near point 704.77419354838707 439.70967741935482\n",
      "Self-intersection at or near point 338 69\n",
      "Self-intersection at or near point 747.70588235294122 96.882352941176464\n"
     ]
    },
    {
     "name": "stdout",
     "output_type": "stream",
     "text": [
      "tresh: 0.4 eps: 3.0 minarea: 10.0\n",
      "('Final jaccard', 0.041327678813737945)\n",
      "minarea: 15.0\n"
     ]
    },
    {
     "name": "stderr",
     "output_type": "stream",
     "text": [
      "Self-intersection at or near point 0 5\n",
      "Self-intersection at or near point 768.38461538461536 410.84615384615387\n",
      "Self-intersection at or near point 333.13953488372096 294.81395348837208\n",
      "Self-intersection at or near point 807.71428571428567 722.85714285714289\n",
      "Self-intersection at or near point 560.41095890410963 53.452054794520549\n",
      "Self-intersection at or near point 0 654\n",
      "Self-intersection at or near point 338 69\n",
      "Self-intersection at or near point 747.70588235294122 96.882352941176464\n",
      "Self-intersection at or near point 0 228\n"
     ]
    },
    {
     "name": "stdout",
     "output_type": "stream",
     "text": [
      "tresh: 0.4 eps: 3.0 minarea: 15.0\n",
      "('Final jaccard', 0.04131529946679525)\n",
      "tresh: 0.45\n",
      "eps: 0.5\n",
      "minarea: 1.0\n"
     ]
    },
    {
     "name": "stderr",
     "output_type": "stream",
     "text": [
      "Self-intersection at or near point 0 5\n",
      "Self-intersection at or near point 464 272\n",
      "Self-intersection at or near point 818.5 166\n",
      "Self-intersection at or near point 831 445\n",
      "Self-intersection at or near point 570.37659963436931 0.94149908592321752\n",
      "Self-intersection at or near point 580 298.60000000000002\n",
      "Self-intersection at or near point 724.15999999999997 260.31999999999999\n",
      "Self-intersection at or near point 588.25 466.75\n",
      "Self-intersection at or near point 0 610\n",
      "Self-intersection at or near point 793.77777777777783 832.18518518518522\n",
      "Self-intersection at or near point 322.60000000000002 76.200000000000003\n",
      "Self-intersection at or near point 463.39999999999998 216.19999999999999\n",
      "Self-intersection at or near point 497 665.20000000000005\n",
      "Self-intersection at or near point 797.28571428571433 710.28571428571433\n",
      "Self-intersection at or near point 830.95571955719561 697.09963099631\n",
      "Self-intersection at or near point 0 228\n"
     ]
    },
    {
     "name": "stdout",
     "output_type": "stream",
     "text": [
      "tresh: 0.45 eps: 0.5 minarea: 1.0\n",
      "('Final jaccard', 0.041613597711045364)\n",
      "minarea: 3.0\n"
     ]
    },
    {
     "name": "stderr",
     "output_type": "stream",
     "text": [
      "Self-intersection at or near point 0 5\n",
      "Self-intersection at or near point 464 272\n",
      "Self-intersection at or near point 818.5 166\n",
      "Self-intersection at or near point 831 445\n",
      "Self-intersection at or near point 570.37659963436931 0.94149908592321752\n",
      "Self-intersection at or near point 580 298.60000000000002\n",
      "Self-intersection at or near point 724.15999999999997 260.31999999999999\n",
      "Self-intersection at or near point 588.25 466.75\n",
      "Self-intersection at or near point 0 610\n",
      "Self-intersection at or near point 793.77777777777783 832.18518518518522\n",
      "Self-intersection at or near point 322.19999999999999 75.400000000000006\n",
      "Self-intersection at or near point 463.39999999999998 216.19999999999999\n",
      "Self-intersection at or near point 497 665.20000000000005\n",
      "Self-intersection at or near point 797.28571428571433 710.28571428571433\n",
      "Self-intersection at or near point 830.95571955719561 697.09963099631\n",
      "Self-intersection at or near point 0 228\n"
     ]
    },
    {
     "name": "stdout",
     "output_type": "stream",
     "text": [
      "tresh: 0.45 eps: 0.5 minarea: 3.0\n",
      "('Final jaccard', 0.04160961452118471)\n",
      "minarea: 10.0\n"
     ]
    },
    {
     "name": "stderr",
     "output_type": "stream",
     "text": [
      "Self-intersection at or near point 0 5\n",
      "Self-intersection at or near point 464 272\n",
      "Self-intersection at or near point 818.5 166\n",
      "Self-intersection at or near point 831 445\n",
      "Self-intersection at or near point 570.37659963436931 0.94149908592321752\n",
      "Self-intersection at or near point 580 298.60000000000002\n",
      "Self-intersection at or near point 724.15999999999997 260.31999999999999\n",
      "Self-intersection at or near point 544.0322580645161 636.12903225806451\n",
      "Self-intersection at or near point 0 655\n",
      "Self-intersection at or near point 793.77777777777783 832.18518518518522\n",
      "Ring Self-intersection at or near point 506 100\n",
      "Self-intersection at or near point 331 566\n",
      "Self-intersection at or near point 497 665.20000000000005\n",
      "Self-intersection at or near point 797.28571428571433 710.28571428571433\n",
      "Self-intersection at or near point 830.95571955719561 697.09963099631\n",
      "Self-intersection at or near point 0 228\n"
     ]
    },
    {
     "name": "stdout",
     "output_type": "stream",
     "text": [
      "tresh: 0.45 eps: 0.5 minarea: 10.0\n",
      "('Final jaccard', 0.04151609364392046)\n",
      "minarea: 15.0\n"
     ]
    },
    {
     "name": "stderr",
     "output_type": "stream",
     "text": [
      "Self-intersection at or near point 0 5\n",
      "Self-intersection at or near point 464 272\n",
      "Self-intersection at or near point 818.5 166\n",
      "Self-intersection at or near point 831 445\n",
      "Self-intersection at or near point 570.37659963436931 0.94149908592321752\n",
      "Self-intersection at or near point 580 298.60000000000002\n",
      "Self-intersection at or near point 724.15999999999997 260.31999999999999\n",
      "Self-intersection at or near point 544.0322580645161 636.12903225806451\n",
      "Self-intersection at or near point 0 655\n",
      "Self-intersection at or near point 793.77777777777783 832.18518518518522\n",
      "Ring Self-intersection at or near point 498 2\n",
      "Self-intersection at or near point 331 566\n",
      "Self-intersection at or near point 497 665.20000000000005\n",
      "Self-intersection at or near point 797.28571428571433 710.28571428571433\n",
      "Self-intersection at or near point 830.95571955719561 697.09963099631\n",
      "Self-intersection at or near point 0 228\n"
     ]
    },
    {
     "name": "stdout",
     "output_type": "stream",
     "text": [
      "tresh: 0.45 eps: 0.5 minarea: 15.0\n",
      "('Final jaccard', 0.04148846301293362)\n",
      "eps: 1.0\n",
      "minarea: 1.0\n"
     ]
    },
    {
     "name": "stderr",
     "output_type": "stream",
     "text": [
      "Self-intersection at or near point 0 5\n",
      "Self-intersection at or near point 750 803.5\n",
      "Ring Self-intersection at or near point 119 822\n",
      "Self-intersection at or near point 0 10\n",
      "Self-intersection at or near point 579.63157894736844 298.5263157894737\n",
      "Self-intersection at or near point 724.15999999999997 260.31999999999999\n",
      "Self-intersection at or near point 544.29411764705878 635.82352941176475\n",
      "Self-intersection at or near point 704.15384615384619 235.69230769230768\n",
      "Self-intersection at or near point 484.8780487804878 131.19512195121951\n",
      "Self-intersection at or near point 322.19999999999999 75.400000000000006\n",
      "Ring Self-intersection at or near point 355 382\n",
      "Self-intersection at or near point 497 665.20000000000005\n",
      "Self-intersection at or near point 621.60000000000002 803.39999999999998\n",
      "Self-intersection at or near point 539 332.5\n",
      "Self-intersection at or near point 0 228\n"
     ]
    },
    {
     "name": "stdout",
     "output_type": "stream",
     "text": [
      "tresh: 0.45 eps: 1.0 minarea: 1.0\n",
      "('Final jaccard', 0.04158523944927724)\n",
      "minarea: 3.0\n"
     ]
    },
    {
     "name": "stderr",
     "output_type": "stream",
     "text": [
      "Self-intersection at or near point 0 5\n",
      "Self-intersection at or near point 750 803.5\n",
      "Ring Self-intersection at or near point 119 822\n",
      "Self-intersection at or near point 0 10\n",
      "Self-intersection at or near point 579.63157894736844 298.5263157894737\n",
      "Self-intersection at or near point 724.15999999999997 260.31999999999999\n",
      "Self-intersection at or near point 544.29411764705878 635.82352941176475\n",
      "Self-intersection at or near point 704.15384615384619 235.69230769230768\n",
      "Self-intersection at or near point 484.8780487804878 131.19512195121951\n",
      "Self-intersection at or near point 322.19999999999999 75.400000000000006\n",
      "Ring Self-intersection at or near point 355 382\n",
      "Self-intersection at or near point 497 665.20000000000005\n",
      "Self-intersection at or near point 621.60000000000002 803.39999999999998\n",
      "Self-intersection at or near point 539 332.5\n",
      "Self-intersection at or near point 0 228\n"
     ]
    },
    {
     "name": "stdout",
     "output_type": "stream",
     "text": [
      "tresh: 0.45 eps: 1.0 minarea: 3.0\n",
      "('Final jaccard', 0.0415813030346535)\n",
      "minarea: 10.0\n"
     ]
    },
    {
     "name": "stderr",
     "output_type": "stream",
     "text": [
      "Self-intersection at or near point 0 5\n",
      "Self-intersection at or near point 750 803.5\n",
      "Ring Self-intersection at or near point 119 822\n",
      "Self-intersection at or near point 0 10\n",
      "Self-intersection at or near point 579.63157894736844 298.5263157894737\n",
      "Self-intersection at or near point 724.15999999999997 260.31999999999999\n",
      "Self-intersection at or near point 544.00826446280996 636.15702479338847\n",
      "Self-intersection at or near point 704.15384615384619 235.69230769230768\n",
      "Self-intersection at or near point 484.8780487804878 131.19512195121951\n",
      "Ring Self-intersection at or near point 487 0\n",
      "Ring Self-intersection at or near point 355 382\n",
      "Self-intersection at or near point 497 665.20000000000005\n",
      "Self-intersection at or near point 621.60000000000002 803.39999999999998\n",
      "Self-intersection at or near point 539 332.5\n",
      "Self-intersection at or near point 0 228\n"
     ]
    },
    {
     "name": "stdout",
     "output_type": "stream",
     "text": [
      "tresh: 0.45 eps: 1.0 minarea: 10.0\n",
      "('Final jaccard', 0.04148376961230229)\n",
      "minarea: 15.0\n"
     ]
    },
    {
     "name": "stderr",
     "output_type": "stream",
     "text": [
      "Self-intersection at or near point 0 5\n",
      "Self-intersection at or near point 750 803.5\n",
      "Ring Self-intersection at or near point 119 822\n",
      "Self-intersection at or near point 0 176\n",
      "Self-intersection at or near point 579.63157894736844 298.5263157894737\n",
      "Self-intersection at or near point 724.15999999999997 260.31999999999999\n",
      "Self-intersection at or near point 544.29411764705878 635.82352941176475\n",
      "Self-intersection at or near point 704.15384615384619 235.69230769230768\n",
      "Self-intersection at or near point 484.8780487804878 131.19512195121951\n",
      "Ring Self-intersection at or near point 355 382\n",
      "Self-intersection at or near point 497 665.20000000000005\n",
      "Self-intersection at or near point 621.60000000000002 803.39999999999998\n",
      "Self-intersection at or near point 539 332.5\n"
     ]
    },
    {
     "name": "stdout",
     "output_type": "stream",
     "text": [
      "tresh: 0.45 eps: 1.0 minarea: 15.0\n",
      "('Final jaccard', 0.04145368810466985)\n",
      "eps: 3.0\n",
      "minarea: 1.0\n"
     ]
    },
    {
     "name": "stderr",
     "output_type": "stream",
     "text": [
      "Self-intersection at or near point 545.88888888888891 687.11111111111109\n",
      "Self-intersection at or near point 765.33333333333337 720.16666666666663\n",
      "Self-intersection at or near point 831 492\n",
      "Self-intersection at or near point 807.71428571428567 722.85714285714289\n",
      "Self-intersection at or near point 399.19999999999999 122.8\n",
      "Self-intersection at or near point 704.20245398773011 235.25766871165644\n",
      "Self-intersection at or near point 495.95652173913044 665.52173913043475\n",
      "Self-intersection at or near point 747.70588235294122 96.882352941176464\n"
     ]
    },
    {
     "name": "stdout",
     "output_type": "stream",
     "text": [
      "tresh: 0.45 eps: 3.0 minarea: 1.0\n",
      "('Final jaccard', 0.04082563103200605)\n",
      "minarea: 3.0\n"
     ]
    },
    {
     "name": "stderr",
     "output_type": "stream",
     "text": [
      "Self-intersection at or near point 545.88888888888891 687.11111111111109\n",
      "Self-intersection at or near point 765.33333333333337 720.16666666666663\n",
      "Self-intersection at or near point 831 492\n",
      "Self-intersection at or near point 807.71428571428567 722.85714285714289\n",
      "Self-intersection at or near point 399.19999999999999 122.8\n",
      "Self-intersection at or near point 704.20245398773011 235.25766871165644\n",
      "Self-intersection at or near point 495.95652173913044 665.52173913043475\n",
      "Self-intersection at or near point 747.70588235294122 96.882352941176464\n"
     ]
    },
    {
     "name": "stdout",
     "output_type": "stream",
     "text": [
      "tresh: 0.45 eps: 3.0 minarea: 3.0\n",
      "('Final jaccard', 0.04082563103200605)\n",
      "minarea: 10.0\n"
     ]
    },
    {
     "name": "stderr",
     "output_type": "stream",
     "text": [
      "Self-intersection at or near point 545.88888888888891 687.11111111111109\n",
      "Self-intersection at or near point 765.33333333333337 720.16666666666663\n",
      "Self-intersection at or near point 831 492\n",
      "Self-intersection at or near point 807.71428571428567 722.85714285714289\n",
      "Self-intersection at or near point 399.19999999999999 122.8\n",
      "Self-intersection at or near point 704.20245398773011 235.25766871165644\n",
      "Self-intersection at or near point 495.95652173913044 665.52173913043475\n",
      "Self-intersection at or near point 747.70588235294122 96.882352941176464\n"
     ]
    },
    {
     "name": "stdout",
     "output_type": "stream",
     "text": [
      "tresh: 0.45 eps: 3.0 minarea: 10.0\n",
      "('Final jaccard', 0.04082674332136106)\n",
      "minarea: 15.0\n"
     ]
    },
    {
     "name": "stderr",
     "output_type": "stream",
     "text": [
      "Self-intersection at or near point 545.88888888888891 687.11111111111109\n",
      "Self-intersection at or near point 765.33333333333337 720.16666666666663\n",
      "Self-intersection at or near point 831 492\n",
      "Self-intersection at or near point 807.71428571428567 722.85714285714289\n",
      "Self-intersection at or near point 399.19999999999999 122.8\n",
      "Self-intersection at or near point 704.20245398773011 235.25766871165644\n",
      "Self-intersection at or near point 495.95652173913044 665.52173913043475\n",
      "Self-intersection at or near point 747.70588235294122 96.882352941176464\n"
     ]
    },
    {
     "name": "stdout",
     "output_type": "stream",
     "text": [
      "tresh: 0.45 eps: 3.0 minarea: 15.0\n",
      "('Final jaccard', 0.040803535192688846)\n",
      "5\n",
      "tresh: 0.15\n",
      "eps: 0.5\n",
      "minarea: 1.0\n"
     ]
    },
    {
     "name": "stderr",
     "output_type": "stream",
     "text": [
      "Self-intersection at or near point 3 35\n",
      "Self-intersection at or near point 732 780.66666666666663\n",
      "Self-intersection at or near point 0.59765625 51.59765625\n",
      "Self-intersection at or near point 500.80000000000001 381.60000000000002\n",
      "Self-intersection at or near point 827.07692307692309 520.30769230769226\n",
      "Self-intersection at or near point 629.93548387096769 403.74193548387098\n",
      "Self-intersection at or near point 632.92307692307691 304.23076923076923\n",
      "Self-intersection at or near point 796.30769230769226 640.38461538461536\n",
      "Self-intersection at or near point 0 744\n",
      "Self-intersection at or near point 467.25 456.5\n",
      "Self-intersection at or near point 415 116\n",
      "Self-intersection at or near point 161 787\n",
      "Self-intersection at or near point 619.39999999999998 777.60000000000002\n",
      "Self-intersection at or near point 782 328\n"
     ]
    },
    {
     "name": "stdout",
     "output_type": "stream",
     "text": [
      "tresh: 0.15 eps: 0.5 minarea: 1.0\n",
      "('Final jaccard', 0.17556849555718052)\n",
      "minarea: 3.0\n"
     ]
    },
    {
     "name": "stderr",
     "output_type": "stream",
     "text": [
      "Self-intersection at or near point 3 35\n",
      "Self-intersection at or near point 732 780.66666666666663\n",
      "Self-intersection at or near point 0.42488038277511953 36.681339712918657\n",
      "Self-intersection at or near point 500.80000000000001 381.60000000000002\n",
      "Self-intersection at or near point 827.07692307692309 520.30769230769226\n",
      "Self-intersection at or near point 629.93548387096769 403.74193548387098\n",
      "Self-intersection at or near point 632.92307692307691 304.23076923076923\n",
      "Self-intersection at or near point 796.30769230769226 640.38461538461536\n",
      "Self-intersection at or near point 0 744\n",
      "Self-intersection at or near point 467.25 456.5\n",
      "Self-intersection at or near point 415 116\n",
      "Self-intersection at or near point 161 787\n",
      "Self-intersection at or near point 619.39999999999998 777.60000000000002\n",
      "Self-intersection at or near point 782 328\n"
     ]
    },
    {
     "name": "stdout",
     "output_type": "stream",
     "text": [
      "tresh: 0.15 eps: 0.5 minarea: 3.0\n",
      "('Final jaccard', 0.17550675907532765)\n",
      "minarea: 10.0\n"
     ]
    },
    {
     "name": "stderr",
     "output_type": "stream",
     "text": [
      "Self-intersection at or near point 3 35\n",
      "Self-intersection at or near point 732 780.66666666666663\n",
      "Self-intersection at or near point 0.42488038277511953 36.681339712918657\n",
      "Self-intersection at or near point 500.80000000000001 381.60000000000002\n",
      "Self-intersection at or near point 827.07692307692309 520.30769230769226\n",
      "Self-intersection at or near point 514.33333333333337 449\n",
      "Self-intersection at or near point 796.30769230769226 640.38461538461536\n",
      "Self-intersection at or near point 0 744\n",
      "Self-intersection at or near point 467.25 456.5\n",
      "Ring Self-intersection at or near point 611 666\n",
      "Self-intersection at or near point 161 787\n",
      "Self-intersection at or near point 619.39999999999998 777.60000000000002\n"
     ]
    },
    {
     "name": "stdout",
     "output_type": "stream",
     "text": [
      "tresh: 0.15 eps: 0.5 minarea: 10.0\n",
      "('Final jaccard', 0.17467463106223247)\n",
      "minarea: 15.0\n"
     ]
    },
    {
     "name": "stderr",
     "output_type": "stream",
     "text": [
      "Self-intersection at or near point 3 35\n",
      "Self-intersection at or near point 732 780.66666666666663\n",
      "Self-intersection at or near point 0.42488038277511953 36.681339712918657\n",
      "Self-intersection at or near point 84 346\n",
      "Self-intersection at or near point 827.07692307692309 520.30769230769226\n",
      "Self-intersection at or near point 514.33333333333337 449\n",
      "Self-intersection at or near point 796.30769230769226 640.38461538461536\n",
      "Self-intersection at or near point 0 744\n",
      "Self-intersection at or near point 467.25 456.5\n",
      "Ring Self-intersection at or near point 611 666\n",
      "Self-intersection at or near point 161 787\n",
      "Self-intersection at or near point 619.39999999999998 777.60000000000002\n"
     ]
    },
    {
     "name": "stdout",
     "output_type": "stream",
     "text": [
      "tresh: 0.15 eps: 0.5 minarea: 15.0\n",
      "('Final jaccard', 0.1734149590279393)\n",
      "eps: 1.0\n",
      "minarea: 1.0\n"
     ]
    },
    {
     "name": "stderr",
     "output_type": "stream",
     "text": [
      "Self-intersection at or near point 3 35\n",
      "Self-intersection at or near point 731.90243902439022 780.58536585365857\n",
      "Self-intersection at or near point 0.42488038277511953 36.681339712918657\n",
      "Self-intersection at or near point 500.80000000000001 381.60000000000002\n",
      "Self-intersection at or near point 827.10344827586209 520.24137931034488\n",
      "Self-intersection at or near point 629.93548387096769 403.74193548387098\n",
      "Self-intersection at or near point 632.92307692307691 304.23076923076923\n",
      "Self-intersection at or near point 796.30769230769226 640.38461538461536\n",
      "Self-intersection at or near point 302.4375 578.875\n",
      "Self-intersection at or near point 415 116\n",
      "Self-intersection at or near point 52.487804878048777 264.04878048780489\n",
      "Self-intersection at or near point 618.89999999999998 777.26666666666665\n",
      "Self-intersection at or near point 782 328\n"
     ]
    },
    {
     "name": "stdout",
     "output_type": "stream",
     "text": [
      "tresh: 0.15 eps: 1.0 minarea: 1.0\n",
      "('Final jaccard', 0.17434373020318383)\n",
      "minarea: 3.0\n"
     ]
    },
    {
     "name": "stderr",
     "output_type": "stream",
     "text": [
      "Self-intersection at or near point 3 35\n",
      "Self-intersection at or near point 731.90243902439022 780.58536585365857\n",
      "Self-intersection at or near point 0.42488038277511953 36.681339712918657\n",
      "Self-intersection at or near point 500.80000000000001 381.60000000000002\n",
      "Self-intersection at or near point 827.10344827586209 520.24137931034488\n",
      "Self-intersection at or near point 629.93548387096769 403.74193548387098\n",
      "Self-intersection at or near point 632.92307692307691 304.23076923076923\n",
      "Self-intersection at or near point 796.30769230769226 640.38461538461536\n",
      "Self-intersection at or near point 302.4375 578.875\n",
      "Self-intersection at or near point 415 116\n",
      "Self-intersection at or near point 52.487804878048777 264.04878048780489\n",
      "Self-intersection at or near point 618.89999999999998 777.26666666666665\n",
      "Self-intersection at or near point 782 328\n"
     ]
    },
    {
     "name": "stdout",
     "output_type": "stream",
     "text": [
      "tresh: 0.15 eps: 1.0 minarea: 3.0\n",
      "('Final jaccard', 0.174285098357513)\n",
      "minarea: 10.0\n"
     ]
    },
    {
     "name": "stderr",
     "output_type": "stream",
     "text": [
      "Self-intersection at or near point 3 35\n",
      "Self-intersection at or near point 731.90243902439022 780.58536585365857\n",
      "Self-intersection at or near point 0.48046875 41.48046875\n",
      "Self-intersection at or near point 500.80000000000001 381.60000000000002\n",
      "Self-intersection at or near point 827.10344827586209 520.24137931034488\n",
      "Self-intersection at or near point 462 98\n",
      "Self-intersection at or near point 796.30769230769226 640.38461538461536\n",
      "Self-intersection at or near point 302.4375 578.875\n",
      "Ring Self-intersection at or near point 611 666\n",
      "Self-intersection at or near point 52.487804878048777 264.04878048780489\n",
      "Self-intersection at or near point 618.89999999999998 777.26666666666665\n"
     ]
    },
    {
     "name": "stdout",
     "output_type": "stream",
     "text": [
      "tresh: 0.15 eps: 1.0 minarea: 10.0\n",
      "('Final jaccard', 0.17338421941826912)\n",
      "minarea: 15.0\n"
     ]
    },
    {
     "name": "stderr",
     "output_type": "stream",
     "text": [
      "Self-intersection at or near point 3 35\n",
      "Self-intersection at or near point 731.90243902439022 780.58536585365857\n",
      "Self-intersection at or near point 0.42488038277511953 36.681339712918657\n",
      "Ring Self-intersection at or near point 289 519\n",
      "Self-intersection at or near point 827.10344827586209 520.24137931034488\n",
      "Self-intersection at or near point 462 98\n",
      "Self-intersection at or near point 796.30769230769226 640.38461538461536\n",
      "Self-intersection at or near point 302.4375 578.875\n",
      "Ring Self-intersection at or near point 611 666\n",
      "Self-intersection at or near point 52.487804878048777 264.04878048780489\n",
      "Self-intersection at or near point 618.89999999999998 777.26666666666665\n"
     ]
    },
    {
     "name": "stdout",
     "output_type": "stream",
     "text": [
      "tresh: 0.15 eps: 1.0 minarea: 15.0\n",
      "('Final jaccard', 0.17200269287298295)\n",
      "eps: 3.0\n",
      "minarea: 1.0\n"
     ]
    },
    {
     "name": "stderr",
     "output_type": "stream",
     "text": [
      "Self-intersection at or near point 574.02209944751382 830.10128913443828\n",
      "Ring Self-intersection at or near point 483 103\n",
      "Self-intersection at or near point 797.27731092436977 641.11764705882354\n",
      "Self-intersection at or near point 465 458\n",
      "Self-intersection at or near point 353 649.5\n",
      "Self-intersection at or near point 618.77777777777783 777.59259259259261\n"
     ]
    },
    {
     "name": "stdout",
     "output_type": "stream",
     "text": [
      "tresh: 0.15 eps: 3.0 minarea: 1.0\n",
      "('Final jaccard', 0.16137796976202867)\n",
      "minarea: 3.0\n"
     ]
    },
    {
     "name": "stderr",
     "output_type": "stream",
     "text": [
      "Self-intersection at or near point 574.02209944751382 830.10128913443828\n",
      "Ring Self-intersection at or near point 483 103\n",
      "Self-intersection at or near point 797.27731092436977 641.11764705882354\n",
      "Self-intersection at or near point 465 458\n",
      "Self-intersection at or near point 353 649.5\n",
      "Self-intersection at or near point 618.77777777777783 777.59259259259261\n"
     ]
    },
    {
     "name": "stdout",
     "output_type": "stream",
     "text": [
      "tresh: 0.15 eps: 3.0 minarea: 3.0\n",
      "('Final jaccard', 0.16137813305974202)\n",
      "minarea: 10.0\n"
     ]
    },
    {
     "name": "stderr",
     "output_type": "stream",
     "text": [
      "Self-intersection at or near point 574.02209944751382 830.10128913443828\n",
      "Ring Self-intersection at or near point 483 103\n",
      "Self-intersection at or near point 797.27731092436977 641.11764705882354\n",
      "Self-intersection at or near point 465 458\n",
      "Self-intersection at or near point 353 649.5\n",
      "Self-intersection at or near point 618.77777777777783 777.59259259259261\n"
     ]
    },
    {
     "name": "stdout",
     "output_type": "stream",
     "text": [
      "tresh: 0.15 eps: 3.0 minarea: 10.0\n",
      "('Final jaccard', 0.16113555725209075)\n",
      "minarea: 15.0\n"
     ]
    },
    {
     "name": "stderr",
     "output_type": "stream",
     "text": [
      "Self-intersection at or near point 574.02209944751382 830.10128913443828\n",
      "Ring Self-intersection at or near point 483 103\n",
      "Self-intersection at or near point 797.27731092436977 641.11764705882354\n",
      "Self-intersection at or near point 465 458\n",
      "Self-intersection at or near point 353 651.77777777777783\n",
      "Self-intersection at or near point 618.77777777777783 777.59259259259261\n"
     ]
    },
    {
     "name": "stdout",
     "output_type": "stream",
     "text": [
      "tresh: 0.15 eps: 3.0 minarea: 15.0\n",
      "('Final jaccard', 0.1596667352061336)\n",
      "tresh: 0.2\n",
      "eps: 0.5\n",
      "minarea: 1.0\n"
     ]
    },
    {
     "name": "stderr",
     "output_type": "stream",
     "text": [
      "Self-intersection at or near point 234.33333333333334 270.33333333333331\n",
      "Self-intersection at or near point 564.25 714.75\n",
      "Self-intersection at or near point 2.4165029469548132 208.62475442043223\n",
      "Self-intersection at or near point 436.25 296.5\n",
      "Self-intersection at or near point 323.8125 325.25\n",
      "Self-intersection at or near point 514.5 448.875\n",
      "Self-intersection at or near point 633 304.33333333333331\n",
      "Self-intersection at or near point 827.375 647.125\n",
      "Self-intersection at or near point 0 744\n",
      "Self-intersection at or near point 1 647\n",
      "Ring Self-intersection at or near point 611 666\n",
      "Self-intersection at or near point 52.972972972972975 264.10810810810813\n",
      "Self-intersection at or near point 618.89999999999998 777.26666666666665\n",
      "Self-intersection at or near point 782 328\n"
     ]
    },
    {
     "name": "stdout",
     "output_type": "stream",
     "text": [
      "tresh: 0.2 eps: 0.5 minarea: 1.0\n",
      "('Final jaccard', 0.17501851433243393)\n",
      "minarea: 3.0\n"
     ]
    },
    {
     "name": "stderr",
     "output_type": "stream",
     "text": [
      "Self-intersection at or near point 234.33333333333334 270.33333333333331\n",
      "Self-intersection at or near point 564.25 714.75\n",
      "Self-intersection at or near point 2.4165029469548132 208.62475442043223\n",
      "Self-intersection at or near point 436.25 296.5\n",
      "Self-intersection at or near point 323.8125 325.25\n",
      "Self-intersection at or near point 514.5 448.875\n",
      "Self-intersection at or near point 633 304.33333333333331\n",
      "Self-intersection at or near point 827.375 647.125\n",
      "Self-intersection at or near point 0 744\n",
      "Self-intersection at or near point 1 647\n",
      "Ring Self-intersection at or near point 611 666\n",
      "Self-intersection at or near point 52.972972972972975 264.10810810810813\n",
      "Self-intersection at or near point 618.89999999999998 777.26666666666665\n",
      "Self-intersection at or near point 782 328\n"
     ]
    },
    {
     "name": "stdout",
     "output_type": "stream",
     "text": [
      "tresh: 0.2 eps: 0.5 minarea: 3.0\n",
      "('Final jaccard', 0.1749557253444998)\n",
      "minarea: 10.0\n"
     ]
    },
    {
     "name": "stderr",
     "output_type": "stream",
     "text": [
      "Self-intersection at or near point 234.33333333333334 270.33333333333331\n",
      "Self-intersection at or near point 3 228\n",
      "Self-intersection at or near point 0.42488038277511953 36.681339712918657\n",
      "Self-intersection at or near point 436.33333333333331 296\n",
      "Self-intersection at or near point 323.8125 325.25\n",
      "Self-intersection at or near point 514.5 448.875\n",
      "Self-intersection at or near point 633 304.33333333333331\n",
      "Self-intersection at or near point 827.375 647.125\n",
      "Self-intersection at or near point 0 744\n",
      "Self-intersection at or near point 1 647\n",
      "Ring Self-intersection at or near point 611 666\n",
      "Self-intersection at or near point 52.972972972972975 264.10810810810813\n",
      "Self-intersection at or near point 618.89999999999998 777.26666666666665\n"
     ]
    },
    {
     "name": "stdout",
     "output_type": "stream",
     "text": [
      "tresh: 0.2 eps: 0.5 minarea: 10.0\n",
      "('Final jaccard', 0.17404718852621404)\n",
      "minarea: 15.0\n"
     ]
    },
    {
     "name": "stderr",
     "output_type": "stream",
     "text": [
      "Self-intersection at or near point 234.33333333333334 270.33333333333331\n",
      "Self-intersection at or near point 3 228\n",
      "Self-intersection at or near point 0.42488038277511953 36.681339712918657\n",
      "Self-intersection at or near point 436.33333333333331 296\n",
      "Self-intersection at or near point 323.8125 325.25\n",
      "Self-intersection at or near point 514.5 448.875\n",
      "Self-intersection at or near point 827.23076923076928 645.53846153846155\n",
      "Self-intersection at or near point 0 744\n",
      "Self-intersection at or near point 79 588\n",
      "Ring Self-intersection at or near point 611 666\n",
      "Self-intersection at or near point 52.972972972972975 264.10810810810813\n",
      "Self-intersection at or near point 618.89999999999998 777.26666666666665\n"
     ]
    },
    {
     "name": "stdout",
     "output_type": "stream",
     "text": [
      "tresh: 0.2 eps: 0.5 minarea: 15.0\n",
      "('Final jaccard', 0.17278806963801144)\n",
      "eps: 1.0\n",
      "minarea: 1.0\n"
     ]
    },
    {
     "name": "stderr",
     "output_type": "stream",
     "text": [
      "Self-intersection at or near point 234.33333333333334 270.33333333333331\n",
      "Self-intersection at or near point 565 713.5\n",
      "Self-intersection at or near point 2.4165029469548132 208.62475442043223\n",
      "Self-intersection at or near point 436.25 296.5\n",
      "Self-intersection at or near point 323.8125 325.25\n",
      "Self-intersection at or near point 462 98\n",
      "Self-intersection at or near point 632.89999999999998 304.19999999999999\n",
      "Self-intersection at or near point 827.375 647.125\n",
      "Self-intersection at or near point 1 833\n",
      "Self-intersection at or near point 3 689\n",
      "Ring Self-intersection at or near point 611 666\n",
      "Self-intersection at or near point 52.972972972972975 264.10810810810813\n",
      "Self-intersection at or near point 618.89999999999998 777.26666666666665\n",
      "Self-intersection at or near point 782 328\n"
     ]
    },
    {
     "name": "stdout",
     "output_type": "stream",
     "text": [
      "tresh: 0.2 eps: 1.0 minarea: 1.0\n",
      "('Final jaccard', 0.17385912793010547)\n",
      "minarea: 3.0\n"
     ]
    },
    {
     "name": "stderr",
     "output_type": "stream",
     "text": [
      "Self-intersection at or near point 234.33333333333334 270.33333333333331\n",
      "Self-intersection at or near point 565 713.5\n",
      "Self-intersection at or near point 2.4165029469548132 208.62475442043223\n",
      "Self-intersection at or near point 436.34482758620692 295.93103448275861\n",
      "Self-intersection at or near point 323.8125 325.25\n",
      "Self-intersection at or near point 462 98\n",
      "Self-intersection at or near point 632.89999999999998 304.19999999999999\n",
      "Self-intersection at or near point 827.23076923076928 645.53846153846155\n",
      "Self-intersection at or near point 1 833\n",
      "Self-intersection at or near point 3 689\n",
      "Ring Self-intersection at or near point 611 666\n",
      "Self-intersection at or near point 52.972972972972975 264.10810810810813\n",
      "Self-intersection at or near point 618.89999999999998 777.26666666666665\n",
      "Self-intersection at or near point 782 328\n"
     ]
    },
    {
     "name": "stdout",
     "output_type": "stream",
     "text": [
      "tresh: 0.2 eps: 1.0 minarea: 3.0\n",
      "('Final jaccard', 0.17380066749253154)\n",
      "minarea: 10.0\n"
     ]
    },
    {
     "name": "stderr",
     "output_type": "stream",
     "text": [
      "Self-intersection at or near point 234.33333333333334 270.33333333333331\n",
      "Self-intersection at or near point 3 298\n",
      "Self-intersection at or near point 0.48046875 41.48046875\n",
      "Self-intersection at or near point 436.34482758620692 295.93103448275861\n",
      "Self-intersection at or near point 323.8125 325.25\n",
      "Self-intersection at or near point 462 98\n",
      "Self-intersection at or near point 827.23076923076928 645.53846153846155\n",
      "Self-intersection at or near point 1 833\n",
      "Self-intersection at or near point 79 588\n",
      "Ring Self-intersection at or near point 611 666\n",
      "Self-intersection at or near point 52.972972972972975 264.10810810810813\n",
      "Self-intersection at or near point 618.89999999999998 777.26666666666665\n"
     ]
    },
    {
     "name": "stdout",
     "output_type": "stream",
     "text": [
      "tresh: 0.2 eps: 1.0 minarea: 10.0\n",
      "('Final jaccard', 0.17283181761512445)\n",
      "minarea: 15.0\n"
     ]
    },
    {
     "name": "stderr",
     "output_type": "stream",
     "text": [
      "Self-intersection at or near point 234.33333333333334 270.33333333333331\n",
      "Self-intersection at or near point 3 298\n",
      "Self-intersection at or near point 0.42488038277511953 36.681339712918657\n",
      "Self-intersection at or near point 436.25 296.5\n",
      "Self-intersection at or near point 323.8125 325.25\n",
      "Self-intersection at or near point 462 98\n",
      "Self-intersection at or near point 827.375 647.125\n",
      "Self-intersection at or near point 1 833\n",
      "Self-intersection at or near point 79 588\n",
      "Ring Self-intersection at or near point 611 666\n",
      "Self-intersection at or near point 52.972972972972975 264.10810810810813\n",
      "Self-intersection at or near point 618.89999999999998 777.26666666666665\n"
     ]
    },
    {
     "name": "stdout",
     "output_type": "stream",
     "text": [
      "tresh: 0.2 eps: 1.0 minarea: 15.0\n",
      "('Final jaccard', 0.1714856887125434)\n",
      "eps: 3.0\n",
      "minarea: 1.0\n"
     ]
    },
    {
     "name": "stderr",
     "output_type": "stream",
     "text": [
      "Self-intersection at or near point 819.70000000000005 461.19999999999999\n",
      "Self-intersection at or near point 698.73684210526312 564.26315789473688\n",
      "Ring Self-intersection at or near point 81 586\n",
      "Ring Self-intersection at or near point 611 666\n",
      "Self-intersection at or near point 618.77777777777783 777.59259259259261\n"
     ]
    },
    {
     "name": "stdout",
     "output_type": "stream",
     "text": [
      "tresh: 0.2 eps: 3.0 minarea: 1.0\n",
      "('Final jaccard', 0.16070902655266778)\n",
      "minarea: 3.0\n"
     ]
    },
    {
     "name": "stderr",
     "output_type": "stream",
     "text": [
      "Self-intersection at or near point 819.70000000000005 461.19999999999999\n",
      "Self-intersection at or near point 698.73684210526312 564.26315789473688\n",
      "Ring Self-intersection at or near point 81 586\n",
      "Ring Self-intersection at or near point 611 666\n",
      "Self-intersection at or near point 618.77777777777783 777.59259259259261\n"
     ]
    },
    {
     "name": "stdout",
     "output_type": "stream",
     "text": [
      "tresh: 0.2 eps: 3.0 minarea: 3.0\n",
      "('Final jaccard', 0.16070902655266778)\n",
      "minarea: 10.0\n"
     ]
    },
    {
     "name": "stderr",
     "output_type": "stream",
     "text": [
      "Self-intersection at or near point 819.70000000000005 461.19999999999999\n",
      "Self-intersection at or near point 698.73684210526312 564.26315789473688\n",
      "Ring Self-intersection at or near point 81 586\n",
      "Ring Self-intersection at or near point 611 666\n",
      "Self-intersection at or near point 618.77777777777783 777.59259259259261\n"
     ]
    },
    {
     "name": "stdout",
     "output_type": "stream",
     "text": [
      "tresh: 0.2 eps: 3.0 minarea: 10.0\n",
      "('Final jaccard', 0.16047363083923913)\n",
      "minarea: 15.0\n"
     ]
    },
    {
     "name": "stderr",
     "output_type": "stream",
     "text": [
      "Self-intersection at or near point 819.70000000000005 461.19999999999999\n",
      "Self-intersection at or near point 698.73684210526312 564.26315789473688\n",
      "Ring Self-intersection at or near point 81 586\n",
      "Ring Self-intersection at or near point 611 666\n",
      "Self-intersection at or near point 618.77777777777783 777.59259259259261\n"
     ]
    },
    {
     "name": "stdout",
     "output_type": "stream",
     "text": [
      "tresh: 0.2 eps: 3.0 minarea: 15.0\n",
      "('Final jaccard', 0.15898972508030115)\n",
      "tresh: 0.25\n",
      "eps: 0.5\n",
      "minarea: 1.0\n"
     ]
    },
    {
     "name": "stderr",
     "output_type": "stream",
     "text": [
      "Self-intersection at or near point 3 36\n",
      "Self-intersection at or near point 3 228\n",
      "Self-intersection at or near point 2.4165029469548132 208.62475442043223\n",
      "Self-intersection at or near point 500.33333333333331 379\n",
      "Self-intersection at or near point 815.09090909090912 114.36363636363636\n",
      "Self-intersection at or near point 462 98\n",
      "Self-intersection at or near point 509.58536585365852 543.51219512195121\n",
      "Self-intersection at or near point 0 744\n",
      "Self-intersection at or near point 798.17647058823525 370.88235294117646\n",
      "Ring Self-intersection at or near point 611 666\n",
      "Self-intersection at or near point 422.72727272727275 11.363636363636363\n",
      "Self-intersection at or near point 618.89999999999998 777.26666666666665\n",
      "Self-intersection at or near point 782 328\n"
     ]
    },
    {
     "name": "stdout",
     "output_type": "stream",
     "text": [
      "tresh: 0.25 eps: 0.5 minarea: 1.0\n",
      "('Final jaccard', 0.17460887119411875)\n",
      "minarea: 3.0\n"
     ]
    },
    {
     "name": "stderr",
     "output_type": "stream",
     "text": [
      "Self-intersection at or near point 3 36\n",
      "Self-intersection at or near point 3 228\n",
      "Self-intersection at or near point 2.4165029469548132 208.62475442043223\n",
      "Self-intersection at or near point 500.33333333333331 379\n",
      "Self-intersection at or near point 815.09090909090912 114.36363636363636\n",
      "Self-intersection at or near point 462 98\n",
      "Self-intersection at or near point 509.58536585365852 543.51219512195121\n",
      "Self-intersection at or near point 0 744\n",
      "Self-intersection at or near point 798.17647058823525 370.88235294117646\n",
      "Ring Self-intersection at or near point 611 666\n",
      "Self-intersection at or near point 422.72727272727275 11.363636363636363\n",
      "Self-intersection at or near point 618.89999999999998 777.26666666666665\n",
      "Self-intersection at or near point 782 328\n"
     ]
    },
    {
     "name": "stdout",
     "output_type": "stream",
     "text": [
      "tresh: 0.25 eps: 0.5 minarea: 3.0\n",
      "('Final jaccard', 0.17455182214359236)\n",
      "minarea: 10.0\n"
     ]
    },
    {
     "name": "stderr",
     "output_type": "stream",
     "text": [
      "Self-intersection at or near point 3 36\n",
      "Self-intersection at or near point 3 228\n",
      "Self-intersection at or near point 0.48046875 41.48046875\n",
      "Self-intersection at or near point 500.33333333333331 379\n",
      "Self-intersection at or near point 815.09090909090912 114.36363636363636\n",
      "Self-intersection at or near point 462 98\n",
      "Self-intersection at or near point 509.58536585365852 543.51219512195121\n",
      "Self-intersection at or near point 0 744\n",
      "Self-intersection at or near point 798.17647058823525 370.88235294117646\n",
      "Ring Self-intersection at or near point 611 666\n",
      "Self-intersection at or near point 422.72727272727275 11.363636363636363\n",
      "Self-intersection at or near point 618.89999999999998 777.26666666666665\n"
     ]
    },
    {
     "name": "stdout",
     "output_type": "stream",
     "text": [
      "tresh: 0.25 eps: 0.5 minarea: 10.0\n",
      "('Final jaccard', 0.173523766371386)\n",
      "minarea: 15.0\n"
     ]
    },
    {
     "name": "stderr",
     "output_type": "stream",
     "text": [
      "Self-intersection at or near point 3 36\n",
      "Self-intersection at or near point 3 228\n",
      "Self-intersection at or near point 0.48046875 41.48046875\n",
      "Self-intersection at or near point 59.333333333333336 255.33333333333334\n",
      "Self-intersection at or near point 3 147\n",
      "Self-intersection at or near point 462 98\n",
      "Self-intersection at or near point 509.58536585365852 543.51219512195121\n",
      "Self-intersection at or near point 0 744\n",
      "Self-intersection at or near point 798.17647058823525 370.88235294117646\n",
      "Ring Self-intersection at or near point 611 666\n",
      "Self-intersection at or near point 422.72727272727275 11.363636363636363\n",
      "Self-intersection at or near point 618.89999999999998 777.26666666666665\n"
     ]
    },
    {
     "name": "stdout",
     "output_type": "stream",
     "text": [
      "tresh: 0.25 eps: 0.5 minarea: 15.0\n",
      "('Final jaccard', 0.17229246094715736)\n",
      "eps: 1.0\n",
      "minarea: 1.0\n"
     ]
    },
    {
     "name": "stderr",
     "output_type": "stream",
     "text": [
      "Self-intersection at or near point 3 36\n",
      "Self-intersection at or near point 200.13043478260869 413.60869565217394\n",
      "Self-intersection at or near point 2.4165029469548132 208.62475442043223\n",
      "Self-intersection at or near point 500 379.5\n",
      "Self-intersection at or near point 3 173\n",
      "Self-intersection at or near point 462 98\n",
      "Self-intersection at or near point 509.58536585365852 543.51219512195121\n",
      "Self-intersection at or near point 1 833\n",
      "Self-intersection at or near point 798.14285714285711 370.85714285714283\n",
      "Ring Self-intersection at or near point 611 666\n",
      "Self-intersection at or near point 422.72727272727275 11.363636363636363\n",
      "Self-intersection at or near point 618.89999999999998 777.26666666666665\n",
      "Self-intersection at or near point 782 328\n"
     ]
    },
    {
     "name": "stdout",
     "output_type": "stream",
     "text": [
      "tresh: 0.25 eps: 1.0 minarea: 1.0\n",
      "('Final jaccard', 0.17333971810986962)\n",
      "minarea: 3.0\n"
     ]
    },
    {
     "name": "stderr",
     "output_type": "stream",
     "text": [
      "Self-intersection at or near point 3 36\n",
      "Self-intersection at or near point 200.13043478260869 413.60869565217394\n",
      "Self-intersection at or near point 2.4165029469548132 208.62475442043223\n",
      "Self-intersection at or near point 500 379.5\n",
      "Self-intersection at or near point 3 173\n",
      "Self-intersection at or near point 462 98\n",
      "Self-intersection at or near point 509.58536585365852 543.51219512195121\n",
      "Self-intersection at or near point 1 833\n",
      "Self-intersection at or near point 798.14285714285711 370.85714285714283\n",
      "Ring Self-intersection at or near point 611 666\n",
      "Self-intersection at or near point 422.72727272727275 11.363636363636363\n",
      "Self-intersection at or near point 618.89999999999998 777.26666666666665\n",
      "Self-intersection at or near point 782 328\n"
     ]
    },
    {
     "name": "stdout",
     "output_type": "stream",
     "text": [
      "tresh: 0.25 eps: 1.0 minarea: 3.0\n",
      "('Final jaccard', 0.1732846816896015)\n",
      "minarea: 10.0\n"
     ]
    },
    {
     "name": "stderr",
     "output_type": "stream",
     "text": [
      "Self-intersection at or near point 3 36\n",
      "Self-intersection at or near point 200.13043478260869 413.60869565217394\n",
      "Self-intersection at or near point 0.48046875 41.48046875\n",
      "Self-intersection at or near point 500 379.5\n",
      "Self-intersection at or near point 3 173\n",
      "Self-intersection at or near point 462 98\n",
      "Self-intersection at or near point 509.58536585365852 543.51219512195121\n",
      "Self-intersection at or near point 1 833\n",
      "Self-intersection at or near point 798.14285714285711 370.85714285714283\n",
      "Ring Self-intersection at or near point 611 666\n",
      "Self-intersection at or near point 422.72727272727275 11.363636363636363\n",
      "Self-intersection at or near point 618.89999999999998 777.26666666666665\n"
     ]
    },
    {
     "name": "stdout",
     "output_type": "stream",
     "text": [
      "tresh: 0.25 eps: 1.0 minarea: 10.0\n",
      "('Final jaccard', 0.17220739521393746)\n",
      "minarea: 15.0\n"
     ]
    },
    {
     "name": "stderr",
     "output_type": "stream",
     "text": [
      "Self-intersection at or near point 3 36\n",
      "Self-intersection at or near point 200.13043478260869 413.60869565217394\n",
      "Self-intersection at or near point 0.42488038277511953 36.681339712918657\n",
      "Self-intersection at or near point 59.100000000000001 255.09999999999999\n",
      "Self-intersection at or near point 3 173\n",
      "Self-intersection at or near point 462 98\n",
      "Self-intersection at or near point 509.58536585365852 543.51219512195121\n",
      "Self-intersection at or near point 1 833\n",
      "Self-intersection at or near point 798.14285714285711 370.85714285714283\n",
      "Ring Self-intersection at or near point 611 666\n",
      "Self-intersection at or near point 422.72727272727275 11.363636363636363\n",
      "Self-intersection at or near point 618.89999999999998 777.26666666666665\n"
     ]
    },
    {
     "name": "stdout",
     "output_type": "stream",
     "text": [
      "tresh: 0.25 eps: 1.0 minarea: 15.0\n",
      "('Final jaccard', 0.17085906730206302)\n",
      "eps: 3.0\n",
      "minarea: 1.0\n"
     ]
    },
    {
     "name": "stderr",
     "output_type": "stream",
     "text": [
      "Self-intersection at or near point 451 831\n",
      "Self-intersection at or near point 59.161971830985912 255.04929577464787\n",
      "Self-intersection at or near point 568 198\n",
      "Self-intersection at or near point 667.27528089887642 592.31460674157302\n",
      "Self-intersection at or near point 618.77777777777783 777.59259259259261\n"
     ]
    },
    {
     "name": "stdout",
     "output_type": "stream",
     "text": [
      "tresh: 0.25 eps: 3.0 minarea: 1.0\n",
      "('Final jaccard', 0.1603132228858496)\n",
      "minarea: 3.0\n"
     ]
    },
    {
     "name": "stderr",
     "output_type": "stream",
     "text": [
      "Self-intersection at or near point 451 831\n",
      "Self-intersection at or near point 59.161971830985912 255.04929577464787\n",
      "Self-intersection at or near point 568 198\n",
      "Self-intersection at or near point 667.27528089887642 592.31460674157302\n",
      "Self-intersection at or near point 618.77777777777783 777.59259259259261\n"
     ]
    },
    {
     "name": "stdout",
     "output_type": "stream",
     "text": [
      "tresh: 0.25 eps: 3.0 minarea: 3.0\n",
      "('Final jaccard', 0.1603132228858496)\n",
      "minarea: 10.0\n"
     ]
    },
    {
     "name": "stderr",
     "output_type": "stream",
     "text": [
      "Self-intersection at or near point 451 831\n",
      "Self-intersection at or near point 59.161971830985912 255.04929577464787\n",
      "Self-intersection at or near point 568 198\n",
      "Self-intersection at or near point 667.27528089887642 592.31460674157302\n",
      "Self-intersection at or near point 618.77777777777783 777.59259259259261\n"
     ]
    },
    {
     "name": "stdout",
     "output_type": "stream",
     "text": [
      "tresh: 0.25 eps: 3.0 minarea: 10.0\n",
      "('Final jaccard', 0.16005477543087732)\n",
      "minarea: 15.0\n"
     ]
    },
    {
     "name": "stderr",
     "output_type": "stream",
     "text": [
      "Self-intersection at or near point 451 831\n",
      "Self-intersection at or near point 59.161971830985912 255.04929577464787\n",
      "Self-intersection at or near point 568 198\n",
      "Self-intersection at or near point 667.27528089887642 592.31460674157302\n",
      "Self-intersection at or near point 618.77777777777783 777.59259259259261\n"
     ]
    },
    {
     "name": "stdout",
     "output_type": "stream",
     "text": [
      "tresh: 0.25 eps: 3.0 minarea: 15.0\n",
      "('Final jaccard', 0.158548354788849)\n",
      "tresh: 0.3\n",
      "eps: 0.5\n",
      "minarea: 1.0\n"
     ]
    },
    {
     "name": "stderr",
     "output_type": "stream",
     "text": [
      "Self-intersection at or near point 3 36\n",
      "Self-intersection at or near point 3 229\n",
      "Self-intersection at or near point 2.4165029469548132 208.62475442043223\n",
      "Self-intersection at or near point 499.5 378.5\n",
      "Self-intersection at or near point 3 148\n",
      "Self-intersection at or near point 462 98\n",
      "Self-intersection at or near point 827.09090909090912 646.27272727272725\n",
      "Self-intersection at or near point 0 505\n",
      "Self-intersection at or near point 1 648\n",
      "Ring Self-intersection at or near point 597 664\n",
      "Self-intersection at or near point 417 638\n",
      "Self-intersection at or near point 782 328\n"
     ]
    },
    {
     "name": "stdout",
     "output_type": "stream",
     "text": [
      "tresh: 0.3 eps: 0.5 minarea: 1.0\n",
      "('Final jaccard', 0.17426278986948612)\n",
      "minarea: 3.0\n"
     ]
    },
    {
     "name": "stderr",
     "output_type": "stream",
     "text": [
      "Self-intersection at or near point 3 36\n",
      "Self-intersection at or near point 3 229\n",
      "Self-intersection at or near point 2.4165029469548132 208.62475442043223\n",
      "Self-intersection at or near point 499.5 378.5\n",
      "Self-intersection at or near point 3 148\n",
      "Self-intersection at or near point 462 98\n",
      "Self-intersection at or near point 827.09090909090912 646.27272727272725\n",
      "Self-intersection at or near point 0 505\n",
      "Self-intersection at or near point 1 648\n",
      "Ring Self-intersection at or near point 597 664\n",
      "Self-intersection at or near point 417 638\n",
      "Self-intersection at or near point 782 328\n"
     ]
    },
    {
     "name": "stdout",
     "output_type": "stream",
     "text": [
      "tresh: 0.3 eps: 0.5 minarea: 3.0\n",
      "('Final jaccard', 0.17420405122157526)\n",
      "minarea: 10.0\n"
     ]
    },
    {
     "name": "stderr",
     "output_type": "stream",
     "text": [
      "Self-intersection at or near point 3 36\n",
      "Self-intersection at or near point 3 229\n",
      "Self-intersection at or near point 2.4165029469548132 208.62475442043223\n",
      "Self-intersection at or near point 499.5 378.5\n",
      "Self-intersection at or near point 3 148\n",
      "Self-intersection at or near point 462 98\n",
      "Self-intersection at or near point 827.09090909090912 646.27272727272725\n",
      "Self-intersection at or near point 0 505\n",
      "Self-intersection at or near point 1 648\n",
      "Ring Self-intersection at or near point 597 664\n",
      "Self-intersection at or near point 417 638\n"
     ]
    },
    {
     "name": "stdout",
     "output_type": "stream",
     "text": [
      "tresh: 0.3 eps: 0.5 minarea: 10.0\n",
      "('Final jaccard', 0.17322672062415045)\n",
      "minarea: 15.0\n"
     ]
    },
    {
     "name": "stderr",
     "output_type": "stream",
     "text": [
      "Self-intersection at or near point 3 36\n",
      "Self-intersection at or near point 3 229\n",
      "Self-intersection at or near point 0.48046875 41.48046875\n",
      "Self-intersection at or near point 499.5 378.5\n",
      "Self-intersection at or near point 3 148\n",
      "Self-intersection at or near point 462 98\n",
      "Self-intersection at or near point 827.04347826086962 645.86956521739125\n",
      "Self-intersection at or near point 0 505\n",
      "Self-intersection at or near point 164 831\n",
      "Ring Self-intersection at or near point 597 664\n",
      "Self-intersection at or near point 417 638\n"
     ]
    },
    {
     "name": "stdout",
     "output_type": "stream",
     "text": [
      "tresh: 0.3 eps: 0.5 minarea: 15.0\n",
      "('Final jaccard', 0.1720258357203978)\n",
      "eps: 1.0\n",
      "minarea: 1.0\n"
     ]
    },
    {
     "name": "stderr",
     "output_type": "stream",
     "text": [
      "Self-intersection at or near point 3 36\n",
      "Self-intersection at or near point 3 298\n",
      "Self-intersection at or near point 2.4165029469548132 208.62475442043223\n",
      "Self-intersection at or near point 499.5 378.5\n",
      "Self-intersection at or near point 3 173\n",
      "Self-intersection at or near point 462 98\n",
      "Self-intersection at or near point 827.07692307692309 646.15384615384619\n",
      "Self-intersection at or near point 0 505\n",
      "Self-intersection at or near point 1 648\n",
      "Ring Self-intersection at or near point 597 664\n",
      "Self-intersection at or near point 806 833\n",
      "Self-intersection at or near point 782 328\n"
     ]
    },
    {
     "name": "stdout",
     "output_type": "stream",
     "text": [
      "tresh: 0.3 eps: 1.0 minarea: 1.0\n",
      "('Final jaccard', 0.1729893795787097)\n",
      "minarea: 3.0\n"
     ]
    },
    {
     "name": "stderr",
     "output_type": "stream",
     "text": [
      "Self-intersection at or near point 3 36\n",
      "Self-intersection at or near point 3 298\n",
      "Self-intersection at or near point 2.4165029469548132 208.62475442043223\n",
      "Self-intersection at or near point 499.5 378.5\n",
      "Self-intersection at or near point 3 173\n",
      "Self-intersection at or near point 462 98\n",
      "Self-intersection at or near point 827.07692307692309 646.15384615384619\n",
      "Self-intersection at or near point 0 505\n",
      "Self-intersection at or near point 1 648\n",
      "Ring Self-intersection at or near point 597 664\n",
      "Self-intersection at or near point 806 833\n",
      "Self-intersection at or near point 782 328\n"
     ]
    },
    {
     "name": "stdout",
     "output_type": "stream",
     "text": [
      "tresh: 0.3 eps: 1.0 minarea: 3.0\n",
      "('Final jaccard', 0.17293418163700822)\n",
      "minarea: 10.0\n"
     ]
    },
    {
     "name": "stderr",
     "output_type": "stream",
     "text": [
      "Self-intersection at or near point 3 36\n",
      "Self-intersection at or near point 3 298\n",
      "Self-intersection at or near point 2.4165029469548132 208.62475442043223\n",
      "Self-intersection at or near point 499.5 378.5\n",
      "Self-intersection at or near point 3 173\n",
      "Self-intersection at or near point 462 98\n",
      "Self-intersection at or near point 827.04347826086962 645.86956521739125\n",
      "Self-intersection at or near point 0 505\n",
      "Self-intersection at or near point 1 648\n",
      "Ring Self-intersection at or near point 597 664\n",
      "Ring Self-intersection at or near point 283 828\n"
     ]
    },
    {
     "name": "stdout",
     "output_type": "stream",
     "text": [
      "tresh: 0.3 eps: 1.0 minarea: 10.0\n",
      "('Final jaccard', 0.1719282999954568)\n",
      "minarea: 15.0\n"
     ]
    },
    {
     "name": "stderr",
     "output_type": "stream",
     "text": [
      "Self-intersection at or near point 3 36\n",
      "Self-intersection at or near point 3 298\n",
      "Self-intersection at or near point 0.42488038277511953 36.681339712918657\n",
      "Self-intersection at or near point 499.5 378.5\n",
      "Self-intersection at or near point 3 173\n",
      "Self-intersection at or near point 462 98\n",
      "Self-intersection at or near point 827.07692307692309 646.15384615384619\n",
      "Self-intersection at or near point 0 505\n",
      "Self-intersection at or near point 701 831\n",
      "Ring Self-intersection at or near point 597 664\n",
      "Ring Self-intersection at or near point 283 828\n"
     ]
    },
    {
     "name": "stdout",
     "output_type": "stream",
     "text": [
      "tresh: 0.3 eps: 1.0 minarea: 15.0\n",
      "('Final jaccard', 0.1705377782572149)\n",
      "eps: 3.0\n",
      "minarea: 1.0\n"
     ]
    },
    {
     "name": "stderr",
     "output_type": "stream",
     "text": [
      "Self-intersection at or near point 452 831\n",
      "Ring Self-intersection at or near point 338 423\n",
      "Self-intersection at or near point 432.52112676056339 132.38028169014083\n",
      "Self-intersection at or near point 667.27528089887642 592.31460674157302\n"
     ]
    },
    {
     "name": "stdout",
     "output_type": "stream",
     "text": [
      "tresh: 0.3 eps: 3.0 minarea: 1.0\n",
      "('Final jaccard', 0.15964930765819127)\n",
      "minarea: 3.0\n"
     ]
    },
    {
     "name": "stderr",
     "output_type": "stream",
     "text": [
      "Self-intersection at or near point 452 831\n",
      "Ring Self-intersection at or near point 338 423\n",
      "Self-intersection at or near point 432.52112676056339 132.38028169014083\n",
      "Self-intersection at or near point 667.27528089887642 592.31460674157302\n"
     ]
    },
    {
     "name": "stdout",
     "output_type": "stream",
     "text": [
      "tresh: 0.3 eps: 3.0 minarea: 3.0\n",
      "('Final jaccard', 0.15964930765819127)\n",
      "minarea: 10.0\n"
     ]
    },
    {
     "name": "stderr",
     "output_type": "stream",
     "text": [
      "Self-intersection at or near point 452 831\n",
      "Ring Self-intersection at or near point 338 423\n",
      "Self-intersection at or near point 432.52112676056339 132.38028169014083\n",
      "Self-intersection at or near point 667.27528089887642 592.31460674157302\n"
     ]
    },
    {
     "name": "stdout",
     "output_type": "stream",
     "text": [
      "tresh: 0.3 eps: 3.0 minarea: 10.0\n",
      "('Final jaccard', 0.15938319239375134)\n",
      "minarea: 15.0\n"
     ]
    },
    {
     "name": "stderr",
     "output_type": "stream",
     "text": [
      "Self-intersection at or near point 452 831\n",
      "Ring Self-intersection at or near point 338 423\n",
      "Self-intersection at or near point 432.52112676056339 132.38028169014083\n",
      "Self-intersection at or near point 667.27528089887642 592.31460674157302\n"
     ]
    },
    {
     "name": "stdout",
     "output_type": "stream",
     "text": [
      "tresh: 0.3 eps: 3.0 minarea: 15.0\n",
      "('Final jaccard', 0.15789543066136832)\n",
      "tresh: 0.35\n",
      "eps: 0.5\n",
      "minarea: 1.0\n"
     ]
    },
    {
     "name": "stderr",
     "output_type": "stream",
     "text": [
      "Self-intersection at or near point 170.40000000000001 591.20000000000005\n",
      "Self-intersection at or near point 314.25 541.25\n",
      "Self-intersection at or near point 2.4344262295081966 210.17213114754099\n",
      "Self-intersection at or near point 499.5 378.5\n",
      "Self-intersection at or near point 333.5 302.5\n",
      "Self-intersection at or near point 462 98\n",
      "Self-intersection at or near point 542.33333333333337 667.33333333333337\n",
      "Self-intersection at or near point 0 618\n",
      "Self-intersection at or near point 678.85714285714289 311.14285714285717\n",
      "Ring Self-intersection at or near point 597 664\n",
      "Self-intersection at or near point 747.85714285714289 204.85714285714286\n",
      "Ring Self-intersection at or near point 502 828\n"
     ]
    },
    {
     "name": "stdout",
     "output_type": "stream",
     "text": [
      "tresh: 0.35 eps: 0.5 minarea: 1.0\n",
      "('Final jaccard', 0.17391710585999687)\n",
      "minarea: 3.0\n"
     ]
    },
    {
     "name": "stderr",
     "output_type": "stream",
     "text": [
      "Self-intersection at or near point 170.40000000000001 591.20000000000005\n",
      "Self-intersection at or near point 314.25 541.25\n",
      "Self-intersection at or near point 2.4344262295081966 210.17213114754099\n",
      "Self-intersection at or near point 499.5 378.5\n",
      "Self-intersection at or near point 333.5 302.5\n",
      "Self-intersection at or near point 462 98\n",
      "Self-intersection at or near point 542.33333333333337 667.33333333333337\n",
      "Self-intersection at or near point 0 618\n",
      "Self-intersection at or near point 678.85714285714289 311.14285714285717\n",
      "Ring Self-intersection at or near point 597 664\n",
      "Self-intersection at or near point 747.85714285714289 204.85714285714286\n",
      "Ring Self-intersection at or near point 502 828\n"
     ]
    },
    {
     "name": "stdout",
     "output_type": "stream",
     "text": [
      "tresh: 0.35 eps: 0.5 minarea: 3.0\n",
      "('Final jaccard', 0.17385219725978768)\n",
      "minarea: 10.0\n"
     ]
    },
    {
     "name": "stderr",
     "output_type": "stream",
     "text": [
      "Self-intersection at or near point 170.40000000000001 591.20000000000005\n",
      "Self-intersection at or near point 314.25 541.25\n",
      "Self-intersection at or near point 2.4344262295081966 210.17213114754099\n",
      "Self-intersection at or near point 499.5 378.5\n",
      "Self-intersection at or near point 333.5 302.5\n",
      "Self-intersection at or near point 462 98\n",
      "Self-intersection at or near point 542.33333333333337 667.33333333333337\n",
      "Self-intersection at or near point 0 618\n",
      "Self-intersection at or near point 678.85714285714289 311.14285714285717\n",
      "Ring Self-intersection at or near point 597 664\n",
      "Self-intersection at or near point 747.85714285714289 204.85714285714286\n",
      "Ring Self-intersection at or near point 502 828\n"
     ]
    },
    {
     "name": "stdout",
     "output_type": "stream",
     "text": [
      "tresh: 0.35 eps: 0.5 minarea: 10.0\n",
      "('Final jaccard', 0.17285923787401308)\n",
      "minarea: 15.0\n"
     ]
    },
    {
     "name": "stderr",
     "output_type": "stream",
     "text": [
      "Self-intersection at or near point 170.40000000000001 591.20000000000005\n",
      "Self-intersection at or near point 314.25 541.25\n",
      "Self-intersection at or near point 0.42488038277511953 36.681339712918657\n",
      "Self-intersection at or near point 499.5 378.5\n",
      "Self-intersection at or near point 333.5 302.5\n",
      "Self-intersection at or near point 462 98\n",
      "Self-intersection at or near point 542.33333333333337 667.33333333333337\n",
      "Self-intersection at or near point 0 743\n",
      "Self-intersection at or near point 678.85714285714289 311.14285714285717\n",
      "Ring Self-intersection at or near point 597 664\n",
      "Self-intersection at or near point 747.85714285714289 204.85714285714286\n",
      "Ring Self-intersection at or near point 502 828\n"
     ]
    },
    {
     "name": "stdout",
     "output_type": "stream",
     "text": [
      "tresh: 0.35 eps: 0.5 minarea: 15.0\n",
      "('Final jaccard', 0.1715732331657283)\n",
      "eps: 1.0\n",
      "minarea: 1.0\n"
     ]
    },
    {
     "name": "stderr",
     "output_type": "stream",
     "text": [
      "Self-intersection at or near point 170.40000000000001 591.20000000000005\n",
      "Self-intersection at or near point 3 298\n",
      "Self-intersection at or near point 2.4344262295081966 210.17213114754099\n",
      "Self-intersection at or near point 531.64285714285711 408.92857142857144\n",
      "Self-intersection at or near point 333.57142857142856 302.71428571428572\n",
      "Self-intersection at or near point 462 98\n",
      "Self-intersection at or near point 542.375 667.625\n",
      "Self-intersection at or near point 0 505\n",
      "Self-intersection at or near point 678.85714285714289 311.14285714285717\n",
      "Ring Self-intersection at or near point 597 664\n",
      "Self-intersection at or near point 747.85714285714289 204.85714285714286\n"
     ]
    },
    {
     "name": "stdout",
     "output_type": "stream",
     "text": [
      "tresh: 0.35 eps: 1.0 minarea: 1.0\n",
      "('Final jaccard', 0.17251255069249136)\n",
      "minarea: 3.0\n"
     ]
    },
    {
     "name": "stderr",
     "output_type": "stream",
     "text": [
      "Self-intersection at or near point 170.40000000000001 591.20000000000005\n",
      "Self-intersection at or near point 3 298\n",
      "Self-intersection at or near point 2.4344262295081966 210.17213114754099\n",
      "Self-intersection at or near point 531.64285714285711 408.92857142857144\n",
      "Self-intersection at or near point 333.57142857142856 302.71428571428572\n",
      "Self-intersection at or near point 462 98\n",
      "Self-intersection at or near point 542.375 667.625\n",
      "Self-intersection at or near point 0 505\n",
      "Self-intersection at or near point 678.85714285714289 311.14285714285717\n",
      "Ring Self-intersection at or near point 597 664\n",
      "Self-intersection at or near point 747.85714285714289 204.85714285714286\n"
     ]
    },
    {
     "name": "stdout",
     "output_type": "stream",
     "text": [
      "tresh: 0.35 eps: 1.0 minarea: 3.0\n",
      "('Final jaccard', 0.17244930162746722)\n",
      "minarea: 10.0\n"
     ]
    },
    {
     "name": "stderr",
     "output_type": "stream",
     "text": [
      "Self-intersection at or near point 170.40000000000001 591.20000000000005\n",
      "Self-intersection at or near point 3 298\n",
      "Self-intersection at or near point 2.4344262295081966 210.17213114754099\n",
      "Self-intersection at or near point 499.5 378.5\n",
      "Self-intersection at or near point 333.57142857142856 302.71428571428572\n",
      "Self-intersection at or near point 462 98\n",
      "Self-intersection at or near point 542.375 667.625\n",
      "Self-intersection at or near point 0 505\n",
      "Self-intersection at or near point 678.85714285714289 311.14285714285717\n",
      "Ring Self-intersection at or near point 597 664\n",
      "Self-intersection at or near point 747.85714285714289 204.85714285714286\n"
     ]
    },
    {
     "name": "stdout",
     "output_type": "stream",
     "text": [
      "tresh: 0.35 eps: 1.0 minarea: 10.0\n",
      "('Final jaccard', 0.17138324371078092)\n",
      "minarea: 15.0\n"
     ]
    },
    {
     "name": "stderr",
     "output_type": "stream",
     "text": [
      "Self-intersection at or near point 170.40000000000001 591.20000000000005\n",
      "Self-intersection at or near point 3 612\n",
      "Self-intersection at or near point 0.42488038277511953 36.681339712918657\n",
      "Self-intersection at or near point 499.5 378.5\n",
      "Self-intersection at or near point 333.57142857142856 302.71428571428572\n",
      "Self-intersection at or near point 462 98\n",
      "Self-intersection at or near point 542.375 667.625\n",
      "Self-intersection at or near point 0 505\n",
      "Self-intersection at or near point 678.85714285714289 311.14285714285717\n",
      "Ring Self-intersection at or near point 597 664\n",
      "Self-intersection at or near point 747.85714285714289 204.85714285714286\n"
     ]
    },
    {
     "name": "stdout",
     "output_type": "stream",
     "text": [
      "tresh: 0.35 eps: 1.0 minarea: 15.0\n",
      "('Final jaccard', 0.16998373886576945)\n",
      "eps: 3.0\n",
      "minarea: 1.0\n"
     ]
    },
    {
     "name": "stderr",
     "output_type": "stream",
     "text": [
      "Self-intersection at or near point 319.40776699029124 481.29126213592235\n",
      "Self-intersection at or near point 782.78947368421052 830.68421052631584\n",
      "Self-intersection at or near point 328.23255813953489 386.2093023255814\n",
      "Ring Self-intersection at or near point 79 437\n",
      "Self-intersection at or near point 779 555\n",
      "Ring Self-intersection at or near point 311 591\n",
      "Self-intersection at or near point 597 664.66666666666663\n"
     ]
    },
    {
     "name": "stdout",
     "output_type": "stream",
     "text": [
      "tresh: 0.35 eps: 3.0 minarea: 1.0\n",
      "('Final jaccard', 0.15939143515744492)\n",
      "minarea: 3.0\n"
     ]
    },
    {
     "name": "stderr",
     "output_type": "stream",
     "text": [
      "Self-intersection at or near point 319.40776699029124 481.29126213592235\n",
      "Self-intersection at or near point 782.78947368421052 830.68421052631584\n",
      "Self-intersection at or near point 328.23255813953489 386.2093023255814\n",
      "Ring Self-intersection at or near point 79 437\n",
      "Self-intersection at or near point 779 555\n",
      "Ring Self-intersection at or near point 311 591\n",
      "Self-intersection at or near point 597 664.66666666666663\n"
     ]
    },
    {
     "name": "stdout",
     "output_type": "stream",
     "text": [
      "tresh: 0.35 eps: 3.0 minarea: 3.0\n",
      "('Final jaccard', 0.15939143515744492)\n",
      "minarea: 10.0\n"
     ]
    },
    {
     "name": "stderr",
     "output_type": "stream",
     "text": [
      "Self-intersection at or near point 319.40776699029124 481.29126213592235\n",
      "Self-intersection at or near point 782.78947368421052 830.68421052631584\n",
      "Self-intersection at or near point 328.23255813953489 386.2093023255814\n",
      "Ring Self-intersection at or near point 79 437\n",
      "Self-intersection at or near point 779 555\n",
      "Ring Self-intersection at or near point 311 591\n",
      "Self-intersection at or near point 597 664.66666666666663\n"
     ]
    },
    {
     "name": "stdout",
     "output_type": "stream",
     "text": [
      "tresh: 0.35 eps: 3.0 minarea: 10.0\n",
      "('Final jaccard', 0.15911326074637852)\n",
      "minarea: 15.0\n"
     ]
    },
    {
     "name": "stderr",
     "output_type": "stream",
     "text": [
      "Self-intersection at or near point 319.40776699029124 481.29126213592235\n",
      "Self-intersection at or near point 782.78947368421052 830.68421052631584\n",
      "Self-intersection at or near point 328.23255813953489 386.2093023255814\n",
      "Ring Self-intersection at or near point 79 437\n",
      "Self-intersection at or near point 779 555\n",
      "Ring Self-intersection at or near point 311 591\n",
      "Self-intersection at or near point 597 664.66666666666663\n"
     ]
    },
    {
     "name": "stdout",
     "output_type": "stream",
     "text": [
      "tresh: 0.35 eps: 3.0 minarea: 15.0\n",
      "('Final jaccard', 0.1576028445705086)\n",
      "tresh: 0.4\n",
      "eps: 0.5\n",
      "minarea: 1.0\n"
     ]
    },
    {
     "name": "stderr",
     "output_type": "stream",
     "text": [
      "Self-intersection at or near point 782.5454545454545 505.81818181818181\n",
      "Self-intersection at or near point 358.09677419354841 453.87096774193549\n",
      "Self-intersection at or near point 2.4344262295081966 210.17213114754099\n",
      "Ring Self-intersection at or near point 78 371\n",
      "Self-intersection at or near point 3 151\n",
      "Self-intersection at or near point 462 98\n",
      "Self-intersection at or near point 277.5 363\n",
      "Self-intersection at or near point 830.00060132291037 832.99879735417915\n",
      "Self-intersection at or near point 515.24000000000001 412.83999999999997\n",
      "Ring Self-intersection at or near point 597 664\n",
      "Self-intersection at or near point 279 833\n",
      "Self-intersection at or near point 0 694\n"
     ]
    },
    {
     "name": "stdout",
     "output_type": "stream",
     "text": [
      "tresh: 0.4 eps: 0.5 minarea: 1.0\n",
      "('Final jaccard', 0.16952888877068578)\n",
      "minarea: 3.0\n"
     ]
    },
    {
     "name": "stderr",
     "output_type": "stream",
     "text": [
      "Self-intersection at or near point 782.5454545454545 505.81818181818181\n",
      "Self-intersection at or near point 358.09677419354841 453.87096774193549\n",
      "Self-intersection at or near point 2.4344262295081966 210.17213114754099\n",
      "Ring Self-intersection at or near point 78 371\n",
      "Self-intersection at or near point 3 151\n",
      "Self-intersection at or near point 462 98\n",
      "Self-intersection at or near point 277.5 363\n",
      "Self-intersection at or near point 830.00060132291037 832.99879735417915\n",
      "Self-intersection at or near point 515.24000000000001 412.83999999999997\n",
      "Ring Self-intersection at or near point 597 664\n",
      "Self-intersection at or near point 279 833\n",
      "Self-intersection at or near point 0 694\n"
     ]
    },
    {
     "name": "stdout",
     "output_type": "stream",
     "text": [
      "tresh: 0.4 eps: 0.5 minarea: 3.0\n",
      "('Final jaccard', 0.16945584787060589)\n",
      "minarea: 10.0\n"
     ]
    },
    {
     "name": "stderr",
     "output_type": "stream",
     "text": [
      "Self-intersection at or near point 3 37\n",
      "Self-intersection at or near point 358.09677419354841 453.87096774193549\n",
      "Self-intersection at or near point 2.4344262295081966 210.17213114754099\n",
      "Ring Self-intersection at or near point 78 371\n",
      "Self-intersection at or near point 3 151\n",
      "Self-intersection at or near point 462 98\n",
      "Self-intersection at or near point 277.5 363\n",
      "Self-intersection at or near point 830.00060132291037 832.99879735417915\n",
      "Self-intersection at or near point 515.24000000000001 412.83999999999997\n",
      "Ring Self-intersection at or near point 597 664\n",
      "Self-intersection at or near point 279 833\n",
      "Self-intersection at or near point 0 694\n"
     ]
    },
    {
     "name": "stdout",
     "output_type": "stream",
     "text": [
      "tresh: 0.4 eps: 0.5 minarea: 10.0\n",
      "('Final jaccard', 0.16845572478241544)\n",
      "minarea: 15.0\n"
     ]
    },
    {
     "name": "stderr",
     "output_type": "stream",
     "text": [
      "Self-intersection at or near point 3 37\n",
      "Self-intersection at or near point 358.09677419354841 453.87096774193549\n",
      "Self-intersection at or near point 0.42488038277511953 36.681339712918657\n",
      "Ring Self-intersection at or near point 78 371\n",
      "Self-intersection at or near point 3 151\n",
      "Self-intersection at or near point 462 98\n",
      "Self-intersection at or near point 277.5 363\n",
      "Self-intersection at or near point 830.00060132291037 832.99879735417915\n",
      "Self-intersection at or near point 515.24000000000001 412.83999999999997\n",
      "Ring Self-intersection at or near point 597 664\n",
      "Ring Self-intersection at or near point 426 760\n",
      "Self-intersection at or near point 0 694\n"
     ]
    },
    {
     "name": "stdout",
     "output_type": "stream",
     "text": [
      "tresh: 0.4 eps: 0.5 minarea: 15.0\n",
      "('Final jaccard', 0.16721413127690368)\n",
      "eps: 1.0\n",
      "minarea: 1.0\n"
     ]
    },
    {
     "name": "stderr",
     "output_type": "stream",
     "text": [
      "Self-intersection at or near point 782.5454545454545 505.81818181818181\n",
      "Self-intersection at or near point 358.09677419354841 453.87096774193549\n",
      "Self-intersection at or near point 2.4344262295081966 210.17213114754099\n",
      "Self-intersection at or near point 532.0322580645161 408.83870967741933\n",
      "Self-intersection at or near point 3 172\n",
      "Self-intersection at or near point 462 98\n",
      "Self-intersection at or near point 343.14285714285717 256.85714285714283\n",
      "Self-intersection at or near point 830.00060132291037 832.99879735417915\n",
      "Self-intersection at or near point 3 691\n",
      "Ring Self-intersection at or near point 597 664\n",
      "Self-intersection at or near point 806 833\n",
      "Self-intersection at or near point 0 694\n"
     ]
    },
    {
     "name": "stdout",
     "output_type": "stream",
     "text": [
      "tresh: 0.4 eps: 1.0 minarea: 1.0\n",
      "('Final jaccard', 0.16815398886250651)\n",
      "minarea: 3.0\n"
     ]
    },
    {
     "name": "stderr",
     "output_type": "stream",
     "text": [
      "Self-intersection at or near point 782.5454545454545 505.81818181818181\n",
      "Self-intersection at or near point 358.09677419354841 453.87096774193549\n",
      "Self-intersection at or near point 2.4344262295081966 210.17213114754099\n",
      "Self-intersection at or near point 532.0322580645161 408.83870967741933\n",
      "Self-intersection at or near point 3 172\n",
      "Self-intersection at or near point 462 98\n",
      "Self-intersection at or near point 343.14285714285717 256.85714285714283\n",
      "Self-intersection at or near point 830.00060132291037 832.99879735417915\n",
      "Self-intersection at or near point 3 691\n",
      "Ring Self-intersection at or near point 597 664\n",
      "Self-intersection at or near point 806 833\n",
      "Self-intersection at or near point 0 694\n"
     ]
    },
    {
     "name": "stdout",
     "output_type": "stream",
     "text": [
      "tresh: 0.4 eps: 1.0 minarea: 3.0\n",
      "('Final jaccard', 0.16808564458585595)\n",
      "minarea: 10.0\n"
     ]
    },
    {
     "name": "stderr",
     "output_type": "stream",
     "text": [
      "Self-intersection at or near point 3 37\n",
      "Self-intersection at or near point 358.09677419354841 453.87096774193549\n",
      "Self-intersection at or near point 2.4344262295081966 210.17213114754099\n",
      "Ring Self-intersection at or near point 374 33\n",
      "Self-intersection at or near point 3 172\n",
      "Self-intersection at or near point 462 98\n",
      "Self-intersection at or near point 343.14285714285717 256.85714285714283\n",
      "Self-intersection at or near point 830.00060132291037 832.99879735417915\n",
      "Self-intersection at or near point 164 831\n",
      "Ring Self-intersection at or near point 597 664\n",
      "Ring Self-intersection at or near point 426 760\n",
      "Self-intersection at or near point 0 694\n"
     ]
    },
    {
     "name": "stdout",
     "output_type": "stream",
     "text": [
      "tresh: 0.4 eps: 1.0 minarea: 10.0\n",
      "('Final jaccard', 0.1670299895404734)\n",
      "minarea: 15.0\n"
     ]
    },
    {
     "name": "stderr",
     "output_type": "stream",
     "text": [
      "Self-intersection at or near point 3 37\n",
      "Self-intersection at or near point 358.09677419354841 453.87096774193549\n",
      "Self-intersection at or near point 0.42488038277511953 36.681339712918657\n",
      "Ring Self-intersection at or near point 374 33\n",
      "Self-intersection at or near point 3 172\n",
      "Self-intersection at or near point 462 98\n",
      "Self-intersection at or near point 343.14285714285717 256.85714285714283\n",
      "Self-intersection at or near point 830.00060132291037 832.99879735417915\n",
      "Self-intersection at or near point 356 288\n",
      "Ring Self-intersection at or near point 597 664\n",
      "Ring Self-intersection at or near point 426 760\n",
      "Self-intersection at or near point 0 694\n"
     ]
    },
    {
     "name": "stdout",
     "output_type": "stream",
     "text": [
      "tresh: 0.4 eps: 1.0 minarea: 15.0\n",
      "('Final jaccard', 0.16560408058499243)\n",
      "eps: 3.0\n",
      "minarea: 1.0\n"
     ]
    },
    {
     "name": "stderr",
     "output_type": "stream",
     "text": [
      "Self-intersection at or near point 319.40776699029124 481.29126213592235\n",
      "Self-intersection at or near point 781.66960352422905 830.70044052863432\n",
      "Self-intersection at or near point 373.8840579710145 32.739130434782609\n",
      "Ring Self-intersection at or near point 79 437\n",
      "Self-intersection at or near point 792.96721311475414 573.22950819672133\n",
      "Self-intersection at or near point 82.800720288115244 832.09963985594243\n",
      "Self-intersection at or near point 576 754\n",
      "Self-intersection at or near point 824.71428571428567 196.71428571428572\n"
     ]
    },
    {
     "name": "stdout",
     "output_type": "stream",
     "text": [
      "tresh: 0.4 eps: 3.0 minarea: 1.0\n",
      "('Final jaccard', 0.15882332987013334)\n",
      "minarea: 3.0\n"
     ]
    },
    {
     "name": "stderr",
     "output_type": "stream",
     "text": [
      "Self-intersection at or near point 319.40776699029124 481.29126213592235\n",
      "Self-intersection at or near point 781.66960352422905 830.70044052863432\n",
      "Self-intersection at or near point 373.8840579710145 32.739130434782609\n",
      "Ring Self-intersection at or near point 79 437\n",
      "Self-intersection at or near point 792.96721311475414 573.22950819672133\n",
      "Self-intersection at or near point 82.800720288115244 832.09963985594243\n",
      "Self-intersection at or near point 576 754\n",
      "Self-intersection at or near point 824.71428571428567 196.71428571428572\n"
     ]
    },
    {
     "name": "stdout",
     "output_type": "stream",
     "text": [
      "tresh: 0.4 eps: 3.0 minarea: 3.0\n",
      "('Final jaccard', 0.15882332987013334)\n",
      "minarea: 10.0\n"
     ]
    },
    {
     "name": "stderr",
     "output_type": "stream",
     "text": [
      "Self-intersection at or near point 319.40776699029124 481.29126213592235\n",
      "Self-intersection at or near point 781.66960352422905 830.70044052863432\n",
      "Self-intersection at or near point 373.8840579710145 32.739130434782609\n",
      "Ring Self-intersection at or near point 79 437\n",
      "Self-intersection at or near point 792.96721311475414 573.22950819672133\n",
      "Self-intersection at or near point 82.800720288115244 832.09963985594243\n",
      "Self-intersection at or near point 576 754\n",
      "Self-intersection at or near point 824.71428571428567 196.71428571428572\n"
     ]
    },
    {
     "name": "stdout",
     "output_type": "stream",
     "text": [
      "tresh: 0.4 eps: 3.0 minarea: 10.0\n",
      "('Final jaccard', 0.15854737599505256)\n",
      "minarea: 15.0\n"
     ]
    },
    {
     "name": "stderr",
     "output_type": "stream",
     "text": [
      "Self-intersection at or near point 319.40776699029124 481.29126213592235\n",
      "Self-intersection at or near point 781.66960352422905 830.70044052863432\n",
      "Self-intersection at or near point 373.8840579710145 32.739130434782609\n",
      "Ring Self-intersection at or near point 79 437\n",
      "Self-intersection at or near point 792.96721311475414 573.22950819672133\n",
      "Self-intersection at or near point 82.800720288115244 832.09963985594243\n",
      "Self-intersection at or near point 576 754\n",
      "Self-intersection at or near point 824.71428571428567 196.71428571428572\n"
     ]
    },
    {
     "name": "stdout",
     "output_type": "stream",
     "text": [
      "tresh: 0.4 eps: 3.0 minarea: 15.0\n",
      "('Final jaccard', 0.1569945771932456)\n",
      "tresh: 0.45\n",
      "eps: 0.5\n",
      "minarea: 1.0\n"
     ]
    },
    {
     "name": "stderr",
     "output_type": "stream",
     "text": [
      "Self-intersection at or near point 782 506\n",
      "Self-intersection at or near point 3 230\n",
      "Self-intersection at or near point 2.4344262295081966 210.17213114754099\n",
      "Ring Self-intersection at or near point 211 365\n",
      "Self-intersection at or near point 3 151\n",
      "Self-intersection at or near point 815.27272727272725 762.90909090909088\n",
      "Self-intersection at or near point 81 249\n",
      "Self-intersection at or near point 3 91\n",
      "Self-intersection at or near point 830.00060132291037 832.99879735417915\n",
      "Self-intersection at or near point 515.24000000000001 412.83999999999997\n",
      "Self-intersection at or near point 597 664\n",
      "Self-intersection at or near point 279 833\n",
      "Self-intersection at or near point 0 694\n"
     ]
    },
    {
     "name": "stdout",
     "output_type": "stream",
     "text": [
      "tresh: 0.45 eps: 0.5 minarea: 1.0\n",
      "('Final jaccard', 0.16862696333380228)\n",
      "minarea: 3.0\n"
     ]
    },
    {
     "name": "stderr",
     "output_type": "stream",
     "text": [
      "Self-intersection at or near point 319.40776699029124 481.29126213592235\n",
      "Self-intersection at or near point 3 230\n",
      "Self-intersection at or near point 2.4344262295081966 210.17213114754099\n",
      "Ring Self-intersection at or near point 211 365\n",
      "Self-intersection at or near point 3 151\n",
      "Self-intersection at or near point 815.11111111111109 763.11111111111109\n",
      "Self-intersection at or near point 81 249\n",
      "Self-intersection at or near point 3 91\n",
      "Self-intersection at or near point 830.00060132291037 832.99879735417915\n",
      "Self-intersection at or near point 515.24000000000001 412.83999999999997\n",
      "Self-intersection at or near point 597 664\n",
      "Self-intersection at or near point 279 833\n",
      "Self-intersection at or near point 0 694\n"
     ]
    },
    {
     "name": "stdout",
     "output_type": "stream",
     "text": [
      "tresh: 0.45 eps: 0.5 minarea: 3.0\n",
      "('Final jaccard', 0.16855094913885182)\n",
      "minarea: 10.0\n"
     ]
    },
    {
     "name": "stderr",
     "output_type": "stream",
     "text": [
      "Self-intersection at or near point 319.40776699029124 481.29126213592235\n",
      "Self-intersection at or near point 3 230\n",
      "Self-intersection at or near point 2.4344262295081966 210.17213114754099\n",
      "Ring Self-intersection at or near point 211 365\n",
      "Self-intersection at or near point 3 151\n",
      "Self-intersection at or near point 472.41176470588238 412.05882352941177\n",
      "Self-intersection at or near point 81 249\n",
      "Self-intersection at or near point 3 91\n",
      "Self-intersection at or near point 830.00060132291037 832.99879735417915\n",
      "Self-intersection at or near point 515.24000000000001 412.83999999999997\n",
      "Self-intersection at or near point 597 664\n",
      "Self-intersection at or near point 816 61\n",
      "Self-intersection at or near point 0 694\n"
     ]
    },
    {
     "name": "stdout",
     "output_type": "stream",
     "text": [
      "tresh: 0.45 eps: 0.5 minarea: 10.0\n",
      "('Final jaccard', 0.16750847212180126)\n",
      "minarea: 15.0\n"
     ]
    },
    {
     "name": "stderr",
     "output_type": "stream",
     "text": [
      "Self-intersection at or near point 319.40776699029124 481.29126213592235\n",
      "Self-intersection at or near point 3 230\n",
      "Self-intersection at or near point 0.48046875 41.48046875\n",
      "Ring Self-intersection at or near point 211 365\n",
      "Self-intersection at or near point 3 151\n",
      "Self-intersection at or near point 472.41176470588238 412.05882352941177\n",
      "Self-intersection at or near point 81 249\n",
      "Self-intersection at or near point 3 91\n",
      "Self-intersection at or near point 830.00060132291037 832.99879735417915\n",
      "Self-intersection at or near point 515.24000000000001 412.83999999999997\n",
      "Self-intersection at or near point 597 664\n",
      "Self-intersection at or near point 816 61\n",
      "Self-intersection at or near point 0 694\n"
     ]
    },
    {
     "name": "stdout",
     "output_type": "stream",
     "text": [
      "tresh: 0.45 eps: 0.5 minarea: 15.0\n",
      "('Final jaccard', 0.16623642770863242)\n",
      "eps: 1.0\n",
      "minarea: 1.0\n"
     ]
    },
    {
     "name": "stderr",
     "output_type": "stream",
     "text": [
      "Self-intersection at or near point 319.40776699029124 481.29126213592235\n",
      "Self-intersection at or near point 3 527\n",
      "Self-intersection at or near point 2.4344262295081966 210.17213114754099\n",
      "Self-intersection at or near point 532.0322580645161 408.83870967741933\n",
      "Self-intersection at or near point 3 172\n",
      "Self-intersection at or near point 472.77777777777777 412.11111111111109\n",
      "Self-intersection at or near point 341.39999999999998 256.10000000000002\n",
      "Self-intersection at or near point 830.00060132291037 832.99879735417915\n",
      "Self-intersection at or near point 165 831\n",
      "Self-intersection at or near point 597 664\n",
      "Self-intersection at or near point 286 833\n",
      "Self-intersection at or near point 0 694\n"
     ]
    },
    {
     "name": "stdout",
     "output_type": "stream",
     "text": [
      "tresh: 0.45 eps: 1.0 minarea: 1.0\n",
      "('Final jaccard', 0.16717469969026072)\n",
      "minarea: 3.0\n"
     ]
    },
    {
     "name": "stderr",
     "output_type": "stream",
     "text": [
      "Self-intersection at or near point 319.40776699029124 481.29126213592235\n",
      "Self-intersection at or near point 3 527\n",
      "Self-intersection at or near point 2.4344262295081966 210.17213114754099\n",
      "Self-intersection at or near point 532.0322580645161 408.83870967741933\n",
      "Self-intersection at or near point 3 172\n",
      "Self-intersection at or near point 472.77777777777777 412.11111111111109\n",
      "Self-intersection at or near point 341 255.5\n",
      "Self-intersection at or near point 830.00060132291037 832.99879735417915\n",
      "Self-intersection at or near point 165 831\n",
      "Self-intersection at or near point 597 664\n",
      "Self-intersection at or near point 286 833\n",
      "Self-intersection at or near point 0 694\n"
     ]
    },
    {
     "name": "stdout",
     "output_type": "stream",
     "text": [
      "tresh: 0.45 eps: 1.0 minarea: 3.0\n",
      "('Final jaccard', 0.16710302531539908)\n",
      "minarea: 10.0\n"
     ]
    },
    {
     "name": "stderr",
     "output_type": "stream",
     "text": [
      "Self-intersection at or near point 319.40776699029124 481.29126213592235\n",
      "Self-intersection at or near point 3 527\n",
      "Self-intersection at or near point 2.4344262295081966 210.17213114754099\n",
      "Ring Self-intersection at or near point 211 365\n",
      "Self-intersection at or near point 3 172\n",
      "Self-intersection at or near point 472.77777777777777 412.11111111111109\n",
      "Self-intersection at or near point 341.39999999999998 256.10000000000002\n",
      "Self-intersection at or near point 830.00060132291037 832.99879735417915\n",
      "Self-intersection at or near point 597 664\n",
      "Self-intersection at or near point 754 282\n",
      "Self-intersection at or near point 0 694\n"
     ]
    },
    {
     "name": "stdout",
     "output_type": "stream",
     "text": [
      "tresh: 0.45 eps: 1.0 minarea: 10.0\n",
      "('Final jaccard', 0.1659691921872426)\n",
      "minarea: 15.0\n"
     ]
    },
    {
     "name": "stderr",
     "output_type": "stream",
     "text": [
      "Self-intersection at or near point 319.40776699029124 481.29126213592235\n",
      "Self-intersection at or near point 3 613\n",
      "Self-intersection at or near point 0.42366412213740468 36.576335877862597\n",
      "Ring Self-intersection at or near point 211 365\n",
      "Self-intersection at or near point 3 172\n",
      "Self-intersection at or near point 472.77777777777777 412.11111111111109\n",
      "Self-intersection at or near point 341 255.5\n",
      "Self-intersection at or near point 830.00060132291037 832.99879735417915\n",
      "Self-intersection at or near point 597 664\n",
      "Self-intersection at or near point 754 282\n",
      "Self-intersection at or near point 0 694\n"
     ]
    },
    {
     "name": "stdout",
     "output_type": "stream",
     "text": [
      "tresh: 0.45 eps: 1.0 minarea: 15.0\n",
      "('Final jaccard', 0.16457045856641905)\n",
      "eps: 3.0\n",
      "minarea: 1.0\n"
     ]
    },
    {
     "name": "stderr",
     "output_type": "stream",
     "text": [
      "Self-intersection at or near point 319.40776699029124 481.29126213592235\n",
      "Self-intersection at or near point 824.62400000000002 830.16800000000001\n",
      "Self-intersection at or near point 373.91176470588238 32.705882352941174\n",
      "Ring Self-intersection at or near point 79 437\n",
      "Self-intersection at or near point 791.29032258064512 565.29032258064512\n",
      "Self-intersection at or near point 82.800720288115244 832.09963985594243\n",
      "Ring Self-intersection at or near point 239 755\n"
     ]
    },
    {
     "name": "stdout",
     "output_type": "stream",
     "text": [
      "tresh: 0.45 eps: 3.0 minarea: 1.0\n",
      "('Final jaccard', 0.158531810457515)\n",
      "minarea: 3.0\n"
     ]
    },
    {
     "name": "stderr",
     "output_type": "stream",
     "text": [
      "Self-intersection at or near point 319.40776699029124 481.29126213592235\n",
      "Self-intersection at or near point 462 831\n",
      "Self-intersection at or near point 373.91176470588238 32.705882352941174\n",
      "Ring Self-intersection at or near point 79 437\n",
      "Self-intersection at or near point 791.29032258064512 565.29032258064512\n",
      "Self-intersection at or near point 82.800720288115244 832.09963985594243\n",
      "Ring Self-intersection at or near point 239 755\n"
     ]
    },
    {
     "name": "stdout",
     "output_type": "stream",
     "text": [
      "tresh: 0.45 eps: 3.0 minarea: 3.0\n",
      "('Final jaccard', 0.15853405213685887)\n",
      "minarea: 10.0\n"
     ]
    },
    {
     "name": "stderr",
     "output_type": "stream",
     "text": [
      "Self-intersection at or near point 319.40776699029124 481.29126213592235\n",
      "Self-intersection at or near point 462 831\n",
      "Self-intersection at or near point 373.91176470588238 32.705882352941174\n",
      "Ring Self-intersection at or near point 79 437\n",
      "Self-intersection at or near point 791.29032258064512 565.29032258064512\n",
      "Self-intersection at or near point 82.800720288115244 832.09963985594243\n",
      "Ring Self-intersection at or near point 239 755\n"
     ]
    },
    {
     "name": "stdout",
     "output_type": "stream",
     "text": [
      "tresh: 0.45 eps: 3.0 minarea: 10.0\n",
      "('Final jaccard', 0.15823921918587813)\n",
      "minarea: 15.0\n"
     ]
    },
    {
     "name": "stderr",
     "output_type": "stream",
     "text": [
      "Self-intersection at or near point 319.40776699029124 481.29126213592235\n",
      "Self-intersection at or near point 462 831\n",
      "Self-intersection at or near point 373.91176470588238 32.705882352941174\n",
      "Ring Self-intersection at or near point 79 437\n",
      "Self-intersection at or near point 791.06506024096382 564.56626506024099\n",
      "Self-intersection at or near point 82.800720288115244 832.09963985594243\n",
      "Ring Self-intersection at or near point 239 755\n",
      "Self-intersection at or near point 380.66666666666669 831.33333333333337\n"
     ]
    },
    {
     "name": "stdout",
     "output_type": "stream",
     "text": [
      "tresh: 0.45 eps: 3.0 minarea: 15.0\n",
      "('Final jaccard', 0.15659428351250132)\n",
      "6\n",
      "tresh: 0.15\n",
      "eps: 0.5\n",
      "minarea: 1.0\n"
     ]
    },
    {
     "name": "stderr",
     "output_type": "stream",
     "text": [
      "Self-intersection at or near point 392.18181818181819 169.27272727272728\n",
      "Self-intersection at or near point 795.94594594594594 0.054054054054054057\n",
      "Self-intersection at or near point 689.97058823529414 811.70588235294122\n",
      "Self-intersection at or near point 758.88888888888891 382.11111111111109\n",
      "Self-intersection at or near point 154 493.80000000000001\n",
      "Self-intersection at or near point 457.03225806451616 0.032258064516129059\n",
      "Self-intersection at or near point 0 356\n",
      "Self-intersection at or near point 793 267\n",
      "Self-intersection at or near point 274.71428571428572 738.14285714285711\n",
      "Self-intersection at or near point 817.55555555555554 464.22222222222223\n",
      "Self-intersection at or near point 567.85714285714289 154.85714285714286\n",
      "Self-intersection at or near point 486.63636363636363 665.27272727272725\n",
      "Self-intersection at or near point 789 737.20000000000005\n",
      "Self-intersection at or near point 154.59999999999999 753.60000000000002\n"
     ]
    },
    {
     "name": "stdout",
     "output_type": "stream",
     "text": [
      "tresh: 0.15 eps: 0.5 minarea: 1.0\n",
      "('Final jaccard', 0.3105520146529045)\n",
      "minarea: 3.0\n"
     ]
    },
    {
     "name": "stderr",
     "output_type": "stream",
     "text": [
      "Self-intersection at or near point 392.18181818181819 169.27272727272728\n",
      "Self-intersection at or near point 795.94594594594594 0.054054054054054057\n",
      "Self-intersection at or near point 689.97058823529414 811.70588235294122\n",
      "Self-intersection at or near point 758.88888888888891 382.11111111111109\n",
      "Self-intersection at or near point 154 493.80000000000001\n",
      "Self-intersection at or near point 457.03225806451616 0.032258064516129059\n",
      "Self-intersection at or near point 0 356\n",
      "Self-intersection at or near point 793 267\n",
      "Self-intersection at or near point 274.71428571428572 738.14285714285711\n",
      "Self-intersection at or near point 817.55555555555554 464.22222222222223\n",
      "Self-intersection at or near point 567.85714285714289 154.85714285714286\n",
      "Self-intersection at or near point 486.63636363636363 665.27272727272725\n",
      "Self-intersection at or near point 789 737.20000000000005\n",
      "Self-intersection at or near point 154.76470588235293 754.58823529411768\n"
     ]
    },
    {
     "name": "stdout",
     "output_type": "stream",
     "text": [
      "tresh: 0.15 eps: 0.5 minarea: 3.0\n",
      "('Final jaccard', 0.3105540875029873)\n",
      "minarea: 10.0\n"
     ]
    },
    {
     "name": "stderr",
     "output_type": "stream",
     "text": [
      "Self-intersection at or near point 392.18181818181819 169.27272727272728\n",
      "Self-intersection at or near point 795.94594594594594 0.054054054054054057\n",
      "Self-intersection at or near point 689.97058823529414 811.70588235294122\n",
      "Self-intersection at or near point 758.88888888888891 382.11111111111109\n",
      "Self-intersection at or near point 154 493.80000000000001\n",
      "Self-intersection at or near point 457.03225806451616 0.032258064516129059\n",
      "Self-intersection at or near point 525 257\n",
      "Self-intersection at or near point 793 267\n",
      "Self-intersection at or near point 274.71428571428572 738.14285714285711\n",
      "Self-intersection at or near point 817.55555555555554 464.22222222222223\n",
      "Self-intersection at or near point 300 442\n",
      "Self-intersection at or near point 486.63636363636363 665.27272727272725\n",
      "Self-intersection at or near point 789 737.20000000000005\n",
      "Self-intersection at or near point 154.76470588235293 754.58823529411768\n"
     ]
    },
    {
     "name": "stdout",
     "output_type": "stream",
     "text": [
      "tresh: 0.15 eps: 0.5 minarea: 10.0\n",
      "('Final jaccard', 0.31058071748047766)\n",
      "minarea: 15.0\n"
     ]
    },
    {
     "name": "stderr",
     "output_type": "stream",
     "text": [
      "Self-intersection at or near point 392.18181818181819 169.27272727272728\n",
      "Self-intersection at or near point 795.94594594594594 0.054054054054054057\n",
      "Self-intersection at or near point 689.97058823529414 811.70588235294122\n",
      "Self-intersection at or near point 758.88888888888891 382.11111111111109\n",
      "Self-intersection at or near point 154 493.80000000000001\n",
      "Self-intersection at or near point 457.03225806451616 0.032258064516129059\n",
      "Self-intersection at or near point 525 257\n",
      "Self-intersection at or near point 793 267\n",
      "Self-intersection at or near point 274.71428571428572 738.14285714285711\n",
      "Self-intersection at or near point 817.55555555555554 464.22222222222223\n",
      "Self-intersection at or near point 300 442\n",
      "Self-intersection at or near point 486.63636363636363 665.27272727272725\n",
      "Self-intersection at or near point 789 737.20000000000005\n",
      "Self-intersection at or near point 380.66666666666669 831.33333333333337\n"
     ]
    },
    {
     "name": "stdout",
     "output_type": "stream",
     "text": [
      "tresh: 0.15 eps: 0.5 minarea: 15.0\n",
      "('Final jaccard', 0.3106246680905425)\n",
      "eps: 1.0\n",
      "minarea: 1.0\n"
     ]
    },
    {
     "name": "stderr",
     "output_type": "stream",
     "text": [
      "Self-intersection at or near point 392.18181818181819 169.27272727272728\n",
      "Self-intersection at or near point 541.39999999999998 54.533333333333331\n",
      "Self-intersection at or near point 650.5 445.375\n",
      "Self-intersection at or near point 759.39130434782612 382.6521739130435\n",
      "Self-intersection at or near point 154 493.80000000000001\n",
      "Self-intersection at or near point 0 748\n",
      "Self-intersection at or near point 582.88235294117646 612.17647058823525\n",
      "Self-intersection at or near point 793 267\n",
      "Self-intersection at or near point 274.64999999999998 738.10000000000002\n",
      "Self-intersection at or near point 817.75 463.75\n",
      "Self-intersection at or near point 567.79999999999995 155.19999999999999\n",
      "Self-intersection at or near point 486.63636363636363 665.27272727272725\n",
      "Self-intersection at or near point 789 737.20000000000005\n",
      "Self-intersection at or near point 154.76470588235293 754.58823529411768\n"
     ]
    },
    {
     "name": "stdout",
     "output_type": "stream",
     "text": [
      "tresh: 0.15 eps: 1.0 minarea: 1.0\n",
      "('Final jaccard', 0.3107951793251902)\n",
      "minarea: 3.0\n"
     ]
    },
    {
     "name": "stderr",
     "output_type": "stream",
     "text": [
      "Self-intersection at or near point 392.18181818181819 169.27272727272728\n",
      "Self-intersection at or near point 541.39999999999998 54.533333333333331\n",
      "Self-intersection at or near point 650.5 445.375\n",
      "Self-intersection at or near point 759.39130434782612 382.6521739130435\n",
      "Self-intersection at or near point 154 493.80000000000001\n",
      "Self-intersection at or near point 0 748\n",
      "Self-intersection at or near point 582.88235294117646 612.17647058823525\n",
      "Self-intersection at or near point 793 267\n",
      "Self-intersection at or near point 274.64999999999998 738.10000000000002\n",
      "Self-intersection at or near point 817.75 463.75\n",
      "Self-intersection at or near point 567.79999999999995 155.19999999999999\n",
      "Self-intersection at or near point 486.63636363636363 665.27272727272725\n",
      "Self-intersection at or near point 789 737.20000000000005\n",
      "Self-intersection at or near point 154.76470588235293 754.58823529411768\n"
     ]
    },
    {
     "name": "stdout",
     "output_type": "stream",
     "text": [
      "tresh: 0.15 eps: 1.0 minarea: 3.0\n",
      "('Final jaccard', 0.3107968369474499)\n",
      "minarea: 10.0\n"
     ]
    },
    {
     "name": "stderr",
     "output_type": "stream",
     "text": [
      "Self-intersection at or near point 392.18181818181819 169.27272727272728\n",
      "Self-intersection at or near point 541.39999999999998 54.533333333333331\n",
      "Self-intersection at or near point 650.5 445.375\n",
      "Self-intersection at or near point 759.39130434782612 382.6521739130435\n",
      "Self-intersection at or near point 154 493.80000000000001\n",
      "Self-intersection at or near point 0 748\n",
      "Self-intersection at or near point 582.88235294117646 612.17647058823525\n",
      "Self-intersection at or near point 793 267\n",
      "Self-intersection at or near point 274.64999999999998 738.10000000000002\n",
      "Self-intersection at or near point 817.75 463.75\n",
      "Self-intersection at or near point 300 442\n",
      "Self-intersection at or near point 486.63636363636363 665.27272727272725\n",
      "Self-intersection at or near point 789 737.20000000000005\n",
      "Self-intersection at or near point 154.59999999999999 753.60000000000002\n"
     ]
    },
    {
     "name": "stdout",
     "output_type": "stream",
     "text": [
      "tresh: 0.15 eps: 1.0 minarea: 10.0\n",
      "('Final jaccard', 0.3108286764927419)\n",
      "minarea: 15.0\n"
     ]
    },
    {
     "name": "stderr",
     "output_type": "stream",
     "text": [
      "Self-intersection at or near point 392.18181818181819 169.27272727272728\n",
      "Self-intersection at or near point 541.39999999999998 54.533333333333331\n",
      "Self-intersection at or near point 650.5 445.375\n",
      "Self-intersection at or near point 759.39130434782612 382.6521739130435\n",
      "Self-intersection at or near point 154 493.80000000000001\n",
      "Self-intersection at or near point 0 748\n",
      "Self-intersection at or near point 582.88235294117646 612.17647058823525\n",
      "Self-intersection at or near point 793 267\n",
      "Self-intersection at or near point 274.64999999999998 738.10000000000002\n",
      "Self-intersection at or near point 817.78947368421052 464.10526315789474\n",
      "Self-intersection at or near point 300 442\n",
      "Self-intersection at or near point 486.63636363636363 665.27272727272725\n",
      "Self-intersection at or near point 789 737.20000000000005\n",
      "Self-intersection at or near point 49.846153846153847 577.30769230769226\n",
      "Ring Self-intersection at or near point 132 0\n"
     ]
    },
    {
     "name": "stdout",
     "output_type": "stream",
     "text": [
      "tresh: 0.15 eps: 1.0 minarea: 15.0\n",
      "('Final jaccard', 0.3108698082401895)\n",
      "eps: 3.0\n",
      "minarea: 1.0\n"
     ]
    },
    {
     "name": "stderr",
     "output_type": "stream",
     "text": [
      "Self-intersection at or near point 541.13521126760565 54.12676056338028\n",
      "Self-intersection at or near point 655.89922480620157 544.60465116279067\n",
      "Self-intersection at or near point 75.847457627118644 460.10169491525426\n",
      "Self-intersection at or near point 63.819209039548021 112.38983050847457\n",
      "Self-intersection at or near point 582.24166666666667 611.45833333333337\n",
      "Self-intersection at or near point 794.20000000000005 267\n",
      "Self-intersection at or near point 262.12244897959181 737.38775510204084\n",
      "Self-intersection at or near point 745.92941176470583 138.15294117647059\n",
      "Self-intersection at or near point 459 301\n",
      "Self-intersection at or near point 368.76119402985074 420.59701492537312\n",
      "Self-intersection at or near point 777.08421052631581 546.8105263157895\n",
      "Self-intersection at or near point 49.846153846153847 577.30769230769226\n",
      "Ring Self-intersection at or near point 132 0\n"
     ]
    },
    {
     "name": "stdout",
     "output_type": "stream",
     "text": [
      "tresh: 0.15 eps: 3.0 minarea: 1.0\n",
      "('Final jaccard', 0.3115575561753572)\n",
      "minarea: 3.0\n"
     ]
    },
    {
     "name": "stderr",
     "output_type": "stream",
     "text": [
      "Self-intersection at or near point 541.13521126760565 54.12676056338028\n",
      "Self-intersection at or near point 655.89922480620157 544.60465116279067\n",
      "Self-intersection at or near point 75.847457627118644 460.10169491525426\n",
      "Self-intersection at or near point 63.819209039548021 112.38983050847457\n",
      "Self-intersection at or near point 582.24166666666667 611.45833333333337\n",
      "Self-intersection at or near point 794.20000000000005 267\n",
      "Self-intersection at or near point 262.12244897959181 737.38775510204084\n",
      "Self-intersection at or near point 745.92941176470583 138.15294117647059\n",
      "Self-intersection at or near point 459 301\n",
      "Self-intersection at or near point 368.76119402985074 420.59701492537312\n",
      "Self-intersection at or near point 777.08421052631581 546.8105263157895\n",
      "Self-intersection at or near point 49.846153846153847 577.30769230769226\n",
      "Ring Self-intersection at or near point 132 0\n"
     ]
    },
    {
     "name": "stdout",
     "output_type": "stream",
     "text": [
      "tresh: 0.15 eps: 3.0 minarea: 3.0\n",
      "('Final jaccard', 0.3115575561753572)\n",
      "minarea: 10.0\n"
     ]
    },
    {
     "name": "stderr",
     "output_type": "stream",
     "text": [
      "Self-intersection at or near point 541.13521126760565 54.12676056338028\n",
      "Self-intersection at or near point 655.89922480620157 544.60465116279067\n",
      "Self-intersection at or near point 75.847457627118644 460.10169491525426\n",
      "Self-intersection at or near point 63.819209039548021 112.38983050847457\n",
      "Self-intersection at or near point 582.24166666666667 611.45833333333337\n",
      "Self-intersection at or near point 794.20000000000005 267\n",
      "Self-intersection at or near point 262.12244897959181 737.38775510204084\n",
      "Self-intersection at or near point 745.92941176470583 138.15294117647059\n",
      "Self-intersection at or near point 459 301\n",
      "Self-intersection at or near point 368.76119402985074 420.59701492537312\n",
      "Self-intersection at or near point 777.08421052631581 546.8105263157895\n",
      "Self-intersection at or near point 49.846153846153847 577.30769230769226\n",
      "Ring Self-intersection at or near point 132 0\n"
     ]
    },
    {
     "name": "stdout",
     "output_type": "stream",
     "text": [
      "tresh: 0.15 eps: 3.0 minarea: 10.0\n",
      "('Final jaccard', 0.31156190504017806)\n",
      "minarea: 15.0\n"
     ]
    },
    {
     "name": "stderr",
     "output_type": "stream",
     "text": [
      "Self-intersection at or near point 541.13521126760565 54.12676056338028\n",
      "Self-intersection at or near point 655.89922480620157 544.60465116279067\n",
      "Self-intersection at or near point 75.847457627118644 460.10169491525426\n",
      "Self-intersection at or near point 62.479166666666664 110.5625\n",
      "Self-intersection at or near point 582.24166666666667 611.45833333333337\n",
      "Self-intersection at or near point 794.20000000000005 267\n",
      "Self-intersection at or near point 262.12244897959181 737.38775510204084\n",
      "Self-intersection at or near point 745.92941176470583 138.15294117647059\n",
      "Self-intersection at or near point 368.76119402985074 420.59701492537312\n",
      "Self-intersection at or near point 777.08421052631581 546.8105263157895\n",
      "Self-intersection at or near point 828.75 455.75\n"
     ]
    },
    {
     "name": "stdout",
     "output_type": "stream",
     "text": [
      "tresh: 0.15 eps: 3.0 minarea: 15.0\n",
      "('Final jaccard', 0.3115956875901847)\n",
      "tresh: 0.2\n",
      "eps: 0.5\n",
      "minarea: 1.0\n"
     ]
    },
    {
     "name": "stderr",
     "output_type": "stream",
     "text": [
      "Self-intersection at or near point 131 33\n",
      "Self-intersection at or near point 795.94594594594594 0.054054054054054057\n",
      "Self-intersection at or near point 689.97058823529414 811.70588235294122\n",
      "Self-intersection at or near point 758.88888888888891 382.11111111111109\n",
      "Self-intersection at or near point 154 493.80000000000001\n",
      "Self-intersection at or near point 457.03225806451616 0.032258064516129059\n",
      "Self-intersection at or near point 590.39999999999998 286.60000000000002\n",
      "Self-intersection at or near point 793 267\n",
      "Self-intersection at or near point 274.71428571428572 738.14285714285711\n",
      "Self-intersection at or near point 499.66666666666669 733.33333333333337\n",
      "Self-intersection at or near point 464.5 300.5\n",
      "Self-intersection at or near point 486.63636363636363 665.27272727272725\n",
      "Self-intersection at or near point 826.71428571428567 2.1428571428571428\n",
      "Self-intersection at or near point 828.75 455.75\n"
     ]
    },
    {
     "name": "stdout",
     "output_type": "stream",
     "text": [
      "tresh: 0.2 eps: 0.5 minarea: 1.0\n",
      "('Final jaccard', 0.32849312817807763)\n",
      "minarea: 3.0\n"
     ]
    },
    {
     "name": "stderr",
     "output_type": "stream",
     "text": [
      "Self-intersection at or near point 131 33\n",
      "Self-intersection at or near point 795.94594594594594 0.054054054054054057\n",
      "Self-intersection at or near point 689.97058823529414 811.70588235294122\n",
      "Self-intersection at or near point 758.88888888888891 382.11111111111109\n",
      "Self-intersection at or near point 154 493.80000000000001\n",
      "Self-intersection at or near point 457.03225806451616 0.032258064516129059\n",
      "Self-intersection at or near point 590.39999999999998 286.60000000000002\n",
      "Self-intersection at or near point 793 267\n",
      "Self-intersection at or near point 274.71428571428572 738.14285714285711\n",
      "Self-intersection at or near point 499.66666666666669 733.33333333333337\n",
      "Self-intersection at or near point 464.5 300.5\n",
      "Self-intersection at or near point 486.63636363636363 665.27272727272725\n",
      "Self-intersection at or near point 826.71428571428567 2.1428571428571428\n",
      "Self-intersection at or near point 828.75 455.75\n"
     ]
    },
    {
     "name": "stdout",
     "output_type": "stream",
     "text": [
      "tresh: 0.2 eps: 0.5 minarea: 3.0\n",
      "('Final jaccard', 0.32849521170946666)\n",
      "minarea: 10.0\n"
     ]
    },
    {
     "name": "stderr",
     "output_type": "stream",
     "text": [
      "Self-intersection at or near point 131 33\n",
      "Self-intersection at or near point 795.94594594594594 0.054054054054054057\n",
      "Self-intersection at or near point 689.97058823529414 811.70588235294122\n",
      "Self-intersection at or near point 758.88888888888891 382.11111111111109\n",
      "Self-intersection at or near point 154 493.80000000000001\n",
      "Self-intersection at or near point 457.03225806451616 0.032258064516129059\n",
      "Self-intersection at or near point 590.39999999999998 286.60000000000002\n",
      "Self-intersection at or near point 793 267\n",
      "Self-intersection at or near point 274.71428571428572 738.14285714285711\n",
      "Self-intersection at or near point 499.66666666666669 733.33333333333337\n",
      "Self-intersection at or near point 464.5 300.5\n",
      "Self-intersection at or near point 486.63636363636363 665.27272727272725\n",
      "Self-intersection at or near point 694.02941176470586 707.79411764705878\n",
      "Self-intersection at or near point 828.75 455.75\n"
     ]
    },
    {
     "name": "stdout",
     "output_type": "stream",
     "text": [
      "tresh: 0.2 eps: 0.5 minarea: 10.0\n",
      "('Final jaccard', 0.32852432604051246)\n",
      "minarea: 15.0\n"
     ]
    },
    {
     "name": "stderr",
     "output_type": "stream",
     "text": [
      "Self-intersection at or near point 131 33\n",
      "Self-intersection at or near point 795.94594594594594 0.054054054054054057\n",
      "Self-intersection at or near point 689.97058823529414 811.70588235294122\n",
      "Self-intersection at or near point 758.88888888888891 382.11111111111109\n",
      "Self-intersection at or near point 154 493.80000000000001\n",
      "Self-intersection at or near point 457.03225806451616 0.032258064516129059\n",
      "Self-intersection at or near point 590.39999999999998 286.60000000000002\n",
      "Self-intersection at or near point 793 267\n",
      "Self-intersection at or near point 274.71428571428572 738.14285714285711\n",
      "Self-intersection at or near point 499.66666666666669 733.33333333333337\n",
      "Self-intersection at or near point 789 209\n",
      "Self-intersection at or near point 486.63636363636363 665.27272727272725\n",
      "Self-intersection at or near point 694.02941176470586 707.79411764705878\n",
      "Self-intersection at or near point 828.75 455.75\n"
     ]
    },
    {
     "name": "stdout",
     "output_type": "stream",
     "text": [
      "tresh: 0.2 eps: 0.5 minarea: 15.0\n",
      "('Final jaccard', 0.3285708685286776)\n",
      "eps: 1.0\n",
      "minarea: 1.0\n"
     ]
    },
    {
     "name": "stderr",
     "output_type": "stream",
     "text": [
      "Self-intersection at or near point 208 111\n",
      "Self-intersection at or near point 288 229\n",
      "Self-intersection at or near point 235 426\n",
      "Self-intersection at or near point 759.39130434782612 382.6521739130435\n",
      "Self-intersection at or near point 154 493.80000000000001\n",
      "Self-intersection at or near point 457.01600000000002 0.031999999999999973\n",
      "Self-intersection at or near point 590.39999999999998 286.60000000000002\n",
      "Self-intersection at or near point 793 267\n",
      "Self-intersection at or near point 274.64999999999998 738.10000000000002\n",
      "Self-intersection at or near point 499.73333333333335 733.4666666666667\n",
      "Self-intersection at or near point 790 204\n",
      "Self-intersection at or near point 486.63636363636363 665.27272727272725\n",
      "Self-intersection at or near point 694.02941176470586 707.79411764705878\n",
      "Self-intersection at or near point 828.75 455.75\n"
     ]
    },
    {
     "name": "stdout",
     "output_type": "stream",
     "text": [
      "tresh: 0.2 eps: 1.0 minarea: 1.0\n",
      "('Final jaccard', 0.32864990985932124)\n",
      "minarea: 3.0\n"
     ]
    },
    {
     "name": "stderr",
     "output_type": "stream",
     "text": [
      "Self-intersection at or near point 208 111\n",
      "Self-intersection at or near point 288 229\n",
      "Self-intersection at or near point 235 426\n",
      "Self-intersection at or near point 759.39130434782612 382.6521739130435\n",
      "Self-intersection at or near point 154 493.80000000000001\n",
      "Self-intersection at or near point 457.01600000000002 0.031999999999999973\n",
      "Self-intersection at or near point 581.88888888888891 619.44444444444446\n",
      "Self-intersection at or near point 793 267\n",
      "Self-intersection at or near point 274.64999999999998 738.10000000000002\n",
      "Self-intersection at or near point 499.73333333333335 733.4666666666667\n",
      "Self-intersection at or near point 790 204\n",
      "Self-intersection at or near point 486.63636363636363 665.27272727272725\n",
      "Self-intersection at or near point 694.02941176470586 707.79411764705878\n",
      "Self-intersection at or near point 828.75 455.75\n"
     ]
    },
    {
     "name": "stdout",
     "output_type": "stream",
     "text": [
      "tresh: 0.2 eps: 1.0 minarea: 3.0\n",
      "('Final jaccard', 0.32865129220311096)\n",
      "minarea: 10.0\n"
     ]
    },
    {
     "name": "stderr",
     "output_type": "stream",
     "text": [
      "Self-intersection at or near point 208 111\n",
      "Self-intersection at or near point 288 229\n",
      "Self-intersection at or near point 235 426\n",
      "Self-intersection at or near point 759.39130434782612 382.6521739130435\n",
      "Self-intersection at or near point 154 493.80000000000001\n",
      "Self-intersection at or near point 457.01600000000002 0.031999999999999973\n",
      "Self-intersection at or near point 590.39999999999998 286.60000000000002\n",
      "Self-intersection at or near point 793 267\n",
      "Self-intersection at or near point 274.64999999999998 738.10000000000002\n",
      "Self-intersection at or near point 499.73333333333335 733.4666666666667\n",
      "Self-intersection at or near point 790 204\n",
      "Self-intersection at or near point 486.63636363636363 665.27272727272725\n",
      "Self-intersection at or near point 694.02941176470586 707.79411764705878\n",
      "Self-intersection at or near point 828.75 455.75\n"
     ]
    },
    {
     "name": "stdout",
     "output_type": "stream",
     "text": [
      "tresh: 0.2 eps: 1.0 minarea: 10.0\n",
      "('Final jaccard', 0.32868145365677237)\n",
      "minarea: 15.0\n"
     ]
    },
    {
     "name": "stderr",
     "output_type": "stream",
     "text": [
      "Self-intersection at or near point 208 111\n",
      "Self-intersection at or near point 288 229\n",
      "Self-intersection at or near point 235 426\n",
      "Self-intersection at or near point 759.39130434782612 382.6521739130435\n",
      "Self-intersection at or near point 154 493.80000000000001\n",
      "Self-intersection at or near point 457.01600000000002 0.031999999999999973\n",
      "Self-intersection at or near point 590.39999999999998 286.60000000000002\n",
      "Self-intersection at or near point 793 267\n",
      "Self-intersection at or near point 274.64999999999998 738.10000000000002\n",
      "Self-intersection at or near point 499.73333333333335 733.4666666666667\n",
      "Self-intersection at or near point 790 204\n",
      "Self-intersection at or near point 486.63636363636363 665.27272727272725\n",
      "Self-intersection at or near point 694.02941176470586 707.79411764705878\n",
      "Ring Self-intersection at or near point 61 788\n",
      "Ring Self-intersection at or near point 471 17\n"
     ]
    },
    {
     "name": "stdout",
     "output_type": "stream",
     "text": [
      "tresh: 0.2 eps: 1.0 minarea: 15.0\n",
      "('Final jaccard', 0.32872880676312605)\n",
      "eps: 3.0\n",
      "minarea: 1.0\n"
     ]
    },
    {
     "name": "stderr",
     "output_type": "stream",
     "text": [
      "Self-intersection at or near point 655.89922480620157 544.60465116279067\n",
      "Self-intersection at or near point 39.703557312252961 687.42292490118575\n",
      "Self-intersection at or near point 62.479166666666664 110.5625\n",
      "Self-intersection at or near point 581.44444444444446 620.22222222222217\n",
      "Self-intersection at or near point 793.66666666666663 267\n",
      "Self-intersection at or near point 262.12244897959181 737.38775510204084\n",
      "Self-intersection at or near point 745.86813186813185 138.28571428571428\n",
      "Self-intersection at or near point 368.76119402985074 420.59701492537312\n",
      "Self-intersection at or near point 146.42857142857142 83\n",
      "Ring Self-intersection at or near point 61 788\n",
      "Ring Self-intersection at or near point 471 17\n"
     ]
    },
    {
     "name": "stdout",
     "output_type": "stream",
     "text": [
      "tresh: 0.2 eps: 3.0 minarea: 1.0\n",
      "('Final jaccard', 0.3293258684206933)\n",
      "minarea: 3.0\n"
     ]
    },
    {
     "name": "stderr",
     "output_type": "stream",
     "text": [
      "Self-intersection at or near point 655.89922480620157 544.60465116279067\n",
      "Self-intersection at or near point 39.703557312252961 687.42292490118575\n",
      "Self-intersection at or near point 62.479166666666664 110.5625\n",
      "Self-intersection at or near point 581.44444444444446 620.22222222222217\n",
      "Self-intersection at or near point 793.66666666666663 267\n",
      "Self-intersection at or near point 262.12244897959181 737.38775510204084\n",
      "Self-intersection at or near point 745.86813186813185 138.28571428571428\n",
      "Self-intersection at or near point 368.76119402985074 420.59701492537312\n",
      "Self-intersection at or near point 146.42857142857142 83\n",
      "Ring Self-intersection at or near point 61 788\n",
      "Ring Self-intersection at or near point 471 17\n"
     ]
    },
    {
     "name": "stdout",
     "output_type": "stream",
     "text": [
      "tresh: 0.2 eps: 3.0 minarea: 3.0\n",
      "('Final jaccard', 0.3293258684206933)\n",
      "minarea: 10.0\n"
     ]
    },
    {
     "name": "stderr",
     "output_type": "stream",
     "text": [
      "Self-intersection at or near point 655.89922480620157 544.60465116279067\n",
      "Self-intersection at or near point 39.703557312252961 687.42292490118575\n",
      "Self-intersection at or near point 62.479166666666664 110.5625\n",
      "Self-intersection at or near point 581.44444444444446 620.22222222222217\n",
      "Self-intersection at or near point 793.66666666666663 267\n",
      "Self-intersection at or near point 262.12244897959181 737.38775510204084\n",
      "Self-intersection at or near point 745.86813186813185 138.28571428571428\n",
      "Self-intersection at or near point 368.76119402985074 420.59701492537312\n",
      "Self-intersection at or near point 146.42857142857142 83\n",
      "Ring Self-intersection at or near point 61 788\n",
      "Ring Self-intersection at or near point 471 17\n"
     ]
    },
    {
     "name": "stdout",
     "output_type": "stream",
     "text": [
      "tresh: 0.2 eps: 3.0 minarea: 10.0\n",
      "('Final jaccard', 0.3293326861148123)\n",
      "minarea: 15.0\n"
     ]
    },
    {
     "name": "stderr",
     "output_type": "stream",
     "text": [
      "Self-intersection at or near point 655.89922480620157 544.60465116279067\n",
      "Self-intersection at or near point 39.703557312252961 687.42292490118575\n",
      "Self-intersection at or near point 63.819209039548021 112.38983050847457\n",
      "Self-intersection at or near point 581.44444444444446 620.22222222222217\n",
      "Self-intersection at or near point 793.66666666666663 267\n",
      "Self-intersection at or near point 262.12244897959181 737.38775510204084\n",
      "Self-intersection at or near point 745.86813186813185 138.28571428571428\n",
      "Self-intersection at or near point 368.76119402985074 420.59701492537312\n",
      "Self-intersection at or near point 146.42857142857142 83\n",
      "Self-intersection at or near point 828.75 455.75\n"
     ]
    },
    {
     "name": "stdout",
     "output_type": "stream",
     "text": [
      "tresh: 0.2 eps: 3.0 minarea: 15.0\n",
      "('Final jaccard', 0.329366810089715)\n",
      "tresh: 0.25\n",
      "eps: 0.5\n",
      "minarea: 1.0\n"
     ]
    },
    {
     "name": "stderr",
     "output_type": "stream",
     "text": [
      "Self-intersection at or near point 334.75 12.125\n",
      "Self-intersection at or near point 795.94594594594594 0.054054054054054057\n",
      "Self-intersection at or near point 789.64705882352939 458.52941176470586\n",
      "Self-intersection at or near point 736.39999999999998 32.600000000000001\n",
      "Self-intersection at or near point 154 493.80000000000001\n",
      "Self-intersection at or near point 491.14285714285717 278.21428571428572\n",
      "Self-intersection at or near point 714.16666666666663 795.16666666666663\n",
      "Self-intersection at or near point 320 212\n",
      "Self-intersection at or near point 274.71428571428572 738.14285714285711\n",
      "Self-intersection at or near point 465.5 125.75\n",
      "Self-intersection at or near point 464.5 300.5\n",
      "Self-intersection at or near point 486.63636363636363 665.27272727272725\n",
      "Self-intersection at or near point 826.71428571428567 2.1428571428571428\n",
      "Self-intersection at or near point 828.75 455.75\n"
     ]
    },
    {
     "name": "stdout",
     "output_type": "stream",
     "text": [
      "tresh: 0.25 eps: 0.5 minarea: 1.0\n",
      "('Final jaccard', 0.3284502691138602)\n",
      "minarea: 3.0\n"
     ]
    },
    {
     "name": "stderr",
     "output_type": "stream",
     "text": [
      "Self-intersection at or near point 334.75 12.125\n",
      "Self-intersection at or near point 795.94594594594594 0.054054054054054057\n",
      "Self-intersection at or near point 789.64705882352939 458.52941176470586\n",
      "Self-intersection at or near point 793 153\n",
      "Self-intersection at or near point 154 493.80000000000001\n",
      "Self-intersection at or near point 491.14285714285717 278.21428571428572\n",
      "Self-intersection at or near point 714.16666666666663 795.16666666666663\n",
      "Self-intersection at or near point 320 212\n",
      "Self-intersection at or near point 274.71428571428572 738.14285714285711\n",
      "Self-intersection at or near point 465.5 125.75\n",
      "Self-intersection at or near point 464.5 300.5\n",
      "Self-intersection at or near point 486.63636363636363 665.27272727272725\n",
      "Self-intersection at or near point 826.71428571428567 2.1428571428571428\n",
      "Self-intersection at or near point 828.75 455.75\n"
     ]
    },
    {
     "name": "stdout",
     "output_type": "stream",
     "text": [
      "tresh: 0.25 eps: 0.5 minarea: 3.0\n",
      "('Final jaccard', 0.32845215736602834)\n",
      "minarea: 10.0\n"
     ]
    },
    {
     "name": "stderr",
     "output_type": "stream",
     "text": [
      "Self-intersection at or near point 334.85714285714283 11.857142857142858\n",
      "Self-intersection at or near point 795.94594594594594 0.054054054054054057\n",
      "Self-intersection at or near point 789.64705882352939 458.52941176470586\n",
      "Self-intersection at or near point 793 153\n",
      "Self-intersection at or near point 154 493.80000000000001\n",
      "Self-intersection at or near point 491.14285714285717 278.21428571428572\n",
      "Self-intersection at or near point 714.16666666666663 795.16666666666663\n",
      "Self-intersection at or near point 320 212\n",
      "Self-intersection at or near point 274.71428571428572 738.14285714285711\n",
      "Self-intersection at or near point 465.5 125.75\n",
      "Self-intersection at or near point 464.5 300.5\n",
      "Self-intersection at or near point 486.63636363636363 665.27272727272725\n",
      "Self-intersection at or near point 694.02941176470586 707.79411764705878\n",
      "Self-intersection at or near point 828.75 455.75\n"
     ]
    },
    {
     "name": "stdout",
     "output_type": "stream",
     "text": [
      "tresh: 0.25 eps: 0.5 minarea: 10.0\n",
      "('Final jaccard', 0.3284934050589107)\n",
      "minarea: 15.0\n"
     ]
    },
    {
     "name": "stderr",
     "output_type": "stream",
     "text": [
      "Self-intersection at or near point 334.85714285714283 11.857142857142858\n",
      "Self-intersection at or near point 795.94594594594594 0.054054054054054057\n",
      "Self-intersection at or near point 789.64705882352939 458.52941176470586\n",
      "Self-intersection at or near point 793 153\n",
      "Self-intersection at or near point 154 493.80000000000001\n",
      "Self-intersection at or near point 457.04761904761904 0.047619047619047616\n",
      "Self-intersection at or near point 714.16666666666663 795.16666666666663\n",
      "Self-intersection at or near point 320 212\n",
      "Self-intersection at or near point 274.71428571428572 738.14285714285711\n",
      "Self-intersection at or near point 465.5 125.75\n",
      "Self-intersection at or near point 464.5 300.5\n",
      "Self-intersection at or near point 486.63636363636363 665.27272727272725\n",
      "Self-intersection at or near point 694.02941176470586 707.79411764705878\n",
      "Self-intersection at or near point 828.75 455.75\n"
     ]
    },
    {
     "name": "stdout",
     "output_type": "stream",
     "text": [
      "tresh: 0.25 eps: 0.5 minarea: 15.0\n",
      "('Final jaccard', 0.32853365476538565)\n",
      "eps: 1.0\n",
      "minarea: 1.0\n"
     ]
    },
    {
     "name": "stderr",
     "output_type": "stream",
     "text": [
      "Self-intersection at or near point 334.75 12.125\n",
      "Self-intersection at or near point 806.39999999999998 191.13333333333333\n",
      "Self-intersection at or near point 791.16666666666663 458.83333333333331\n",
      "Self-intersection at or near point 813 416\n",
      "Self-intersection at or near point 154 493.80000000000001\n",
      "Self-intersection at or near point 491.14285714285717 278.21428571428572\n",
      "Self-intersection at or near point 714.15254237288138 795.20338983050851\n",
      "Self-intersection at or near point 354 526\n",
      "Self-intersection at or near point 274.71428571428572 738.14285714285711\n",
      "Self-intersection at or near point 465.5 125.75\n",
      "Self-intersection at or near point 830 56\n",
      "Self-intersection at or near point 486.63636363636363 665.27272727272725\n",
      "Self-intersection at or near point 694.02941176470586 707.79411764705878\n",
      "Self-intersection at or near point 828.75 455.75\n"
     ]
    },
    {
     "name": "stdout",
     "output_type": "stream",
     "text": [
      "tresh: 0.25 eps: 1.0 minarea: 1.0\n",
      "('Final jaccard', 0.32869206765062076)\n",
      "minarea: 3.0\n"
     ]
    },
    {
     "name": "stderr",
     "output_type": "stream",
     "text": [
      "Self-intersection at or near point 334.75 12.125\n",
      "Self-intersection at or near point 806.39999999999998 191.13333333333333\n",
      "Self-intersection at or near point 791.16666666666663 458.83333333333331\n",
      "Self-intersection at or near point 813 416\n",
      "Self-intersection at or near point 154 493.80000000000001\n",
      "Self-intersection at or near point 491.14285714285717 278.21428571428572\n",
      "Self-intersection at or near point 714.15254237288138 795.20338983050851\n",
      "Self-intersection at or near point 354 526\n",
      "Self-intersection at or near point 274.71428571428572 738.14285714285711\n",
      "Self-intersection at or near point 465.5 125.75\n",
      "Self-intersection at or near point 830 56\n",
      "Self-intersection at or near point 486.63636363636363 665.27272727272725\n",
      "Self-intersection at or near point 694.02941176470586 707.79411764705878\n",
      "Self-intersection at or near point 828.75 455.75\n"
     ]
    },
    {
     "name": "stdout",
     "output_type": "stream",
     "text": [
      "tresh: 0.25 eps: 1.0 minarea: 3.0\n",
      "('Final jaccard', 0.32869297029270245)\n",
      "minarea: 10.0\n"
     ]
    },
    {
     "name": "stderr",
     "output_type": "stream",
     "text": [
      "Self-intersection at or near point 334.75 12.125\n",
      "Self-intersection at or near point 30.333333333333332 47.333333333333336\n",
      "Self-intersection at or near point 791.16666666666663 458.83333333333331\n",
      "Self-intersection at or near point 813 416\n",
      "Self-intersection at or near point 154 493.80000000000001\n",
      "Self-intersection at or near point 491.14285714285717 278.21428571428572\n",
      "Self-intersection at or near point 714.15254237288138 795.20338983050851\n",
      "Self-intersection at or near point 354 526\n",
      "Self-intersection at or near point 274.71428571428572 738.14285714285711\n",
      "Self-intersection at or near point 465.5 125.75\n",
      "Ring Self-intersection at or near point 55 814\n",
      "Self-intersection at or near point 486.63636363636363 665.27272727272725\n",
      "Self-intersection at or near point 694.02941176470586 707.79411764705878\n",
      "Self-intersection at or near point 828.75 455.75\n"
     ]
    },
    {
     "name": "stdout",
     "output_type": "stream",
     "text": [
      "tresh: 0.25 eps: 1.0 minarea: 10.0\n",
      "('Final jaccard', 0.3287362850273823)\n",
      "minarea: 15.0\n"
     ]
    },
    {
     "name": "stderr",
     "output_type": "stream",
     "text": [
      "Self-intersection at or near point 334.85714285714283 11.857142857142858\n",
      "Self-intersection at or near point 30.333333333333332 47.333333333333336\n",
      "Self-intersection at or near point 791.16666666666663 458.83333333333331\n",
      "Self-intersection at or near point 813 416\n",
      "Self-intersection at or near point 154 493.80000000000001\n",
      "Self-intersection at or near point 457.02362204724409 0.047244094488189003\n",
      "Self-intersection at or near point 714.15254237288138 795.20338983050851\n",
      "Ring Self-intersection at or near point 542 292\n",
      "Self-intersection at or near point 274.71428571428572 738.14285714285711\n",
      "Self-intersection at or near point 465.5 125.75\n",
      "Ring Self-intersection at or near point 55 814\n",
      "Self-intersection at or near point 486.63636363636363 665.27272727272725\n",
      "Self-intersection at or near point 694.02941176470586 707.79411764705878\n",
      "Ring Self-intersection at or near point 61 788\n",
      "Self-intersection at or near point 334.9375 12.75\n"
     ]
    },
    {
     "name": "stdout",
     "output_type": "stream",
     "text": [
      "tresh: 0.25 eps: 1.0 minarea: 15.0\n",
      "('Final jaccard', 0.3287770848234016)\n",
      "eps: 3.0\n",
      "minarea: 1.0\n"
     ]
    },
    {
     "name": "stderr",
     "output_type": "stream",
     "text": [
      "Self-intersection at or near point 680 106.14285714285714\n",
      "Self-intersection at or near point 655.89922480620157 544.60465116279067\n",
      "Self-intersection at or near point 62.306122448979593 111.08163265306122\n",
      "Self-intersection at or near point 581.42553191489367 620.25531914893622\n",
      "Self-intersection at or near point 19.352941176470587 536.08235294117651\n",
      "Self-intersection at or near point 508.07142857142856 5.1785714285714288\n",
      "Self-intersection at or near point 313.90909090909093 407.72727272727275\n",
      "Self-intersection at or near point 406.75438596491227 98.78947368421052\n",
      "Ring Self-intersection at or near point 61 788\n",
      "Self-intersection at or near point 334.9375 12.75\n"
     ]
    },
    {
     "name": "stdout",
     "output_type": "stream",
     "text": [
      "tresh: 0.25 eps: 3.0 minarea: 1.0\n",
      "('Final jaccard', 0.3293585830853758)\n",
      "minarea: 3.0\n"
     ]
    },
    {
     "name": "stderr",
     "output_type": "stream",
     "text": [
      "Self-intersection at or near point 680 106.14285714285714\n",
      "Self-intersection at or near point 655.89922480620157 544.60465116279067\n",
      "Self-intersection at or near point 62.306122448979593 111.08163265306122\n",
      "Self-intersection at or near point 581.42553191489367 620.25531914893622\n",
      "Self-intersection at or near point 19.352941176470587 536.08235294117651\n",
      "Self-intersection at or near point 508.07142857142856 5.1785714285714288\n",
      "Self-intersection at or near point 313.90909090909093 407.72727272727275\n",
      "Self-intersection at or near point 406.75438596491227 98.78947368421052\n",
      "Ring Self-intersection at or near point 61 788\n",
      "Self-intersection at or near point 334.83003952569169 14.039525691699605\n"
     ]
    },
    {
     "name": "stdout",
     "output_type": "stream",
     "text": [
      "tresh: 0.25 eps: 3.0 minarea: 3.0\n",
      "('Final jaccard', 0.3293585830853758)\n",
      "minarea: 10.0\n"
     ]
    },
    {
     "name": "stderr",
     "output_type": "stream",
     "text": [
      "Self-intersection at or near point 680 106.14285714285714\n",
      "Self-intersection at or near point 655.89922480620157 544.60465116279067\n",
      "Self-intersection at or near point 63.099476439790578 112.23560209424083\n",
      "Self-intersection at or near point 581.42553191489367 620.25531914893622\n",
      "Self-intersection at or near point 19.352941176470587 536.08235294117651\n",
      "Self-intersection at or near point 508.07142857142856 5.1785714285714288\n",
      "Self-intersection at or near point 313.90909090909093 407.72727272727275\n",
      "Self-intersection at or near point 406.75438596491227 98.78947368421052\n",
      "Ring Self-intersection at or near point 61 788\n",
      "Self-intersection at or near point 334.83003952569169 14.039525691699605\n"
     ]
    },
    {
     "name": "stdout",
     "output_type": "stream",
     "text": [
      "tresh: 0.25 eps: 3.0 minarea: 10.0\n",
      "('Final jaccard', 0.3293656743685615)\n",
      "minarea: 15.0\n"
     ]
    },
    {
     "name": "stderr",
     "output_type": "stream",
     "text": [
      "Self-intersection at or near point 680 106.14285714285714\n",
      "Self-intersection at or near point 655.89922480620157 544.60465116279067\n",
      "Self-intersection at or near point 62.306122448979593 111.08163265306122\n",
      "Self-intersection at or near point 581.42553191489367 620.25531914893622\n",
      "Self-intersection at or near point 19.352941176470587 536.08235294117651\n",
      "Self-intersection at or near point 508.07142857142856 5.1785714285714288\n",
      "Self-intersection at or near point 313.90909090909093 407.72727272727275\n",
      "Self-intersection at or near point 406.75438596491227 98.78947368421052\n",
      "Self-intersection at or near point 828.75 455.75\n"
     ]
    },
    {
     "name": "stdout",
     "output_type": "stream",
     "text": [
      "tresh: 0.25 eps: 3.0 minarea: 15.0\n",
      "('Final jaccard', 0.3293979763793715)\n",
      "tresh: 0.3\n",
      "eps: 0.5\n",
      "minarea: 1.0\n"
     ]
    },
    {
     "name": "stderr",
     "output_type": "stream",
     "text": [
      "Self-intersection at or near point 414 10.333333333333334\n",
      "Self-intersection at or near point 795.94594594594594 0.054054054054054057\n",
      "Self-intersection at or near point 789.64705882352939 458.52941176470586\n",
      "Self-intersection at or near point 736.39999999999998 32.600000000000001\n",
      "Ring Self-intersection at or near point 175 476\n",
      "Self-intersection at or near point 491.14285714285717 278.21428571428572\n",
      "Self-intersection at or near point 714.18367346938771 795.12244897959181\n",
      "Self-intersection at or near point 1 20\n",
      "Self-intersection at or near point 281.72727272727275 629.90909090909088\n",
      "Self-intersection at or near point 465.5 125.75\n",
      "Self-intersection at or near point 464.5 300.5\n",
      "Self-intersection at or near point 471.14999999999998 674.10000000000002\n",
      "Self-intersection at or near point 826.71428571428567 2.1428571428571428\n",
      "Self-intersection at or near point 828.75 455.75\n"
     ]
    },
    {
     "name": "stdout",
     "output_type": "stream",
     "text": [
      "tresh: 0.3 eps: 0.5 minarea: 1.0\n",
      "('Final jaccard', 0.3283853396998099)\n",
      "minarea: 3.0\n"
     ]
    },
    {
     "name": "stderr",
     "output_type": "stream",
     "text": [
      "Self-intersection at or near point 414 10.333333333333334\n",
      "Self-intersection at or near point 795.94594594594594 0.054054054054054057\n",
      "Self-intersection at or near point 789.64705882352939 458.52941176470586\n",
      "Self-intersection at or near point 793 153\n",
      "Ring Self-intersection at or near point 175 476\n",
      "Self-intersection at or near point 491.14285714285717 278.21428571428572\n",
      "Self-intersection at or near point 714.18367346938771 795.12244897959181\n",
      "Self-intersection at or near point 1 20\n",
      "Self-intersection at or near point 281.72727272727275 629.90909090909088\n",
      "Self-intersection at or near point 465.5 125.75\n",
      "Self-intersection at or near point 464.5 300.5\n",
      "Self-intersection at or near point 471.14999999999998 674.10000000000002\n",
      "Self-intersection at or near point 826.71428571428567 2.1428571428571428\n",
      "Self-intersection at or near point 828.75 455.75\n"
     ]
    },
    {
     "name": "stdout",
     "output_type": "stream",
     "text": [
      "tresh: 0.3 eps: 0.5 minarea: 3.0\n",
      "('Final jaccard', 0.32838713380653384)\n",
      "minarea: 10.0\n"
     ]
    },
    {
     "name": "stderr",
     "output_type": "stream",
     "text": [
      "Self-intersection at or near point 414 10.333333333333334\n",
      "Self-intersection at or near point 795.94594594594594 0.054054054054054057\n",
      "Self-intersection at or near point 789.64705882352939 458.52941176470586\n",
      "Self-intersection at or near point 793 153\n",
      "Ring Self-intersection at or near point 175 476\n",
      "Self-intersection at or near point 491.14285714285717 278.21428571428572\n",
      "Self-intersection at or near point 714.18367346938771 795.12244897959181\n",
      "Self-intersection at or near point 1 20\n",
      "Self-intersection at or near point 281.72727272727275 629.90909090909088\n",
      "Self-intersection at or near point 465.5 125.75\n",
      "Self-intersection at or near point 464.5 300.5\n",
      "Self-intersection at or near point 471.14999999999998 674.10000000000002\n",
      "Self-intersection at or near point 696 705.33333333333337\n",
      "Self-intersection at or near point 828.75 455.75\n"
     ]
    },
    {
     "name": "stdout",
     "output_type": "stream",
     "text": [
      "tresh: 0.3 eps: 0.5 minarea: 10.0\n",
      "('Final jaccard', 0.3284238006835731)\n",
      "minarea: 15.0\n"
     ]
    },
    {
     "name": "stderr",
     "output_type": "stream",
     "text": [
      "Self-intersection at or near point 414 10.333333333333334\n",
      "Self-intersection at or near point 795.94594594594594 0.054054054054054057\n",
      "Self-intersection at or near point 789.64705882352939 458.52941176470586\n",
      "Self-intersection at or near point 793 153\n",
      "Ring Self-intersection at or near point 175 476\n",
      "Self-intersection at or near point 457.04761904761904 0.047619047619047616\n",
      "Self-intersection at or near point 714.18367346938771 795.12244897959181\n",
      "Self-intersection at or near point 1 20\n",
      "Self-intersection at or near point 274.71428571428572 738.14285714285711\n",
      "Self-intersection at or near point 465.5 125.75\n",
      "Self-intersection at or near point 464.5 300.5\n",
      "Self-intersection at or near point 471.14999999999998 674.10000000000002\n",
      "Self-intersection at or near point 696 705.33333333333337\n",
      "Self-intersection at or near point 828.75 455.75\n"
     ]
    },
    {
     "name": "stdout",
     "output_type": "stream",
     "text": [
      "tresh: 0.3 eps: 0.5 minarea: 15.0\n",
      "('Final jaccard', 0.3284706809899549)\n",
      "eps: 1.0\n",
      "minarea: 1.0\n"
     ]
    },
    {
     "name": "stderr",
     "output_type": "stream",
     "text": [
      "Self-intersection at or near point 414.29411764705884 10.235294117647058\n",
      "Self-intersection at or near point 288 229\n",
      "Self-intersection at or near point 790.875 458.625\n",
      "Ring Self-intersection at or near point 789 95\n",
      "Ring Self-intersection at or near point 175 476\n",
      "Self-intersection at or near point 491.14285714285717 278.21428571428572\n",
      "Self-intersection at or near point 714.18367346938771 795.12244897959181\n",
      "Self-intersection at or near point 379 422\n",
      "Self-intersection at or near point 281.86956521739131 629.95652173913038\n",
      "Self-intersection at or near point 465.5 125.75\n",
      "Self-intersection at or near point 830 56\n",
      "Self-intersection at or near point 471.14999999999998 674.10000000000002\n",
      "Self-intersection at or near point 696 705.33333333333337\n",
      "Self-intersection at or near point 828.75 455.75\n"
     ]
    },
    {
     "name": "stdout",
     "output_type": "stream",
     "text": [
      "tresh: 0.3 eps: 1.0 minarea: 1.0\n",
      "('Final jaccard', 0.3286501879811019)\n",
      "minarea: 3.0\n"
     ]
    },
    {
     "name": "stderr",
     "output_type": "stream",
     "text": [
      "Self-intersection at or near point 414.29411764705884 10.235294117647058\n",
      "Self-intersection at or near point 288 229\n",
      "Self-intersection at or near point 790.875 458.625\n",
      "Ring Self-intersection at or near point 789 95\n",
      "Ring Self-intersection at or near point 175 476\n",
      "Self-intersection at or near point 491.14285714285717 278.21428571428572\n",
      "Self-intersection at or near point 714.18367346938771 795.12244897959181\n",
      "Self-intersection at or near point 379 422\n",
      "Self-intersection at or near point 281.86956521739131 629.95652173913038\n",
      "Self-intersection at or near point 465.5 125.75\n",
      "Self-intersection at or near point 830 56\n",
      "Self-intersection at or near point 471.14999999999998 674.10000000000002\n",
      "Self-intersection at or near point 696 705.33333333333337\n",
      "Self-intersection at or near point 828.75 455.75\n"
     ]
    },
    {
     "name": "stdout",
     "output_type": "stream",
     "text": [
      "tresh: 0.3 eps: 1.0 minarea: 3.0\n",
      "('Final jaccard', 0.32865134827841985)\n",
      "minarea: 10.0\n"
     ]
    },
    {
     "name": "stderr",
     "output_type": "stream",
     "text": [
      "Self-intersection at or near point 414.29411764705884 10.235294117647058\n",
      "Self-intersection at or near point 288 229\n",
      "Self-intersection at or near point 790.875 458.625\n",
      "Ring Self-intersection at or near point 789 95\n",
      "Ring Self-intersection at or near point 175 476\n",
      "Self-intersection at or near point 491.14285714285717 278.21428571428572\n",
      "Self-intersection at or near point 714.18367346938771 795.12244897959181\n",
      "Self-intersection at or near point 379 422\n",
      "Self-intersection at or near point 281.86956521739131 629.95652173913038\n",
      "Self-intersection at or near point 465.5 125.75\n",
      "Ring Self-intersection at or near point 673 389\n",
      "Self-intersection at or near point 471.14999999999998 674.10000000000002\n",
      "Self-intersection at or near point 696 705.33333333333337\n",
      "Self-intersection at or near point 828.75 455.75\n"
     ]
    },
    {
     "name": "stdout",
     "output_type": "stream",
     "text": [
      "tresh: 0.3 eps: 1.0 minarea: 10.0\n",
      "('Final jaccard', 0.3286885953808463)\n",
      "minarea: 15.0\n"
     ]
    },
    {
     "name": "stderr",
     "output_type": "stream",
     "text": [
      "Self-intersection at or near point 414.29411764705884 10.235294117647058\n",
      "Self-intersection at or near point 288 229\n",
      "Self-intersection at or near point 790.875 458.625\n",
      "Ring Self-intersection at or near point 789 95\n",
      "Ring Self-intersection at or near point 175 476\n",
      "Self-intersection at or near point 457.02362204724409 0.047244094488189003\n",
      "Self-intersection at or near point 714.18367346938771 795.12244897959181\n",
      "Self-intersection at or near point 379 422\n",
      "Self-intersection at or near point 274.66666666666669 738.11111111111109\n",
      "Self-intersection at or near point 465.5 125.75\n",
      "Ring Self-intersection at or near point 673 389\n",
      "Self-intersection at or near point 471.14999999999998 674.10000000000002\n",
      "Self-intersection at or near point 696 705.33333333333337\n",
      "Self-intersection at or near point 215.73469387755102 749.81632653061229\n",
      "Self-intersection at or near point 500.625 169.125\n"
     ]
    },
    {
     "name": "stdout",
     "output_type": "stream",
     "text": [
      "tresh: 0.3 eps: 1.0 minarea: 15.0\n",
      "('Final jaccard', 0.32873834250891465)\n",
      "eps: 3.0\n",
      "minarea: 1.0\n"
     ]
    },
    {
     "name": "stderr",
     "output_type": "stream",
     "text": [
      "Self-intersection at or near point 796.17567567567562 659.16216216216219\n",
      "Self-intersection at or near point 83.025423728813564 396.69491525423729\n",
      "Self-intersection at or near point 63.099476439790578 112.23560209424083\n",
      "Self-intersection at or near point 725.84615384615381 704.46153846153845\n",
      "Self-intersection at or near point 19.352941176470587 536.08235294117651\n",
      "Self-intersection at or near point 507.26086956521738 5.0434782608695654\n",
      "Self-intersection at or near point 558.35135135135135 116.05405405405405\n",
      "Self-intersection at or near point 682.27397260273972 768.79452054794524\n",
      "Self-intersection at or near point 215.73469387755102 749.81632653061229\n",
      "Self-intersection at or near point 500.625 169.125\n"
     ]
    },
    {
     "name": "stdout",
     "output_type": "stream",
     "text": [
      "tresh: 0.3 eps: 3.0 minarea: 1.0\n",
      "('Final jaccard', 0.3292713132715866)\n",
      "minarea: 3.0\n"
     ]
    },
    {
     "name": "stderr",
     "output_type": "stream",
     "text": [
      "Self-intersection at or near point 796.17567567567562 659.16216216216219\n",
      "Self-intersection at or near point 83.025423728813564 396.69491525423729\n",
      "Self-intersection at or near point 63.099476439790578 112.23560209424083\n",
      "Self-intersection at or near point 725.84615384615381 704.46153846153845\n",
      "Self-intersection at or near point 19.352941176470587 536.08235294117651\n",
      "Self-intersection at or near point 507.26086956521738 5.0434782608695654\n",
      "Self-intersection at or near point 558.35135135135135 116.05405405405405\n",
      "Self-intersection at or near point 682.27397260273972 768.79452054794524\n",
      "Self-intersection at or near point 500.625 169.125\n"
     ]
    },
    {
     "name": "stdout",
     "output_type": "stream",
     "text": [
      "tresh: 0.3 eps: 3.0 minarea: 3.0\n",
      "('Final jaccard', 0.3292713132715866)\n",
      "minarea: 10.0\n"
     ]
    },
    {
     "name": "stderr",
     "output_type": "stream",
     "text": [
      "Self-intersection at or near point 796.17567567567562 659.16216216216219\n",
      "Self-intersection at or near point 83.025423728813564 396.69491525423729\n",
      "Self-intersection at or near point 63.099476439790578 112.23560209424083\n",
      "Self-intersection at or near point 725.84615384615381 704.46153846153845\n",
      "Self-intersection at or near point 19.352941176470587 536.08235294117651\n",
      "Self-intersection at or near point 507.26086956521738 5.0434782608695654\n",
      "Self-intersection at or near point 558.35135135135135 116.05405405405405\n",
      "Self-intersection at or near point 682.26315789473688 769\n",
      "Self-intersection at or near point 500.625 169.125\n"
     ]
    },
    {
     "name": "stdout",
     "output_type": "stream",
     "text": [
      "tresh: 0.3 eps: 3.0 minarea: 10.0\n",
      "('Final jaccard', 0.3292733543514088)\n",
      "minarea: 15.0\n"
     ]
    },
    {
     "name": "stderr",
     "output_type": "stream",
     "text": [
      "Self-intersection at or near point 796.17567567567562 659.16216216216219\n",
      "Self-intersection at or near point 83.025423728813564 396.69491525423729\n",
      "Self-intersection at or near point 63.099476439790578 112.23560209424083\n",
      "Self-intersection at or near point 725.84615384615381 704.46153846153845\n",
      "Self-intersection at or near point 19.352941176470587 536.08235294117651\n",
      "Self-intersection at or near point 507.26086956521738 5.0434782608695654\n",
      "Self-intersection at or near point 558.35135135135135 116.05405405405405\n",
      "Self-intersection at or near point 682.26315789473688 769\n",
      "Self-intersection at or near point 828.75 455.75\n"
     ]
    },
    {
     "name": "stdout",
     "output_type": "stream",
     "text": [
      "tresh: 0.3 eps: 3.0 minarea: 15.0\n",
      "('Final jaccard', 0.3293153452381773)\n",
      "tresh: 0.35\n",
      "eps: 0.5\n",
      "minarea: 1.0\n"
     ]
    },
    {
     "name": "stderr",
     "output_type": "stream",
     "text": [
      "Self-intersection at or near point 414 10.333333333333334\n",
      "Self-intersection at or near point 686.66666666666663 59.333333333333336\n",
      "Self-intersection at or near point 789.64705882352939 458.52941176470586\n",
      "Self-intersection at or near point 770.5 382.5\n",
      "Self-intersection at or near point 197 461\n",
      "Self-intersection at or near point 491.14285714285717 278.21428571428572\n",
      "Self-intersection at or near point 714.18367346938771 795.12244897959181\n",
      "Self-intersection at or near point 714.79999999999995 347.80000000000001\n",
      "Self-intersection at or near point 281.72727272727275 629.90909090909088\n",
      "Self-intersection at or near point 603 586.33333333333337\n",
      "Self-intersection at or near point 57.384615384615387 826.53846153846155\n",
      "Self-intersection at or near point 292 458\n",
      "Self-intersection at or near point 826.71428571428567 2.1428571428571428\n",
      "Self-intersection at or near point 828.83333333333337 456.16666666666669\n"
     ]
    },
    {
     "name": "stdout",
     "output_type": "stream",
     "text": [
      "tresh: 0.35 eps: 0.5 minarea: 1.0\n",
      "('Final jaccard', 0.3283352545856974)\n",
      "minarea: 3.0\n"
     ]
    },
    {
     "name": "stderr",
     "output_type": "stream",
     "text": [
      "Self-intersection at or near point 414 10.333333333333334\n",
      "Self-intersection at or near point 686.85714285714289 58.571428571428569\n",
      "Self-intersection at or near point 789.64705882352939 458.52941176470586\n",
      "Self-intersection at or near point 770.5 382.5\n",
      "Self-intersection at or near point 197 461\n",
      "Self-intersection at or near point 491.14285714285717 278.21428571428572\n",
      "Self-intersection at or near point 714.18367346938771 795.12244897959181\n",
      "Self-intersection at or near point 714.79999999999995 347.80000000000001\n",
      "Self-intersection at or near point 281.72727272727275 629.90909090909088\n",
      "Self-intersection at or near point 603 586.33333333333337\n",
      "Self-intersection at or near point 57.384615384615387 826.53846153846155\n",
      "Self-intersection at or near point 292 458\n",
      "Self-intersection at or near point 826.71428571428567 2.1428571428571428\n",
      "Self-intersection at or near point 828.83333333333337 456.16666666666669\n"
     ]
    },
    {
     "name": "stdout",
     "output_type": "stream",
     "text": [
      "tresh: 0.35 eps: 0.5 minarea: 3.0\n",
      "('Final jaccard', 0.3283380873654569)\n",
      "minarea: 10.0\n"
     ]
    },
    {
     "name": "stderr",
     "output_type": "stream",
     "text": [
      "Self-intersection at or near point 414 10.333333333333334\n",
      "Self-intersection at or near point 686.85714285714289 58.571428571428569\n",
      "Self-intersection at or near point 789.64705882352939 458.52941176470586\n",
      "Self-intersection at or near point 770.5 382.5\n",
      "Self-intersection at or near point 197 461\n",
      "Self-intersection at or near point 491.14285714285717 278.21428571428572\n",
      "Self-intersection at or near point 714.18367346938771 795.12244897959181\n",
      "Self-intersection at or near point 714.79999999999995 347.80000000000001\n",
      "Self-intersection at or near point 274.71428571428572 738.14285714285711\n",
      "Self-intersection at or near point 603 586.33333333333337\n",
      "Self-intersection at or near point 57.384615384615387 826.53846153846155\n",
      "Self-intersection at or near point 292 458\n",
      "Self-intersection at or near point 696 705.33333333333337\n",
      "Self-intersection at or near point 828.83333333333337 456.16666666666669\n"
     ]
    },
    {
     "name": "stdout",
     "output_type": "stream",
     "text": [
      "tresh: 0.35 eps: 0.5 minarea: 10.0\n",
      "('Final jaccard', 0.32837026267159736)\n",
      "minarea: 15.0\n"
     ]
    },
    {
     "name": "stderr",
     "output_type": "stream",
     "text": [
      "Self-intersection at or near point 414 10.333333333333334\n",
      "Self-intersection at or near point 686.85714285714289 58.571428571428569\n",
      "Self-intersection at or near point 789.64705882352939 458.52941176470586\n",
      "Self-intersection at or near point 770.5 382.5\n",
      "Self-intersection at or near point 197 461\n",
      "Self-intersection at or near point 457.04761904761904 0.047619047619047616\n",
      "Self-intersection at or near point 714.18367346938771 795.12244897959181\n",
      "Self-intersection at or near point 714.79999999999995 347.80000000000001\n",
      "Self-intersection at or near point 274.71428571428572 738.14285714285711\n",
      "Self-intersection at or near point 603 586.33333333333337\n",
      "Self-intersection at or near point 57.384615384615387 826.53846153846155\n",
      "Self-intersection at or near point 292 458\n",
      "Self-intersection at or near point 696 705.33333333333337\n",
      "Self-intersection at or near point 828.83333333333337 456.16666666666669\n"
     ]
    },
    {
     "name": "stdout",
     "output_type": "stream",
     "text": [
      "tresh: 0.35 eps: 0.5 minarea: 15.0\n",
      "('Final jaccard', 0.32841354126455663)\n",
      "eps: 1.0\n",
      "minarea: 1.0\n"
     ]
    },
    {
     "name": "stderr",
     "output_type": "stream",
     "text": [
      "Self-intersection at or near point 414.29411764705884 10.235294117647058\n",
      "Self-intersection at or near point 686.66666666666663 59.333333333333336\n",
      "Self-intersection at or near point 790.875 458.625\n",
      "Self-intersection at or near point 770.5 382.5\n",
      "Self-intersection at or near point 491.14285714285717 278.21428571428572\n",
      "Self-intersection at or near point 714.18367346938771 795.12244897959181\n",
      "Self-intersection at or near point 714.79999999999995 347.80000000000001\n",
      "Self-intersection at or near point 281.86956521739131 629.95652173913038\n",
      "Self-intersection at or near point 603 586.33333333333337\n",
      "Self-intersection at or near point 57.094339622641506 826.88679245283015\n",
      "Self-intersection at or near point 558.08333333333337 115.25\n",
      "Self-intersection at or near point 696 705.33333333333337\n",
      "Self-intersection at or near point 828.83333333333337 456.16666666666669\n"
     ]
    },
    {
     "name": "stdout",
     "output_type": "stream",
     "text": [
      "tresh: 0.35 eps: 1.0 minarea: 1.0\n",
      "('Final jaccard', 0.3285964470126174)\n",
      "minarea: 3.0\n"
     ]
    },
    {
     "name": "stderr",
     "output_type": "stream",
     "text": [
      "Self-intersection at or near point 414.29411764705884 10.235294117647058\n",
      "Self-intersection at or near point 686.80769230769226 58.769230769230766\n",
      "Self-intersection at or near point 790.875 458.625\n",
      "Self-intersection at or near point 770.5 382.5\n",
      "Self-intersection at or near point 491.14285714285717 278.21428571428572\n",
      "Self-intersection at or near point 714.18367346938771 795.12244897959181\n",
      "Self-intersection at or near point 714.79999999999995 347.80000000000001\n",
      "Self-intersection at or near point 281.86956521739131 629.95652173913038\n",
      "Self-intersection at or near point 603 586.33333333333337\n",
      "Self-intersection at or near point 57.094339622641506 826.88679245283015\n",
      "Self-intersection at or near point 558.08333333333337 115.25\n",
      "Self-intersection at or near point 696 705.33333333333337\n",
      "Self-intersection at or near point 828.83333333333337 456.16666666666669\n"
     ]
    },
    {
     "name": "stdout",
     "output_type": "stream",
     "text": [
      "tresh: 0.35 eps: 1.0 minarea: 3.0\n",
      "('Final jaccard', 0.3285980268034075)\n",
      "minarea: 10.0\n"
     ]
    },
    {
     "name": "stderr",
     "output_type": "stream",
     "text": [
      "Self-intersection at or near point 414.29411764705884 10.235294117647058\n",
      "Self-intersection at or near point 686.80769230769226 58.769230769230766\n",
      "Self-intersection at or near point 790.875 458.625\n",
      "Self-intersection at or near point 770.5 382.5\n",
      "Self-intersection at or near point 491.14285714285717 278.21428571428572\n",
      "Self-intersection at or near point 714.18367346938771 795.12244897959181\n",
      "Self-intersection at or near point 714.79999999999995 347.80000000000001\n",
      "Self-intersection at or near point 274.66666666666669 738.11111111111109\n",
      "Self-intersection at or near point 603 586.33333333333337\n",
      "Self-intersection at or near point 57.094339622641506 826.88679245283015\n",
      "Self-intersection at or near point 558.08333333333337 115.25\n",
      "Self-intersection at or near point 696 705.33333333333337\n",
      "Self-intersection at or near point 828.75 455.75\n"
     ]
    },
    {
     "name": "stdout",
     "output_type": "stream",
     "text": [
      "tresh: 0.35 eps: 1.0 minarea: 10.0\n",
      "('Final jaccard', 0.328631102096344)\n",
      "minarea: 15.0\n"
     ]
    },
    {
     "name": "stderr",
     "output_type": "stream",
     "text": [
      "Self-intersection at or near point 414.29411764705884 10.235294117647058\n",
      "Self-intersection at or near point 686.66666666666663 59.333333333333336\n",
      "Self-intersection at or near point 790.875 458.625\n",
      "Self-intersection at or near point 770.5 382.5\n",
      "Self-intersection at or near point 457.02362204724409 0.047244094488189003\n",
      "Self-intersection at or near point 714.18367346938771 795.12244897959181\n",
      "Self-intersection at or near point 714.79999999999995 347.80000000000001\n",
      "Self-intersection at or near point 274.66666666666669 738.11111111111109\n",
      "Self-intersection at or near point 603 586.33333333333337\n",
      "Self-intersection at or near point 57.094339622641506 826.88679245283015\n",
      "Self-intersection at or near point 558.08333333333337 115.25\n",
      "Self-intersection at or near point 696 705.33333333333337\n",
      "Self-intersection at or near point 545.76923076923072 641.61538461538464\n",
      "Self-intersection at or near point 500.86206896551727 169.17241379310346\n"
     ]
    },
    {
     "name": "stdout",
     "output_type": "stream",
     "text": [
      "tresh: 0.35 eps: 1.0 minarea: 15.0\n",
      "('Final jaccard', 0.32867615987764714)\n",
      "eps: 3.0\n",
      "minarea: 1.0\n"
     ]
    },
    {
     "name": "stderr",
     "output_type": "stream",
     "text": [
      "Self-intersection at or near point 679.57142857142856 103.81632653061224\n",
      "Self-intersection at or near point 643 444\n",
      "Self-intersection at or near point 65 118.40000000000001\n",
      "Self-intersection at or near point 725.84615384615381 704.46153846153845\n",
      "Self-intersection at or near point 19.352941176470587 536.08235294117651\n",
      "Self-intersection at or near point 508.31999999999999 5.2199999999999998\n",
      "Self-intersection at or near point 337.42857142857144 416\n",
      "Self-intersection at or near point 558.26829268292681 115.80487804878049\n",
      "Self-intersection at or near point 683 769\n",
      "Self-intersection at or near point 545.76923076923072 641.61538461538464\n",
      "Self-intersection at or near point 500.86206896551727 169.17241379310346\n"
     ]
    },
    {
     "name": "stdout",
     "output_type": "stream",
     "text": [
      "tresh: 0.35 eps: 3.0 minarea: 1.0\n",
      "('Final jaccard', 0.32932584851997426)\n",
      "minarea: 3.0\n"
     ]
    },
    {
     "name": "stderr",
     "output_type": "stream",
     "text": [
      "Self-intersection at or near point 679.57142857142856 103.81632653061224\n",
      "Self-intersection at or near point 643 444\n",
      "Self-intersection at or near point 65 118.40000000000001\n",
      "Self-intersection at or near point 725.84615384615381 704.46153846153845\n",
      "Self-intersection at or near point 19.352941176470587 536.08235294117651\n",
      "Self-intersection at or near point 508.31999999999999 5.2199999999999998\n",
      "Self-intersection at or near point 337.42857142857144 416\n",
      "Self-intersection at or near point 558.26829268292681 115.80487804878049\n",
      "Self-intersection at or near point 683 769\n",
      "Self-intersection at or near point 545.76923076923072 641.61538461538464\n",
      "Self-intersection at or near point 500.86206896551727 169.17241379310346\n"
     ]
    },
    {
     "name": "stdout",
     "output_type": "stream",
     "text": [
      "tresh: 0.35 eps: 3.0 minarea: 3.0\n",
      "('Final jaccard', 0.32932584851997426)\n",
      "minarea: 10.0\n"
     ]
    },
    {
     "name": "stderr",
     "output_type": "stream",
     "text": [
      "Self-intersection at or near point 679.57142857142856 103.81632653061224\n",
      "Self-intersection at or near point 643 444\n",
      "Self-intersection at or near point 65 118.40000000000001\n",
      "Self-intersection at or near point 725.84615384615381 704.46153846153845\n",
      "Self-intersection at or near point 19.352941176470587 536.08235294117651\n",
      "Self-intersection at or near point 508.31999999999999 5.2199999999999998\n",
      "Self-intersection at or near point 57.450000000000003 826.66250000000002\n",
      "Self-intersection at or near point 558.26829268292681 115.80487804878049\n",
      "Self-intersection at or near point 683 769\n",
      "Self-intersection at or near point 545.76923076923072 641.61538461538464\n",
      "Self-intersection at or near point 500.86206896551727 169.17241379310346\n"
     ]
    },
    {
     "name": "stdout",
     "output_type": "stream",
     "text": [
      "tresh: 0.35 eps: 3.0 minarea: 10.0\n",
      "('Final jaccard', 0.329328345018175)\n",
      "minarea: 15.0\n"
     ]
    },
    {
     "name": "stderr",
     "output_type": "stream",
     "text": [
      "Self-intersection at or near point 679.57142857142856 103.81632653061224\n",
      "Self-intersection at or near point 643 444\n",
      "Self-intersection at or near point 65 118.40000000000001\n",
      "Self-intersection at or near point 725.84615384615381 704.46153846153845\n",
      "Self-intersection at or near point 19.352941176470587 536.08235294117651\n",
      "Self-intersection at or near point 508.31999999999999 5.2199999999999998\n",
      "Self-intersection at or near point 57.642857142857146 827.48214285714289\n",
      "Self-intersection at or near point 558.26829268292681 115.80487804878049\n",
      "Self-intersection at or near point 683 769\n",
      "Self-intersection at or near point 828.83333333333337 456.16666666666669\n"
     ]
    },
    {
     "name": "stdout",
     "output_type": "stream",
     "text": [
      "tresh: 0.35 eps: 3.0 minarea: 15.0\n",
      "('Final jaccard', 0.32938063032217924)\n",
      "tresh: 0.4\n",
      "eps: 0.5\n",
      "minarea: 1.0\n"
     ]
    },
    {
     "name": "stderr",
     "output_type": "stream",
     "text": [
      "Self-intersection at or near point 413.66666666666669 10\n",
      "Self-intersection at or near point 48 0\n",
      "Self-intersection at or near point 792 459\n",
      "Self-intersection at or near point 770.5 382.5\n",
      "Self-intersection at or near point 197 461\n",
      "Self-intersection at or near point 491.14285714285717 278.21428571428572\n",
      "Self-intersection at or near point 714.18367346938771 795.12244897959181\n",
      "Self-intersection at or near point 350.66666666666669 523\n",
      "Self-intersection at or near point 274.71428571428572 738.14285714285711\n",
      "Self-intersection at or near point 375.88888888888891 107.66666666666667\n",
      "Self-intersection at or near point 749 220\n",
      "Self-intersection at or near point 292 458\n",
      "Self-intersection at or near point 734.39999999999998 757.39999999999998\n",
      "Self-intersection at or near point 826.71428571428567 2.1428571428571428\n",
      "Self-intersection at or near point 828.83333333333337 456.16666666666669\n"
     ]
    },
    {
     "name": "stdout",
     "output_type": "stream",
     "text": [
      "tresh: 0.4 eps: 0.5 minarea: 1.0\n",
      "('Final jaccard', 0.3283442115153351)\n",
      "minarea: 3.0\n"
     ]
    },
    {
     "name": "stderr",
     "output_type": "stream",
     "text": [
      "Self-intersection at or near point 413.66666666666669 10\n",
      "Self-intersection at or near point 48 0\n",
      "Self-intersection at or near point 792 459\n",
      "Self-intersection at or near point 770.5 382.5\n",
      "Self-intersection at or near point 197 461\n",
      "Self-intersection at or near point 491.14285714285717 278.21428571428572\n",
      "Self-intersection at or near point 714.18367346938771 795.12244897959181\n",
      "Self-intersection at or near point 350.66666666666669 523\n",
      "Self-intersection at or near point 274.71428571428572 738.14285714285711\n",
      "Self-intersection at or near point 375.88888888888891 107.66666666666667\n",
      "Self-intersection at or near point 830 200\n",
      "Self-intersection at or near point 292 458\n",
      "Self-intersection at or near point 734.39999999999998 757.39999999999998\n",
      "Self-intersection at or near point 826.71428571428567 2.1428571428571428\n",
      "Self-intersection at or near point 828.83333333333337 456.16666666666669\n"
     ]
    },
    {
     "name": "stdout",
     "output_type": "stream",
     "text": [
      "tresh: 0.4 eps: 0.5 minarea: 3.0\n",
      "('Final jaccard', 0.3283468119062594)\n",
      "minarea: 10.0\n"
     ]
    },
    {
     "name": "stderr",
     "output_type": "stream",
     "text": [
      "Self-intersection at or near point 413.66666666666669 10\n",
      "Self-intersection at or near point 48 0\n",
      "Self-intersection at or near point 792 459\n",
      "Self-intersection at or near point 770.5 382.5\n",
      "Self-intersection at or near point 197 461\n",
      "Self-intersection at or near point 491.14285714285717 278.21428571428572\n",
      "Self-intersection at or near point 714.18367346938771 795.12244897959181\n",
      "Self-intersection at or near point 309 474\n",
      "Self-intersection at or near point 274.71428571428572 738.14285714285711\n",
      "Self-intersection at or near point 375.88888888888891 107.66666666666667\n",
      "Ring Self-intersection at or near point 395 426\n",
      "Self-intersection at or near point 292 458\n",
      "Self-intersection at or near point 734.39999999999998 757.39999999999998\n",
      "Self-intersection at or near point 777.22222222222217 546.77777777777783\n",
      "Self-intersection at or near point 828.83333333333337 456.16666666666669\n"
     ]
    },
    {
     "name": "stdout",
     "output_type": "stream",
     "text": [
      "tresh: 0.4 eps: 0.5 minarea: 10.0\n",
      "('Final jaccard', 0.32838251004310026)\n",
      "minarea: 15.0\n"
     ]
    },
    {
     "name": "stderr",
     "output_type": "stream",
     "text": [
      "Self-intersection at or near point 413.66666666666669 10\n",
      "Self-intersection at or near point 48 0\n",
      "Self-intersection at or near point 792 459\n",
      "Self-intersection at or near point 770.5 382.5\n",
      "Self-intersection at or near point 197 461\n",
      "Self-intersection at or near point 118.85714285714286 334.85714285714283\n",
      "Self-intersection at or near point 714.18367346938771 795.12244897959181\n",
      "Self-intersection at or near point 309 474\n",
      "Self-intersection at or near point 274.71428571428572 738.14285714285711\n",
      "Self-intersection at or near point 375.88888888888891 107.66666666666667\n",
      "Ring Self-intersection at or near point 395 426\n",
      "Self-intersection at or near point 292 458\n",
      "Self-intersection at or near point 734.39999999999998 757.39999999999998\n",
      "Self-intersection at or near point 777.22222222222217 546.77777777777783\n",
      "Self-intersection at or near point 828.83333333333337 456.16666666666669\n"
     ]
    },
    {
     "name": "stdout",
     "output_type": "stream",
     "text": [
      "tresh: 0.4 eps: 0.5 minarea: 15.0\n",
      "('Final jaccard', 0.3284183078598309)\n",
      "eps: 1.0\n",
      "minarea: 1.0\n"
     ]
    },
    {
     "name": "stderr",
     "output_type": "stream",
     "text": [
      "Self-intersection at or near point 413.66666666666669 10\n",
      "Self-intersection at or near point 402 553\n",
      "Self-intersection at or near point 791.23529411764707 458.88235294117646\n",
      "Self-intersection at or near point 770.5 382.5\n",
      "Self-intersection at or near point 491.14285714285717 278.21428571428572\n",
      "Self-intersection at or near point 714.18367346938771 795.12244897959181\n",
      "Self-intersection at or near point 94.142857142857139 522.71428571428567\n",
      "Self-intersection at or near point 274.66666666666669 738.11111111111109\n",
      "Self-intersection at or near point 375.94736842105266 107.73684210526316\n",
      "Ring Self-intersection at or near point 395 426\n",
      "Self-intersection at or near point 292 458\n",
      "Self-intersection at or near point 734.39999999999998 757.39999999999998\n",
      "Self-intersection at or near point 777.22222222222217 546.77777777777783\n",
      "Self-intersection at or near point 828.83333333333337 456.16666666666669\n"
     ]
    },
    {
     "name": "stdout",
     "output_type": "stream",
     "text": [
      "tresh: 0.4 eps: 1.0 minarea: 1.0\n",
      "('Final jaccard', 0.32858011772171464)\n",
      "minarea: 3.0\n"
     ]
    },
    {
     "name": "stderr",
     "output_type": "stream",
     "text": [
      "Self-intersection at or near point 413.66666666666669 10\n",
      "Self-intersection at or near point 402 553\n",
      "Self-intersection at or near point 791.23529411764707 458.88235294117646\n",
      "Self-intersection at or near point 770.5 382.5\n",
      "Self-intersection at or near point 491.14285714285717 278.21428571428572\n",
      "Self-intersection at or near point 714.18367346938771 795.12244897959181\n",
      "Self-intersection at or near point 94.142857142857139 522.71428571428567\n",
      "Self-intersection at or near point 274.66666666666669 738.11111111111109\n",
      "Self-intersection at or near point 375.94736842105266 107.73684210526316\n",
      "Ring Self-intersection at or near point 395 426\n",
      "Self-intersection at or near point 292 458\n",
      "Self-intersection at or near point 734.39999999999998 757.39999999999998\n",
      "Self-intersection at or near point 777.22222222222217 546.77777777777783\n",
      "Self-intersection at or near point 828.83333333333337 456.16666666666669\n"
     ]
    },
    {
     "name": "stdout",
     "output_type": "stream",
     "text": [
      "tresh: 0.4 eps: 1.0 minarea: 3.0\n",
      "('Final jaccard', 0.328581296044657)\n",
      "minarea: 10.0\n"
     ]
    },
    {
     "name": "stderr",
     "output_type": "stream",
     "text": [
      "Self-intersection at or near point 413.66666666666669 10\n",
      "Self-intersection at or near point 402 553\n",
      "Self-intersection at or near point 791.23529411764707 458.88235294117646\n",
      "Self-intersection at or near point 770.5 382.5\n",
      "Self-intersection at or near point 491.14285714285717 278.21428571428572\n",
      "Self-intersection at or near point 714.18367346938771 795.12244897959181\n",
      "Self-intersection at or near point 379 422\n",
      "Self-intersection at or near point 274.66666666666669 738.11111111111109\n",
      "Self-intersection at or near point 375.94736842105266 107.73684210526316\n",
      "Ring Self-intersection at or near point 395 426\n",
      "Self-intersection at or near point 292 458\n",
      "Self-intersection at or near point 734.39999999999998 757.39999999999998\n",
      "Self-intersection at or near point 777.22222222222217 546.77777777777783\n",
      "Self-intersection at or near point 828.83333333333337 456.16666666666669\n"
     ]
    },
    {
     "name": "stdout",
     "output_type": "stream",
     "text": [
      "tresh: 0.4 eps: 1.0 minarea: 10.0\n",
      "('Final jaccard', 0.32861860317020386)\n",
      "minarea: 15.0\n"
     ]
    },
    {
     "name": "stderr",
     "output_type": "stream",
     "text": [
      "Self-intersection at or near point 413.66666666666669 10\n",
      "Self-intersection at or near point 402 553\n",
      "Self-intersection at or near point 791.23529411764707 458.88235294117646\n",
      "Self-intersection at or near point 770.5 382.5\n",
      "Self-intersection at or near point 118.85714285714286 334.85714285714283\n",
      "Self-intersection at or near point 714.18367346938771 795.12244897959181\n",
      "Self-intersection at or near point 379 422\n",
      "Self-intersection at or near point 274.66666666666669 738.11111111111109\n",
      "Self-intersection at or near point 375.94736842105266 107.73684210526316\n",
      "Ring Self-intersection at or near point 395 426\n",
      "Self-intersection at or near point 292 458\n",
      "Self-intersection at or near point 734.39999999999998 757.39999999999998\n",
      "Self-intersection at or near point 777.22222222222217 546.77777777777783\n",
      "Self-intersection at or near point 541.82035928143716 636.09580838323359\n",
      "Self-intersection at or near point 500.86206896551727 169.17241379310346\n"
     ]
    },
    {
     "name": "stdout",
     "output_type": "stream",
     "text": [
      "tresh: 0.4 eps: 1.0 minarea: 15.0\n",
      "('Final jaccard', 0.3286545163739821)\n",
      "eps: 3.0\n",
      "minarea: 1.0\n"
     ]
    },
    {
     "name": "stderr",
     "output_type": "stream",
     "text": [
      "Self-intersection at or near point 780.90123456790127 763.06172839506178\n",
      "Self-intersection at or near point 697.33149171270713 301.14917127071823\n",
      "Self-intersection at or near point 65 118.40000000000001\n",
      "Self-intersection at or near point 725.84615384615381 704.46153846153845\n",
      "Ring Self-intersection at or near point 517 371\n",
      "Self-intersection at or near point 97.984674329501914 806.81609195402302\n",
      "Self-intersection at or near point 508.31999999999999 5.2199999999999998\n",
      "Self-intersection at or near point 337.42857142857144 416\n",
      "Self-intersection at or near point 318.86956521739131 656.39130434782612\n",
      "Self-intersection at or near point 692.6875 751.9375\n",
      "Self-intersection at or near point 541.82035928143716 636.09580838323359\n",
      "Self-intersection at or near point 500.86206896551727 169.17241379310346\n"
     ]
    },
    {
     "name": "stdout",
     "output_type": "stream",
     "text": [
      "tresh: 0.4 eps: 3.0 minarea: 1.0\n",
      "('Final jaccard', 0.32930539322732805)\n",
      "minarea: 3.0\n"
     ]
    },
    {
     "name": "stderr",
     "output_type": "stream",
     "text": [
      "Self-intersection at or near point 780.90123456790127 763.06172839506178\n",
      "Self-intersection at or near point 697.33149171270713 301.14917127071823\n",
      "Self-intersection at or near point 65 118.40000000000001\n",
      "Self-intersection at or near point 725.84615384615381 704.46153846153845\n",
      "Ring Self-intersection at or near point 517 371\n",
      "Self-intersection at or near point 97.984674329501914 806.81609195402302\n",
      "Self-intersection at or near point 508.31999999999999 5.2199999999999998\n",
      "Self-intersection at or near point 337.42857142857144 416\n",
      "Self-intersection at or near point 318.86956521739131 656.39130434782612\n",
      "Self-intersection at or near point 692.6875 751.9375\n",
      "Self-intersection at or near point 541.82035928143716 636.09580838323359\n",
      "Self-intersection at or near point 500.86206896551727 169.17241379310346\n"
     ]
    },
    {
     "name": "stdout",
     "output_type": "stream",
     "text": [
      "tresh: 0.4 eps: 3.0 minarea: 3.0\n",
      "('Final jaccard', 0.32930539322732805)\n",
      "minarea: 10.0\n"
     ]
    },
    {
     "name": "stderr",
     "output_type": "stream",
     "text": [
      "Self-intersection at or near point 780.90123456790127 763.06172839506178\n",
      "Self-intersection at or near point 697.33149171270713 301.14917127071823\n",
      "Self-intersection at or near point 65 118.40000000000001\n",
      "Self-intersection at or near point 725.84615384615381 704.46153846153845\n",
      "Ring Self-intersection at or near point 517 371\n",
      "Self-intersection at or near point 97.984674329501914 806.81609195402302\n",
      "Self-intersection at or near point 508.31999999999999 5.2199999999999998\n",
      "Ring Self-intersection at or near point 486 228\n",
      "Self-intersection at or near point 318.86956521739131 656.39130434782612\n",
      "Self-intersection at or near point 692.6875 751.9375\n",
      "Self-intersection at or near point 541.82035928143716 636.09580838323359\n",
      "Self-intersection at or near point 500.86206896551727 169.17241379310346\n"
     ]
    },
    {
     "name": "stdout",
     "output_type": "stream",
     "text": [
      "tresh: 0.4 eps: 3.0 minarea: 10.0\n",
      "('Final jaccard', 0.3293086980878895)\n",
      "minarea: 15.0\n"
     ]
    },
    {
     "name": "stderr",
     "output_type": "stream",
     "text": [
      "Self-intersection at or near point 780.90123456790127 763.06172839506178\n",
      "Self-intersection at or near point 697.33149171270713 301.14917127071823\n",
      "Self-intersection at or near point 65 118.40000000000001\n",
      "Self-intersection at or near point 725.84615384615381 704.46153846153845\n",
      "Ring Self-intersection at or near point 517 371\n",
      "Self-intersection at or near point 97.984674329501914 806.81609195402302\n",
      "Self-intersection at or near point 508.31999999999999 5.2199999999999998\n",
      "Ring Self-intersection at or near point 486 228\n",
      "Self-intersection at or near point 318.86956521739131 656.39130434782612\n",
      "Self-intersection at or near point 692.6875 751.9375\n",
      "Self-intersection at or near point 828.83333333333337 456.16666666666669\n"
     ]
    },
    {
     "name": "stdout",
     "output_type": "stream",
     "text": [
      "tresh: 0.4 eps: 3.0 minarea: 15.0\n",
      "('Final jaccard', 0.3293550620223633)\n",
      "tresh: 0.45\n",
      "eps: 0.5\n",
      "minarea: 1.0\n"
     ]
    },
    {
     "name": "stderr",
     "output_type": "stream",
     "text": [
      "Self-intersection at or near point 395.73684210526318 65.684210526315795\n",
      "Self-intersection at or near point 830 514.5\n",
      "Self-intersection at or near point 792 459\n",
      "Self-intersection at or near point 679 320\n",
      "Self-intersection at or near point 115.45454545454545 479.63636363636363\n",
      "Self-intersection at or near point 491.27272727272725 278.54545454545456\n",
      "Self-intersection at or near point 731.28571428571433 40.142857142857146\n",
      "Self-intersection at or near point 309 474\n",
      "Self-intersection at or near point 274.71428571428572 738.14285714285711\n",
      "Self-intersection at or near point 742.5 751\n",
      "Self-intersection at or near point 56 815\n",
      "Self-intersection at or near point 292 458\n",
      "Self-intersection at or near point 734.39999999999998 757.39999999999998\n",
      "Self-intersection at or near point 826.71428571428567 2.1428571428571428\n",
      "Self-intersection at or near point 828.83333333333337 456.16666666666669\n"
     ]
    },
    {
     "name": "stdout",
     "output_type": "stream",
     "text": [
      "tresh: 0.45 eps: 0.5 minarea: 1.0\n",
      "('Final jaccard', 0.32831636701687517)\n",
      "minarea: 3.0\n"
     ]
    },
    {
     "name": "stderr",
     "output_type": "stream",
     "text": [
      "Self-intersection at or near point 395.73684210526318 65.684210526315795\n",
      "Self-intersection at or near point 830 514.5\n",
      "Self-intersection at or near point 792 459\n",
      "Self-intersection at or near point 679 320\n",
      "Self-intersection at or near point 115.45454545454545 479.63636363636363\n",
      "Self-intersection at or near point 491.27272727272725 278.54545454545456\n",
      "Self-intersection at or near point 731.28571428571433 40.142857142857146\n",
      "Self-intersection at or near point 309 474\n",
      "Self-intersection at or near point 274.71428571428572 738.14285714285711\n",
      "Self-intersection at or near point 742.5 751\n",
      "Self-intersection at or near point 56 815\n",
      "Self-intersection at or near point 292 458\n",
      "Self-intersection at or near point 734.39999999999998 757.39999999999998\n",
      "Self-intersection at or near point 826.71428571428567 2.1428571428571428\n",
      "Self-intersection at or near point 828.83333333333337 456.16666666666669\n"
     ]
    },
    {
     "name": "stdout",
     "output_type": "stream",
     "text": [
      "tresh: 0.45 eps: 0.5 minarea: 3.0\n",
      "('Final jaccard', 0.3283183769965467)\n",
      "minarea: 10.0\n"
     ]
    },
    {
     "name": "stderr",
     "output_type": "stream",
     "text": [
      "Self-intersection at or near point 395.73684210526318 65.684210526315795\n",
      "Self-intersection at or near point 830 514.5\n",
      "Self-intersection at or near point 792 459\n",
      "Self-intersection at or near point 679 320\n",
      "Self-intersection at or near point 115.45454545454545 479.63636363636363\n",
      "Self-intersection at or near point 118.85714285714286 334.85714285714283\n",
      "Self-intersection at or near point 714.18367346938771 795.12244897959181\n",
      "Self-intersection at or near point 309 474\n",
      "Self-intersection at or near point 274.71428571428572 738.14285714285711\n",
      "Self-intersection at or near point 742.5 751\n",
      "Self-intersection at or near point 56 815\n",
      "Self-intersection at or near point 292 458\n",
      "Self-intersection at or near point 734.39999999999998 757.39999999999998\n",
      "Self-intersection at or near point 777.22222222222217 546.77777777777783\n",
      "Self-intersection at or near point 828.83333333333337 456.16666666666669\n"
     ]
    },
    {
     "name": "stdout",
     "output_type": "stream",
     "text": [
      "tresh: 0.45 eps: 0.5 minarea: 10.0\n",
      "('Final jaccard', 0.3283566835963148)\n",
      "minarea: 15.0\n"
     ]
    },
    {
     "name": "stderr",
     "output_type": "stream",
     "text": [
      "Self-intersection at or near point 395.73684210526318 65.684210526315795\n",
      "Self-intersection at or near point 830 514.5\n",
      "Self-intersection at or near point 792 459\n",
      "Self-intersection at or near point 679 320\n",
      "Self-intersection at or near point 115.45454545454545 479.63636363636363\n",
      "Self-intersection at or near point 118.85714285714286 334.85714285714283\n",
      "Self-intersection at or near point 714.18367346938771 795.12244897959181\n",
      "Self-intersection at or near point 309 474\n",
      "Self-intersection at or near point 274.71428571428572 738.14285714285711\n",
      "Self-intersection at or near point 742.5 751\n",
      "Self-intersection at or near point 56 815\n",
      "Self-intersection at or near point 292 458\n",
      "Self-intersection at or near point 734.39999999999998 757.39999999999998\n",
      "Self-intersection at or near point 777.22222222222217 546.77777777777783\n",
      "Self-intersection at or near point 828.83333333333337 456.16666666666669\n"
     ]
    },
    {
     "name": "stdout",
     "output_type": "stream",
     "text": [
      "tresh: 0.45 eps: 0.5 minarea: 15.0\n",
      "('Final jaccard', 0.32838903058064317)\n",
      "eps: 1.0\n",
      "minarea: 1.0\n"
     ]
    },
    {
     "name": "stderr",
     "output_type": "stream",
     "text": [
      "Self-intersection at or near point 395.73684210526318 65.684210526315795\n",
      "Self-intersection at or near point 830.31793960923619 515.29484902309059\n",
      "Self-intersection at or near point 791.23529411764707 458.88235294117646\n",
      "Ring Self-intersection at or near point 789 95\n",
      "Self-intersection at or near point 396.80000000000001 527.79999999999995\n",
      "Self-intersection at or near point 491 278.75\n",
      "Self-intersection at or near point 731.85714285714289 39.428571428571431\n",
      "Self-intersection at or near point 94.142857142857139 522.71428571428567\n",
      "Self-intersection at or near point 274.71428571428572 738.14285714285711\n",
      "Self-intersection at or near point 742.5 751\n",
      "Self-intersection at or near point 167.61904761904762 787.09523809523807\n",
      "Self-intersection at or near point 292 458\n",
      "Self-intersection at or near point 734.39999999999998 757.39999999999998\n",
      "Self-intersection at or near point 777.22222222222217 546.77777777777783\n",
      "Self-intersection at or near point 828.83333333333337 456.16666666666669\n"
     ]
    },
    {
     "name": "stdout",
     "output_type": "stream",
     "text": [
      "tresh: 0.45 eps: 1.0 minarea: 1.0\n",
      "('Final jaccard', 0.3285622755197671)\n",
      "minarea: 3.0\n"
     ]
    },
    {
     "name": "stderr",
     "output_type": "stream",
     "text": [
      "Self-intersection at or near point 395.73684210526318 65.684210526315795\n",
      "Self-intersection at or near point 830.31793960923619 515.29484902309059\n",
      "Self-intersection at or near point 791.23529411764707 458.88235294117646\n",
      "Ring Self-intersection at or near point 789 95\n",
      "Self-intersection at or near point 396.80000000000001 527.79999999999995\n",
      "Self-intersection at or near point 491 278.75\n",
      "Self-intersection at or near point 731.28571428571433 40.142857142857146\n",
      "Self-intersection at or near point 94.142857142857139 522.71428571428567\n",
      "Self-intersection at or near point 274.71428571428572 738.14285714285711\n",
      "Self-intersection at or near point 742.5 751\n",
      "Self-intersection at or near point 167.61904761904762 787.09523809523807\n",
      "Self-intersection at or near point 292 458\n",
      "Self-intersection at or near point 734.39999999999998 757.39999999999998\n",
      "Self-intersection at or near point 777.22222222222217 546.77777777777783\n",
      "Self-intersection at or near point 828.83333333333337 456.16666666666669\n"
     ]
    },
    {
     "name": "stdout",
     "output_type": "stream",
     "text": [
      "tresh: 0.45 eps: 1.0 minarea: 3.0\n",
      "('Final jaccard', 0.3285637469195728)\n",
      "minarea: 10.0\n"
     ]
    },
    {
     "name": "stderr",
     "output_type": "stream",
     "text": [
      "Self-intersection at or near point 395.73684210526318 65.684210526315795\n",
      "Self-intersection at or near point 830.31793960923619 515.29484902309059\n",
      "Self-intersection at or near point 791.23529411764707 458.88235294117646\n",
      "Ring Self-intersection at or near point 789 95\n",
      "Ring Self-intersection at or near point 826 0\n",
      "Self-intersection at or near point 118.85714285714286 334.85714285714283\n",
      "Self-intersection at or near point 714.18367346938771 795.12244897959181\n",
      "Self-intersection at or near point 347 524\n",
      "Self-intersection at or near point 274.71428571428572 738.14285714285711\n",
      "Self-intersection at or near point 742.5 751\n",
      "Self-intersection at or near point 167.61904761904762 787.09523809523807\n",
      "Self-intersection at or near point 292 458\n",
      "Self-intersection at or near point 734.39999999999998 757.39999999999998\n",
      "Self-intersection at or near point 777.22222222222217 546.77777777777783\n",
      "Self-intersection at or near point 828.83333333333337 456.16666666666669\n"
     ]
    },
    {
     "name": "stdout",
     "output_type": "stream",
     "text": [
      "tresh: 0.45 eps: 1.0 minarea: 10.0\n",
      "('Final jaccard', 0.3286003375151482)\n",
      "minarea: 15.0\n"
     ]
    },
    {
     "name": "stderr",
     "output_type": "stream",
     "text": [
      "Self-intersection at or near point 395.73684210526318 65.684210526315795\n",
      "Self-intersection at or near point 830.31793960923619 515.29484902309059\n",
      "Self-intersection at or near point 791.23529411764707 458.88235294117646\n",
      "Ring Self-intersection at or near point 789 95\n",
      "Ring Self-intersection at or near point 826 0\n",
      "Self-intersection at or near point 118.85714285714286 334.85714285714283\n",
      "Self-intersection at or near point 714.18367346938771 795.12244897959181\n",
      "Ring Self-intersection at or near point 517 371\n",
      "Self-intersection at or near point 274.71428571428572 738.14285714285711\n",
      "Self-intersection at or near point 742.5 751\n",
      "Self-intersection at or near point 167.61904761904762 787.09523809523807\n",
      "Self-intersection at or near point 292 458\n",
      "Self-intersection at or near point 734.39999999999998 757.39999999999998\n",
      "Self-intersection at or near point 777.22222222222217 546.77777777777783\n",
      "Self-intersection at or near point 541.82035928143716 636.09580838323359\n",
      "Self-intersection at or near point 500.26315789473682 168.47368421052633\n"
     ]
    },
    {
     "name": "stdout",
     "output_type": "stream",
     "text": [
      "tresh: 0.45 eps: 1.0 minarea: 15.0\n",
      "('Final jaccard', 0.3286348355824132)\n",
      "eps: 3.0\n",
      "minarea: 1.0\n"
     ]
    },
    {
     "name": "stderr",
     "output_type": "stream",
     "text": [
      "Self-intersection at or near point 780.90123456790127 763.06172839506178\n",
      "Self-intersection at or near point 697.33149171270713 301.14917127071823\n",
      "Self-intersection at or near point 345.036231884058 288.93478260869563\n",
      "Self-intersection at or near point 65 118.40000000000001\n",
      "Self-intersection at or near point 725.84615384615381 704.46153846153845\n",
      "Self-intersection at or near point 511.12048192771084 133.55823293172691\n",
      "Self-intersection at or near point 97.984674329501914 806.81609195402302\n",
      "Self-intersection at or near point 508.31999999999999 5.2199999999999998\n",
      "Self-intersection at or near point 337.42857142857144 416\n",
      "Self-intersection at or near point 318.86956521739131 656.39130434782612\n",
      "Self-intersection at or near point 692.95744680851067 751.12765957446811\n",
      "Self-intersection at or near point 541.82035928143716 636.09580838323359\n",
      "Self-intersection at or near point 500.26315789473682 168.47368421052633\n"
     ]
    },
    {
     "name": "stdout",
     "output_type": "stream",
     "text": [
      "tresh: 0.45 eps: 3.0 minarea: 1.0\n",
      "('Final jaccard', 0.3293735594697924)\n",
      "minarea: 3.0\n"
     ]
    },
    {
     "name": "stderr",
     "output_type": "stream",
     "text": [
      "Self-intersection at or near point 780.90123456790127 763.06172839506178\n",
      "Self-intersection at or near point 697.33149171270713 301.14917127071823\n",
      "Self-intersection at or near point 345.036231884058 288.93478260869563\n",
      "Self-intersection at or near point 65 118.40000000000001\n",
      "Self-intersection at or near point 725.84615384615381 704.46153846153845\n",
      "Self-intersection at or near point 511.12048192771084 133.55823293172691\n",
      "Self-intersection at or near point 97.984674329501914 806.81609195402302\n",
      "Self-intersection at or near point 508.31999999999999 5.2199999999999998\n",
      "Self-intersection at or near point 337.42857142857144 416\n",
      "Self-intersection at or near point 318.86956521739131 656.39130434782612\n",
      "Self-intersection at or near point 692.95744680851067 751.12765957446811\n",
      "Self-intersection at or near point 541.82035928143716 636.09580838323359\n",
      "Self-intersection at or near point 500.26315789473682 168.47368421052633\n"
     ]
    },
    {
     "name": "stdout",
     "output_type": "stream",
     "text": [
      "tresh: 0.45 eps: 3.0 minarea: 3.0\n",
      "('Final jaccard', 0.3293735594697924)\n",
      "minarea: 10.0\n"
     ]
    },
    {
     "name": "stderr",
     "output_type": "stream",
     "text": [
      "Self-intersection at or near point 780.90123456790127 763.06172839506178\n",
      "Self-intersection at or near point 697.33149171270713 301.14917127071823\n",
      "Self-intersection at or near point 345.036231884058 288.93478260869563\n",
      "Self-intersection at or near point 65 118.40000000000001\n",
      "Self-intersection at or near point 725.84615384615381 704.46153846153845\n",
      "Self-intersection at or near point 511.12048192771084 133.55823293172691\n",
      "Self-intersection at or near point 97.984674329501914 806.81609195402302\n",
      "Self-intersection at or near point 508.31999999999999 5.2199999999999998\n",
      "Ring Self-intersection at or near point 486 228\n",
      "Self-intersection at or near point 318.86956521739131 656.39130434782612\n",
      "Self-intersection at or near point 692.95744680851067 751.12765957446811\n",
      "Self-intersection at or near point 541.82035928143716 636.09580838323359\n",
      "Self-intersection at or near point 500.26315789473682 168.47368421052633\n"
     ]
    },
    {
     "name": "stdout",
     "output_type": "stream",
     "text": [
      "tresh: 0.45 eps: 3.0 minarea: 10.0\n",
      "('Final jaccard', 0.32937769503594666)\n",
      "minarea: 15.0\n"
     ]
    },
    {
     "name": "stderr",
     "output_type": "stream",
     "text": [
      "Self-intersection at or near point 780.90123456790127 763.06172839506178\n",
      "Self-intersection at or near point 697.33149171270713 301.14917127071823\n",
      "Self-intersection at or near point 345.036231884058 288.93478260869563\n",
      "Self-intersection at or near point 65 118.40000000000001\n",
      "Self-intersection at or near point 725.84615384615381 704.46153846153845\n",
      "Self-intersection at or near point 511.12048192771084 133.55823293172691\n",
      "Self-intersection at or near point 97.984674329501914 806.81609195402302\n",
      "Self-intersection at or near point 508.31999999999999 5.2199999999999998\n",
      "Ring Self-intersection at or near point 486 228\n",
      "Self-intersection at or near point 318.86956521739131 656.39130434782612\n",
      "Self-intersection at or near point 692.95744680851067 751.12765957446811\n",
      "Ring Self-intersection at or near point 613 266\n"
     ]
    },
    {
     "name": "stdout",
     "output_type": "stream",
     "text": [
      "tresh: 0.45 eps: 3.0 minarea: 15.0\n",
      "('Final jaccard', 0.329425735795233)\n",
      "7\n",
      "tresh: 0.15\n",
      "eps: 0.5\n",
      "minarea: 1.0\n"
     ]
    },
    {
     "name": "stderr",
     "output_type": "stream",
     "text": [
      "Self-intersection at or near point 0 257\n",
      "Self-intersection at or near point 667 16\n",
      "Self-intersection at or near point 390 196\n",
      "Ring Self-intersection at or near point 613 266\n"
     ]
    },
    {
     "name": "stdout",
     "output_type": "stream",
     "text": [
      "tresh: 0.15 eps: 0.5 minarea: 1.0\n",
      "('Final jaccard', 0.05270073049691705)\n",
      "minarea: 3.0\n"
     ]
    },
    {
     "name": "stderr",
     "output_type": "stream",
     "text": [
      "Self-intersection at or near point 667 16\n",
      "Ring Self-intersection at or near point 613 266\n"
     ]
    },
    {
     "name": "stdout",
     "output_type": "stream",
     "text": [
      "tresh: 0.15 eps: 0.5 minarea: 3.0\n",
      "('Final jaccard', 0.05270752407275246)\n",
      "minarea: 10.0\n"
     ]
    },
    {
     "name": "stderr",
     "output_type": "stream",
     "text": [
      "Self-intersection at or near point 667 16\n",
      "Ring Self-intersection at or near point 613 266\n"
     ]
    },
    {
     "name": "stdout",
     "output_type": "stream",
     "text": [
      "tresh: 0.15 eps: 0.5 minarea: 10.0\n",
      "('Final jaccard', 0.05278636895673574)\n",
      "minarea: 15.0\n"
     ]
    },
    {
     "name": "stderr",
     "output_type": "stream",
     "text": [
      "Ring Self-intersection at or near point 602 498\n",
      "Ring Self-intersection at or near point 613 266\n"
     ]
    },
    {
     "name": "stdout",
     "output_type": "stream",
     "text": [
      "tresh: 0.15 eps: 0.5 minarea: 15.0\n",
      "('Final jaccard', 0.05282849447555357)\n",
      "eps: 1.0\n",
      "minarea: 1.0\n"
     ]
    },
    {
     "name": "stderr",
     "output_type": "stream",
     "text": [
      "Ring Self-intersection at or near point 602 498\n",
      "Ring Self-intersection at or near point 613 266\n"
     ]
    },
    {
     "name": "stdout",
     "output_type": "stream",
     "text": [
      "tresh: 0.15 eps: 1.0 minarea: 1.0\n",
      "('Final jaccard', 0.05262448793479355)\n",
      "minarea: 3.0\n"
     ]
    },
    {
     "name": "stderr",
     "output_type": "stream",
     "text": [
      "Ring Self-intersection at or near point 602 498\n",
      "Ring Self-intersection at or near point 613 266\n"
     ]
    },
    {
     "name": "stdout",
     "output_type": "stream",
     "text": [
      "tresh: 0.15 eps: 1.0 minarea: 3.0\n",
      "('Final jaccard', 0.05262891451185121)\n",
      "minarea: 10.0\n"
     ]
    },
    {
     "name": "stderr",
     "output_type": "stream",
     "text": [
      "Ring Self-intersection at or near point 602 498\n",
      "Ring Self-intersection at or near point 613 266\n"
     ]
    },
    {
     "name": "stdout",
     "output_type": "stream",
     "text": [
      "tresh: 0.15 eps: 1.0 minarea: 10.0\n",
      "('Final jaccard', 0.052671690478579815)\n",
      "minarea: 15.0\n"
     ]
    },
    {
     "name": "stderr",
     "output_type": "stream",
     "text": [
      "Ring Self-intersection at or near point 602 498\n"
     ]
    },
    {
     "name": "stdout",
     "output_type": "stream",
     "text": [
      "tresh: 0.15 eps: 1.0 minarea: 15.0\n",
      "('Final jaccard', 0.052763708434562594)\n",
      "eps: 3.0\n",
      "minarea: 1.0\n",
      "tresh: 0.15 eps: 3.0 minarea: 1.0\n",
      "('Final jaccard', 0.051502893715518444)\n",
      "minarea: 3.0\n",
      "tresh: 0.15 eps: 3.0 minarea: 3.0\n",
      "('Final jaccard', 0.051502893715518444)\n",
      "minarea: 10.0\n",
      "tresh: 0.15 eps: 3.0 minarea: 10.0\n",
      "('Final jaccard', 0.051506620086559526)\n",
      "minarea: 15.0\n"
     ]
    },
    {
     "name": "stderr",
     "output_type": "stream",
     "text": [
      "Ring Self-intersection at or near point 613 266\n"
     ]
    },
    {
     "name": "stdout",
     "output_type": "stream",
     "text": [
      "tresh: 0.15 eps: 3.0 minarea: 15.0\n",
      "('Final jaccard', 0.051489128354011246)\n",
      "tresh: 0.2\n",
      "eps: 0.5\n",
      "minarea: 1.0\n"
     ]
    },
    {
     "name": "stderr",
     "output_type": "stream",
     "text": [
      "Self-intersection at or near point 0 257\n",
      "Self-intersection at or near point 666.5 16\n",
      "Ring Self-intersection at or near point 613 266\n"
     ]
    },
    {
     "name": "stdout",
     "output_type": "stream",
     "text": [
      "tresh: 0.2 eps: 0.5 minarea: 1.0\n",
      "('Final jaccard', 0.052716934171493646)\n",
      "minarea: 3.0\n"
     ]
    },
    {
     "name": "stderr",
     "output_type": "stream",
     "text": [
      "Self-intersection at or near point 666.5 16\n",
      "Ring Self-intersection at or near point 613 266\n"
     ]
    },
    {
     "name": "stdout",
     "output_type": "stream",
     "text": [
      "tresh: 0.2 eps: 0.5 minarea: 3.0\n",
      "('Final jaccard', 0.052727389215705515)\n",
      "minarea: 10.0\n"
     ]
    },
    {
     "name": "stderr",
     "output_type": "stream",
     "text": [
      "Self-intersection at or near point 666.5 16\n",
      "Ring Self-intersection at or near point 613 266\n"
     ]
    },
    {
     "name": "stdout",
     "output_type": "stream",
     "text": [
      "tresh: 0.2 eps: 0.5 minarea: 10.0\n",
      "('Final jaccard', 0.05280956317136244)\n",
      "minarea: 15.0\n"
     ]
    },
    {
     "name": "stderr",
     "output_type": "stream",
     "text": [
      "Ring Self-intersection at or near point 602 498\n",
      "Ring Self-intersection at or near point 613 266\n"
     ]
    },
    {
     "name": "stdout",
     "output_type": "stream",
     "text": [
      "tresh: 0.2 eps: 0.5 minarea: 15.0\n",
      "('Final jaccard', 0.05284812603817365)\n",
      "eps: 1.0\n",
      "minarea: 1.0\n"
     ]
    },
    {
     "name": "stderr",
     "output_type": "stream",
     "text": [
      "Ring Self-intersection at or near point 602 498\n",
      "Ring Self-intersection at or near point 613 266\n"
     ]
    },
    {
     "name": "stdout",
     "output_type": "stream",
     "text": [
      "tresh: 0.2 eps: 1.0 minarea: 1.0\n",
      "('Final jaccard', 0.052591256728420965)\n",
      "minarea: 3.0\n"
     ]
    },
    {
     "name": "stderr",
     "output_type": "stream",
     "text": [
      "Ring Self-intersection at or near point 602 498\n",
      "Ring Self-intersection at or near point 613 266\n"
     ]
    },
    {
     "name": "stdout",
     "output_type": "stream",
     "text": [
      "tresh: 0.2 eps: 1.0 minarea: 3.0\n",
      "('Final jaccard', 0.05259696636893116)\n",
      "minarea: 10.0\n"
     ]
    },
    {
     "name": "stderr",
     "output_type": "stream",
     "text": [
      "Ring Self-intersection at or near point 602 498\n",
      "Ring Self-intersection at or near point 613 266\n"
     ]
    },
    {
     "name": "stdout",
     "output_type": "stream",
     "text": [
      "tresh: 0.2 eps: 1.0 minarea: 10.0\n",
      "('Final jaccard', 0.05264626067764553)\n",
      "minarea: 15.0\n"
     ]
    },
    {
     "name": "stderr",
     "output_type": "stream",
     "text": [
      "Ring Self-intersection at or near point 602 498\n"
     ]
    },
    {
     "name": "stdout",
     "output_type": "stream",
     "text": [
      "tresh: 0.2 eps: 1.0 minarea: 15.0\n",
      "('Final jaccard', 0.05273590776064983)\n",
      "eps: 3.0\n",
      "minarea: 1.0\n"
     ]
    },
    {
     "name": "stderr",
     "output_type": "stream",
     "text": [
      "Ring Self-intersection at or near point 628 490\n"
     ]
    },
    {
     "name": "stdout",
     "output_type": "stream",
     "text": [
      "tresh: 0.2 eps: 3.0 minarea: 1.0\n",
      "('Final jaccard', 0.05159950709983261)\n",
      "minarea: 3.0\n"
     ]
    },
    {
     "name": "stderr",
     "output_type": "stream",
     "text": [
      "Ring Self-intersection at or near point 628 490\n"
     ]
    },
    {
     "name": "stdout",
     "output_type": "stream",
     "text": [
      "tresh: 0.2 eps: 3.0 minarea: 3.0\n",
      "('Final jaccard', 0.05159950709983261)\n",
      "minarea: 10.0\n"
     ]
    },
    {
     "name": "stderr",
     "output_type": "stream",
     "text": [
      "Ring Self-intersection at or near point 628 490\n"
     ]
    },
    {
     "name": "stdout",
     "output_type": "stream",
     "text": [
      "tresh: 0.2 eps: 3.0 minarea: 10.0\n",
      "('Final jaccard', 0.05160336060940145)\n",
      "minarea: 15.0\n"
     ]
    },
    {
     "name": "stderr",
     "output_type": "stream",
     "text": [
      "Ring Self-intersection at or near point 628 490\n",
      "Ring Self-intersection at or near point 613 266\n"
     ]
    },
    {
     "name": "stdout",
     "output_type": "stream",
     "text": [
      "tresh: 0.2 eps: 3.0 minarea: 15.0\n",
      "('Final jaccard', 0.05158919185407356)\n",
      "tresh: 0.25\n",
      "eps: 0.5\n",
      "minarea: 1.0\n"
     ]
    },
    {
     "name": "stderr",
     "output_type": "stream",
     "text": [
      "Self-intersection at or near point 0 257\n",
      "Self-intersection at or near point 666.5 16\n",
      "Ring Self-intersection at or near point 613 266\n"
     ]
    },
    {
     "name": "stdout",
     "output_type": "stream",
     "text": [
      "tresh: 0.25 eps: 0.5 minarea: 1.0\n",
      "('Final jaccard', 0.052763986360780606)\n",
      "minarea: 3.0\n"
     ]
    },
    {
     "name": "stderr",
     "output_type": "stream",
     "text": [
      "Self-intersection at or near point 666.5 16\n",
      "Ring Self-intersection at or near point 613 266\n"
     ]
    },
    {
     "name": "stdout",
     "output_type": "stream",
     "text": [
      "tresh: 0.25 eps: 0.5 minarea: 3.0\n",
      "('Final jaccard', 0.052767632671402574)\n",
      "minarea: 10.0\n"
     ]
    },
    {
     "name": "stderr",
     "output_type": "stream",
     "text": [
      "Self-intersection at or near point 666.5 16\n",
      "Ring Self-intersection at or near point 613 266\n"
     ]
    },
    {
     "name": "stdout",
     "output_type": "stream",
     "text": [
      "tresh: 0.25 eps: 0.5 minarea: 10.0\n",
      "('Final jaccard', 0.05284595096596792)\n",
      "minarea: 15.0\n"
     ]
    },
    {
     "name": "stderr",
     "output_type": "stream",
     "text": [
      "Ring Self-intersection at or near point 762 649\n",
      "Ring Self-intersection at or near point 613 266\n"
     ]
    },
    {
     "name": "stdout",
     "output_type": "stream",
     "text": [
      "tresh: 0.25 eps: 0.5 minarea: 15.0\n",
      "('Final jaccard', 0.05289094029035882)\n",
      "eps: 1.0\n",
      "minarea: 1.0\n"
     ]
    },
    {
     "name": "stderr",
     "output_type": "stream",
     "text": [
      "Ring Self-intersection at or near point 762 649\n",
      "Ring Self-intersection at or near point 613 266\n"
     ]
    },
    {
     "name": "stdout",
     "output_type": "stream",
     "text": [
      "tresh: 0.25 eps: 1.0 minarea: 1.0\n",
      "('Final jaccard', 0.052654157625301394)\n",
      "minarea: 3.0\n"
     ]
    },
    {
     "name": "stderr",
     "output_type": "stream",
     "text": [
      "Ring Self-intersection at or near point 762 649\n",
      "Ring Self-intersection at or near point 613 266\n"
     ]
    },
    {
     "name": "stdout",
     "output_type": "stream",
     "text": [
      "tresh: 0.25 eps: 1.0 minarea: 3.0\n",
      "('Final jaccard', 0.052656381810045366)\n",
      "minarea: 10.0\n"
     ]
    },
    {
     "name": "stderr",
     "output_type": "stream",
     "text": [
      "Ring Self-intersection at or near point 762 649\n",
      "Ring Self-intersection at or near point 613 266\n"
     ]
    },
    {
     "name": "stdout",
     "output_type": "stream",
     "text": [
      "tresh: 0.25 eps: 1.0 minarea: 10.0\n",
      "('Final jaccard', 0.05273745029571189)\n",
      "minarea: 15.0\n"
     ]
    },
    {
     "name": "stderr",
     "output_type": "stream",
     "text": [
      "Ring Self-intersection at or near point 762 649\n"
     ]
    },
    {
     "name": "stdout",
     "output_type": "stream",
     "text": [
      "tresh: 0.25 eps: 1.0 minarea: 15.0\n",
      "('Final jaccard', 0.052742372097813704)\n",
      "eps: 3.0\n",
      "minarea: 1.0\n",
      "tresh: 0.25 eps: 3.0 minarea: 1.0\n",
      "('Final jaccard', 0.051573800471185774)\n",
      "minarea: 3.0\n",
      "tresh: 0.25 eps: 3.0 minarea: 3.0\n",
      "('Final jaccard', 0.051573800471185774)\n",
      "minarea: 10.0\n",
      "tresh: 0.25 eps: 3.0 minarea: 10.0\n",
      "('Final jaccard', 0.05158807178526235)\n",
      "minarea: 15.0\n"
     ]
    },
    {
     "name": "stderr",
     "output_type": "stream",
     "text": [
      "Self-intersection at or near point 614.20000000000005 266.10000000000002\n"
     ]
    },
    {
     "name": "stdout",
     "output_type": "stream",
     "text": [
      "tresh: 0.25 eps: 3.0 minarea: 15.0\n",
      "('Final jaccard', 0.05156291280137527)\n",
      "tresh: 0.3\n",
      "eps: 0.5\n",
      "minarea: 1.0\n"
     ]
    },
    {
     "name": "stderr",
     "output_type": "stream",
     "text": [
      "Self-intersection at or near point 0 257\n",
      "Self-intersection at or near point 760.5 646.75\n",
      "Self-intersection at or near point 614.20000000000005 266.10000000000002\n"
     ]
    },
    {
     "name": "stdout",
     "output_type": "stream",
     "text": [
      "tresh: 0.3 eps: 0.5 minarea: 1.0\n",
      "('Final jaccard', 0.052788145080688124)\n",
      "minarea: 3.0\n"
     ]
    },
    {
     "name": "stderr",
     "output_type": "stream",
     "text": [
      "Self-intersection at or near point 760.5 646.75\n",
      "Self-intersection at or near point 614.20000000000005 266.10000000000002\n"
     ]
    },
    {
     "name": "stdout",
     "output_type": "stream",
     "text": [
      "tresh: 0.3 eps: 0.5 minarea: 3.0\n",
      "('Final jaccard', 0.052791799853341315)\n",
      "minarea: 10.0\n"
     ]
    },
    {
     "name": "stderr",
     "output_type": "stream",
     "text": [
      "Self-intersection at or near point 760.5 646.75\n",
      "Self-intersection at or near point 614.20000000000005 266.10000000000002\n"
     ]
    },
    {
     "name": "stdout",
     "output_type": "stream",
     "text": [
      "tresh: 0.3 eps: 0.5 minarea: 10.0\n",
      "('Final jaccard', 0.0528526302272454)\n",
      "minarea: 15.0\n"
     ]
    },
    {
     "name": "stderr",
     "output_type": "stream",
     "text": [
      "Self-intersection at or near point 760.5 646.75\n",
      "Self-intersection at or near point 614.10769230769233 266.09230769230771\n"
     ]
    },
    {
     "name": "stdout",
     "output_type": "stream",
     "text": [
      "tresh: 0.3 eps: 0.5 minarea: 15.0\n",
      "('Final jaccard', 0.05290741472301667)\n",
      "eps: 1.0\n",
      "minarea: 1.0\n"
     ]
    },
    {
     "name": "stderr",
     "output_type": "stream",
     "text": [
      "Ring Self-intersection at or near point 762 649\n",
      "Self-intersection at or near point 614.10769230769233 266.09230769230771\n"
     ]
    },
    {
     "name": "stdout",
     "output_type": "stream",
     "text": [
      "tresh: 0.3 eps: 1.0 minarea: 1.0\n",
      "('Final jaccard', 0.05262516917635291)\n",
      "minarea: 3.0\n"
     ]
    },
    {
     "name": "stderr",
     "output_type": "stream",
     "text": [
      "Ring Self-intersection at or near point 762 649\n",
      "Self-intersection at or near point 614.10769230769233 266.09230769230771\n"
     ]
    },
    {
     "name": "stdout",
     "output_type": "stream",
     "text": [
      "tresh: 0.3 eps: 1.0 minarea: 3.0\n",
      "('Final jaccard', 0.05262803804720006)\n",
      "minarea: 10.0\n"
     ]
    },
    {
     "name": "stderr",
     "output_type": "stream",
     "text": [
      "Ring Self-intersection at or near point 762 649\n",
      "Self-intersection at or near point 614.10769230769233 266.09230769230771\n"
     ]
    },
    {
     "name": "stdout",
     "output_type": "stream",
     "text": [
      "tresh: 0.3 eps: 1.0 minarea: 10.0\n",
      "('Final jaccard', 0.05268027845799514)\n",
      "minarea: 15.0\n"
     ]
    },
    {
     "name": "stderr",
     "output_type": "stream",
     "text": [
      "Ring Self-intersection at or near point 762 649\n"
     ]
    },
    {
     "name": "stdout",
     "output_type": "stream",
     "text": [
      "tresh: 0.3 eps: 1.0 minarea: 15.0\n",
      "('Final jaccard', 0.052699650233136025)\n",
      "eps: 3.0\n",
      "minarea: 1.0\n",
      "tresh: 0.3 eps: 3.0 minarea: 1.0\n",
      "('Final jaccard', 0.05154845725526314)\n",
      "minarea: 3.0\n",
      "tresh: 0.3 eps: 3.0 minarea: 3.0\n",
      "('Final jaccard', 0.05154845725526314)\n",
      "minarea: 10.0\n",
      "tresh: 0.3 eps: 3.0 minarea: 10.0\n",
      "('Final jaccard', 0.05156295854573928)\n",
      "minarea: 15.0\n"
     ]
    },
    {
     "name": "stderr",
     "output_type": "stream",
     "text": [
      "Self-intersection at or near point 614.44444444444446 266.22222222222223\n"
     ]
    },
    {
     "name": "stdout",
     "output_type": "stream",
     "text": [
      "tresh: 0.3 eps: 3.0 minarea: 15.0\n",
      "('Final jaccard', 0.051551841364680315)\n",
      "tresh: 0.35\n",
      "eps: 0.5\n",
      "minarea: 1.0\n"
     ]
    },
    {
     "name": "stderr",
     "output_type": "stream",
     "text": [
      "Self-intersection at or near point 0 257\n",
      "Self-intersection at or near point 760.5 646.75\n",
      "Self-intersection at or near point 469.60000000000002 181.80000000000001\n",
      "Self-intersection at or near point 614.44444444444446 266.22222222222223\n"
     ]
    },
    {
     "name": "stdout",
     "output_type": "stream",
     "text": [
      "tresh: 0.35 eps: 0.5 minarea: 1.0\n",
      "('Final jaccard', 0.05282887627178847)\n",
      "minarea: 3.0\n"
     ]
    },
    {
     "name": "stderr",
     "output_type": "stream",
     "text": [
      "Self-intersection at or near point 760.5 646.75\n",
      "Self-intersection at or near point 614.44444444444446 266.22222222222223\n"
     ]
    },
    {
     "name": "stdout",
     "output_type": "stream",
     "text": [
      "tresh: 0.35 eps: 0.5 minarea: 3.0\n",
      "('Final jaccard', 0.05283711454842531)\n",
      "minarea: 10.0\n"
     ]
    },
    {
     "name": "stderr",
     "output_type": "stream",
     "text": [
      "Self-intersection at or near point 760.5 646.75\n",
      "Self-intersection at or near point 614.44444444444446 266.22222222222223\n"
     ]
    },
    {
     "name": "stdout",
     "output_type": "stream",
     "text": [
      "tresh: 0.35 eps: 0.5 minarea: 10.0\n",
      "('Final jaccard', 0.05287992871575125)\n",
      "minarea: 15.0\n"
     ]
    },
    {
     "name": "stderr",
     "output_type": "stream",
     "text": [
      "Self-intersection at or near point 760.5 646.75\n",
      "Self-intersection at or near point 614.21875 266.1875\n"
     ]
    },
    {
     "name": "stdout",
     "output_type": "stream",
     "text": [
      "tresh: 0.35 eps: 0.5 minarea: 15.0\n",
      "('Final jaccard', 0.052947022653447376)\n",
      "eps: 1.0\n",
      "minarea: 1.0\n"
     ]
    },
    {
     "name": "stderr",
     "output_type": "stream",
     "text": [
      "Ring Self-intersection at or near point 762 649\n",
      "Self-intersection at or near point 469.60000000000002 181.80000000000001\n",
      "Self-intersection at or near point 614.21875 266.1875\n"
     ]
    },
    {
     "name": "stdout",
     "output_type": "stream",
     "text": [
      "tresh: 0.35 eps: 1.0 minarea: 1.0\n",
      "('Final jaccard', 0.05263087030488606)\n",
      "minarea: 3.0\n"
     ]
    },
    {
     "name": "stderr",
     "output_type": "stream",
     "text": [
      "Ring Self-intersection at or near point 762 649\n",
      "Self-intersection at or near point 614.21875 266.1875\n"
     ]
    },
    {
     "name": "stdout",
     "output_type": "stream",
     "text": [
      "tresh: 0.35 eps: 1.0 minarea: 3.0\n",
      "('Final jaccard', 0.05263845250805566)\n",
      "minarea: 10.0\n"
     ]
    },
    {
     "name": "stderr",
     "output_type": "stream",
     "text": [
      "Ring Self-intersection at or near point 762 649\n",
      "Self-intersection at or near point 614.21875 266.1875\n"
     ]
    },
    {
     "name": "stdout",
     "output_type": "stream",
     "text": [
      "tresh: 0.35 eps: 1.0 minarea: 10.0\n",
      "('Final jaccard', 0.05266594503633486)\n",
      "minarea: 15.0\n"
     ]
    },
    {
     "name": "stderr",
     "output_type": "stream",
     "text": [
      "Ring Self-intersection at or near point 762 649\n"
     ]
    },
    {
     "name": "stdout",
     "output_type": "stream",
     "text": [
      "tresh: 0.35 eps: 1.0 minarea: 15.0\n",
      "('Final jaccard', 0.05269425892023371)\n",
      "eps: 3.0\n",
      "minarea: 1.0\n",
      "tresh: 0.35 eps: 3.0 minarea: 1.0\n",
      "('Final jaccard', 0.05162736686780521)\n",
      "minarea: 3.0\n",
      "tresh: 0.35 eps: 3.0 minarea: 3.0\n",
      "('Final jaccard', 0.05162736686780521)\n",
      "minarea: 10.0\n",
      "tresh: 0.35 eps: 3.0 minarea: 10.0\n",
      "('Final jaccard', 0.051640240263311876)\n",
      "minarea: 15.0\n"
     ]
    },
    {
     "name": "stderr",
     "output_type": "stream",
     "text": [
      "Self-intersection at or near point 614.44444444444446 266.22222222222223\n"
     ]
    },
    {
     "name": "stdout",
     "output_type": "stream",
     "text": [
      "tresh: 0.35 eps: 3.0 minarea: 15.0\n",
      "('Final jaccard', 0.05162514892585412)\n",
      "tresh: 0.4\n",
      "eps: 0.5\n",
      "minarea: 1.0\n"
     ]
    },
    {
     "name": "stderr",
     "output_type": "stream",
     "text": [
      "Self-intersection at or near point 0 257\n",
      "Self-intersection at or near point 760.5 646.75\n",
      "Self-intersection at or near point 614.44444444444446 266.22222222222223\n"
     ]
    },
    {
     "name": "stdout",
     "output_type": "stream",
     "text": [
      "tresh: 0.4 eps: 0.5 minarea: 1.0\n",
      "('Final jaccard', 0.05287228629787746)\n",
      "minarea: 3.0\n"
     ]
    },
    {
     "name": "stderr",
     "output_type": "stream",
     "text": [
      "Self-intersection at or near point 760.5 646.75\n",
      "Self-intersection at or near point 614.44444444444446 266.22222222222223\n"
     ]
    },
    {
     "name": "stdout",
     "output_type": "stream",
     "text": [
      "tresh: 0.4 eps: 0.5 minarea: 3.0\n",
      "('Final jaccard', 0.05287804496989535)\n",
      "minarea: 10.0\n"
     ]
    },
    {
     "name": "stderr",
     "output_type": "stream",
     "text": [
      "Self-intersection at or near point 760.5 646.75\n",
      "Self-intersection at or near point 614.44444444444446 266.22222222222223\n"
     ]
    },
    {
     "name": "stdout",
     "output_type": "stream",
     "text": [
      "tresh: 0.4 eps: 0.5 minarea: 10.0\n",
      "('Final jaccard', 0.052914024171660905)\n",
      "minarea: 15.0\n"
     ]
    },
    {
     "name": "stderr",
     "output_type": "stream",
     "text": [
      "Self-intersection at or near point 760.5 646.75\n",
      "Self-intersection at or near point 614.21875 266.1875\n"
     ]
    },
    {
     "name": "stdout",
     "output_type": "stream",
     "text": [
      "tresh: 0.4 eps: 0.5 minarea: 15.0\n",
      "('Final jaccard', 0.052954611102320276)\n",
      "eps: 1.0\n",
      "minarea: 1.0\n"
     ]
    },
    {
     "name": "stderr",
     "output_type": "stream",
     "text": [
      "Self-intersection at or near point 114 246\n",
      "Self-intersection at or near point 614.21875 266.1875\n"
     ]
    },
    {
     "name": "stdout",
     "output_type": "stream",
     "text": [
      "tresh: 0.4 eps: 1.0 minarea: 1.0\n",
      "('Final jaccard', 0.05270209934863748)\n",
      "minarea: 3.0\n"
     ]
    },
    {
     "name": "stderr",
     "output_type": "stream",
     "text": [
      "Self-intersection at or near point 114 246\n",
      "Self-intersection at or near point 614.21875 266.1875\n"
     ]
    },
    {
     "name": "stdout",
     "output_type": "stream",
     "text": [
      "tresh: 0.4 eps: 1.0 minarea: 3.0\n",
      "('Final jaccard', 0.0527072332067784)\n",
      "minarea: 10.0\n"
     ]
    },
    {
     "name": "stderr",
     "output_type": "stream",
     "text": [
      "Self-intersection at or near point 114 246\n",
      "Self-intersection at or near point 614.21875 266.1875\n"
     ]
    },
    {
     "name": "stdout",
     "output_type": "stream",
     "text": [
      "tresh: 0.4 eps: 1.0 minarea: 10.0\n",
      "('Final jaccard', 0.052744809463163386)\n",
      "minarea: 15.0\n"
     ]
    },
    {
     "name": "stderr",
     "output_type": "stream",
     "text": [
      "Self-intersection at or near point 114 246\n"
     ]
    },
    {
     "name": "stdout",
     "output_type": "stream",
     "text": [
      "tresh: 0.4 eps: 1.0 minarea: 15.0\n",
      "('Final jaccard', 0.05273816030195489)\n",
      "eps: 3.0\n",
      "minarea: 1.0\n",
      "tresh: 0.4 eps: 3.0 minarea: 1.0\n",
      "('Final jaccard', 0.05169983861221981)\n",
      "minarea: 3.0\n",
      "tresh: 0.4 eps: 3.0 minarea: 3.0\n",
      "('Final jaccard', 0.05169983861221981)\n",
      "minarea: 10.0\n",
      "tresh: 0.4 eps: 3.0 minarea: 10.0\n",
      "('Final jaccard', 0.05171498829877459)\n",
      "minarea: 15.0\n"
     ]
    },
    {
     "name": "stderr",
     "output_type": "stream",
     "text": [
      "Self-intersection at or near point 614.38297872340422 266.21276595744683\n"
     ]
    },
    {
     "name": "stdout",
     "output_type": "stream",
     "text": [
      "tresh: 0.4 eps: 3.0 minarea: 15.0\n",
      "('Final jaccard', 0.05169747469813931)\n",
      "tresh: 0.45\n",
      "eps: 0.5\n",
      "minarea: 1.0\n"
     ]
    },
    {
     "name": "stderr",
     "output_type": "stream",
     "text": [
      "Self-intersection at or near point 0 257\n",
      "Self-intersection at or near point 614.38297872340422 266.21276595744683\n"
     ]
    },
    {
     "name": "stdout",
     "output_type": "stream",
     "text": [
      "tresh: 0.45 eps: 0.5 minarea: 1.0\n",
      "('Final jaccard', 0.052847753483885346)\n",
      "minarea: 3.0\n"
     ]
    },
    {
     "name": "stderr",
     "output_type": "stream",
     "text": [
      "Self-intersection at or near point 614.38297872340422 266.21276595744683\n"
     ]
    },
    {
     "name": "stdout",
     "output_type": "stream",
     "text": [
      "tresh: 0.45 eps: 0.5 minarea: 3.0\n",
      "('Final jaccard', 0.05285632010999427)\n",
      "minarea: 10.0\n"
     ]
    },
    {
     "name": "stderr",
     "output_type": "stream",
     "text": [
      "Self-intersection at or near point 614.38297872340422 266.21276595744683\n"
     ]
    },
    {
     "name": "stdout",
     "output_type": "stream",
     "text": [
      "tresh: 0.45 eps: 0.5 minarea: 10.0\n",
      "('Final jaccard', 0.05289412240407878)\n",
      "minarea: 15.0\n"
     ]
    },
    {
     "name": "stderr",
     "output_type": "stream",
     "text": [
      "Self-intersection at or near point 614.38297872340422 266.21276595744683\n"
     ]
    },
    {
     "name": "stdout",
     "output_type": "stream",
     "text": [
      "tresh: 0.45 eps: 0.5 minarea: 15.0\n",
      "('Final jaccard', 0.052901954608891445)\n",
      "eps: 1.0\n",
      "minarea: 1.0\n"
     ]
    },
    {
     "name": "stderr",
     "output_type": "stream",
     "text": [
      "Self-intersection at or near point 614.38297872340422 266.21276595744683\n"
     ]
    },
    {
     "name": "stdout",
     "output_type": "stream",
     "text": [
      "tresh: 0.45 eps: 1.0 minarea: 1.0\n",
      "('Final jaccard', 0.05269171359264245)\n",
      "minarea: 3.0\n"
     ]
    },
    {
     "name": "stderr",
     "output_type": "stream",
     "text": [
      "Self-intersection at or near point 614.38297872340422 266.21276595744683\n"
     ]
    },
    {
     "name": "stdout",
     "output_type": "stream",
     "text": [
      "tresh: 0.45 eps: 1.0 minarea: 3.0\n",
      "('Final jaccard', 0.05269702193574595)\n",
      "minarea: 10.0\n"
     ]
    },
    {
     "name": "stderr",
     "output_type": "stream",
     "text": [
      "Self-intersection at or near point 614.38297872340422 266.21276595744683\n"
     ]
    },
    {
     "name": "stdout",
     "output_type": "stream",
     "text": [
      "tresh: 0.45 eps: 1.0 minarea: 10.0\n",
      "('Final jaccard', 0.05271587176513888)\n",
      "minarea: 15.0\n",
      "tresh: 0.45 eps: 1.0 minarea: 15.0\n",
      "('Final jaccard', 0.052746920157526495)\n",
      "eps: 3.0\n",
      "minarea: 1.0\n",
      "tresh: 0.45 eps: 3.0 minarea: 1.0\n",
      "('Final jaccard', 0.05164552560390712)\n",
      "minarea: 3.0\n",
      "tresh: 0.45 eps: 3.0 minarea: 3.0\n",
      "('Final jaccard', 0.05164552560390712)\n",
      "minarea: 10.0\n",
      "tresh: 0.45 eps: 3.0 minarea: 10.0\n",
      "('Final jaccard', 0.05165614287321464)\n",
      "minarea: 15.0\n",
      "tresh: 0.45 eps: 3.0 minarea: 15.0\n",
      "('Final jaccard', 0.051644833180061835)\n",
      "8\n",
      "tresh: 0.15\n",
      "eps: 0.5\n",
      "minarea: 1.0\n"
     ]
    },
    {
     "name": "stderr",
     "output_type": "stream",
     "text": [
      "Self-intersection at or near point 0 258\n",
      "Self-intersection at or near point 68.545454545454547 59.272727272727273\n",
      "Ring Self-intersection at or near point 761 648\n"
     ]
    },
    {
     "name": "stdout",
     "output_type": "stream",
     "text": [
      "tresh: 0.15 eps: 0.5 minarea: 1.0\n",
      "('Final jaccard', 0.11146230189258048)\n",
      "minarea: 3.0\n"
     ]
    },
    {
     "name": "stderr",
     "output_type": "stream",
     "text": [
      "Self-intersection at or near point 0 258\n",
      "Self-intersection at or near point 68.545454545454547 59.272727272727273\n",
      "Ring Self-intersection at or near point 761 648\n"
     ]
    },
    {
     "name": "stdout",
     "output_type": "stream",
     "text": [
      "tresh: 0.15 eps: 0.5 minarea: 3.0\n",
      "('Final jaccard', 0.11148505588063384)\n",
      "minarea: 10.0\n"
     ]
    },
    {
     "name": "stderr",
     "output_type": "stream",
     "text": [
      "Self-intersection at or near point 68.545454545454547 59.272727272727273\n",
      "Ring Self-intersection at or near point 761 648\n"
     ]
    },
    {
     "name": "stdout",
     "output_type": "stream",
     "text": [
      "tresh: 0.15 eps: 0.5 minarea: 10.0\n",
      "('Final jaccard', 0.11305390015609396)\n",
      "minarea: 15.0\n"
     ]
    },
    {
     "name": "stderr",
     "output_type": "stream",
     "text": [
      "Self-intersection at or near point 68.545454545454547 59.272727272727273\n",
      "Ring Self-intersection at or near point 761 648\n"
     ]
    },
    {
     "name": "stdout",
     "output_type": "stream",
     "text": [
      "tresh: 0.15 eps: 0.5 minarea: 15.0\n",
      "('Final jaccard', 0.11378823200172128)\n",
      "eps: 1.0\n",
      "minarea: 1.0\n"
     ]
    },
    {
     "name": "stderr",
     "output_type": "stream",
     "text": [
      "Ring Self-intersection at or near point 761 648\n"
     ]
    },
    {
     "name": "stdout",
     "output_type": "stream",
     "text": [
      "tresh: 0.15 eps: 1.0 minarea: 1.0\n",
      "('Final jaccard', 0.10904629834996742)\n",
      "minarea: 3.0\n"
     ]
    },
    {
     "name": "stderr",
     "output_type": "stream",
     "text": [
      "Ring Self-intersection at or near point 761 648\n"
     ]
    },
    {
     "name": "stdout",
     "output_type": "stream",
     "text": [
      "tresh: 0.15 eps: 1.0 minarea: 3.0\n",
      "('Final jaccard', 0.10906936949298887)\n",
      "minarea: 10.0\n"
     ]
    },
    {
     "name": "stderr",
     "output_type": "stream",
     "text": [
      "Ring Self-intersection at or near point 761 648\n"
     ]
    },
    {
     "name": "stdout",
     "output_type": "stream",
     "text": [
      "tresh: 0.15 eps: 1.0 minarea: 10.0\n",
      "('Final jaccard', 0.11003028695267666)\n",
      "minarea: 15.0\n"
     ]
    },
    {
     "name": "stderr",
     "output_type": "stream",
     "text": [
      "Ring Self-intersection at or near point 761 648\n"
     ]
    },
    {
     "name": "stdout",
     "output_type": "stream",
     "text": [
      "tresh: 0.15 eps: 1.0 minarea: 15.0\n",
      "('Final jaccard', 0.1107022460604169)\n",
      "eps: 3.0\n",
      "minarea: 1.0\n",
      "tresh: 0.15 eps: 3.0 minarea: 1.0\n",
      "('Final jaccard', 0.09325004815711388)\n",
      "minarea: 3.0\n",
      "tresh: 0.15 eps: 3.0 minarea: 3.0\n",
      "('Final jaccard', 0.09325004815711388)\n",
      "minarea: 10.0\n",
      "tresh: 0.15 eps: 3.0 minarea: 10.0\n",
      "('Final jaccard', 0.09325091915226726)\n",
      "minarea: 15.0\n",
      "tresh: 0.15 eps: 3.0 minarea: 15.0\n",
      "('Final jaccard', 0.0929336897532353)\n",
      "tresh: 0.2\n",
      "eps: 0.5\n",
      "minarea: 1.0\n"
     ]
    },
    {
     "name": "stderr",
     "output_type": "stream",
     "text": [
      "Self-intersection at or near point 0 258\n",
      "Self-intersection at or near point 69.200000000000003 58.399999999999999\n",
      "Self-intersection at or near point 620.22222222222217 779.16666666666663\n"
     ]
    },
    {
     "name": "stdout",
     "output_type": "stream",
     "text": [
      "tresh: 0.2 eps: 0.5 minarea: 1.0\n",
      "('Final jaccard', 0.11149694220705811)\n",
      "minarea: 3.0\n"
     ]
    },
    {
     "name": "stderr",
     "output_type": "stream",
     "text": [
      "Self-intersection at or near point 0 258\n",
      "Self-intersection at or near point 69.200000000000003 58.399999999999999\n",
      "Self-intersection at or near point 620.22222222222217 779.16666666666663\n"
     ]
    },
    {
     "name": "stdout",
     "output_type": "stream",
     "text": [
      "tresh: 0.2 eps: 0.5 minarea: 3.0\n",
      "('Final jaccard', 0.11153132104661488)\n",
      "minarea: 10.0\n"
     ]
    },
    {
     "name": "stderr",
     "output_type": "stream",
     "text": [
      "Self-intersection at or near point 69.200000000000003 58.399999999999999\n",
      "Self-intersection at or near point 620.22222222222217 779.16666666666663\n"
     ]
    },
    {
     "name": "stdout",
     "output_type": "stream",
     "text": [
      "tresh: 0.2 eps: 0.5 minarea: 10.0\n",
      "('Final jaccard', 0.11299789367435269)\n",
      "minarea: 15.0\n"
     ]
    },
    {
     "name": "stderr",
     "output_type": "stream",
     "text": [
      "Self-intersection at or near point 69.200000000000003 58.399999999999999\n",
      "Self-intersection at or near point 620.22222222222217 779.16666666666663\n"
     ]
    },
    {
     "name": "stdout",
     "output_type": "stream",
     "text": [
      "tresh: 0.2 eps: 0.5 minarea: 15.0\n",
      "('Final jaccard', 0.11396497396857874)\n",
      "eps: 1.0\n",
      "minarea: 1.0\n"
     ]
    },
    {
     "name": "stderr",
     "output_type": "stream",
     "text": [
      "Self-intersection at or near point 620.29999999999995 779.22500000000002\n"
     ]
    },
    {
     "name": "stdout",
     "output_type": "stream",
     "text": [
      "tresh: 0.2 eps: 1.0 minarea: 1.0\n",
      "('Final jaccard', 0.10920688054554413)\n",
      "minarea: 3.0\n"
     ]
    },
    {
     "name": "stderr",
     "output_type": "stream",
     "text": [
      "Self-intersection at or near point 620.29999999999995 779.22500000000002\n"
     ]
    },
    {
     "name": "stdout",
     "output_type": "stream",
     "text": [
      "tresh: 0.2 eps: 1.0 minarea: 3.0\n",
      "('Final jaccard', 0.10923673626433462)\n",
      "minarea: 10.0\n"
     ]
    },
    {
     "name": "stderr",
     "output_type": "stream",
     "text": [
      "Self-intersection at or near point 620.29999999999995 779.22500000000002\n"
     ]
    },
    {
     "name": "stdout",
     "output_type": "stream",
     "text": [
      "tresh: 0.2 eps: 1.0 minarea: 10.0\n",
      "('Final jaccard', 0.11097538332610478)\n",
      "minarea: 15.0\n"
     ]
    },
    {
     "name": "stderr",
     "output_type": "stream",
     "text": [
      "Self-intersection at or near point 620.29999999999995 779.22500000000002\n"
     ]
    },
    {
     "name": "stdout",
     "output_type": "stream",
     "text": [
      "tresh: 0.2 eps: 1.0 minarea: 15.0\n",
      "('Final jaccard', 0.11090593647452857)\n",
      "eps: 3.0\n",
      "minarea: 1.0\n"
     ]
    },
    {
     "name": "stderr",
     "output_type": "stream",
     "text": [
      "Self-intersection at or near point 620.77586206896547 778.67241379310349\n"
     ]
    },
    {
     "name": "stdout",
     "output_type": "stream",
     "text": [
      "tresh: 0.2 eps: 3.0 minarea: 1.0\n",
      "('Final jaccard', 0.0931351841076871)\n",
      "minarea: 3.0\n"
     ]
    },
    {
     "name": "stderr",
     "output_type": "stream",
     "text": [
      "Self-intersection at or near point 620.77586206896547 778.67241379310349\n"
     ]
    },
    {
     "name": "stdout",
     "output_type": "stream",
     "text": [
      "tresh: 0.2 eps: 3.0 minarea: 3.0\n",
      "('Final jaccard', 0.0931351841076871)\n",
      "minarea: 10.0\n"
     ]
    },
    {
     "name": "stderr",
     "output_type": "stream",
     "text": [
      "Self-intersection at or near point 620.77586206896547 778.67241379310349\n"
     ]
    },
    {
     "name": "stdout",
     "output_type": "stream",
     "text": [
      "tresh: 0.2 eps: 3.0 minarea: 10.0\n",
      "('Final jaccard', 0.09314331582017207)\n",
      "minarea: 15.0\n"
     ]
    },
    {
     "name": "stderr",
     "output_type": "stream",
     "text": [
      "Self-intersection at or near point 620.77586206896547 778.67241379310349\n"
     ]
    },
    {
     "name": "stdout",
     "output_type": "stream",
     "text": [
      "tresh: 0.2 eps: 3.0 minarea: 15.0\n",
      "('Final jaccard', 0.09302497575579916)\n",
      "tresh: 0.25\n",
      "eps: 0.5\n",
      "minarea: 1.0\n"
     ]
    },
    {
     "name": "stderr",
     "output_type": "stream",
     "text": [
      "Self-intersection at or near point 0 258\n",
      "Self-intersection at or near point 69.200000000000003 58.399999999999999\n",
      "Self-intersection at or near point 632.85714285714289 706.85714285714289\n"
     ]
    },
    {
     "name": "stdout",
     "output_type": "stream",
     "text": [
      "tresh: 0.25 eps: 0.5 minarea: 1.0\n",
      "('Final jaccard', 0.11179732201577379)\n",
      "minarea: 3.0\n"
     ]
    },
    {
     "name": "stderr",
     "output_type": "stream",
     "text": [
      "Self-intersection at or near point 0 258\n",
      "Self-intersection at or near point 69.200000000000003 58.399999999999999\n",
      "Self-intersection at or near point 632.85714285714289 706.85714285714289\n"
     ]
    },
    {
     "name": "stdout",
     "output_type": "stream",
     "text": [
      "tresh: 0.25 eps: 0.5 minarea: 3.0\n",
      "('Final jaccard', 0.11183282957348506)\n",
      "minarea: 10.0\n"
     ]
    },
    {
     "name": "stderr",
     "output_type": "stream",
     "text": [
      "Self-intersection at or near point 69.200000000000003 58.399999999999999\n",
      "Self-intersection at or near point 632.85714285714289 706.85714285714289\n"
     ]
    },
    {
     "name": "stdout",
     "output_type": "stream",
     "text": [
      "tresh: 0.25 eps: 0.5 minarea: 10.0\n",
      "('Final jaccard', 0.11336553983723097)\n",
      "minarea: 15.0\n"
     ]
    },
    {
     "name": "stderr",
     "output_type": "stream",
     "text": [
      "Self-intersection at or near point 69.200000000000003 58.399999999999999\n",
      "Self-intersection at or near point 632.85714285714289 706.85714285714289\n"
     ]
    },
    {
     "name": "stdout",
     "output_type": "stream",
     "text": [
      "tresh: 0.25 eps: 0.5 minarea: 15.0\n",
      "('Final jaccard', 0.11419087772809693)\n",
      "eps: 1.0\n",
      "minarea: 1.0\n"
     ]
    },
    {
     "name": "stderr",
     "output_type": "stream",
     "text": [
      "Self-intersection at or near point 632.85714285714289 706.85714285714289\n"
     ]
    },
    {
     "name": "stdout",
     "output_type": "stream",
     "text": [
      "tresh: 0.25 eps: 1.0 minarea: 1.0\n",
      "('Final jaccard', 0.11056722740560301)\n",
      "minarea: 3.0\n"
     ]
    },
    {
     "name": "stderr",
     "output_type": "stream",
     "text": [
      "Self-intersection at or near point 632.85714285714289 706.85714285714289\n"
     ]
    },
    {
     "name": "stdout",
     "output_type": "stream",
     "text": [
      "tresh: 0.25 eps: 1.0 minarea: 3.0\n",
      "('Final jaccard', 0.11059708284602504)\n",
      "minarea: 10.0\n"
     ]
    },
    {
     "name": "stderr",
     "output_type": "stream",
     "text": [
      "Self-intersection at or near point 632.85714285714289 706.85714285714289\n"
     ]
    },
    {
     "name": "stdout",
     "output_type": "stream",
     "text": [
      "tresh: 0.25 eps: 1.0 minarea: 10.0\n",
      "('Final jaccard', 0.11240132913174727)\n",
      "minarea: 15.0\n"
     ]
    },
    {
     "name": "stderr",
     "output_type": "stream",
     "text": [
      "Self-intersection at or near point 632.85714285714289 706.85714285714289\n"
     ]
    },
    {
     "name": "stdout",
     "output_type": "stream",
     "text": [
      "tresh: 0.25 eps: 1.0 minarea: 15.0\n",
      "('Final jaccard', 0.11233131843521989)\n",
      "eps: 3.0\n",
      "minarea: 1.0\n",
      "tresh: 0.25 eps: 3.0 minarea: 1.0\n",
      "('Final jaccard', 0.09298073049766209)\n",
      "minarea: 3.0\n",
      "tresh: 0.25 eps: 3.0 minarea: 3.0\n",
      "('Final jaccard', 0.09298073049766209)\n",
      "minarea: 10.0\n",
      "tresh: 0.25 eps: 3.0 minarea: 10.0\n",
      "('Final jaccard', 0.09300598810017681)\n",
      "minarea: 15.0\n",
      "tresh: 0.25 eps: 3.0 minarea: 15.0\n",
      "('Final jaccard', 0.09285480701514916)\n",
      "tresh: 0.3\n",
      "eps: 0.5\n",
      "minarea: 1.0\n"
     ]
    },
    {
     "name": "stderr",
     "output_type": "stream",
     "text": [
      "Self-intersection at or near point 0 258\n",
      "Self-intersection at or near point 65 612\n"
     ]
    },
    {
     "name": "stdout",
     "output_type": "stream",
     "text": [
      "tresh: 0.3 eps: 0.5 minarea: 1.0\n",
      "('Final jaccard', 0.11066889133885241)\n",
      "minarea: 3.0\n"
     ]
    },
    {
     "name": "stderr",
     "output_type": "stream",
     "text": [
      "Self-intersection at or near point 0 258\n",
      "Self-intersection at or near point 65 612\n"
     ]
    },
    {
     "name": "stdout",
     "output_type": "stream",
     "text": [
      "tresh: 0.3 eps: 0.5 minarea: 3.0\n",
      "('Final jaccard', 0.11072197788197435)\n",
      "minarea: 10.0\n"
     ]
    },
    {
     "name": "stderr",
     "output_type": "stream",
     "text": [
      "Self-intersection at or near point 65 612\n"
     ]
    },
    {
     "name": "stdout",
     "output_type": "stream",
     "text": [
      "tresh: 0.3 eps: 0.5 minarea: 10.0\n",
      "('Final jaccard', 0.11170278363026799)\n",
      "minarea: 15.0\n"
     ]
    },
    {
     "name": "stderr",
     "output_type": "stream",
     "text": [
      "Self-intersection at or near point 65 612\n"
     ]
    },
    {
     "name": "stdout",
     "output_type": "stream",
     "text": [
      "tresh: 0.3 eps: 0.5 minarea: 15.0\n",
      "('Final jaccard', 0.11218308846577661)\n",
      "eps: 1.0\n",
      "minarea: 1.0\n"
     ]
    },
    {
     "name": "stderr",
     "output_type": "stream",
     "text": [
      "Self-intersection at or near point 447 429\n"
     ]
    },
    {
     "name": "stdout",
     "output_type": "stream",
     "text": [
      "tresh: 0.3 eps: 1.0 minarea: 1.0\n",
      "('Final jaccard', 0.11077476638466592)\n",
      "minarea: 3.0\n"
     ]
    },
    {
     "name": "stderr",
     "output_type": "stream",
     "text": [
      "Self-intersection at or near point 447 429\n"
     ]
    },
    {
     "name": "stdout",
     "output_type": "stream",
     "text": [
      "tresh: 0.3 eps: 1.0 minarea: 3.0\n",
      "('Final jaccard', 0.11082205711443768)\n",
      "minarea: 10.0\n"
     ]
    },
    {
     "name": "stderr",
     "output_type": "stream",
     "text": [
      "Ring Self-intersection at or near point 761 648\n"
     ]
    },
    {
     "name": "stdout",
     "output_type": "stream",
     "text": [
      "tresh: 0.3 eps: 1.0 minarea: 10.0\n",
      "('Final jaccard', 0.11266818152347961)\n",
      "minarea: 15.0\n"
     ]
    },
    {
     "name": "stderr",
     "output_type": "stream",
     "text": [
      "Ring Self-intersection at or near point 761 648\n"
     ]
    },
    {
     "name": "stdout",
     "output_type": "stream",
     "text": [
      "tresh: 0.3 eps: 1.0 minarea: 15.0\n",
      "('Final jaccard', 0.11501789227734398)\n",
      "eps: 3.0\n",
      "minarea: 1.0\n",
      "tresh: 0.3 eps: 3.0 minarea: 1.0\n",
      "('Final jaccard', 0.09273046162253457)\n",
      "minarea: 3.0\n",
      "tresh: 0.3 eps: 3.0 minarea: 3.0\n",
      "('Final jaccard', 0.09273046162253457)\n",
      "minarea: 10.0\n",
      "tresh: 0.3 eps: 3.0 minarea: 10.0\n",
      "('Final jaccard', 0.09273046350786557)\n",
      "minarea: 15.0\n",
      "tresh: 0.3 eps: 3.0 minarea: 15.0\n",
      "('Final jaccard', 0.09267818734786974)\n",
      "tresh: 0.35\n",
      "eps: 0.5\n",
      "minarea: 1.0\n"
     ]
    },
    {
     "name": "stderr",
     "output_type": "stream",
     "text": [
      "Self-intersection at or near point 0 258\n",
      "Ring Self-intersection at or near point 761 648\n"
     ]
    },
    {
     "name": "stdout",
     "output_type": "stream",
     "text": [
      "tresh: 0.35 eps: 0.5 minarea: 1.0\n",
      "('Final jaccard', 0.11114173378902403)\n",
      "minarea: 3.0\n"
     ]
    },
    {
     "name": "stderr",
     "output_type": "stream",
     "text": [
      "Self-intersection at or near point 0 258\n",
      "Ring Self-intersection at or near point 761 648\n"
     ]
    },
    {
     "name": "stdout",
     "output_type": "stream",
     "text": [
      "tresh: 0.35 eps: 0.5 minarea: 3.0\n",
      "('Final jaccard', 0.11132766889052834)\n",
      "minarea: 10.0\n"
     ]
    },
    {
     "name": "stderr",
     "output_type": "stream",
     "text": [
      "Ring Self-intersection at or near point 761 648\n"
     ]
    },
    {
     "name": "stdout",
     "output_type": "stream",
     "text": [
      "tresh: 0.35 eps: 0.5 minarea: 10.0\n",
      "('Final jaccard', 0.11223169482525792)\n",
      "minarea: 15.0\n"
     ]
    },
    {
     "name": "stderr",
     "output_type": "stream",
     "text": [
      "Ring Self-intersection at or near point 761 648\n"
     ]
    },
    {
     "name": "stdout",
     "output_type": "stream",
     "text": [
      "tresh: 0.35 eps: 0.5 minarea: 15.0\n",
      "('Final jaccard', 0.11297902733583243)\n",
      "eps: 1.0\n",
      "minarea: 1.0\n"
     ]
    },
    {
     "name": "stderr",
     "output_type": "stream",
     "text": [
      "Ring Self-intersection at or near point 761 648\n"
     ]
    },
    {
     "name": "stdout",
     "output_type": "stream",
     "text": [
      "tresh: 0.35 eps: 1.0 minarea: 1.0\n",
      "('Final jaccard', 0.1110666562757533)\n",
      "minarea: 3.0\n"
     ]
    },
    {
     "name": "stderr",
     "output_type": "stream",
     "text": [
      "Ring Self-intersection at or near point 761 648\n"
     ]
    },
    {
     "name": "stdout",
     "output_type": "stream",
     "text": [
      "tresh: 0.35 eps: 1.0 minarea: 3.0\n",
      "('Final jaccard', 0.1112685371970762)\n",
      "minarea: 10.0\n"
     ]
    },
    {
     "name": "stderr",
     "output_type": "stream",
     "text": [
      "Ring Self-intersection at or near point 761 648\n"
     ]
    },
    {
     "name": "stdout",
     "output_type": "stream",
     "text": [
      "tresh: 0.35 eps: 1.0 minarea: 10.0\n",
      "('Final jaccard', 0.1130618591712157)\n",
      "minarea: 15.0\n"
     ]
    },
    {
     "name": "stderr",
     "output_type": "stream",
     "text": [
      "Ring Self-intersection at or near point 761 648\n"
     ]
    },
    {
     "name": "stdout",
     "output_type": "stream",
     "text": [
      "tresh: 0.35 eps: 1.0 minarea: 15.0\n",
      "('Final jaccard', 0.1133976040277485)\n",
      "eps: 3.0\n",
      "minarea: 1.0\n",
      "tresh: 0.35 eps: 3.0 minarea: 1.0\n",
      "('Final jaccard', 0.0917088710092605)\n",
      "minarea: 3.0\n",
      "tresh: 0.35 eps: 3.0 minarea: 3.0\n",
      "('Final jaccard', 0.0917088710092605)\n",
      "minarea: 10.0\n",
      "tresh: 0.35 eps: 3.0 minarea: 10.0\n",
      "('Final jaccard', 0.0917088710092605)\n",
      "minarea: 15.0\n",
      "tresh: 0.35 eps: 3.0 minarea: 15.0\n",
      "('Final jaccard', 0.09166573845421296)\n",
      "tresh: 0.4\n",
      "eps: 0.5\n",
      "minarea: 1.0\n"
     ]
    },
    {
     "name": "stderr",
     "output_type": "stream",
     "text": [
      "Self-intersection at or near point 0 258\n",
      "Self-intersection at or near point 501.39999999999998 823.39999999999998\n",
      "Self-intersection at or near point 390 196\n"
     ]
    },
    {
     "name": "stdout",
     "output_type": "stream",
     "text": [
      "tresh: 0.4 eps: 0.5 minarea: 1.0\n",
      "('Final jaccard', 0.11052359834832762)\n",
      "minarea: 3.0\n"
     ]
    },
    {
     "name": "stderr",
     "output_type": "stream",
     "text": [
      "Self-intersection at or near point 0 258\n",
      "Self-intersection at or near point 501.39999999999998 823.39999999999998\n"
     ]
    },
    {
     "name": "stdout",
     "output_type": "stream",
     "text": [
      "tresh: 0.4 eps: 0.5 minarea: 3.0\n",
      "('Final jaccard', 0.11070031082569594)\n",
      "minarea: 10.0\n"
     ]
    },
    {
     "name": "stderr",
     "output_type": "stream",
     "text": [
      "Self-intersection at or near point 501.39999999999998 823.39999999999998\n"
     ]
    },
    {
     "name": "stdout",
     "output_type": "stream",
     "text": [
      "tresh: 0.4 eps: 0.5 minarea: 10.0\n",
      "('Final jaccard', 0.11169953915349526)\n",
      "minarea: 15.0\n"
     ]
    },
    {
     "name": "stderr",
     "output_type": "stream",
     "text": [
      "Self-intersection at or near point 501.39999999999998 823.39999999999998\n"
     ]
    },
    {
     "name": "stdout",
     "output_type": "stream",
     "text": [
      "tresh: 0.4 eps: 0.5 minarea: 15.0\n",
      "('Final jaccard', 0.11367166347500024)\n",
      "eps: 1.0\n",
      "minarea: 1.0\n"
     ]
    },
    {
     "name": "stderr",
     "output_type": "stream",
     "text": [
      "Self-intersection at or near point 100 518\n"
     ]
    },
    {
     "name": "stdout",
     "output_type": "stream",
     "text": [
      "tresh: 0.4 eps: 1.0 minarea: 1.0\n",
      "('Final jaccard', 0.10978552049301213)\n",
      "minarea: 3.0\n"
     ]
    },
    {
     "name": "stderr",
     "output_type": "stream",
     "text": [
      "Self-intersection at or near point 100 518\n"
     ]
    },
    {
     "name": "stdout",
     "output_type": "stream",
     "text": [
      "tresh: 0.4 eps: 1.0 minarea: 3.0\n",
      "('Final jaccard', 0.1099607558766716)\n",
      "minarea: 10.0\n"
     ]
    },
    {
     "name": "stderr",
     "output_type": "stream",
     "text": [
      "Self-intersection at or near point 100 518\n"
     ]
    },
    {
     "name": "stdout",
     "output_type": "stream",
     "text": [
      "tresh: 0.4 eps: 1.0 minarea: 10.0\n",
      "('Final jaccard', 0.11151624947858572)\n",
      "minarea: 15.0\n"
     ]
    },
    {
     "name": "stderr",
     "output_type": "stream",
     "text": [
      "Ring Self-intersection at or near point 761 648\n"
     ]
    },
    {
     "name": "stdout",
     "output_type": "stream",
     "text": [
      "tresh: 0.4 eps: 1.0 minarea: 15.0\n",
      "('Final jaccard', 0.11264213051139686)\n",
      "eps: 3.0\n",
      "minarea: 1.0\n",
      "tresh: 0.4 eps: 3.0 minarea: 1.0\n",
      "('Final jaccard', 0.09150655076241927)\n",
      "minarea: 3.0\n",
      "tresh: 0.4 eps: 3.0 minarea: 3.0\n",
      "('Final jaccard', 0.09150655076241927)\n",
      "minarea: 10.0\n",
      "tresh: 0.4 eps: 3.0 minarea: 10.0\n",
      "('Final jaccard', 0.09150655076241927)\n",
      "minarea: 15.0\n",
      "tresh: 0.4 eps: 3.0 minarea: 15.0\n",
      "('Final jaccard', 0.09165912003828668)\n",
      "tresh: 0.45\n",
      "eps: 0.5\n",
      "minarea: 1.0\n"
     ]
    },
    {
     "name": "stderr",
     "output_type": "stream",
     "text": [
      "Self-intersection at or near point 0 258\n",
      "Self-intersection at or near point 501.39999999999998 823.39999999999998\n",
      "Self-intersection at or near point 390 196\n"
     ]
    },
    {
     "name": "stdout",
     "output_type": "stream",
     "text": [
      "tresh: 0.45 eps: 0.5 minarea: 1.0\n",
      "('Final jaccard', 0.11053110112603567)\n",
      "minarea: 3.0\n"
     ]
    },
    {
     "name": "stderr",
     "output_type": "stream",
     "text": [
      "Self-intersection at or near point 0 258\n",
      "Self-intersection at or near point 501.39999999999998 823.39999999999998\n"
     ]
    },
    {
     "name": "stdout",
     "output_type": "stream",
     "text": [
      "tresh: 0.45 eps: 0.5 minarea: 3.0\n",
      "('Final jaccard', 0.11069842806536484)\n",
      "minarea: 10.0\n"
     ]
    },
    {
     "name": "stderr",
     "output_type": "stream",
     "text": [
      "Self-intersection at or near point 501.39999999999998 823.39999999999998\n"
     ]
    },
    {
     "name": "stdout",
     "output_type": "stream",
     "text": [
      "tresh: 0.45 eps: 0.5 minarea: 10.0\n",
      "('Final jaccard', 0.11174004716638095)\n",
      "minarea: 15.0\n"
     ]
    },
    {
     "name": "stderr",
     "output_type": "stream",
     "text": [
      "Self-intersection at or near point 501.39999999999998 823.39999999999998\n"
     ]
    },
    {
     "name": "stdout",
     "output_type": "stream",
     "text": [
      "tresh: 0.45 eps: 0.5 minarea: 15.0\n",
      "('Final jaccard', 0.11367099435513739)\n",
      "eps: 1.0\n",
      "minarea: 1.0\n"
     ]
    },
    {
     "name": "stderr",
     "output_type": "stream",
     "text": [
      "Self-intersection at or near point 100 518\n"
     ]
    },
    {
     "name": "stdout",
     "output_type": "stream",
     "text": [
      "tresh: 0.45 eps: 1.0 minarea: 1.0\n",
      "('Final jaccard', 0.10968906109723424)\n",
      "minarea: 3.0\n"
     ]
    },
    {
     "name": "stderr",
     "output_type": "stream",
     "text": [
      "Self-intersection at or near point 100 518\n"
     ]
    },
    {
     "name": "stdout",
     "output_type": "stream",
     "text": [
      "tresh: 0.45 eps: 1.0 minarea: 3.0\n",
      "('Final jaccard', 0.10986036292933216)\n",
      "minarea: 10.0\n"
     ]
    },
    {
     "name": "stderr",
     "output_type": "stream",
     "text": [
      "Self-intersection at or near point 100 518\n"
     ]
    },
    {
     "name": "stdout",
     "output_type": "stream",
     "text": [
      "tresh: 0.45 eps: 1.0 minarea: 10.0\n",
      "('Final jaccard', 0.11149145012690083)\n",
      "minarea: 15.0\n",
      "tresh: 0.45 eps: 1.0 minarea: 15.0\n",
      "('Final jaccard', 0.11241813660092252)\n",
      "eps: 3.0\n",
      "minarea: 1.0\n",
      "tresh: 0.45 eps: 3.0 minarea: 1.0\n",
      "('Final jaccard', 0.0924588208560402)\n",
      "minarea: 3.0\n",
      "tresh: 0.45 eps: 3.0 minarea: 3.0\n",
      "('Final jaccard', 0.0924588208560402)\n",
      "minarea: 10.0\n",
      "tresh: 0.45 eps: 3.0 minarea: 10.0\n",
      "('Final jaccard', 0.0924588208560402)\n",
      "minarea: 15.0\n",
      "tresh: 0.45 eps: 3.0 minarea: 15.0\n",
      "('Final jaccard', 0.09220619778865739)\n",
      "9\n",
      "tresh: 0.15\n",
      "eps: 0.5\n",
      "minarea: 1.0\n",
      "tresh: 0.15 eps: 0.5 minarea: 1.0\n",
      "('Final jaccard', 0.0)\n",
      "minarea: 3.0\n",
      "tresh: 0.15 eps: 0.5 minarea: 3.0\n",
      "('Final jaccard', 0.0)\n",
      "minarea: 10.0\n",
      "tresh: 0.15 eps: 0.5 minarea: 10.0\n",
      "('Final jaccard', 0.0)\n",
      "minarea: 15.0\n",
      "tresh: 0.15 eps: 0.5 minarea: 15.0\n",
      "('Final jaccard', 0.0)\n",
      "eps: 1.0\n",
      "minarea: 1.0\n",
      "tresh: 0.15 eps: 1.0 minarea: 1.0\n",
      "('Final jaccard', 0.0)\n",
      "minarea: 3.0\n",
      "tresh: 0.15 eps: 1.0 minarea: 3.0\n",
      "('Final jaccard', 0.0)\n",
      "minarea: 10.0\n",
      "tresh: 0.15 eps: 1.0 minarea: 10.0\n",
      "('Final jaccard', 0.0)\n",
      "minarea: 15.0\n",
      "tresh: 0.15 eps: 1.0 minarea: 15.0\n",
      "('Final jaccard', 0.0)\n",
      "eps: 3.0\n",
      "minarea: 1.0\n",
      "tresh: 0.15 eps: 3.0 minarea: 1.0\n",
      "('Final jaccard', 0.0)\n",
      "minarea: 3.0\n",
      "tresh: 0.15 eps: 3.0 minarea: 3.0\n",
      "('Final jaccard', 0.0)\n",
      "minarea: 10.0\n",
      "tresh: 0.15 eps: 3.0 minarea: 10.0\n",
      "('Final jaccard', 0.0)\n",
      "minarea: 15.0\n",
      "tresh: 0.15 eps: 3.0 minarea: 15.0\n",
      "('Final jaccard', 0.0)\n",
      "tresh: 0.2\n",
      "eps: 0.5\n",
      "minarea: 1.0\n",
      "tresh: 0.2 eps: 0.5 minarea: 1.0\n",
      "('Final jaccard', 0.0)\n",
      "minarea: 3.0\n",
      "tresh: 0.2 eps: 0.5 minarea: 3.0\n",
      "('Final jaccard', 0.0)\n",
      "minarea: 10.0\n",
      "tresh: 0.2 eps: 0.5 minarea: 10.0\n",
      "('Final jaccard', 0.0)\n",
      "minarea: 15.0\n",
      "tresh: 0.2 eps: 0.5 minarea: 15.0\n",
      "('Final jaccard', 0.0)\n",
      "eps: 1.0\n",
      "minarea: 1.0\n",
      "tresh: 0.2 eps: 1.0 minarea: 1.0\n",
      "('Final jaccard', 0.0)\n",
      "minarea: 3.0\n",
      "tresh: 0.2 eps: 1.0 minarea: 3.0\n",
      "('Final jaccard', 0.0)\n",
      "minarea: 10.0\n",
      "tresh: 0.2 eps: 1.0 minarea: 10.0\n",
      "('Final jaccard', 0.0)\n",
      "minarea: 15.0\n",
      "tresh: 0.2 eps: 1.0 minarea: 15.0\n",
      "('Final jaccard', 0.0)\n",
      "eps: 3.0\n",
      "minarea: 1.0\n",
      "tresh: 0.2 eps: 3.0 minarea: 1.0\n",
      "('Final jaccard', 0.0)\n",
      "minarea: 3.0\n",
      "tresh: 0.2 eps: 3.0 minarea: 3.0\n",
      "('Final jaccard', 0.0)\n",
      "minarea: 10.0\n",
      "tresh: 0.2 eps: 3.0 minarea: 10.0\n",
      "('Final jaccard', 0.0)\n",
      "minarea: 15.0\n",
      "tresh: 0.2 eps: 3.0 minarea: 15.0\n",
      "('Final jaccard', 0.0)\n",
      "tresh: 0.25\n",
      "eps: 0.5\n",
      "minarea: 1.0\n",
      "tresh: 0.25 eps: 0.5 minarea: 1.0\n",
      "('Final jaccard', 0.0)\n",
      "minarea: 3.0\n",
      "tresh: 0.25 eps: 0.5 minarea: 3.0\n",
      "('Final jaccard', 0.0)\n",
      "minarea: 10.0\n",
      "tresh: 0.25 eps: 0.5 minarea: 10.0\n",
      "('Final jaccard', 0.0)\n",
      "minarea: 15.0\n",
      "tresh: 0.25 eps: 0.5 minarea: 15.0\n",
      "('Final jaccard', 0.0)\n",
      "eps: 1.0\n",
      "minarea: 1.0\n",
      "tresh: 0.25 eps: 1.0 minarea: 1.0\n",
      "('Final jaccard', 0.0)\n",
      "minarea: 3.0\n",
      "tresh: 0.25 eps: 1.0 minarea: 3.0\n",
      "('Final jaccard', 0.0)\n",
      "minarea: 10.0\n",
      "tresh: 0.25 eps: 1.0 minarea: 10.0\n",
      "('Final jaccard', 0.0)\n",
      "minarea: 15.0\n",
      "tresh: 0.25 eps: 1.0 minarea: 15.0\n",
      "('Final jaccard', 0.0)\n",
      "eps: 3.0\n",
      "minarea: 1.0\n",
      "tresh: 0.25 eps: 3.0 minarea: 1.0\n",
      "('Final jaccard', 0.0)\n",
      "minarea: 3.0\n",
      "tresh: 0.25 eps: 3.0 minarea: 3.0\n",
      "('Final jaccard', 0.0)\n",
      "minarea: 10.0\n",
      "tresh: 0.25 eps: 3.0 minarea: 10.0\n",
      "('Final jaccard', 0.0)\n",
      "minarea: 15.0\n",
      "tresh: 0.25 eps: 3.0 minarea: 15.0\n",
      "('Final jaccard', 0.0)\n",
      "tresh: 0.3\n",
      "eps: 0.5\n",
      "minarea: 1.0\n",
      "tresh: 0.3 eps: 0.5 minarea: 1.0\n",
      "('Final jaccard', 0.0)\n",
      "minarea: 3.0\n",
      "tresh: 0.3 eps: 0.5 minarea: 3.0\n",
      "('Final jaccard', 0.0)\n",
      "minarea: 10.0\n",
      "tresh: 0.3 eps: 0.5 minarea: 10.0\n",
      "('Final jaccard', 0.0)\n",
      "minarea: 15.0\n",
      "tresh: 0.3 eps: 0.5 minarea: 15.0\n",
      "('Final jaccard', 0.0)\n",
      "eps: 1.0\n",
      "minarea: 1.0\n",
      "tresh: 0.3 eps: 1.0 minarea: 1.0\n",
      "('Final jaccard', 0.0)\n",
      "minarea: 3.0\n",
      "tresh: 0.3 eps: 1.0 minarea: 3.0\n",
      "('Final jaccard', 0.0)\n",
      "minarea: 10.0\n",
      "tresh: 0.3 eps: 1.0 minarea: 10.0\n",
      "('Final jaccard', 0.0)\n",
      "minarea: 15.0\n",
      "tresh: 0.3 eps: 1.0 minarea: 15.0\n",
      "('Final jaccard', 0.0)\n",
      "eps: 3.0\n",
      "minarea: 1.0\n",
      "tresh: 0.3 eps: 3.0 minarea: 1.0\n",
      "('Final jaccard', 0.0)\n",
      "minarea: 3.0\n",
      "tresh: 0.3 eps: 3.0 minarea: 3.0\n",
      "('Final jaccard', 0.0)\n",
      "minarea: 10.0\n",
      "tresh: 0.3 eps: 3.0 minarea: 10.0\n",
      "('Final jaccard', 0.0)\n",
      "minarea: 15.0\n",
      "tresh: 0.3 eps: 3.0 minarea: 15.0\n",
      "('Final jaccard', 0.0)\n",
      "tresh: 0.35\n",
      "eps: 0.5\n",
      "minarea: 1.0\n",
      "tresh: 0.35 eps: 0.5 minarea: 1.0\n",
      "('Final jaccard', 0.0)\n",
      "minarea: 3.0\n",
      "tresh: 0.35 eps: 0.5 minarea: 3.0\n",
      "('Final jaccard', 0.0)\n",
      "minarea: 10.0\n",
      "tresh: 0.35 eps: 0.5 minarea: 10.0\n",
      "('Final jaccard', 0.0)\n",
      "minarea: 15.0\n",
      "tresh: 0.35 eps: 0.5 minarea: 15.0\n",
      "('Final jaccard', 0.0)\n",
      "eps: 1.0\n",
      "minarea: 1.0\n",
      "tresh: 0.35 eps: 1.0 minarea: 1.0\n",
      "('Final jaccard', 0.0)\n",
      "minarea: 3.0\n",
      "tresh: 0.35 eps: 1.0 minarea: 3.0\n",
      "('Final jaccard', 0.0)\n",
      "minarea: 10.0\n",
      "tresh: 0.35 eps: 1.0 minarea: 10.0\n",
      "('Final jaccard', 0.0)\n",
      "minarea: 15.0\n",
      "tresh: 0.35 eps: 1.0 minarea: 15.0\n",
      "('Final jaccard', 0.0)\n",
      "eps: 3.0\n",
      "minarea: 1.0\n",
      "tresh: 0.35 eps: 3.0 minarea: 1.0\n",
      "('Final jaccard', 0.0)\n",
      "minarea: 3.0\n",
      "tresh: 0.35 eps: 3.0 minarea: 3.0\n",
      "('Final jaccard', 0.0)\n",
      "minarea: 10.0\n",
      "tresh: 0.35 eps: 3.0 minarea: 10.0\n",
      "('Final jaccard', 0.0)\n",
      "minarea: 15.0\n",
      "tresh: 0.35 eps: 3.0 minarea: 15.0\n",
      "('Final jaccard', 0.0)\n",
      "tresh: 0.4\n",
      "eps: 0.5\n",
      "minarea: 1.0\n",
      "tresh: 0.4 eps: 0.5 minarea: 1.0\n",
      "('Final jaccard', 0.0)\n",
      "minarea: 3.0\n",
      "tresh: 0.4 eps: 0.5 minarea: 3.0\n",
      "('Final jaccard', 0.0)\n",
      "minarea: 10.0\n",
      "tresh: 0.4 eps: 0.5 minarea: 10.0\n",
      "('Final jaccard', 0.0)\n",
      "minarea: 15.0\n",
      "tresh: 0.4 eps: 0.5 minarea: 15.0\n",
      "('Final jaccard', 0.0)\n",
      "eps: 1.0\n",
      "minarea: 1.0\n",
      "tresh: 0.4 eps: 1.0 minarea: 1.0\n",
      "('Final jaccard', 0.0)\n",
      "minarea: 3.0\n",
      "tresh: 0.4 eps: 1.0 minarea: 3.0\n",
      "('Final jaccard', 0.0)\n",
      "minarea: 10.0\n",
      "tresh: 0.4 eps: 1.0 minarea: 10.0\n",
      "('Final jaccard', 0.0)\n",
      "minarea: 15.0\n",
      "tresh: 0.4 eps: 1.0 minarea: 15.0\n",
      "('Final jaccard', 0.0)\n",
      "eps: 3.0\n",
      "minarea: 1.0\n",
      "tresh: 0.4 eps: 3.0 minarea: 1.0\n",
      "('Final jaccard', 0.0)\n",
      "minarea: 3.0\n",
      "tresh: 0.4 eps: 3.0 minarea: 3.0\n",
      "('Final jaccard', 0.0)\n",
      "minarea: 10.0\n",
      "tresh: 0.4 eps: 3.0 minarea: 10.0\n",
      "('Final jaccard', 0.0)\n",
      "minarea: 15.0\n",
      "tresh: 0.4 eps: 3.0 minarea: 15.0\n",
      "('Final jaccard', 0.0)\n",
      "tresh: 0.45\n",
      "eps: 0.5\n",
      "minarea: 1.0\n",
      "tresh: 0.45 eps: 0.5 minarea: 1.0\n",
      "('Final jaccard', 0.0)\n",
      "minarea: 3.0\n",
      "tresh: 0.45 eps: 0.5 minarea: 3.0\n",
      "('Final jaccard', 0.0)\n",
      "minarea: 10.0\n",
      "tresh: 0.45 eps: 0.5 minarea: 10.0\n",
      "('Final jaccard', 0.0)\n",
      "minarea: 15.0\n",
      "tresh: 0.45 eps: 0.5 minarea: 15.0\n",
      "('Final jaccard', 0.0)\n",
      "eps: 1.0\n",
      "minarea: 1.0\n",
      "tresh: 0.45 eps: 1.0 minarea: 1.0\n",
      "('Final jaccard', 0.0)\n",
      "minarea: 3.0\n",
      "tresh: 0.45 eps: 1.0 minarea: 3.0\n",
      "('Final jaccard', 0.0)\n",
      "minarea: 10.0\n",
      "tresh: 0.45 eps: 1.0 minarea: 10.0\n",
      "('Final jaccard', 0.0)\n",
      "minarea: 15.0\n",
      "tresh: 0.45 eps: 1.0 minarea: 15.0\n",
      "('Final jaccard', 0.0)\n",
      "eps: 3.0\n",
      "minarea: 1.0\n",
      "tresh: 0.45 eps: 3.0 minarea: 1.0\n",
      "('Final jaccard', 0.0)\n",
      "minarea: 3.0\n",
      "tresh: 0.45 eps: 3.0 minarea: 3.0\n",
      "('Final jaccard', 0.0)\n",
      "minarea: 10.0\n",
      "tresh: 0.45 eps: 3.0 minarea: 10.0\n",
      "('Final jaccard', 0.0)\n",
      "minarea: 15.0\n",
      "tresh: 0.45 eps: 3.0 minarea: 15.0\n",
      "('Final jaccard', 0.0)\n",
      "10\n",
      "tresh: 0.15\n",
      "eps: 0.5\n",
      "minarea: 1.0\n",
      "tresh: 0.15 eps: 0.5 minarea: 1.0\n",
      "('Final jaccard', 0.0)\n",
      "minarea: 3.0\n",
      "tresh: 0.15 eps: 0.5 minarea: 3.0\n",
      "('Final jaccard', 0.0)\n",
      "minarea: 10.0\n",
      "tresh: 0.15 eps: 0.5 minarea: 10.0\n",
      "('Final jaccard', 0.0)\n",
      "minarea: 15.0\n",
      "tresh: 0.15 eps: 0.5 minarea: 15.0\n",
      "('Final jaccard', 0.0)\n",
      "eps: 1.0\n",
      "minarea: 1.0\n",
      "tresh: 0.15 eps: 1.0 minarea: 1.0\n",
      "('Final jaccard', 0.0)\n",
      "minarea: 3.0\n",
      "tresh: 0.15 eps: 1.0 minarea: 3.0\n",
      "('Final jaccard', 0.0)\n",
      "minarea: 10.0\n",
      "tresh: 0.15 eps: 1.0 minarea: 10.0\n",
      "('Final jaccard', 0.0)\n",
      "minarea: 15.0\n",
      "tresh: 0.15 eps: 1.0 minarea: 15.0\n",
      "('Final jaccard', 0.0)\n",
      "eps: 3.0\n",
      "minarea: 1.0\n",
      "tresh: 0.15 eps: 3.0 minarea: 1.0\n",
      "('Final jaccard', 0.0)\n",
      "minarea: 3.0\n",
      "tresh: 0.15 eps: 3.0 minarea: 3.0\n",
      "('Final jaccard', 0.0)\n",
      "minarea: 10.0\n",
      "tresh: 0.15 eps: 3.0 minarea: 10.0\n",
      "('Final jaccard', 0.0)\n",
      "minarea: 15.0\n",
      "tresh: 0.15 eps: 3.0 minarea: 15.0\n",
      "('Final jaccard', 0.0)\n",
      "tresh: 0.2\n",
      "eps: 0.5\n",
      "minarea: 1.0\n",
      "tresh: 0.2 eps: 0.5 minarea: 1.0\n",
      "('Final jaccard', 0.0)\n",
      "minarea: 3.0\n",
      "tresh: 0.2 eps: 0.5 minarea: 3.0\n",
      "('Final jaccard', 0.0)\n",
      "minarea: 10.0\n",
      "tresh: 0.2 eps: 0.5 minarea: 10.0\n",
      "('Final jaccard', 0.0)\n",
      "minarea: 15.0\n",
      "tresh: 0.2 eps: 0.5 minarea: 15.0\n",
      "('Final jaccard', 0.0)\n",
      "eps: 1.0\n",
      "minarea: 1.0\n",
      "tresh: 0.2 eps: 1.0 minarea: 1.0\n",
      "('Final jaccard', 0.0)\n",
      "minarea: 3.0\n",
      "tresh: 0.2 eps: 1.0 minarea: 3.0\n",
      "('Final jaccard', 0.0)\n",
      "minarea: 10.0\n",
      "tresh: 0.2 eps: 1.0 minarea: 10.0\n",
      "('Final jaccard', 0.0)\n",
      "minarea: 15.0\n",
      "tresh: 0.2 eps: 1.0 minarea: 15.0\n",
      "('Final jaccard', 0.0)\n",
      "eps: 3.0\n",
      "minarea: 1.0\n",
      "tresh: 0.2 eps: 3.0 minarea: 1.0\n",
      "('Final jaccard', 0.0)\n",
      "minarea: 3.0\n",
      "tresh: 0.2 eps: 3.0 minarea: 3.0\n",
      "('Final jaccard', 0.0)\n",
      "minarea: 10.0\n",
      "tresh: 0.2 eps: 3.0 minarea: 10.0\n",
      "('Final jaccard', 0.0)\n",
      "minarea: 15.0\n",
      "tresh: 0.2 eps: 3.0 minarea: 15.0\n",
      "('Final jaccard', 0.0)\n",
      "tresh: 0.25\n",
      "eps: 0.5\n",
      "minarea: 1.0\n",
      "tresh: 0.25 eps: 0.5 minarea: 1.0\n",
      "('Final jaccard', 0.0)\n",
      "minarea: 3.0\n",
      "tresh: 0.25 eps: 0.5 minarea: 3.0\n",
      "('Final jaccard', 0.0)\n",
      "minarea: 10.0\n",
      "tresh: 0.25 eps: 0.5 minarea: 10.0\n",
      "('Final jaccard', 0.0)\n",
      "minarea: 15.0\n",
      "tresh: 0.25 eps: 0.5 minarea: 15.0\n",
      "('Final jaccard', 0.0)\n",
      "eps: 1.0\n",
      "minarea: 1.0\n",
      "tresh: 0.25 eps: 1.0 minarea: 1.0\n",
      "('Final jaccard', 0.0)\n",
      "minarea: 3.0\n",
      "tresh: 0.25 eps: 1.0 minarea: 3.0\n",
      "('Final jaccard', 0.0)\n",
      "minarea: 10.0\n",
      "tresh: 0.25 eps: 1.0 minarea: 10.0\n",
      "('Final jaccard', 0.0)\n",
      "minarea: 15.0\n",
      "tresh: 0.25 eps: 1.0 minarea: 15.0\n",
      "('Final jaccard', 0.0)\n",
      "eps: 3.0\n",
      "minarea: 1.0\n",
      "tresh: 0.25 eps: 3.0 minarea: 1.0\n",
      "('Final jaccard', 0.0)\n",
      "minarea: 3.0\n",
      "tresh: 0.25 eps: 3.0 minarea: 3.0\n",
      "('Final jaccard', 0.0)\n",
      "minarea: 10.0\n",
      "tresh: 0.25 eps: 3.0 minarea: 10.0\n",
      "('Final jaccard', 0.0)\n",
      "minarea: 15.0\n",
      "tresh: 0.25 eps: 3.0 minarea: 15.0\n",
      "('Final jaccard', 0.0)\n",
      "tresh: 0.3\n",
      "eps: 0.5\n",
      "minarea: 1.0\n",
      "tresh: 0.3 eps: 0.5 minarea: 1.0\n",
      "('Final jaccard', 0.0)\n",
      "minarea: 3.0\n",
      "tresh: 0.3 eps: 0.5 minarea: 3.0\n",
      "('Final jaccard', 0.0)\n",
      "minarea: 10.0\n",
      "tresh: 0.3 eps: 0.5 minarea: 10.0\n",
      "('Final jaccard', 0.0)\n",
      "minarea: 15.0\n",
      "tresh: 0.3 eps: 0.5 minarea: 15.0\n",
      "('Final jaccard', 0.0)\n",
      "eps: 1.0\n",
      "minarea: 1.0\n",
      "tresh: 0.3 eps: 1.0 minarea: 1.0\n",
      "('Final jaccard', 0.0)\n",
      "minarea: 3.0\n",
      "tresh: 0.3 eps: 1.0 minarea: 3.0\n",
      "('Final jaccard', 0.0)\n",
      "minarea: 10.0\n",
      "tresh: 0.3 eps: 1.0 minarea: 10.0\n",
      "('Final jaccard', 0.0)\n",
      "minarea: 15.0\n",
      "tresh: 0.3 eps: 1.0 minarea: 15.0\n",
      "('Final jaccard', 0.0)\n",
      "eps: 3.0\n",
      "minarea: 1.0\n",
      "tresh: 0.3 eps: 3.0 minarea: 1.0\n",
      "('Final jaccard', 0.0)\n",
      "minarea: 3.0\n",
      "tresh: 0.3 eps: 3.0 minarea: 3.0\n",
      "('Final jaccard', 0.0)\n",
      "minarea: 10.0\n",
      "tresh: 0.3 eps: 3.0 minarea: 10.0\n",
      "('Final jaccard', 0.0)\n",
      "minarea: 15.0\n",
      "tresh: 0.3 eps: 3.0 minarea: 15.0\n",
      "('Final jaccard', 0.0)\n",
      "tresh: 0.35\n",
      "eps: 0.5\n",
      "minarea: 1.0\n",
      "tresh: 0.35 eps: 0.5 minarea: 1.0\n",
      "('Final jaccard', 0.0)\n",
      "minarea: 3.0\n",
      "tresh: 0.35 eps: 0.5 minarea: 3.0\n",
      "('Final jaccard', 0.0)\n",
      "minarea: 10.0\n",
      "tresh: 0.35 eps: 0.5 minarea: 10.0\n",
      "('Final jaccard', 0.0)\n",
      "minarea: 15.0\n",
      "tresh: 0.35 eps: 0.5 minarea: 15.0\n",
      "('Final jaccard', 0.0)\n",
      "eps: 1.0\n",
      "minarea: 1.0\n",
      "tresh: 0.35 eps: 1.0 minarea: 1.0\n",
      "('Final jaccard', 0.0)\n",
      "minarea: 3.0\n",
      "tresh: 0.35 eps: 1.0 minarea: 3.0\n",
      "('Final jaccard', 0.0)\n",
      "minarea: 10.0\n",
      "tresh: 0.35 eps: 1.0 minarea: 10.0\n",
      "('Final jaccard', 0.0)\n",
      "minarea: 15.0\n",
      "tresh: 0.35 eps: 1.0 minarea: 15.0\n",
      "('Final jaccard', 0.0)\n",
      "eps: 3.0\n",
      "minarea: 1.0\n",
      "tresh: 0.35 eps: 3.0 minarea: 1.0\n",
      "('Final jaccard', 0.0)\n",
      "minarea: 3.0\n",
      "tresh: 0.35 eps: 3.0 minarea: 3.0\n",
      "('Final jaccard', 0.0)\n",
      "minarea: 10.0\n",
      "tresh: 0.35 eps: 3.0 minarea: 10.0\n",
      "('Final jaccard', 0.0)\n",
      "minarea: 15.0\n",
      "tresh: 0.35 eps: 3.0 minarea: 15.0\n",
      "('Final jaccard', 0.0)\n",
      "tresh: 0.4\n",
      "eps: 0.5\n",
      "minarea: 1.0\n",
      "tresh: 0.4 eps: 0.5 minarea: 1.0\n",
      "('Final jaccard', 0.0)\n",
      "minarea: 3.0\n",
      "tresh: 0.4 eps: 0.5 minarea: 3.0\n",
      "('Final jaccard', 0.0)\n",
      "minarea: 10.0\n",
      "tresh: 0.4 eps: 0.5 minarea: 10.0\n",
      "('Final jaccard', 0.0)\n",
      "minarea: 15.0\n",
      "tresh: 0.4 eps: 0.5 minarea: 15.0\n",
      "('Final jaccard', 0.0)\n",
      "eps: 1.0\n",
      "minarea: 1.0\n",
      "tresh: 0.4 eps: 1.0 minarea: 1.0\n",
      "('Final jaccard', 0.0)\n",
      "minarea: 3.0\n",
      "tresh: 0.4 eps: 1.0 minarea: 3.0\n",
      "('Final jaccard', 0.0)\n",
      "minarea: 10.0\n",
      "tresh: 0.4 eps: 1.0 minarea: 10.0\n",
      "('Final jaccard', 0.0)\n",
      "minarea: 15.0\n",
      "tresh: 0.4 eps: 1.0 minarea: 15.0\n",
      "('Final jaccard', 0.0)\n",
      "eps: 3.0\n",
      "minarea: 1.0\n",
      "tresh: 0.4 eps: 3.0 minarea: 1.0\n",
      "('Final jaccard', 0.0)\n",
      "minarea: 3.0\n",
      "tresh: 0.4 eps: 3.0 minarea: 3.0\n",
      "('Final jaccard', 0.0)\n",
      "minarea: 10.0\n",
      "tresh: 0.4 eps: 3.0 minarea: 10.0\n",
      "('Final jaccard', 0.0)\n",
      "minarea: 15.0\n",
      "tresh: 0.4 eps: 3.0 minarea: 15.0\n",
      "('Final jaccard', 0.0)\n",
      "tresh: 0.45\n",
      "eps: 0.5\n",
      "minarea: 1.0\n",
      "tresh: 0.45 eps: 0.5 minarea: 1.0\n",
      "('Final jaccard', 0.0)\n",
      "minarea: 3.0\n",
      "tresh: 0.45 eps: 0.5 minarea: 3.0\n",
      "('Final jaccard', 0.0)\n",
      "minarea: 10.0\n",
      "tresh: 0.45 eps: 0.5 minarea: 10.0\n",
      "('Final jaccard', 0.0)\n",
      "minarea: 15.0\n",
      "tresh: 0.45 eps: 0.5 minarea: 15.0\n",
      "('Final jaccard', 0.0)\n",
      "eps: 1.0\n",
      "minarea: 1.0\n",
      "tresh: 0.45 eps: 1.0 minarea: 1.0\n",
      "('Final jaccard', 0.0)\n",
      "minarea: 3.0\n",
      "tresh: 0.45 eps: 1.0 minarea: 3.0\n",
      "('Final jaccard', 0.0)\n",
      "minarea: 10.0\n",
      "tresh: 0.45 eps: 1.0 minarea: 10.0\n",
      "('Final jaccard', 0.0)\n",
      "minarea: 15.0\n",
      "tresh: 0.45 eps: 1.0 minarea: 15.0\n",
      "('Final jaccard', 0.0)\n",
      "eps: 3.0\n",
      "minarea: 1.0\n",
      "tresh: 0.45 eps: 3.0 minarea: 1.0\n",
      "('Final jaccard', 0.0)\n",
      "minarea: 3.0\n",
      "tresh: 0.45 eps: 3.0 minarea: 3.0\n",
      "('Final jaccard', 0.0)\n",
      "minarea: 10.0\n",
      "tresh: 0.45 eps: 3.0 minarea: 10.0\n",
      "('Final jaccard', 0.0)\n",
      "minarea: 15.0\n",
      "tresh: 0.45 eps: 3.0 minarea: 15.0\n",
      "('Final jaccard', 0.0)\n",
      "0.077942\n",
      "72\n",
      "0.0079193\n",
      "2\n",
      "0.026962\n",
      "76\n",
      "0.04248\n",
      "24\n",
      "0.17554\n",
      "0\n",
      "0.32935\n",
      "20\n",
      "0.052948\n",
      "51\n",
      "0.11499\n",
      "43\n",
      "0.0\n",
      "0\n",
      "0.0\n",
      "0\n",
      "job done\n"
     ]
    }
   ],
   "source": [
    "print \"started\"\n",
    "trainIM_IDs = []\n",
    "cur_dir = '/home/rob/Udacity/capstone/data'\n",
    "with open(cur_dir + '/train_wkt_v4.csv') as csvfile:\n",
    "    reader = csv.reader(csvfile, delimiter=',', quotechar=',')\n",
    "    for i,row in enumerate(reader):\n",
    "        if i == 0:\n",
    "            i = 1\n",
    "        if (i%10) == 0:\n",
    "            trainIM_IDs.append(row[0])        \n",
    "\n",
    "            \n",
    "\"\"\" \n",
    "Let's find those optimal parameters: \n",
    "for poly in Polys:\n",
    "for treshold in tresholds\n",
    "for epsilon in epsilons\n",
    "for min_area in min_areas\n",
    "for image in images\n",
    "    build average jaccard over all images for polys, \n",
    "    build average jaccard over all images once for pred masks\n",
    "    (You will need the train masks!)\n",
    "\"\"\"\n",
    "\n",
    "direct = 'prediction_masks_16band_trainset/'\n",
    "tabular = []\n",
    "counter = 0\n",
    "\n",
    "tresholds = [.15,.2,.25,.3,.35,.4,.45] #tresholds = [.05 , .15, .30, .40]\n",
    "epsilons = [0.5,1.,3.]\n",
    "min_areas = [1.,3.,5.,10.,15.]\n",
    "\n",
    "errors = np.zeros((10,len(tresholds),len(epsilons),len(min_areas)))\n",
    "data = np.empty((10,len(tresholds),len(epsilons),len(min_areas)), dtype = np.float16)\n",
    "for i in range(1,11):\n",
    "    POLY_TYPE = str(i)\n",
    "    index = i-1\n",
    "    print POLY_TYPE\n",
    "    \n",
    "    for tres in range(len(tresholds)):\n",
    "        threshold = tresholds[tres]\n",
    "        print \"tresh:\",threshold\n",
    "        \n",
    "        for eps in range(len(epsilons)):\n",
    "            epsilon = epsilons[eps]\n",
    "            print \"eps:\", epsilon\n",
    "            \n",
    "            for area in range(len(min_areas)):\n",
    "                min_area = min_areas[area]\n",
    "                print \"minarea:\", min_area\n",
    "                average_jacc = 0\n",
    "                \n",
    "                for IM_ID in trainIM_IDs:\n",
    "                    \n",
    "                    filename = \"pred{}.npz\".format(IM_ID)\n",
    "                    temp = np.load(direct+filename)\n",
    "                    masks = temp['arr_0'][0]\n",
    "                    x_max = y_min = None\n",
    "                    for _im_id, _x, _y in csv.reader(open(cur_dir + '/grid_sizes.csv')):\n",
    "                        if _im_id == IM_ID:\n",
    "                            x_max, y_min = float(_x), float(_y)\n",
    "                            break\n",
    "                            \n",
    "                    mask = masks[:,:,index]\n",
    "                    im_size = mask.shape[:2]  \n",
    "                    x_scaler, y_scaler = get_scalers(im_size)\n",
    "\n",
    "                    pred_binary_mask = mask >= threshold\n",
    "\n",
    "                    pred_polygons = mask_to_polygons(pred_binary_mask, epsilon, min_area)\n",
    "                    \n",
    "                    scaled_pred_polygons = shapely.affinity.scale(\n",
    "                        pred_polygons, xfact=1 / x_scaler, yfact=1 / y_scaler, origin=(0, 0, 0))\n",
    "                    dumped_prediction = shapely.wkt.dumps(scaled_pred_polygons)\n",
    "                    final_polygons = shapely.wkt.loads(dumped_prediction)\n",
    "                    \n",
    "                    train_polygons = None\n",
    "                    for _im_id, _poly_type, _poly in csv.reader(open(cur_dir + '/train_wkt_v4.csv')):\n",
    "                        if _im_id == IM_ID and _poly_type == POLY_TYPE:\n",
    "                            train_polygons = shapely.wkt.loads(_poly)\n",
    "                            break\n",
    "                    try:\n",
    "                        union = final_polygons.union(train_polygons).area\n",
    "                    except:\n",
    "                        print \"topological error. Do not use this setup\"\n",
    "                        errors[index, tres, eps, area] = 1\n",
    "                        final_jacc = 0\n",
    "                        break\n",
    "                    if union == 0:\n",
    "                        final_jacc = 0\n",
    "                    else:\n",
    "                        final_jacc = (final_polygons.intersection(train_polygons).area /union  ) \n",
    "                        \n",
    "                    average_jacc += final_jacc\n",
    "                print \"tresh:\",threshold, \"eps:\", epsilon,  \"minarea:\", min_area \n",
    "                average_jacc = average_jacc/25.\n",
    "                print('Final jaccard', average_jacc)\n",
    "                data[index,tres,eps,area] = average_jacc\n",
    "\n",
    "for poly in range(10):\n",
    "    print np.amax(data[poly,:,:,:])\n",
    "    print np.argmax(data[poly,:,:,:])\n",
    "\n",
    "\n",
    "print \"job done\"\n",
    "\n",
    "# class 2 very problematic in making polygons for many setups"
   ]
  },
  {
   "cell_type": "code",
   "execution_count": 49,
   "metadata": {
    "collapsed": false
   },
   "outputs": [
    {
     "name": "stdout",
     "output_type": "stream",
     "text": [
      "(10, 7, 3, 4)\n",
      "[0.15, 0.2, 0.25, 0.3, 0.35, 0.4, 0.45] [0.5, 1.0, 3.0] [1.0, 3.0, 10.0, 15.0]\n",
      "(7, 3, 4)\n",
      "Poly: 0\n",
      "Order: thresh, eps, area\n",
      "0.077942\n",
      "72\n",
      "7 3 4\n",
      "[[[ 0.07757568  0.07757568  0.07739258  0.07720947]\n",
      "  [ 0.07745361  0.07745361  0.07727051  0.0770874 ]\n",
      "  [ 0.0760498   0.0760498   0.07598877  0.07592773]]\n",
      "\n",
      " [[ 0.07757568  0.07757568  0.07739258  0.07714844]\n",
      "  [ 0.07751465  0.07751465  0.07733154  0.07714844]\n",
      "  [ 0.07598877  0.07598877  0.07598877  0.0758667 ]]\n",
      "\n",
      " [[ 0.07763672  0.07763672  0.07751465  0.07720947]\n",
      "  [ 0.07757568  0.07757568  0.07745361  0.07720947]\n",
      "  [ 0.07611084  0.07611084  0.07611084  0.0760498 ]]\n",
      "\n",
      " [[ 0.07769775  0.07769775  0.07757568  0.07733154]\n",
      "  [ 0.07757568  0.07757568  0.07745361  0.07727051]\n",
      "  [ 0.07617188  0.07617188  0.07611084  0.0760498 ]]\n",
      "\n",
      " [[ 0.07781982  0.07781982  0.07769775  0.07745361]\n",
      "  [ 0.07751465  0.07757568  0.07745361  0.07720947]\n",
      "  [ 0.07623291  0.07623291  0.07623291  0.07611084]]\n",
      "\n",
      " [[ 0.07788086  0.07788086  0.07775879  0.07751465]\n",
      "  [ 0.07769775  0.07769775  0.07751465  0.07733154]\n",
      "  [ 0.07623291  0.07623291  0.07617188  0.07611084]]\n",
      "\n",
      " [[ 0.07794189  0.07794189  0.07781982  0.07757568]\n",
      "  [ 0.07775879  0.07775879  0.07763672  0.07745361]\n",
      "  [ 0.07641602  0.07641602  0.07641602  0.07629395]]]\n",
      "Next Poly\n",
      "Poly: 1\n",
      "Order: thresh, eps, area\n",
      "0.0079193\n",
      "2\n",
      "7 3 4\n",
      "[[[ 0.00791168  0.00791168  0.00791931  0.00791931]\n",
      "  [ 0.00789642  0.00789642  0.00790405  0.00789642]\n",
      "  [ 0.00789642  0.00789642  0.00789642  0.00789642]]\n",
      "\n",
      " [[ 0.00789642  0.00789642  0.00790405  0.00790405]\n",
      "  [ 0.00788879  0.00788879  0.00788879  0.00788116]\n",
      "  [ 0.00791931  0.00791931  0.00791931  0.00791931]]\n",
      "\n",
      " [[ 0.00789642  0.00789642  0.00789642  0.00790405]\n",
      "  [ 0.00789642  0.00789642  0.00789642  0.00788879]\n",
      "  [ 0.00790405  0.00790405  0.00790405  0.00790405]]\n",
      "\n",
      " [[ 0.00788879  0.00788879  0.00788879  0.00789642]\n",
      "  [ 0.00785828  0.00785828  0.00785828  0.00785828]\n",
      "  [ 0.00790405  0.00790405  0.00790405  0.00790405]]\n",
      "\n",
      " [[ 0.00787354  0.00787354  0.00787354  0.00787354]\n",
      "  [ 0.00785828  0.00785828  0.00785828  0.00785828]\n",
      "  [ 0.00779724  0.00779724  0.00779724  0.00779724]]\n",
      "\n",
      " [[ 0.00785828  0.00785828  0.00785828  0.00785828]\n",
      "  [ 0.00784302  0.00784302  0.00784302  0.00784302]\n",
      "  [ 0.00780869  0.00780869  0.00780869  0.00780869]]\n",
      "\n",
      " [[ 0.00785828  0.00786591  0.00785828  0.00785828]\n",
      "  [ 0.00785065  0.00785065  0.00785065  0.00785065]\n",
      "  [ 0.00784302  0.00784302  0.00784302  0.00784302]]]\n",
      "Next Poly\n",
      "Poly: 2\n",
      "Order: thresh, eps, area\n",
      "0.026962\n",
      "76\n",
      "7 3 4\n",
      "[[[ 0.02650452  0.02650452  0.02648926  0.026474  ]\n",
      "  [ 0.02650452  0.02650452  0.02650452  0.02648926]\n",
      "  [ 0.02624512  0.02624512  0.02624512  0.02622986]]\n",
      "\n",
      " [[ 0.02661133  0.02661133  0.02659607  0.02658081]\n",
      "  [ 0.02661133  0.02661133  0.02659607  0.02658081]\n",
      "  [ 0.02635193  0.02635193  0.02635193  0.02633667]]\n",
      "\n",
      " [[ 0.02670288  0.02670288  0.02668762  0.02668762]\n",
      "  [ 0.02670288  0.02671814  0.02670288  0.02667236]\n",
      "  [ 0.02619934  0.02619934  0.02619934  0.02618408]]\n",
      "\n",
      " [[ 0.02676392  0.02676392  0.02676392  0.0267334 ]\n",
      "  [ 0.02677917  0.02677917  0.02676392  0.02674866]\n",
      "  [ 0.02624512  0.02624512  0.02624512  0.0262146 ]]\n",
      "\n",
      " [[ 0.02682495  0.02682495  0.02680969  0.02679443]\n",
      "  [ 0.02682495  0.02682495  0.02682495  0.02680969]\n",
      "  [ 0.02632141  0.02632141  0.02632141  0.02630615]]\n",
      "\n",
      " [[ 0.02688599  0.02688599  0.02687073  0.02685547]\n",
      "  [ 0.02688599  0.02688599  0.02688599  0.02687073]\n",
      "  [ 0.02648926  0.02648926  0.026474    0.02645874]]\n",
      "\n",
      " [[ 0.02694702  0.02694702  0.02693176  0.0269165 ]\n",
      "  [ 0.02696228  0.02696228  0.02694702  0.02693176]\n",
      "  [ 0.02655029  0.02655029  0.02655029  0.02653503]]]\n",
      "Next Poly\n",
      "Poly: 3\n",
      "Order: thresh, eps, area\n",
      "0.04248\n",
      "24\n",
      "7 3 4\n",
      "[[[ 0.04144287  0.04147339  0.04141235  0.04138184]\n",
      "  [ 0.01317596  0.01317596  0.01317596  0.01317596]\n",
      "  [ 0.0411377   0.0411377   0.0411377   0.04104614]]\n",
      "\n",
      " [[ 0.0411377   0.0411377   0.04110718  0.04107666]\n",
      "  [ 0.0411377   0.0411377   0.04110718  0.04110718]\n",
      "  [ 0.04074097  0.04074097  0.04074097  0.04074097]]\n",
      "\n",
      " [[ 0.04248047  0.04248047  0.04244995  0.04244995]\n",
      "  [ 0.04238892  0.04238892  0.04238892  0.04223633]\n",
      "  [ 0.04205322  0.04205322  0.04208374  0.04205322]]\n",
      "\n",
      " [[ 0.04232788  0.04232788  0.04232788  0.04232788]\n",
      "  [ 0.04220581  0.04220581  0.04220581  0.04205322]\n",
      "  [ 0.04168701  0.04168701  0.04168701  0.04168701]]\n",
      "\n",
      " [[ 0.04220581  0.04217529  0.04217529  0.04217529]\n",
      "  [ 0.04211426  0.04211426  0.04208374  0.04208374]\n",
      "  [ 0.04156494  0.04156494  0.04156494  0.04153442]]\n",
      "\n",
      " [[ 0.04187012  0.04187012  0.04177856  0.04174805]\n",
      "  [ 0.04174805  0.04174805  0.04165649  0.04162598]\n",
      "  [ 0.0413208   0.0413208   0.0413208   0.0413208 ]]\n",
      "\n",
      " [[ 0.04162598  0.04159546  0.04150391  0.04147339]\n",
      "  [ 0.04159546  0.04159546  0.04147339  0.04144287]\n",
      "  [ 0.04083252  0.04083252  0.04083252  0.040802  ]]]\n",
      "Next Poly\n",
      "Poly: 4\n",
      "Order: thresh, eps, area\n",
      "0.17554\n",
      "0\n",
      "7 3 4\n",
      "[[[ 0.17553711  0.17553711  0.17468262  0.17346191]\n",
      "  [ 0.17431641  0.17431641  0.17333984  0.17199707]\n",
      "  [ 0.16137695  0.16137695  0.16113281  0.15966797]]\n",
      "\n",
      " [[ 0.17504883  0.17492676  0.17407227  0.17272949]\n",
      "  [ 0.17382812  0.17382812  0.17285156  0.17150879]\n",
      "  [ 0.1607666   0.1607666   0.16052246  0.15893555]]\n",
      "\n",
      " [[ 0.17456055  0.17456055  0.17358398  0.17224121]\n",
      "  [ 0.17333984  0.17333984  0.17224121  0.17089844]\n",
      "  [ 0.16027832  0.16027832  0.16003418  0.15856934]]\n",
      "\n",
      " [[ 0.17431641  0.17419434  0.17321777  0.17199707]\n",
      "  [ 0.17297363  0.17297363  0.171875    0.17053223]\n",
      "  [ 0.15966797  0.15966797  0.15942383  0.15783691]]\n",
      "\n",
      " [[ 0.1739502   0.17382812  0.17285156  0.17163086]\n",
      "  [ 0.17248535  0.17248535  0.17138672  0.17004395]\n",
      "  [ 0.15942383  0.15942383  0.15905762  0.15759277]]\n",
      "\n",
      " [[ 0.16955566  0.16943359  0.16845703  0.16723633]\n",
      "  [ 0.16821289  0.16809082  0.16699219  0.16564941]\n",
      "  [ 0.15881348  0.15881348  0.15856934  0.15698242]]\n",
      "\n",
      " [[ 0.1685791   0.1685791   0.16748047  0.16625977]\n",
      "  [ 0.16711426  0.16711426  0.16601562  0.16455078]\n",
      "  [ 0.15856934  0.15856934  0.15820312  0.15661621]]]\n",
      "Next Poly\n",
      "Poly: 5\n",
      "Order: thresh, eps, area\n",
      "0.32935\n",
      "20\n",
      "7 3 4\n",
      "[[[ 0.31054688  0.31054688  0.31054688  0.31054688]\n",
      "  [ 0.31079102  0.31079102  0.31079102  0.31079102]\n",
      "  [ 0.31152344  0.31152344  0.31152344  0.31152344]]\n",
      "\n",
      " [[ 0.32861328  0.32861328  0.32861328  0.32861328]\n",
      "  [ 0.32861328  0.32861328  0.32861328  0.32861328]\n",
      "  [ 0.3293457   0.3293457   0.3293457   0.3293457 ]]\n",
      "\n",
      " [[ 0.32836914  0.32836914  0.32861328  0.32861328]\n",
      "  [ 0.32861328  0.32861328  0.32885742  0.32885742]\n",
      "  [ 0.3293457   0.3293457   0.3293457   0.3293457 ]]\n",
      "\n",
      " [[ 0.32836914  0.32836914  0.32836914  0.32836914]\n",
      "  [ 0.32861328  0.32861328  0.32861328  0.32885742]\n",
      "  [ 0.3293457   0.3293457   0.3293457   0.3293457 ]]\n",
      "\n",
      " [[ 0.32836914  0.32836914  0.32836914  0.32836914]\n",
      "  [ 0.32861328  0.32861328  0.32861328  0.32861328]\n",
      "  [ 0.3293457   0.3293457   0.3293457   0.3293457 ]]\n",
      "\n",
      " [[ 0.32836914  0.32836914  0.32836914  0.32836914]\n",
      "  [ 0.32861328  0.32861328  0.32861328  0.32861328]\n",
      "  [ 0.3293457   0.3293457   0.3293457   0.3293457 ]]\n",
      "\n",
      " [[ 0.32836914  0.32836914  0.32836914  0.32836914]\n",
      "  [ 0.32861328  0.32861328  0.32861328  0.32861328]\n",
      "  [ 0.3293457   0.3293457   0.3293457   0.3293457 ]]]\n",
      "Next Poly\n",
      "Poly: 6\n",
      "Order: thresh, eps, area\n",
      "0.052948\n",
      "51\n",
      "7 3 4\n",
      "[[[ 0.05270386  0.05270386  0.05279541  0.05282593]\n",
      "  [ 0.0526123   0.05264282  0.05267334  0.05276489]\n",
      "  [ 0.05151367  0.05151367  0.05151367  0.05148315]]\n",
      "\n",
      " [[ 0.05270386  0.05273438  0.05279541  0.05285645]\n",
      "  [ 0.05258179  0.05258179  0.05264282  0.05273438]\n",
      "  [ 0.05160522  0.05160522  0.05160522  0.05157471]]\n",
      "\n",
      " [[ 0.05276489  0.05276489  0.05285645  0.05288696]\n",
      "  [ 0.05264282  0.05264282  0.05273438  0.05273438]\n",
      "  [ 0.05157471  0.05157471  0.05157471  0.05157471]]\n",
      "\n",
      " [[ 0.05279541  0.05279541  0.05285645  0.05291748]\n",
      "  [ 0.0526123   0.05264282  0.05267334  0.05270386]\n",
      "  [ 0.05154419  0.05154419  0.05157471  0.05154419]]\n",
      "\n",
      " [[ 0.05282593  0.05282593  0.05288696  0.052948  ]\n",
      "  [ 0.05264282  0.05264282  0.05267334  0.05270386]\n",
      "  [ 0.05163574  0.05163574  0.05163574  0.05163574]]\n",
      "\n",
      " [[ 0.05288696  0.05288696  0.05291748  0.052948  ]\n",
      "  [ 0.05270386  0.05270386  0.05273438  0.05273438]\n",
      "  [ 0.05169678  0.05169678  0.05172729  0.05169678]]\n",
      "\n",
      " [[ 0.05285645  0.05285645  0.05288696  0.05288696]\n",
      "  [ 0.05270386  0.05270386  0.05270386  0.05273438]\n",
      "  [ 0.05163574  0.05163574  0.05166626  0.05163574]]]\n",
      "Next Poly\n",
      "Poly: 7\n",
      "Order: thresh, eps, area\n",
      "0.11499\n",
      "43\n",
      "7 3 4\n",
      "[[[ 0.1114502   0.11151123  0.11303711  0.11376953]\n",
      "  [ 0.10906982  0.10906982  0.11004639  0.11071777]\n",
      "  [ 0.09326172  0.09326172  0.09326172  0.09295654]]\n",
      "\n",
      " [[ 0.11151123  0.11151123  0.11297607  0.11395264]\n",
      "  [ 0.10919189  0.10925293  0.11096191  0.11090088]\n",
      "  [ 0.09313965  0.09313965  0.09313965  0.09301758]]\n",
      "\n",
      " [[ 0.11181641  0.11181641  0.11334229  0.11419678]\n",
      "  [ 0.1105957   0.1105957   0.11242676  0.11230469]\n",
      "  [ 0.09295654  0.09295654  0.09301758  0.09283447]]\n",
      "\n",
      " [[ 0.11065674  0.11071777  0.11169434  0.11218262]\n",
      "  [ 0.11077881  0.11083984  0.1126709   0.11499023]\n",
      "  [ 0.0927124   0.0927124   0.0927124   0.09265137]]\n",
      "\n",
      " [[ 0.11114502  0.11132812  0.11224365  0.11297607]\n",
      "  [ 0.11108398  0.11126709  0.11303711  0.11340332]\n",
      "  [ 0.09173584  0.09173584  0.09173584  0.0916748 ]]\n",
      "\n",
      " [[ 0.11053467  0.11071777  0.11169434  0.11364746]\n",
      "  [ 0.10980225  0.10998535  0.11151123  0.1126709 ]\n",
      "  [ 0.0914917   0.0914917   0.0914917   0.0916748 ]]\n",
      "\n",
      " [[ 0.11053467  0.11071777  0.11175537  0.11364746]\n",
      "  [ 0.10968018  0.10986328  0.11151123  0.11242676]\n",
      "  [ 0.09246826  0.09246826  0.09246826  0.09222412]]]\n",
      "Next Poly\n",
      "Poly: 8\n",
      "Order: thresh, eps, area\n",
      "0.0\n",
      "0\n",
      "7 3 4\n",
      "[[[ 0.  0.  0.  0.]\n",
      "  [ 0.  0.  0.  0.]\n",
      "  [ 0.  0.  0.  0.]]\n",
      "\n",
      " [[ 0.  0.  0.  0.]\n",
      "  [ 0.  0.  0.  0.]\n",
      "  [ 0.  0.  0.  0.]]\n",
      "\n",
      " [[ 0.  0.  0.  0.]\n",
      "  [ 0.  0.  0.  0.]\n",
      "  [ 0.  0.  0.  0.]]\n",
      "\n",
      " [[ 0.  0.  0.  0.]\n",
      "  [ 0.  0.  0.  0.]\n",
      "  [ 0.  0.  0.  0.]]\n",
      "\n",
      " [[ 0.  0.  0.  0.]\n",
      "  [ 0.  0.  0.  0.]\n",
      "  [ 0.  0.  0.  0.]]\n",
      "\n",
      " [[ 0.  0.  0.  0.]\n",
      "  [ 0.  0.  0.  0.]\n",
      "  [ 0.  0.  0.  0.]]\n",
      "\n",
      " [[ 0.  0.  0.  0.]\n",
      "  [ 0.  0.  0.  0.]\n",
      "  [ 0.  0.  0.  0.]]]\n",
      "Next Poly\n",
      "Poly: 9\n",
      "Order: thresh, eps, area\n",
      "0.0\n",
      "0\n",
      "7 3 4\n",
      "[[[ 0.  0.  0.  0.]\n",
      "  [ 0.  0.  0.  0.]\n",
      "  [ 0.  0.  0.  0.]]\n",
      "\n",
      " [[ 0.  0.  0.  0.]\n",
      "  [ 0.  0.  0.  0.]\n",
      "  [ 0.  0.  0.  0.]]\n",
      "\n",
      " [[ 0.  0.  0.  0.]\n",
      "  [ 0.  0.  0.  0.]\n",
      "  [ 0.  0.  0.  0.]]\n",
      "\n",
      " [[ 0.  0.  0.  0.]\n",
      "  [ 0.  0.  0.  0.]\n",
      "  [ 0.  0.  0.  0.]]\n",
      "\n",
      " [[ 0.  0.  0.  0.]\n",
      "  [ 0.  0.  0.  0.]\n",
      "  [ 0.  0.  0.  0.]]\n",
      "\n",
      " [[ 0.  0.  0.  0.]\n",
      "  [ 0.  0.  0.  0.]\n",
      "  [ 0.  0.  0.  0.]]\n",
      "\n",
      " [[ 0.  0.  0.  0.]\n",
      "  [ 0.  0.  0.  0.]\n",
      "  [ 0.  0.  0.  0.]]]\n",
      "Next Poly\n"
     ]
    }
   ],
   "source": [
    "print data.shape\n",
    "print tresholds, epsilons, min_areas\n",
    "print data[0].shape\n",
    "for poly in range(10):\n",
    "    print \"Poly:\", poly\n",
    "    print \"Order: thresh, eps, area\"\n",
    "    print np.amax(data[poly])\n",
    "    print np.argmax(data[poly])#\n",
    "    print len(tresholds), len(epsilons), len(min_areas)\n",
    "    print data[poly]\n",
    "    print \"Next Poly\""
   ]
  },
  {
   "cell_type": "code",
   "execution_count": null,
   "metadata": {
    "collapsed": true
   },
   "outputs": [],
   "source": [
    "#0 Build: tresh .25, eps0.1, area 3.\n",
    "#1 misc man : .2, eps5., area 3.\n",
    "#2 street:  .35, eps1., area 3.\n",
    "#3 track: .25, 1., 3.\n",
    "#4 trees .25, 1., 3.\n",
    "#5 crops .25, 3., 3.\n",
    "#6 waterway .25, 1., 15.\n",
    "#7 standing water .35, 1.,3.\n",
    "#8 cars: doesnt matter. low tresh probably\n",
    "#9 large cars: same"
   ]
  }
 ],
 "metadata": {
  "kernelspec": {
   "display_name": "Python 2",
   "language": "python",
   "name": "python2"
  },
  "language_info": {
   "codemirror_mode": {
    "name": "ipython",
    "version": 2
   },
   "file_extension": ".py",
   "mimetype": "text/x-python",
   "name": "python",
   "nbconvert_exporter": "python",
   "pygments_lexer": "ipython2",
   "version": "2.7.12"
  }
 },
 "nbformat": 4,
 "nbformat_minor": 2
}
